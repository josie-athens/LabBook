{
 "cells": [
  {
   "cell_type": "markdown",
   "metadata": {},
   "source": [
    "---\n",
    "title: \"Descriptive Statistics\"\n",
    "author: Josie Athens\n",
    "date: today\n",
    "highlight-style: nord\n",
    "format:\n",
    "  html:\n",
    "    code-fold: false\n",
    "    theme: mint\n",
    "    toc: true\n",
    "    number-sections: true\n",
    "    toc-title: Contents\n",
    "    smooth-scroll: true\n",
    "    embed-resources: true\n",
    "execute: \n",
    "  cache: true\n",
    "  warning: false\n",
    "---"
   ]
  },
  {
   "cell_type": "markdown",
   "metadata": {},
   "source": [
    "# [📖 Main Menu](index.html)"
   ]
  },
  {
   "cell_type": "code",
   "execution_count": 1,
   "metadata": {
    "collapsed": true,
    "jupyter": {
     "outputs_hidden": true
    },
    "message": false,
    "results": "hide",
    "vscode": {
     "languageId": "r"
    }
   },
   "outputs": [
    {
     "name": "stderr",
     "output_type": "stream",
     "text": [
      "── \u001b[1mAttaching core tidyverse packages\u001b[22m ──────────────────────── tidyverse 2.0.0 ──\n",
      "\u001b[32m✔\u001b[39m \u001b[34mdplyr    \u001b[39m 1.1.4     \u001b[32m✔\u001b[39m \u001b[34mreadr    \u001b[39m 2.1.5\n",
      "\u001b[32m✔\u001b[39m \u001b[34mforcats  \u001b[39m 1.0.0     \u001b[32m✔\u001b[39m \u001b[34mstringr  \u001b[39m 1.5.1\n",
      "\u001b[32m✔\u001b[39m \u001b[34mggplot2  \u001b[39m 3.5.1     \u001b[32m✔\u001b[39m \u001b[34mtibble   \u001b[39m 3.2.1\n",
      "\u001b[32m✔\u001b[39m \u001b[34mlubridate\u001b[39m 1.9.3     \u001b[32m✔\u001b[39m \u001b[34mtidyr    \u001b[39m 1.3.1\n",
      "\u001b[32m✔\u001b[39m \u001b[34mpurrr    \u001b[39m 1.0.2     \n",
      "── \u001b[1mConflicts\u001b[22m ────────────────────────────────────────── tidyverse_conflicts() ──\n",
      "\u001b[31m✖\u001b[39m \u001b[34mdplyr\u001b[39m::\u001b[32mfilter()\u001b[39m masks \u001b[34mstats\u001b[39m::filter()\n",
      "\u001b[31m✖\u001b[39m \u001b[34mdplyr\u001b[39m::\u001b[32mlag()\u001b[39m    masks \u001b[34mstats\u001b[39m::lag()\n",
      "\u001b[36mℹ\u001b[39m Use the conflicted package (\u001b[3m\u001b[34m<http://conflicted.r-lib.org/>\u001b[39m\u001b[23m) to force all conflicts to become errors\n",
      "\n",
      "Attaching package: ‘rstatix’\n",
      "\n",
      "\n",
      "The following object is masked from ‘package:stats’:\n",
      "\n",
      "    filter\n",
      "\n",
      "\n",
      "\u001b[34m# Attaching packages: easystats 0.7.2\u001b[39m\u001b[34m (\u001b[39m\u001b[31mred\u001b[39m\u001b[34m = needs update)\u001b[39m\n",
      "\u001b[32m✔ \u001b[39m\u001b[37mbayestestR \u001b[39m \u001b[32m0.13.2\u001b[39m   \u001b[32m✔ \u001b[39m\u001b[37mcorrelation\u001b[39m \u001b[32m0.8.5 \u001b[39m\n",
      "\u001b[32m✔ \u001b[39m\u001b[37mdatawizard \u001b[39m \u001b[32m0.11.0\u001b[39m   \u001b[31m✖ \u001b[39m\u001b[37meffectsize \u001b[39m \u001b[31m0.8.8 \u001b[39m\n",
      "\u001b[32m✔ \u001b[39m\u001b[37minsight    \u001b[39m \u001b[32m0.20.1\u001b[39m   \u001b[32m✔ \u001b[39m\u001b[37mmodelbased \u001b[39m \u001b[32m0.8.8 \u001b[39m\n",
      "\u001b[32m✔ \u001b[39m\u001b[37mperformance\u001b[39m \u001b[32m0.12.0\u001b[39m   \u001b[32m✔ \u001b[39m\u001b[37mparameters \u001b[39m \u001b[32m0.22.0\u001b[39m\n",
      "\u001b[32m✔ \u001b[39m\u001b[37mreport     \u001b[39m \u001b[32m0.5.8 \u001b[39m   \u001b[32m✔ \u001b[39m\u001b[37msee        \u001b[39m \u001b[32m0.8.4 \u001b[39m\n",
      "\u001b[33m\n",
      "Restart the R-Session and update packages with `easystats::easystats_update()`.\n",
      "\u001b[39m\n",
      "\n",
      "Loading required package: emmeans\n",
      "\n",
      "Welcome to emmeans.\n",
      "Caution: You lose important information if you filter this package's results.\n",
      "See '? untidy'\n",
      "\n",
      "Loading required package: ggformula\n",
      "\n",
      "Loading required package: scales\n",
      "\n",
      "\n",
      "Attaching package: ‘scales’\n",
      "\n",
      "\n",
      "The following object is masked from ‘package:datawizard’:\n",
      "\n",
      "    rescale\n",
      "\n",
      "\n",
      "The following object is masked from ‘package:purrr’:\n",
      "\n",
      "    discard\n",
      "\n",
      "\n",
      "The following object is masked from ‘package:readr’:\n",
      "\n",
      "    col_factor\n",
      "\n",
      "\n",
      "Loading required package: ggridges\n",
      "\n",
      "\n",
      "New to ggformula?  Try the tutorials: \n",
      "\tlearnr::run_tutorial(\"introduction\", package = \"ggformula\")\n",
      "\tlearnr::run_tutorial(\"refining\", package = \"ggformula\")\n",
      "\n",
      "Loading required package: gtsummary\n",
      "\n",
      "Loading required package: huxtable\n",
      "\n",
      "\n",
      "Attaching package: ‘huxtable’\n",
      "\n",
      "\n",
      "The following object is masked from ‘package:gtsummary’:\n",
      "\n",
      "    as_flextable\n",
      "\n",
      "\n",
      "The following object is masked from ‘package:scales’:\n",
      "\n",
      "    number_format\n",
      "\n",
      "\n",
      "The following objects are masked from ‘package:report’:\n",
      "\n",
      "    print_html, print_md\n",
      "\n",
      "\n",
      "The following objects are masked from ‘package:parameters’:\n",
      "\n",
      "    print_html, print_md\n",
      "\n",
      "\n",
      "The following objects are masked from ‘package:performance’:\n",
      "\n",
      "    print_html, print_md\n",
      "\n",
      "\n",
      "The following object is masked from ‘package:modelbased’:\n",
      "\n",
      "    print_md\n",
      "\n",
      "\n",
      "The following objects are masked from ‘package:insight’:\n",
      "\n",
      "    print_html, print_md\n",
      "\n",
      "\n",
      "The following objects are masked from ‘package:effectsize’:\n",
      "\n",
      "    print_html, print_md\n",
      "\n",
      "\n",
      "The following objects are masked from ‘package:datawizard’:\n",
      "\n",
      "    print_html, print_md\n",
      "\n",
      "\n",
      "The following objects are masked from ‘package:correlation’:\n",
      "\n",
      "    print_html, print_md\n",
      "\n",
      "\n",
      "The following objects are masked from ‘package:bayestestR’:\n",
      "\n",
      "    print_html, print_md\n",
      "\n",
      "\n",
      "The following object is masked from ‘package:dplyr’:\n",
      "\n",
      "    add_rownames\n",
      "\n",
      "\n",
      "The following object is masked from ‘package:ggplot2’:\n",
      "\n",
      "    theme_grey\n",
      "\n",
      "\n",
      "Loading required package: magrittr\n",
      "\n",
      "\n",
      "Attaching package: ‘magrittr’\n",
      "\n",
      "\n",
      "The following object is masked from ‘package:purrr’:\n",
      "\n",
      "    set_names\n",
      "\n",
      "\n",
      "The following object is masked from ‘package:tidyr’:\n",
      "\n",
      "    extract\n",
      "\n",
      "\n",
      "\n",
      "Attaching package: ‘sjlabelled’\n",
      "\n",
      "\n",
      "The following object is masked from ‘package:huxtable’:\n",
      "\n",
      "    set_label\n",
      "\n",
      "\n",
      "The following objects are masked from ‘package:datawizard’:\n",
      "\n",
      "    to_factor, to_numeric\n",
      "\n",
      "\n",
      "The following object is masked from ‘package:forcats’:\n",
      "\n",
      "    as_factor\n",
      "\n",
      "\n",
      "The following object is masked from ‘package:dplyr’:\n",
      "\n",
      "    as_label\n",
      "\n",
      "\n",
      "The following object is masked from ‘package:ggplot2’:\n",
      "\n",
      "    as_label\n",
      "\n",
      "\n"
     ]
    }
   ],
   "source": [
    "#| output: false\n",
    "library(tidyverse)\n",
    "library(rstatix)\n",
    "library(easystats)\n",
    "library(pubh)\n",
    "library(sjlabelled)\n",
    "\n",
    "options('huxtable.knit_print_df' = FALSE)\n",
    "options('huxtable.autoformat_number_format' = list(numeric = \"%5.2f\"))"
   ]
  },
  {
   "cell_type": "markdown",
   "metadata": {},
   "source": [
    "# Overview\n",
    "\n",
    "In this laboratory, we will look at performing descriptive statistics and tabular analysis. We will learn to make quality tables and how to export them for publication.\n",
    "\n",
    "Once you have completed this lab, you should feel comfortable:\n",
    "\n",
    "-   Obtaining basic descriptive statistics for categorical variables (factors).\n",
    "-   Obtaining basic descriptive statistics for continuous variables.\n",
    "-   Making tables of descriptive statistics.\n",
    "-   Exporting tables and inserting them into other applications.\n",
    "\n",
    "**Summary of New Commands**\n",
    "\n",
    "| **Command**      | **Library** | **Function**                                                                      |\n",
    "|------------------|-------------|-----------------------------------------------------------------------------------|\n",
    "| **as_hux**       | *huxtable*  | Converts a objects into a hux tables                                              |\n",
    "| **add_footnote** | *huxtable*  | Adds a footnote to a hux table                                                    |\n",
    "| **cosm_sum**     | *pubh*      | Cosmetics for *tbl_summary*                                                       |\n",
    "| **cross_tbl**    | *pubh*      | Tabulates contingency tables                                                      |\n",
    "| **descr**        | *sjmisc*    | Descriptive statistics of continuous variables                                    |\n",
    "| **estat**        | *pubh*      | Descriptive statistics of continuous variables                                    |\n",
    "| **freq_cont**    | *pubh*      | Frequency tables of continuous variables                                          |\n",
    "| **group_by**     | *dplyr*     | Group by one or more variables                                                    |\n",
    "| **insert_row**   | *huxtable*  | Adds rows on top of hux tables                                                    |\n",
    "| **median**       | *base*      | Median                                                                            |\n",
    "| **n**            | *dplyr*     | Number of observations                                                            |\n",
    "| **rec**          | *sjmisc*    | Recode variables                                                                  |\n",
    "| **rel_dis**      | *pubh*      | Coefficient of variation                                                          |\n",
    "| **sd**           | *base*      | Standard deviation                                                                |\n",
    "| **seq**          | *base*      | Creates a vector of regular sequences                                             |\n",
    "| **summarise**    | *dplyr*     | Summarise continuous variables by given statistics                                |\n",
    "| **summary**      | *base*      | Summary of objects                                                                |\n",
    "| **tbl_summary**  | *gtsummary* | Constructs tables of descriptive statistics                                       |\n",
    "| **tbl_strata**   | *gtsummary* | Constructs tables of descriptive statistics stratified by 2 categorical variables |\n",
    "| **theme_pubh**   | *pubh*      | Theme for hux tables                                                              |\n",
    "\n",
    "# Introduction\n",
    "\n",
    "For understanding descriptive statistics, first we should be able to distinguish between:\n",
    "\n",
    "1.  Big and small datasets. For our paper, we will consider a large data set if the number of observations is greater or equal than 100. We will define a small dataset if the number of observations is less or equal than 30.\n",
    "2.  Numerical and categorical variables.\n",
    "3.  Continuous and discrete variables.\n",
    "4.  Continuous variables with a Normal distribution (or close enough) and those not normally distributed."
   ]
  },
  {
   "cell_type": "markdown",
   "metadata": {},
   "source": [
    "::: callout-note\n",
    "\n",
    "We will use two datasets: `wcgs` as an example of a large dataset and `kfm` as an example of a small dataset.\n",
    "\n",
    ":::"
   ]
  },
  {
   "cell_type": "markdown",
   "metadata": {},
   "source": [
    "::: callout-caution\n",
    "## Exercise\n",
    "\n",
    "Load the `wcgs.rds` dataset we created in the previous lab.\n",
    "\n",
    ":::"
   ]
  },
  {
   "cell_type": "code",
   "execution_count": 2,
   "metadata": {
    "vscode": {
     "languageId": "r"
    }
   },
   "outputs": [],
   "source": [
    "#| code-fold: true\n",
    "wcgs = read_rds('data/wcgs.rds')"
   ]
  },
  {
   "cell_type": "markdown",
   "metadata": {},
   "source": [
    "We will also use the `kfm` dataset from the `ISwR` package; the data records information about infants weighed before and after breast feeding. For more information, you can look at the corresponding help file. First, we load the data."
   ]
  },
  {
   "cell_type": "code",
   "execution_count": 3,
   "metadata": {
    "vscode": {
     "languageId": "r"
    }
   },
   "outputs": [
    {
     "data": {
      "text/html": [
       "<table class=\"dataframe\">\n",
       "<caption>A tibble: 6 × 7</caption>\n",
       "<thead>\n",
       "\t<tr><th scope=col>no</th><th scope=col>dl.milk</th><th scope=col>sex</th><th scope=col>weight</th><th scope=col>ml.suppl</th><th scope=col>mat.weight</th><th scope=col>mat.height</th></tr>\n",
       "\t<tr><th scope=col>&lt;int&gt;</th><th scope=col>&lt;dbl&gt;</th><th scope=col>&lt;fct&gt;</th><th scope=col>&lt;dbl&gt;</th><th scope=col>&lt;int&gt;</th><th scope=col>&lt;int&gt;</th><th scope=col>&lt;int&gt;</th></tr>\n",
       "</thead>\n",
       "<tbody>\n",
       "\t<tr><td> 1</td><td>8.42</td><td>boy</td><td>5.002</td><td>250</td><td>65</td><td>173</td></tr>\n",
       "\t<tr><td> 4</td><td>8.44</td><td>boy</td><td>5.128</td><td>  0</td><td>48</td><td>158</td></tr>\n",
       "\t<tr><td> 5</td><td>8.41</td><td>boy</td><td>5.445</td><td> 40</td><td>62</td><td>160</td></tr>\n",
       "\t<tr><td>10</td><td>9.65</td><td>boy</td><td>5.106</td><td> 60</td><td>55</td><td>162</td></tr>\n",
       "\t<tr><td>12</td><td>6.44</td><td>boy</td><td>5.196</td><td>240</td><td>58</td><td>170</td></tr>\n",
       "\t<tr><td>16</td><td>6.29</td><td>boy</td><td>5.526</td><td>  0</td><td>56</td><td>153</td></tr>\n",
       "</tbody>\n",
       "</table>\n"
      ],
      "text/latex": [
       "A tibble: 6 × 7\n",
       "\\begin{tabular}{lllllll}\n",
       " no & dl.milk & sex & weight & ml.suppl & mat.weight & mat.height\\\\\n",
       " <int> & <dbl> & <fct> & <dbl> & <int> & <int> & <int>\\\\\n",
       "\\hline\n",
       "\t  1 & 8.42 & boy & 5.002 & 250 & 65 & 173\\\\\n",
       "\t  4 & 8.44 & boy & 5.128 &   0 & 48 & 158\\\\\n",
       "\t  5 & 8.41 & boy & 5.445 &  40 & 62 & 160\\\\\n",
       "\t 10 & 9.65 & boy & 5.106 &  60 & 55 & 162\\\\\n",
       "\t 12 & 6.44 & boy & 5.196 & 240 & 58 & 170\\\\\n",
       "\t 16 & 6.29 & boy & 5.526 &   0 & 56 & 153\\\\\n",
       "\\end{tabular}\n"
      ],
      "text/markdown": [
       "\n",
       "A tibble: 6 × 7\n",
       "\n",
       "| no &lt;int&gt; | dl.milk &lt;dbl&gt; | sex &lt;fct&gt; | weight &lt;dbl&gt; | ml.suppl &lt;int&gt; | mat.weight &lt;int&gt; | mat.height &lt;int&gt; |\n",
       "|---|---|---|---|---|---|---|\n",
       "|  1 | 8.42 | boy | 5.002 | 250 | 65 | 173 |\n",
       "|  4 | 8.44 | boy | 5.128 |   0 | 48 | 158 |\n",
       "|  5 | 8.41 | boy | 5.445 |  40 | 62 | 160 |\n",
       "| 10 | 9.65 | boy | 5.106 |  60 | 55 | 162 |\n",
       "| 12 | 6.44 | boy | 5.196 | 240 | 58 | 170 |\n",
       "| 16 | 6.29 | boy | 5.526 |   0 | 56 | 153 |\n",
       "\n"
      ],
      "text/plain": [
       "  no dl.milk sex weight ml.suppl mat.weight mat.height\n",
       "1  1 8.42    boy 5.002  250      65         173       \n",
       "2  4 8.44    boy 5.128    0      48         158       \n",
       "3  5 8.41    boy 5.445   40      62         160       \n",
       "4 10 9.65    boy 5.106   60      55         162       \n",
       "5 12 6.44    boy 5.196  240      58         170       \n",
       "6 16 6.29    boy 5.526    0      56         153       "
      ]
     },
     "metadata": {},
     "output_type": "display_data"
    }
   ],
   "source": [
    "data(kfm, package = \"ISwR\")\n",
    "kfm = kfm |> as_tibble()\n",
    "\n",
    "kfm |> head()"
   ]
  },
  {
   "cell_type": "markdown",
   "metadata": {},
   "source": [
    "Variable `sex` is categorical, a factor with two levels or categories, let's take a look at them:"
   ]
  },
  {
   "cell_type": "code",
   "execution_count": 4,
   "metadata": {
    "vscode": {
     "languageId": "r"
    }
   },
   "outputs": [
    {
     "data": {
      "text/html": [
       "<style>\n",
       ".list-inline {list-style: none; margin:0; padding: 0}\n",
       ".list-inline>li {display: inline-block}\n",
       ".list-inline>li:not(:last-child)::after {content: \"\\00b7\"; padding: 0 .5ex}\n",
       "</style>\n",
       "<ol class=list-inline><li>'boy'</li><li>'girl'</li></ol>\n"
      ],
      "text/latex": [
       "\\begin{enumerate*}\n",
       "\\item 'boy'\n",
       "\\item 'girl'\n",
       "\\end{enumerate*}\n"
      ],
      "text/markdown": [
       "1. 'boy'\n",
       "2. 'girl'\n",
       "\n",
       "\n"
      ],
      "text/plain": [
       "[1] \"boy\"  \"girl\""
      ]
     },
     "metadata": {},
     "output_type": "display_data"
    }
   ],
   "source": [
    "kfm %$% levels(sex)"
   ]
  },
  {
   "cell_type": "markdown",
   "metadata": {},
   "source": [
    "I would like the levels of `sex` to have the first letter in capitals (this is optional). There are different ways of changing names of levels in a factor, one of them is to simply provide a vector of characters with the new names, in the same order as they appear in the levels of the variable. A second option is to use `recode_values`. In `recode_vales` we provide new values in a `list`, so the order does not really matter. The first argument, at the left side of  `=` is the new value or new name, while the second argument, is the old value."
   ]
  },
  {
   "cell_type": "code",
   "execution_count": 5,
   "metadata": {
    "vscode": {
     "languageId": "r"
    }
   },
   "outputs": [
    {
     "data": {
      "text/html": [
       "<style>\n",
       ".list-inline {list-style: none; margin:0; padding: 0}\n",
       ".list-inline>li {display: inline-block}\n",
       ".list-inline>li:not(:last-child)::after {content: \"\\00b7\"; padding: 0 .5ex}\n",
       "</style>\n",
       "<ol class=list-inline><li>'Boy'</li><li>'Girl'</li></ol>\n"
      ],
      "text/latex": [
       "\\begin{enumerate*}\n",
       "\\item 'Boy'\n",
       "\\item 'Girl'\n",
       "\\end{enumerate*}\n"
      ],
      "text/markdown": [
       "1. 'Boy'\n",
       "2. 'Girl'\n",
       "\n",
       "\n"
      ],
      "text/plain": [
       "[1] \"Boy\"  \"Girl\""
      ]
     },
     "metadata": {},
     "output_type": "display_data"
    }
   ],
   "source": [
    "kfm = kfm %>%\n",
    "  mutate(\n",
    "    sex = recode_values(sex,  list (Girl = \"girl\",  Boy = \"boy\"))\n",
    "  )\n",
    "\n",
    "kfm %$% levels(sex)"
   ]
  },
  {
   "cell_type": "markdown",
   "metadata": {},
   "source": [
    "We add labels to `kfm` and save it in our directory."
   ]
  },
  {
   "cell_type": "code",
   "execution_count": 6,
   "metadata": {
    "vscode": {
     "languageId": "r"
    }
   },
   "outputs": [],
   "source": [
    "kfm = kfm |>\n",
    "  var_labels(\n",
    "     dl.milk = 'Breast-milk intake (dl/day)',\n",
    "     sex = 'Sex',\n",
    "     weight = 'Child weight (kg)',\n",
    "     ml.suppl = 'Milk substitute (ml/day)',\n",
    "     mat.weight = 'Maternal weight (kg)',\n",
    "     mat.height = 'Maternal height (cm)'\n",
    "     )"
   ]
  },
  {
   "cell_type": "code",
   "execution_count": 7,
   "metadata": {
    "vscode": {
     "languageId": "r"
    }
   },
   "outputs": [],
   "source": [
    "write_rds(kfm, \"data/kfm.rds\")"
   ]
  },
  {
   "cell_type": "markdown",
   "metadata": {},
   "source": [
    "# Categorical variables\n",
    "\n",
    "For categorical variables (including ordinal variables), we want to know and report the number of observations on each category. We can use `freq_table` from the `rstatix` package."
   ]
  },
  {
   "cell_type": "code",
   "execution_count": 8,
   "metadata": {
    "vscode": {
     "languageId": "r"
    }
   },
   "outputs": [
    {
     "data": {
      "text/html": [
       "<table class=\"dataframe\">\n",
       "<caption>A tibble: 2 × 3</caption>\n",
       "<thead>\n",
       "\t<tr><th scope=col>arcus</th><th scope=col>n</th><th scope=col>prop</th></tr>\n",
       "\t<tr><th scope=col>&lt;fct&gt;</th><th scope=col>&lt;int&gt;</th><th scope=col>&lt;dbl&gt;</th></tr>\n",
       "</thead>\n",
       "<tbody>\n",
       "\t<tr><td>Absent </td><td>2211</td><td>70.1</td></tr>\n",
       "\t<tr><td>Present</td><td> 941</td><td>29.9</td></tr>\n",
       "</tbody>\n",
       "</table>\n"
      ],
      "text/latex": [
       "A tibble: 2 × 3\n",
       "\\begin{tabular}{lll}\n",
       " arcus & n & prop\\\\\n",
       " <fct> & <int> & <dbl>\\\\\n",
       "\\hline\n",
       "\t Absent  & 2211 & 70.1\\\\\n",
       "\t Present &  941 & 29.9\\\\\n",
       "\\end{tabular}\n"
      ],
      "text/markdown": [
       "\n",
       "A tibble: 2 × 3\n",
       "\n",
       "| arcus &lt;fct&gt; | n &lt;int&gt; | prop &lt;dbl&gt; |\n",
       "|---|---|---|\n",
       "| Absent  | 2211 | 70.1 |\n",
       "| Present |  941 | 29.9 |\n",
       "\n"
      ],
      "text/plain": [
       "  arcus   n    prop\n",
       "1 Absent  2211 70.1\n",
       "2 Present  941 29.9"
      ]
     },
     "metadata": {},
     "output_type": "display_data"
    }
   ],
   "source": [
    "wcgs |> freq_table(arcus)"
   ]
  },
  {
   "cell_type": "code",
   "execution_count": 9,
   "metadata": {
    "vscode": {
     "languageId": "r"
    }
   },
   "outputs": [
    {
     "data": {
      "text/html": [
       "<table class=\"dataframe\">\n",
       "<caption>A tibble: 3 × 3</caption>\n",
       "<thead>\n",
       "\t<tr><th scope=col>arcus</th><th scope=col>n</th><th scope=col>prop</th></tr>\n",
       "\t<tr><th scope=col>&lt;fct&gt;</th><th scope=col>&lt;int&gt;</th><th scope=col>&lt;dbl&gt;</th></tr>\n",
       "</thead>\n",
       "<tbody>\n",
       "\t<tr><td>Absent </td><td>2211</td><td>70.1</td></tr>\n",
       "\t<tr><td>Present</td><td> 941</td><td>29.8</td></tr>\n",
       "\t<tr><td>NA     </td><td>   2</td><td> 0.1</td></tr>\n",
       "</tbody>\n",
       "</table>\n"
      ],
      "text/latex": [
       "A tibble: 3 × 3\n",
       "\\begin{tabular}{lll}\n",
       " arcus & n & prop\\\\\n",
       " <fct> & <int> & <dbl>\\\\\n",
       "\\hline\n",
       "\t Absent  & 2211 & 70.1\\\\\n",
       "\t Present &  941 & 29.8\\\\\n",
       "\t NA      &    2 &  0.1\\\\\n",
       "\\end{tabular}\n"
      ],
      "text/markdown": [
       "\n",
       "A tibble: 3 × 3\n",
       "\n",
       "| arcus &lt;fct&gt; | n &lt;int&gt; | prop &lt;dbl&gt; |\n",
       "|---|---|---|\n",
       "| Absent  | 2211 | 70.1 |\n",
       "| Present |  941 | 29.8 |\n",
       "| NA      |    2 |  0.1 |\n",
       "\n"
      ],
      "text/plain": [
       "  arcus   n    prop\n",
       "1 Absent  2211 70.1\n",
       "2 Present  941 29.8\n",
       "3 NA         2  0.1"
      ]
     },
     "metadata": {},
     "output_type": "display_data"
    }
   ],
   "source": [
    "wcgs |> freq_table(arcus, na.rm = FALSE)"
   ]
  },
  {
   "cell_type": "markdown",
   "metadata": {},
   "source": [
    "## Epidemiology tables\n",
    "\n",
    "In epidemiology, it is frequent to have two by two (2 $\\times$ 2) tables. In those cases, the outcome is binary (e.g., disease: present/absent) and the exposure is binary too. Sometimes, it is also desirable to have $n \\times$ 2 tables in which we are comparing more than two groups about a particular binary outcome. For *PUBH 725* and *PUBH 726*, we will display the exposure of interest in the columns so the percentages for each categorical variable represent prevalences."
   ]
  },
  {
   "cell_type": "code",
   "execution_count": 10,
   "metadata": {
    "vscode": {
     "languageId": "r"
    }
   },
   "outputs": [
    {
     "name": "stdout",
     "output_type": "stream",
     "text": [
      "<table class=\"huxtable\" data-quarto-disable-processing=\"true\" style=\"border-collapse: collapse; border: 0px; margin-bottom: 2em; margin-top: 2em; ; margin-left: auto; margin-right: auto;  \">\n",
      "<col><col><col><col><tr>\n",
      "<th style=\"vertical-align: top; text-align: center; white-space: normal; border-style: solid solid solid solid; border-width: 0.4pt 0pt 0pt 0pt;    padding: 3pt 6pt 3pt 6pt; font-weight: bold;\"></th><th colspan=\"2\" style=\"vertical-align: top; text-align: center; white-space: normal; border-style: solid solid solid solid; border-width: 0.4pt 0pt 0pt 0pt;    padding: 3pt 6pt 3pt 6pt; font-weight: bold;\"><p><strong>Dichotomous behaviour</strong></p>\n",
      "</th><th style=\"vertical-align: top; text-align: center; white-space: normal; border-style: solid solid solid solid; border-width: 0.4pt 0pt 0pt 0pt;    padding: 3pt 6pt 3pt 6pt; font-weight: bold;\"></th></tr>\n",
      "<tr>\n",
      "<th style=\"vertical-align: top; text-align: left; white-space: normal; border-style: solid solid solid solid; border-width: 0pt 0pt 0.4pt 0pt;    padding: 3pt 6pt 3pt 6pt; font-weight: bold;\"></th><th style=\"vertical-align: top; text-align: right; white-space: normal; border-style: solid solid solid solid; border-width: 0pt 0pt 0.4pt 0pt;    padding: 3pt 6pt 3pt 6pt; font-weight: bold;\"><p><strong>A</strong>, N = 1,589</p>\n",
      "</th><th style=\"vertical-align: top; text-align: right; white-space: normal; border-style: solid solid solid solid; border-width: 0pt 0pt 0.4pt 0pt;    padding: 3pt 6pt 3pt 6pt; font-weight: bold;\"><p><strong>B</strong>, N = 1,565</p>\n",
      "</th><th style=\"vertical-align: top; text-align: right; white-space: normal; border-style: solid solid solid solid; border-width: 0pt 0pt 0.4pt 0pt;    padding: 3pt 6pt 3pt 6pt; font-weight: bold;\"><p><strong>Overall</strong>, N = 3,154</p>\n",
      "</th></tr>\n",
      "<tr>\n",
      "<td style=\"vertical-align: top; text-align: left; white-space: normal; border-style: solid solid solid solid; border-width: 0.4pt 0pt 0pt 0pt;    padding: 3pt 6pt 3pt 6pt; font-weight: bold;\">Coronary Heart Disease</td><td style=\"vertical-align: top; text-align: right; white-space: normal; border-style: solid solid solid solid; border-width: 0.4pt 0pt 0pt 0pt;    padding: 3pt 6pt 3pt 6pt; font-weight: normal;\"></td><td style=\"vertical-align: top; text-align: right; white-space: normal; border-style: solid solid solid solid; border-width: 0.4pt 0pt 0pt 0pt;    padding: 3pt 6pt 3pt 6pt; font-weight: normal;\"></td><td style=\"vertical-align: top; text-align: right; white-space: normal; border-style: solid solid solid solid; border-width: 0.4pt 0pt 0pt 0pt;    padding: 3pt 6pt 3pt 6pt; font-weight: normal;\"></td></tr>\n",
      "<tr>\n",
      "<td style=\"vertical-align: top; text-align: left; white-space: normal; border-style: solid solid solid solid; border-width: 0pt 0pt 0pt 0pt;    padding: 3pt 6pt 3pt 15pt; font-weight: normal;\">CHD</td><td style=\"vertical-align: top; text-align: right; white-space: normal; border-style: solid solid solid solid; border-width: 0pt 0pt 0pt 0pt;    padding: 3pt 6pt 3pt 6pt; font-weight: normal;\">178 (11%)</td><td style=\"vertical-align: top; text-align: right; white-space: normal; border-style: solid solid solid solid; border-width: 0pt 0pt 0pt 0pt;    padding: 3pt 6pt 3pt 6pt; font-weight: normal;\">79 (5.0%)</td><td style=\"vertical-align: top; text-align: right; white-space: normal; border-style: solid solid solid solid; border-width: 0pt 0pt 0pt 0pt;    padding: 3pt 6pt 3pt 6pt; font-weight: normal;\">257 (8.1%)</td></tr>\n",
      "<tr>\n",
      "<td style=\"vertical-align: top; text-align: left; white-space: normal; border-style: solid solid solid solid; border-width: 0pt 0pt 0.8pt 0pt;    padding: 3pt 6pt 3pt 15pt; font-weight: normal;\">No CHD</td><td style=\"vertical-align: top; text-align: right; white-space: normal; border-style: solid solid solid solid; border-width: 0pt 0pt 0.8pt 0pt;    padding: 3pt 6pt 3pt 6pt; font-weight: normal;\">1,411 (89%)</td><td style=\"vertical-align: top; text-align: right; white-space: normal; border-style: solid solid solid solid; border-width: 0pt 0pt 0.8pt 0pt;    padding: 3pt 6pt 3pt 6pt; font-weight: normal;\">1,486 (95%)</td><td style=\"vertical-align: top; text-align: right; white-space: normal; border-style: solid solid solid solid; border-width: 0pt 0pt 0.8pt 0pt;    padding: 3pt 6pt 3pt 6pt; font-weight: normal;\">2,897 (92%)</td></tr>\n",
      "<tr>\n",
      "<td colspan=\"4\" style=\"vertical-align: top; text-align: left; white-space: normal; border-style: solid solid solid solid; border-width: 0.8pt 0pt 0pt 0pt;    padding: 6pt 6pt 6pt 6pt; font-weight: normal; font-size: 9pt;\">Data from the WCGS.</td></tr>\n",
      "</table>\n"
     ]
    }
   ],
   "source": [
    "#| label: tbl-tab1\n",
    "#| tbl-cap: \"Distribution of coronary heart disease events (CHD) by behaviour pattern.\"\n",
    "#| output: asis\n",
    "wcgs |>\n",
    "  mutate(\n",
    "    chd = relevel(chd, ref = \"CHD\"),\n",
    "  ) |>\n",
    "  copy_labels(wcgs) |>\n",
    "  select(dib_pat, chd) |> \n",
    "  cross_tbl(by = \"dib_pat\") |>\n",
    "  theme_pubh(2) |> \n",
    "  add_footnote(\"Data from the WCGS.\", font_size = 9) |>\n",
    "  print_html()"
   ]
  },
  {
   "cell_type": "markdown",
   "metadata": {},
   "source": [
    "::: callout-note\n",
    "1.  In the previous code, we changed the reference for our outcome as it is standard to report first cases/treatment and then controls.\n",
    "2.  With `mutate` we are generating new variables, which happen to have the same names as the old variables, thus we replace them. By doing that, as they are new, they are no longer labelled. To preserve the labels, we use `copy_labels`.\n",
    "3.  As we did not assign the changes to a new data frame, the changes we made were not stored and their impact would be only in the code we provided. Why is this important? Because if we perform inferential statistics, we want for controls to still be the reference.\n",
    "4.  Formal tables, as those used for reports, should be self-explained, formatted, include units, use good labels, be numbered and include a caption/legend.\n",
    "    1.  The first line in the code block, is hidden on reports, I used it for the label: `#| label: tbl-tab1`\n",
    "    2.  The second line in the code block, is hidden on reports, I used it for the caption: `#| tbl-cap: \"Distribution of coronary heart disease events (CHD) by behaviour pattern.\"`\n",
    "    3.  We can add more information in footnotes with `add_footnote`. In the current example, the size of the font is smaller (9 pt).\n",
    "5.  To reference the table in the text we type `@label` in our Markdown script, where `label` is the name of the chunk were we construct the table which starts with `tbl-`. In our current example, to refer to our first table, we would type: `@tbl-tab1`.\n",
    ":::"
   ]
  },
  {
   "cell_type": "markdown",
   "metadata": {},
   "source": [
    "By default, `cross_tbl` uses the label of the outcome as the name of the first column. When you `knit` to Word, the table is exported and you can edit it there, add captions, etc. Package `huxtable` allows us to add rows, caption, footnotes, etc."
   ]
  },
  {
   "cell_type": "markdown",
   "metadata": {},
   "source": [
    "::: callout-caution\n",
    "##  Exercise\n",
    "Generate a table for the relationship between behavioural pattern (`beh_pat`) and the presence of CHD (`chd`) from the WCGS dataset. Remember to display the exposure of interest in columns, so percentages represent prevalence.\n",
    ":::"
   ]
  },
  {
   "cell_type": "code",
   "execution_count": 11,
   "metadata": {
    "vscode": {
     "languageId": "r"
    }
   },
   "outputs": [
    {
     "name": "stdout",
     "output_type": "stream",
     "text": [
      "<table class=\"huxtable\" data-quarto-disable-processing=\"true\" style=\"border-collapse: collapse; border: 0px; margin-bottom: 2em; margin-top: 2em; ; margin-left: auto; margin-right: auto;  \">\n",
      "<col><col><col><col><col><col><tr>\n",
      "<th style=\"vertical-align: top; text-align: center; white-space: normal; border-style: solid solid solid solid; border-width: 0.4pt 0pt 0pt 0pt;    padding: 3pt 6pt 3pt 6pt; font-weight: bold;\"></th><th colspan=\"4\" style=\"vertical-align: top; text-align: center; white-space: normal; border-style: solid solid solid solid; border-width: 0.4pt 0pt 0pt 0pt;    padding: 3pt 6pt 3pt 6pt; font-weight: bold;\"><p><strong>Behaviour pattern</strong></p>\n",
      "</th><th style=\"vertical-align: top; text-align: center; white-space: normal; border-style: solid solid solid solid; border-width: 0.4pt 0pt 0pt 0pt;    padding: 3pt 6pt 3pt 6pt; font-weight: bold;\"></th></tr>\n",
      "<tr>\n",
      "<th style=\"vertical-align: top; text-align: left; white-space: normal; border-style: solid solid solid solid; border-width: 0pt 0pt 0.4pt 0pt;    padding: 3pt 6pt 3pt 6pt; font-weight: bold;\"></th><th style=\"vertical-align: top; text-align: right; white-space: normal; border-style: solid solid solid solid; border-width: 0pt 0pt 0.4pt 0pt;    padding: 3pt 6pt 3pt 6pt; font-weight: bold;\"><p><strong>A1</strong>, N = 264</p>\n",
      "</th><th style=\"vertical-align: top; text-align: right; white-space: normal; border-style: solid solid solid solid; border-width: 0pt 0pt 0.4pt 0pt;    padding: 3pt 6pt 3pt 6pt; font-weight: bold;\"><p><strong>A2</strong>, N = 1,325</p>\n",
      "</th><th style=\"vertical-align: top; text-align: right; white-space: normal; border-style: solid solid solid solid; border-width: 0pt 0pt 0.4pt 0pt;    padding: 3pt 6pt 3pt 6pt; font-weight: bold;\"><p><strong>B3</strong>, N = 1,216</p>\n",
      "</th><th style=\"vertical-align: top; text-align: right; white-space: normal; border-style: solid solid solid solid; border-width: 0pt 0pt 0.4pt 0pt;    padding: 3pt 6pt 3pt 6pt; font-weight: bold;\"><p><strong>B4</strong>, N = 349</p>\n",
      "</th><th style=\"vertical-align: top; text-align: right; white-space: normal; border-style: solid solid solid solid; border-width: 0pt 0pt 0.4pt 0pt;    padding: 3pt 6pt 3pt 6pt; font-weight: bold;\"><p><strong>Overall</strong>, N = 3,154</p>\n",
      "</th></tr>\n",
      "<tr>\n",
      "<td style=\"vertical-align: top; text-align: left; white-space: normal; border-style: solid solid solid solid; border-width: 0.4pt 0pt 0pt 0pt;    padding: 3pt 6pt 3pt 6pt; font-weight: bold;\">Coronary Heart Disease</td><td style=\"vertical-align: top; text-align: right; white-space: normal; border-style: solid solid solid solid; border-width: 0.4pt 0pt 0pt 0pt;    padding: 3pt 6pt 3pt 6pt; font-weight: normal;\"></td><td style=\"vertical-align: top; text-align: right; white-space: normal; border-style: solid solid solid solid; border-width: 0.4pt 0pt 0pt 0pt;    padding: 3pt 6pt 3pt 6pt; font-weight: normal;\"></td><td style=\"vertical-align: top; text-align: right; white-space: normal; border-style: solid solid solid solid; border-width: 0.4pt 0pt 0pt 0pt;    padding: 3pt 6pt 3pt 6pt; font-weight: normal;\"></td><td style=\"vertical-align: top; text-align: right; white-space: normal; border-style: solid solid solid solid; border-width: 0.4pt 0pt 0pt 0pt;    padding: 3pt 6pt 3pt 6pt; font-weight: normal;\"></td><td style=\"vertical-align: top; text-align: right; white-space: normal; border-style: solid solid solid solid; border-width: 0.4pt 0pt 0pt 0pt;    padding: 3pt 6pt 3pt 6pt; font-weight: normal;\"></td></tr>\n",
      "<tr>\n",
      "<td style=\"vertical-align: top; text-align: left; white-space: normal; border-style: solid solid solid solid; border-width: 0pt 0pt 0pt 0pt;    padding: 3pt 6pt 3pt 15pt; font-weight: normal;\">CHD</td><td style=\"vertical-align: top; text-align: right; white-space: normal; border-style: solid solid solid solid; border-width: 0pt 0pt 0pt 0pt;    padding: 3pt 6pt 3pt 6pt; font-weight: normal;\">30 (11%)</td><td style=\"vertical-align: top; text-align: right; white-space: normal; border-style: solid solid solid solid; border-width: 0pt 0pt 0pt 0pt;    padding: 3pt 6pt 3pt 6pt; font-weight: normal;\">148 (11%)</td><td style=\"vertical-align: top; text-align: right; white-space: normal; border-style: solid solid solid solid; border-width: 0pt 0pt 0pt 0pt;    padding: 3pt 6pt 3pt 6pt; font-weight: normal;\">61 (5.0%)</td><td style=\"vertical-align: top; text-align: right; white-space: normal; border-style: solid solid solid solid; border-width: 0pt 0pt 0pt 0pt;    padding: 3pt 6pt 3pt 6pt; font-weight: normal;\">18 (5.2%)</td><td style=\"vertical-align: top; text-align: right; white-space: normal; border-style: solid solid solid solid; border-width: 0pt 0pt 0pt 0pt;    padding: 3pt 6pt 3pt 6pt; font-weight: normal;\">257 (8.1%)</td></tr>\n",
      "<tr>\n",
      "<td style=\"vertical-align: top; text-align: left; white-space: normal; border-style: solid solid solid solid; border-width: 0pt 0pt 0.8pt 0pt;    padding: 3pt 6pt 3pt 15pt; font-weight: normal;\">No CHD</td><td style=\"vertical-align: top; text-align: right; white-space: normal; border-style: solid solid solid solid; border-width: 0pt 0pt 0.8pt 0pt;    padding: 3pt 6pt 3pt 6pt; font-weight: normal;\">234 (89%)</td><td style=\"vertical-align: top; text-align: right; white-space: normal; border-style: solid solid solid solid; border-width: 0pt 0pt 0.8pt 0pt;    padding: 3pt 6pt 3pt 6pt; font-weight: normal;\">1,177 (89%)</td><td style=\"vertical-align: top; text-align: right; white-space: normal; border-style: solid solid solid solid; border-width: 0pt 0pt 0.8pt 0pt;    padding: 3pt 6pt 3pt 6pt; font-weight: normal;\">1,155 (95%)</td><td style=\"vertical-align: top; text-align: right; white-space: normal; border-style: solid solid solid solid; border-width: 0pt 0pt 0.8pt 0pt;    padding: 3pt 6pt 3pt 6pt; font-weight: normal;\">331 (95%)</td><td style=\"vertical-align: top; text-align: right; white-space: normal; border-style: solid solid solid solid; border-width: 0pt 0pt 0.8pt 0pt;    padding: 3pt 6pt 3pt 6pt; font-weight: normal;\">2,897 (92%)</td></tr>\n",
      "<tr>\n",
      "<td colspan=\"6\" style=\"vertical-align: top; text-align: left; white-space: normal; border-style: solid solid solid solid; border-width: 0.8pt 0pt 0pt 0pt;    padding: 6pt 6pt 6pt 6pt; font-weight: normal; font-size: 9pt;\">Data from the WCGS.</td></tr>\n",
      "</table>\n"
     ]
    }
   ],
   "source": [
    "#| code-fold: true\n",
    "#| label: tbl-tab2\n",
    "#| tbl-cap: \"Distribution of behavioural pattern by coronary heart disease (CHD) event.\"\n",
    "#| output: asis\n",
    "wcgs |>\n",
    "  mutate(\n",
    "    chd = relevel(chd, ref = \"CHD\")\n",
    "  ) |>\n",
    "  copy_labels(wcgs) |>\n",
    "  select(beh_pat, chd) |> \n",
    "  cross_tbl(by = \"beh_pat\") |>\n",
    "  theme_pubh(2) |> \n",
    "  add_footnote(\"Data from the WCGS.\", font_size = 9) |>\n",
    "  print_html()"
   ]
  },
  {
   "cell_type": "markdown",
   "metadata": {},
   "source": [
    "::: callout-warning\n",
    "## Question\n",
    "\n",
    "What is your main observation from the distribution of cases?\n",
    ":::"
   ]
  },
  {
   "cell_type": "markdown",
   "metadata": {},
   "source": [
    "::: callout-note\n",
    "## Answer\n",
    "\n",
    "The prevalence of CHD in males in the **A** groups (\\~ 11%) is about the double than the prevalence in males in the **B** groups (\\~ 5%). The prevalence of CHD in the population is 8.1%.\n",
    ":::"
   ]
  },
  {
   "cell_type": "markdown",
   "metadata": {},
   "source": [
    "## Double stratification\n",
    "\n",
    "There are cases when we want to present distribution of categorical variables by a exposure of interest and stratified by another categorical variable (e.g. confounder) of interest.\n",
    "\n",
    "The following code shows how to generate this kind of tables."
   ]
  },
  {
   "cell_type": "code",
   "execution_count": 12,
   "metadata": {
    "vscode": {
     "languageId": "r"
    }
   },
   "outputs": [
    {
     "name": "stdout",
     "output_type": "stream",
     "text": [
      "<table class=\"huxtable\" data-quarto-disable-processing=\"true\" style=\"border-collapse: collapse; border: 0px; margin-bottom: 2em; margin-top: 2em; ; margin-left: auto; margin-right: auto;  \">\n",
      "<col><col><col><col><col><tr>\n",
      "<th style=\"vertical-align: top; text-align: center; white-space: normal; border-style: solid solid solid solid; border-width: 0.4pt 0pt 0pt 0pt;    padding: 3pt 6pt 3pt 6pt; font-weight: bold;\"></th><th colspan=\"2\" style=\"vertical-align: top; text-align: center; white-space: normal; border-style: solid solid solid solid; border-width: 0.4pt 0pt 0pt 0pt;    padding: 3pt 6pt 3pt 6pt; font-weight: bold;\"><p><strong>Smoker</strong></p>\n",
      "</th><th colspan=\"2\" style=\"vertical-align: top; text-align: center; white-space: normal; border-style: solid solid solid solid; border-width: 0.4pt 0pt 0pt 0pt;    padding: 3pt 6pt 3pt 6pt; font-weight: bold;\"><p><strong>Non-Smoker</strong></p>\n",
      "</th></tr>\n",
      "<tr>\n",
      "<th style=\"vertical-align: top; text-align: left; white-space: normal; border-style: solid solid solid solid; border-width: 0pt 0pt 0.4pt 0pt;    padding: 3pt 6pt 3pt 6pt; font-weight: bold;\"><p><strong>Variable</strong></p>\n",
      "</th><th style=\"vertical-align: top; text-align: right; white-space: normal; border-style: solid solid solid solid; border-width: 0pt 0pt 0.4pt 0pt;    padding: 3pt 6pt 3pt 6pt; font-weight: bold;\"><p><strong>A</strong>, N = 805</p>\n",
      "</th><th style=\"vertical-align: top; text-align: right; white-space: normal; border-style: solid solid solid solid; border-width: 0pt 0pt 0.4pt 0pt;    padding: 3pt 6pt 3pt 6pt; font-weight: bold;\"><p><strong>B</strong>, N = 697</p>\n",
      "</th><th style=\"vertical-align: top; text-align: right; white-space: normal; border-style: solid solid solid solid; border-width: 0pt 0pt 0.4pt 0pt;    padding: 3pt 6pt 3pt 6pt; font-weight: bold;\"><p><strong>A</strong>, N = 784</p>\n",
      "</th><th style=\"vertical-align: top; text-align: right; white-space: normal; border-style: solid solid solid solid; border-width: 0pt 0pt 0.4pt 0pt;    padding: 3pt 6pt 3pt 6pt; font-weight: bold;\"><p><strong>B</strong>, N = 868</p>\n",
      "</th></tr>\n",
      "<tr>\n",
      "<td style=\"vertical-align: top; text-align: left; white-space: normal; border-style: solid solid solid solid; border-width: 0.4pt 0pt 0pt 0pt;    padding: 3pt 6pt 3pt 6pt; font-weight: normal;\">Coronary Heart Disease</td><td style=\"vertical-align: top; text-align: right; white-space: normal; border-style: solid solid solid solid; border-width: 0.4pt 0pt 0pt 0pt;    padding: 3pt 6pt 3pt 6pt; font-weight: normal;\"></td><td style=\"vertical-align: top; text-align: right; white-space: normal; border-style: solid solid solid solid; border-width: 0.4pt 0pt 0pt 0pt;    padding: 3pt 6pt 3pt 6pt; font-weight: normal;\"></td><td style=\"vertical-align: top; text-align: right; white-space: normal; border-style: solid solid solid solid; border-width: 0.4pt 0pt 0pt 0pt;    padding: 3pt 6pt 3pt 6pt; font-weight: normal;\"></td><td style=\"vertical-align: top; text-align: right; white-space: normal; border-style: solid solid solid solid; border-width: 0.4pt 0pt 0pt 0pt;    padding: 3pt 6pt 3pt 6pt; font-weight: normal;\"></td></tr>\n",
      "<tr>\n",
      "<td style=\"vertical-align: top; text-align: left; white-space: normal; border-style: solid solid solid solid; border-width: 0pt 0pt 0pt 0pt;    padding: 3pt 6pt 3pt 15pt; font-weight: normal;\">CHD</td><td style=\"vertical-align: top; text-align: right; white-space: normal; border-style: solid solid solid solid; border-width: 0pt 0pt 0pt 0pt;    padding: 3pt 6pt 3pt 6pt; font-weight: normal;\">108 (13%)</td><td style=\"vertical-align: top; text-align: right; white-space: normal; border-style: solid solid solid solid; border-width: 0pt 0pt 0pt 0pt;    padding: 3pt 6pt 3pt 6pt; font-weight: normal;\">51 (7.3%)</td><td style=\"vertical-align: top; text-align: right; white-space: normal; border-style: solid solid solid solid; border-width: 0pt 0pt 0pt 0pt;    padding: 3pt 6pt 3pt 6pt; font-weight: normal;\">70 (8.9%)</td><td style=\"vertical-align: top; text-align: right; white-space: normal; border-style: solid solid solid solid; border-width: 0pt 0pt 0pt 0pt;    padding: 3pt 6pt 3pt 6pt; font-weight: normal;\">28 (3.2%)</td></tr>\n",
      "<tr>\n",
      "<td style=\"vertical-align: top; text-align: left; white-space: normal; border-style: solid solid solid solid; border-width: 0pt 0pt 0.8pt 0pt;    padding: 3pt 6pt 3pt 15pt; font-weight: normal;\">No CHD</td><td style=\"vertical-align: top; text-align: right; white-space: normal; border-style: solid solid solid solid; border-width: 0pt 0pt 0.8pt 0pt;    padding: 3pt 6pt 3pt 6pt; font-weight: normal;\">697 (87%)</td><td style=\"vertical-align: top; text-align: right; white-space: normal; border-style: solid solid solid solid; border-width: 0pt 0pt 0.8pt 0pt;    padding: 3pt 6pt 3pt 6pt; font-weight: normal;\">646 (93%)</td><td style=\"vertical-align: top; text-align: right; white-space: normal; border-style: solid solid solid solid; border-width: 0pt 0pt 0.8pt 0pt;    padding: 3pt 6pt 3pt 6pt; font-weight: normal;\">714 (91%)</td><td style=\"vertical-align: top; text-align: right; white-space: normal; border-style: solid solid solid solid; border-width: 0pt 0pt 0.8pt 0pt;    padding: 3pt 6pt 3pt 6pt; font-weight: normal;\">840 (97%)</td></tr>\n",
      "<tr>\n",
      "<td colspan=\"5\" style=\"vertical-align: top; text-align: left; white-space: normal; border-style: solid solid solid solid; border-width: 0.8pt 0pt 0pt 0pt;    padding: 6pt 6pt 6pt 6pt; font-weight: normal; font-size: 9pt;\">Data from the WCGS.</td></tr>\n",
      "</table>\n"
     ]
    }
   ],
   "source": [
    "#| label: tbl-tab3\n",
    "#| tbl-cap: \"Distribution of coronary heart disease events (CHD) by behaviour pattern and smoking status.\"\n",
    "#| output: asis\n",
    "wcgs |> \n",
    "  select(chd, smoker, dib_pat) |> \n",
    "  mutate(\n",
    "    chd = relevel(chd, ref = \"CHD\"),\n",
    "    smoker = relevel(smoker, ref = \"Smoker\")\n",
    "  ) |>\n",
    "  copy_labels(wcgs) |>\n",
    "  tbl_strata(\n",
    "    strata = smoker,\n",
    "    .tbl_fun = ~ .x |>\n",
    "      tbl_summary(by = dib_pat, missing = \"no\")\n",
    "  ) |> \n",
    "  cosm_sum() %>% theme_pubh(2) |> \n",
    "  set_align(1, everywhere, \"center\") |> \n",
    "  add_footnote(\"Data from the WCGS.\", font_size = 9) |>\n",
    "  print_html()"
   ]
  },
  {
   "cell_type": "markdown",
   "metadata": {},
   "source": [
    "::: callout-note\n",
    "1.  We construct the table with `tbl_strata` from `gtsummary`.\n",
    "2.  `tbl_summary` is the function behind `cross_tbl`.\n",
    "3.  The argument `missing = \"no\"` is used to not shown missing values.\n",
    "4.  With `cosm_sum` we add cosmetics to the table and converts it to a *huxtable*.\n",
    ":::"
   ]
  },
  {
   "cell_type": "markdown",
   "metadata": {},
   "source": [
    "# Continuous variables\n",
    "\n",
    "For continuous variables, we want to report a measure of central tendency and a measure of dispersion. To inspect a continuous variable, we would like to know more than only two statistics. For those purposes, we *summarise* the data. The function `summary` is a very basic function that displays a summary of statistics for variables, or information about statistical models (we will look at this capability in PUBH 726).\n",
    "\n",
    "There are several options to look at descriptive statistics of continuous variables. We will compare the following options:\n",
    "\n",
    "1.  `descr` from `sjmisc`\n",
    "2.  `estat` from `pubh`\n",
    "3.  `summarise` from `dplyr`\n",
    "\n",
    "Function `descr` has the advantage of including variable labels. It can be used to report the descriptive statistics of more than one variable. By default, it shows all the following columns:\n",
    "\n",
    "| Column name | Description                                |\n",
    "|-------------|--------------------------------------------|\n",
    "| Variable       | Label of variable                          |\n",
    "| Mean        | Arithmetic mean                            |\n",
    "| SD          | Standard deviation                         |\n",
    "| IQR | Interquartile range |\n",
    "| Min | Minimum value |\n",
    "| Max | Maximum value |\n",
    "| Skewness | Skewness (distribution) |\n",
    "| Kurtosis | Shape of the distribution |\n",
    "| n           | Total number of observations |\n",
    "| n_Missing      |  Number of missing values   |\n",
    "\n",
    "For example, the descriptive statistics of blood cholesterol:"
   ]
  },
  {
   "cell_type": "code",
   "execution_count": 13,
   "metadata": {
    "vscode": {
     "languageId": "r"
    }
   },
   "outputs": [
    {
     "data": {
      "text/html": [
       "<table class=\"dataframe\">\n",
       "<caption>A parameters_distribution: 1 × 10</caption>\n",
       "<thead>\n",
       "\t<tr><th scope=col>Variable</th><th scope=col>Mean</th><th scope=col>SD</th><th scope=col>IQR</th><th scope=col>Min</th><th scope=col>Max</th><th scope=col>Skewness</th><th scope=col>Kurtosis</th><th scope=col>n</th><th scope=col>n_Missing</th></tr>\n",
       "\t<tr><th scope=col>&lt;chr&gt;</th><th scope=col>&lt;dbl&gt;</th><th scope=col>&lt;dbl&gt;</th><th scope=col>&lt;dbl&gt;</th><th scope=col>&lt;int&gt;</th><th scope=col>&lt;int&gt;</th><th scope=col>&lt;dbl&gt;</th><th scope=col>&lt;dbl&gt;</th><th scope=col>&lt;int&gt;</th><th scope=col>&lt;int&gt;</th></tr>\n",
       "</thead>\n",
       "<tbody>\n",
       "\t<tr><td>chol</td><td>226.3724</td><td>43.42043</td><td>56</td><td>103</td><td>645</td><td>0.6767978</td><td>3.038827</td><td>3142</td><td>12</td></tr>\n",
       "</tbody>\n",
       "</table>\n"
      ],
      "text/latex": [
       "A parameters\\_distribution: 1 × 10\n",
       "\\begin{tabular}{llllllllll}\n",
       " Variable & Mean & SD & IQR & Min & Max & Skewness & Kurtosis & n & n\\_Missing\\\\\n",
       " <chr> & <dbl> & <dbl> & <dbl> & <int> & <int> & <dbl> & <dbl> & <int> & <int>\\\\\n",
       "\\hline\n",
       "\t chol & 226.3724 & 43.42043 & 56 & 103 & 645 & 0.6767978 & 3.038827 & 3142 & 12\\\\\n",
       "\\end{tabular}\n"
      ],
      "text/markdown": [
       "\n",
       "A parameters_distribution: 1 × 10\n",
       "\n",
       "| Variable &lt;chr&gt; | Mean &lt;dbl&gt; | SD &lt;dbl&gt; | IQR &lt;dbl&gt; | Min &lt;int&gt; | Max &lt;int&gt; | Skewness &lt;dbl&gt; | Kurtosis &lt;dbl&gt; | n &lt;int&gt; | n_Missing &lt;int&gt; |\n",
       "|---|---|---|---|---|---|---|---|---|---|\n",
       "| chol | 226.3724 | 43.42043 | 56 | 103 | 645 | 0.6767978 | 3.038827 | 3142 | 12 |\n",
       "\n"
      ],
      "text/plain": [
       "  Variable Mean     SD       IQR Min Max Skewness  Kurtosis n    n_Missing\n",
       "1 chol     226.3724 43.42043 56  103 645 0.6767978 3.038827 3142 12       "
      ]
     },
     "metadata": {},
     "output_type": "display_data"
    }
   ],
   "source": [
    "#| label: tbl-tab4\n",
    "#| tbl-cap: \"Descriptive statistics of blood cholesterol.\"\n",
    "wcgs |>\n",
    "  select(chol) |>\n",
    "  describe_distribution()"
   ]
  },
  {
   "cell_type": "markdown",
   "metadata": {},
   "source": [
    "::: callout-note\n",
    "1.  First, we assign the table to a new object, `tab4`, so we can edit the name of the columns.\n",
    "2.  Next, we generate a *hux* table.\n",
    "3.  There are different *themes* available for *huxtables*. Be consistent and use the same theme for all your tables.\n",
    "4.  The theme `theme_pubh` draws horizontal lines bellow a particular `row`. The argument is a scalar or a vector which define the rows on which one wants to draw an under line, which in this example, is row one.\n",
    ":::"
   ]
  },
  {
   "cell_type": "markdown",
   "metadata": {},
   "source": [
    "The descriptive statistics of all continuous variables in `wcgs`:"
   ]
  },
  {
   "cell_type": "code",
   "execution_count": 14,
   "metadata": {
    "vscode": {
     "languageId": "r"
    }
   },
   "outputs": [
    {
     "data": {
      "text/html": [
       "<table class=\"dataframe\">\n",
       "<caption>A parameters_distribution: 6 × 9</caption>\n",
       "<thead>\n",
       "\t<tr><th scope=col>Variable</th><th scope=col>Mean</th><th scope=col>SD</th><th scope=col>Min</th><th scope=col>Max</th><th scope=col>Skewness</th><th scope=col>Kurtosis</th><th scope=col>n</th><th scope=col>n_Missing</th></tr>\n",
       "\t<tr><th scope=col>&lt;chr&gt;</th><th scope=col>&lt;dbl&gt;</th><th scope=col>&lt;dbl&gt;</th><th scope=col>&lt;dbl&gt;</th><th scope=col>&lt;dbl&gt;</th><th scope=col>&lt;dbl&gt;</th><th scope=col>&lt;dbl&gt;</th><th scope=col>&lt;int&gt;</th><th scope=col>&lt;int&gt;</th></tr>\n",
       "</thead>\n",
       "<tbody>\n",
       "\t<tr><td>age   </td><td> 46.27869</td><td> 5.524045</td><td> 39.0000</td><td> 59.000</td><td> 0.5266160</td><td>-0.7719188</td><td>3154</td><td> 0</td></tr>\n",
       "\t<tr><td>height</td><td>177.23547</td><td> 6.422881</td><td>152.4000</td><td>198.120</td><td>-0.1986184</td><td> 0.2798079</td><td>3154</td><td> 0</td></tr>\n",
       "\t<tr><td>weight</td><td> 77.09100</td><td> 9.569037</td><td> 35.3808</td><td>145.152</td><td> 0.6034711</td><td> 1.9361996</td><td>3154</td><td> 0</td></tr>\n",
       "\t<tr><td>sbp   </td><td>128.63285</td><td>15.117731</td><td> 98.0000</td><td>230.000</td><td> 1.2049698</td><td> 2.7988014</td><td>3154</td><td> 0</td></tr>\n",
       "\t<tr><td>dbp   </td><td> 82.01554</td><td> 9.726880</td><td> 58.0000</td><td>150.000</td><td> 0.9283029</td><td> 2.3692373</td><td>3154</td><td> 0</td></tr>\n",
       "\t<tr><td>chol  </td><td>226.37237</td><td>43.420426</td><td>103.0000</td><td>645.000</td><td> 0.6767978</td><td> 3.0388272</td><td>3142</td><td>12</td></tr>\n",
       "</tbody>\n",
       "</table>\n"
      ],
      "text/latex": [
       "A parameters\\_distribution: 6 × 9\n",
       "\\begin{tabular}{lllllllll}\n",
       " Variable & Mean & SD & Min & Max & Skewness & Kurtosis & n & n\\_Missing\\\\\n",
       " <chr> & <dbl> & <dbl> & <dbl> & <dbl> & <dbl> & <dbl> & <int> & <int>\\\\\n",
       "\\hline\n",
       "\t age    &  46.27869 &  5.524045 &  39.0000 &  59.000 &  0.5266160 & -0.7719188 & 3154 &  0\\\\\n",
       "\t height & 177.23547 &  6.422881 & 152.4000 & 198.120 & -0.1986184 &  0.2798079 & 3154 &  0\\\\\n",
       "\t weight &  77.09100 &  9.569037 &  35.3808 & 145.152 &  0.6034711 &  1.9361996 & 3154 &  0\\\\\n",
       "\t sbp    & 128.63285 & 15.117731 &  98.0000 & 230.000 &  1.2049698 &  2.7988014 & 3154 &  0\\\\\n",
       "\t dbp    &  82.01554 &  9.726880 &  58.0000 & 150.000 &  0.9283029 &  2.3692373 & 3154 &  0\\\\\n",
       "\t chol   & 226.37237 & 43.420426 & 103.0000 & 645.000 &  0.6767978 &  3.0388272 & 3142 & 12\\\\\n",
       "\\end{tabular}\n"
      ],
      "text/markdown": [
       "\n",
       "A parameters_distribution: 6 × 9\n",
       "\n",
       "| Variable &lt;chr&gt; | Mean &lt;dbl&gt; | SD &lt;dbl&gt; | Min &lt;dbl&gt; | Max &lt;dbl&gt; | Skewness &lt;dbl&gt; | Kurtosis &lt;dbl&gt; | n &lt;int&gt; | n_Missing &lt;int&gt; |\n",
       "|---|---|---|---|---|---|---|---|---|\n",
       "| age    |  46.27869 |  5.524045 |  39.0000 |  59.000 |  0.5266160 | -0.7719188 | 3154 |  0 |\n",
       "| height | 177.23547 |  6.422881 | 152.4000 | 198.120 | -0.1986184 |  0.2798079 | 3154 |  0 |\n",
       "| weight |  77.09100 |  9.569037 |  35.3808 | 145.152 |  0.6034711 |  1.9361996 | 3154 |  0 |\n",
       "| sbp    | 128.63285 | 15.117731 |  98.0000 | 230.000 |  1.2049698 |  2.7988014 | 3154 |  0 |\n",
       "| dbp    |  82.01554 |  9.726880 |  58.0000 | 150.000 |  0.9283029 |  2.3692373 | 3154 |  0 |\n",
       "| chol   | 226.37237 | 43.420426 | 103.0000 | 645.000 |  0.6767978 |  3.0388272 | 3142 | 12 |\n",
       "\n"
      ],
      "text/plain": [
       "  Variable Mean      SD        Min      Max     Skewness   Kurtosis   n   \n",
       "1 age       46.27869  5.524045  39.0000  59.000  0.5266160 -0.7719188 3154\n",
       "2 height   177.23547  6.422881 152.4000 198.120 -0.1986184  0.2798079 3154\n",
       "3 weight    77.09100  9.569037  35.3808 145.152  0.6034711  1.9361996 3154\n",
       "4 sbp      128.63285 15.117731  98.0000 230.000  1.2049698  2.7988014 3154\n",
       "5 dbp       82.01554  9.726880  58.0000 150.000  0.9283029  2.3692373 3154\n",
       "6 chol     226.37237 43.420426 103.0000 645.000  0.6767978  3.0388272 3142\n",
       "  n_Missing\n",
       "1  0       \n",
       "2  0       \n",
       "3  0       \n",
       "4  0       \n",
       "5  0       \n",
       "6 12       "
      ]
     },
     "metadata": {},
     "output_type": "display_data"
    }
   ],
   "source": [
    "#| label: tabl-tab5\n",
    "#| tbl-cap: \"Descriptive statistics of continuous variables.\"\n",
    "wcgs |>\n",
    "  select(age, height, weight, sbp, dbp, chol) |>\n",
    "  describe_distribution(iqr = FALSE)"
   ]
  },
  {
   "cell_type": "markdown",
   "metadata": {},
   "source": [
    "::: callout-note\n",
    "1.  For illustration purposes, I used *theme_blue*.\n",
    "2.  Be consistent and use the same theme for all your tables.\n",
    "3.  The command `set_all_padding` is useful to change the space between the rows (padding).\n",
    ":::"
   ]
  },
  {
   "cell_type": "markdown",
   "metadata": {},
   "source": [
    "The function `estat` from the `pubh` package displays all the statistics that we are interested to calculate from continuous variables."
   ]
  },
  {
   "cell_type": "code",
   "execution_count": 15,
   "metadata": {
    "vscode": {
     "languageId": "r"
    }
   },
   "outputs": [
    {
     "data": {
      "text/html": [
       "<table class=\"dataframe\">\n",
       "<caption>A huxtable: 3 × 8</caption>\n",
       "<thead>\n",
       "\t<tr><th></th><th scope=col></th><th scope=col>N</th><th scope=col>Min</th><th scope=col>Max</th><th scope=col>Mean</th><th scope=col>Median</th><th scope=col>SD</th><th scope=col>CV</th></tr>\n",
       "\t<tr><th></th><th scope=col>&lt;chr&gt;</th><th scope=col>&lt;chr&gt;</th><th scope=col>&lt;chr&gt;</th><th scope=col>&lt;chr&gt;</th><th scope=col>&lt;chr&gt;</th><th scope=col>&lt;chr&gt;</th><th scope=col>&lt;chr&gt;</th><th scope=col>&lt;chr&gt;</th></tr>\n",
       "</thead>\n",
       "<tbody>\n",
       "\t<tr><th scope=row>1</th><td>                   </td><td>N                  </td><td>Min                </td><td>Max                </td><td>Mean               </td><td>Median             </td><td>SD                 </td><td>CV                 </td></tr>\n",
       "\t<tr><th scope=row>1.1</th><td>Cholesterol (mg/dl)</td><td>3142               </td><td>103                </td><td>645                </td><td>226.37             </td><td>223                </td><td>43.42              </td><td>0.19               </td></tr>\n",
       "\t<tr><th scope=row></th><td>Data from the WCGS.</td><td>Data from the WCGS.</td><td>Data from the WCGS.</td><td>Data from the WCGS.</td><td>Data from the WCGS.</td><td>Data from the WCGS.</td><td>Data from the WCGS.</td><td>Data from the WCGS.</td></tr>\n",
       "</tbody>\n",
       "</table>\n"
      ],
      "text/latex": [
       "A huxtable: 3 × 8\n",
       "\\begin{tabular}{r|llllllll}\n",
       "  &  & N & Min & Max & Mean & Median & SD & CV\\\\\n",
       "  & <chr> & <chr> & <chr> & <chr> & <chr> & <chr> & <chr> & <chr>\\\\\n",
       "\\hline\n",
       "\t1 &                     & N                   & Min                 & Max                 & Mean                & Median              & SD                  & CV                 \\\\\n",
       "\t1.1 & Cholesterol (mg/dl) & 3142                & 103                 & 645                 & 226.37              & 223                 & 43.42               & 0.19               \\\\\n",
       "\t & Data from the WCGS. & Data from the WCGS. & Data from the WCGS. & Data from the WCGS. & Data from the WCGS. & Data from the WCGS. & Data from the WCGS. & Data from the WCGS.\\\\\n",
       "\\end{tabular}\n"
      ],
      "text/markdown": [
       "\n",
       "A huxtable: 3 × 8\n",
       "\n",
       "| <!--/--> | <!----> &lt;chr&gt; | N &lt;chr&gt; | Min &lt;chr&gt; | Max &lt;chr&gt; | Mean &lt;chr&gt; | Median &lt;chr&gt; | SD &lt;chr&gt; | CV &lt;chr&gt; |\n",
       "|---|---|---|---|---|---|---|---|---|\n",
       "| 1 | <!----> | N                   | Min                 | Max                 | Mean                | Median              | SD                  | CV                  |\n",
       "| 1.1 | Cholesterol (mg/dl) | 3142                | 103                 | 645                 | 226.37              | 223                 | 43.42               | 0.19                |\n",
       "| <!----> | Data from the WCGS. | Data from the WCGS. | Data from the WCGS. | Data from the WCGS. | Data from the WCGS. | Data from the WCGS. | Data from the WCGS. | Data from the WCGS. |\n",
       "\n"
      ],
      "text/plain": [
       "                        N                   Min                \n",
       "1                       N                   Min                \n",
       "1.1 Cholesterol (mg/dl) 3142                103                \n",
       "    Data from the WCGS. Data from the WCGS. Data from the WCGS.\n",
       "    Max                 Mean                Median             \n",
       "1   Max                 Mean                Median             \n",
       "1.1 645                 226.37              223                \n",
       "    Data from the WCGS. Data from the WCGS. Data from the WCGS.\n",
       "    SD                  CV                 \n",
       "1   SD                  CV                 \n",
       "1.1 43.42               0.19               \n",
       "    Data from the WCGS. Data from the WCGS."
      ]
     },
     "metadata": {},
     "output_type": "display_data"
    }
   ],
   "source": [
    "#| label: tbl-tab6\n",
    "#| tbl-cap: \"Descriptive statistics of blood cholesterol.\"\n",
    "wcgs |> \n",
    "  estat(~ chol) |>\n",
    "  as_hux() |> theme_pubh() |> set_width(0.8) |> \n",
    "  add_footnote(\"Data from the WCGS.\", font_size = 9)"
   ]
  },
  {
   "cell_type": "markdown",
   "metadata": {},
   "source": [
    "In `estat` `N` is the number of observations, `Min.` is the minimum value, `Max.` is the maximum value, `SD` is the standard deviation and `CV` is the coefficient of variation or *relative dispersion*, defined as:\n",
    "\n",
    "$$CV = \\frac{SD}{Mean}$$\n",
    "\n",
    "Finally, we can also decide which statistics we want to report using `summarise`."
   ]
  },
  {
   "cell_type": "markdown",
   "metadata": {},
   "source": [
    "::: callout-tip\n",
    "Read the help file of  `summarise` to know more about available functions.\n",
    ":::"
   ]
  },
  {
   "cell_type": "code",
   "execution_count": 16,
   "metadata": {
    "vscode": {
     "languageId": "r"
    }
   },
   "outputs": [
    {
     "data": {
      "text/html": [
       "<table class=\"dataframe\">\n",
       "<caption>A tibble: 1 × 5</caption>\n",
       "<thead>\n",
       "\t<tr><th scope=col>N</th><th scope=col>Mean</th><th scope=col>SD</th><th scope=col>Median</th><th scope=col>CV</th></tr>\n",
       "\t<tr><th scope=col>&lt;int&gt;</th><th scope=col>&lt;dbl&gt;</th><th scope=col>&lt;dbl&gt;</th><th scope=col>&lt;dbl&gt;</th><th scope=col>&lt;dbl&gt;</th></tr>\n",
       "</thead>\n",
       "<tbody>\n",
       "\t<tr><td>3154</td><td>226.3724</td><td>43.42043</td><td>223</td><td>0.1918097</td></tr>\n",
       "</tbody>\n",
       "</table>\n"
      ],
      "text/latex": [
       "A tibble: 1 × 5\n",
       "\\begin{tabular}{lllll}\n",
       " N & Mean & SD & Median & CV\\\\\n",
       " <int> & <dbl> & <dbl> & <dbl> & <dbl>\\\\\n",
       "\\hline\n",
       "\t 3154 & 226.3724 & 43.42043 & 223 & 0.1918097\\\\\n",
       "\\end{tabular}\n"
      ],
      "text/markdown": [
       "\n",
       "A tibble: 1 × 5\n",
       "\n",
       "| N &lt;int&gt; | Mean &lt;dbl&gt; | SD &lt;dbl&gt; | Median &lt;dbl&gt; | CV &lt;dbl&gt; |\n",
       "|---|---|---|---|---|\n",
       "| 3154 | 226.3724 | 43.42043 | 223 | 0.1918097 |\n",
       "\n"
      ],
      "text/plain": [
       "  N    Mean     SD       Median CV       \n",
       "1 3154 226.3724 43.42043 223    0.1918097"
      ]
     },
     "metadata": {},
     "output_type": "display_data"
    }
   ],
   "source": [
    "wcgs |>\n",
    "  summarise(\n",
    "    N = n(),\n",
    "    Mean = mean(chol, na.rm = TRUE),\n",
    "    SD = sd(chol, na.rm = TRUE),\n",
    "    Median = median(chol, na.rm = TRUE),\n",
    "    CV = rel_dis(chol)\n",
    "  )"
   ]
  },
  {
   "cell_type": "markdown",
   "metadata": {},
   "source": [
    "## Understanding dispersion\n",
    "\n",
    "We will use the relative dispersion to gather information about the variability in our variable of interest. When we multiply the *CV* by 100, we have it as a percentage. Values of *CV* \\< 10% indicate relatively small variability, which is better for further analysis. Values of *CV* \\> 33% are of concern. We will consider variables with *CV* \\> 30% having high variability and not normally distributed.\n",
    "\n",
    "In the normal distribution, about three standard deviations to the right and the left, include 99% of the population. If we had a physiological variable with a *CV* = 40%, some of the observations would be negative, and that would not be possible unless the variable was a difference.\n",
    "\n",
    "## Formulas\n",
    "\n",
    "We frequently use formulas in `R`. The general syntax of a formula is:\n",
    "\n",
    "`y ~ x, data = dataset`\n",
    "\n",
    "Where:\n",
    "\n",
    "-   `y` is the *response* variable (aka: dependent or outcome).\n",
    "-   `x` is the *explanatory* variable (aka independent, predictor or exposure). We can have more than one explanatory variable (e.g., confounders).\n",
    "-   `dataset` is the name of the data frame or tibble where the variables `x` and `y` can be found."
   ]
  },
  {
   "cell_type": "markdown",
   "metadata": {},
   "source": [
    "::: callout-important\n",
    "The symbol `~` is used in `R` for *formulas*. It can be interpreted as *depends on*. In the most typical scenario: `y ~ x` means \"`y` depends on `x`\" or \"`y` is a function of `x`\".\n",
    ":::"
   ]
  },
  {
   "cell_type": "markdown",
   "metadata": {},
   "source": [
    "## Frequency tables for continuous variables\n",
    "\n",
    "For relatively large samples, we can take a look at the distribution of a continuous outcome by breaking values in different number of classes (between 8 and 20) and constructing a frequency table:"
   ]
  },
  {
   "cell_type": "code",
   "execution_count": 17,
   "metadata": {
    "vscode": {
     "languageId": "r"
    }
   },
   "outputs": [
    {
     "data": {
      "text/html": [
       "<table class=\"dataframe\">\n",
       "<caption>A data.frame: 11 × 5</caption>\n",
       "<thead>\n",
       "\t<tr><th scope=col>Class</th><th scope=col>Mids</th><th scope=col>Counts</th><th scope=col>rel.freq</th><th scope=col>cum.freq</th></tr>\n",
       "\t<tr><th scope=col>&lt;fct&gt;</th><th scope=col>&lt;dbl&gt;</th><th scope=col>&lt;int&gt;</th><th scope=col>&lt;dbl&gt;</th><th scope=col>&lt;dbl&gt;</th></tr>\n",
       "</thead>\n",
       "<tbody>\n",
       "\t<tr><td>(100,150]</td><td>125</td><td>  89</td><td>0.03</td><td>0.03</td></tr>\n",
       "\t<tr><td>(150,200]</td><td>175</td><td> 761</td><td>0.24</td><td>0.27</td></tr>\n",
       "\t<tr><td>(200,250]</td><td>225</td><td>1454</td><td>0.46</td><td>0.73</td></tr>\n",
       "\t<tr><td>(250,300]</td><td>275</td><td> 673</td><td>0.21</td><td>0.94</td></tr>\n",
       "\t<tr><td>(300,350]</td><td>325</td><td> 144</td><td>0.05</td><td>0.99</td></tr>\n",
       "\t<tr><td>(350,400]</td><td>375</td><td>  19</td><td>0.01</td><td>1.00</td></tr>\n",
       "\t<tr><td>(400,450]</td><td>425</td><td>   1</td><td>0.00</td><td>1.00</td></tr>\n",
       "\t<tr><td>(450,500]</td><td>475</td><td>   0</td><td>0.00</td><td>1.00</td></tr>\n",
       "\t<tr><td>(500,550]</td><td>525</td><td>   0</td><td>0.00</td><td>1.00</td></tr>\n",
       "\t<tr><td>(550,600]</td><td>575</td><td>   0</td><td>0.00</td><td>1.00</td></tr>\n",
       "\t<tr><td>(600,650]</td><td>625</td><td>   1</td><td>0.00</td><td>1.00</td></tr>\n",
       "</tbody>\n",
       "</table>\n"
      ],
      "text/latex": [
       "A data.frame: 11 × 5\n",
       "\\begin{tabular}{lllll}\n",
       " Class & Mids & Counts & rel.freq & cum.freq\\\\\n",
       " <fct> & <dbl> & <int> & <dbl> & <dbl>\\\\\n",
       "\\hline\n",
       "\t (100,150{]} & 125 &   89 & 0.03 & 0.03\\\\\n",
       "\t (150,200{]} & 175 &  761 & 0.24 & 0.27\\\\\n",
       "\t (200,250{]} & 225 & 1454 & 0.46 & 0.73\\\\\n",
       "\t (250,300{]} & 275 &  673 & 0.21 & 0.94\\\\\n",
       "\t (300,350{]} & 325 &  144 & 0.05 & 0.99\\\\\n",
       "\t (350,400{]} & 375 &   19 & 0.01 & 1.00\\\\\n",
       "\t (400,450{]} & 425 &    1 & 0.00 & 1.00\\\\\n",
       "\t (450,500{]} & 475 &    0 & 0.00 & 1.00\\\\\n",
       "\t (500,550{]} & 525 &    0 & 0.00 & 1.00\\\\\n",
       "\t (550,600{]} & 575 &    0 & 0.00 & 1.00\\\\\n",
       "\t (600,650{]} & 625 &    1 & 0.00 & 1.00\\\\\n",
       "\\end{tabular}\n"
      ],
      "text/markdown": [
       "\n",
       "A data.frame: 11 × 5\n",
       "\n",
       "| Class &lt;fct&gt; | Mids &lt;dbl&gt; | Counts &lt;int&gt; | rel.freq &lt;dbl&gt; | cum.freq &lt;dbl&gt; |\n",
       "|---|---|---|---|---|\n",
       "| (100,150] | 125 |   89 | 0.03 | 0.03 |\n",
       "| (150,200] | 175 |  761 | 0.24 | 0.27 |\n",
       "| (200,250] | 225 | 1454 | 0.46 | 0.73 |\n",
       "| (250,300] | 275 |  673 | 0.21 | 0.94 |\n",
       "| (300,350] | 325 |  144 | 0.05 | 0.99 |\n",
       "| (350,400] | 375 |   19 | 0.01 | 1.00 |\n",
       "| (400,450] | 425 |    1 | 0.00 | 1.00 |\n",
       "| (450,500] | 475 |    0 | 0.00 | 1.00 |\n",
       "| (500,550] | 525 |    0 | 0.00 | 1.00 |\n",
       "| (550,600] | 575 |    0 | 0.00 | 1.00 |\n",
       "| (600,650] | 625 |    1 | 0.00 | 1.00 |\n",
       "\n"
      ],
      "text/plain": [
       "   Class     Mids Counts rel.freq cum.freq\n",
       "1  (100,150] 125    89   0.03     0.03    \n",
       "2  (150,200] 175   761   0.24     0.27    \n",
       "3  (200,250] 225  1454   0.46     0.73    \n",
       "4  (250,300] 275   673   0.21     0.94    \n",
       "5  (300,350] 325   144   0.05     0.99    \n",
       "6  (350,400] 375    19   0.01     1.00    \n",
       "7  (400,450] 425     1   0.00     1.00    \n",
       "8  (450,500] 475     0   0.00     1.00    \n",
       "9  (500,550] 525     0   0.00     1.00    \n",
       "10 (550,600] 575     0   0.00     1.00    \n",
       "11 (600,650] 625     1   0.00     1.00    "
      ]
     },
     "metadata": {},
     "output_type": "display_data"
    }
   ],
   "source": [
    "wcgs %$%\n",
    "  freq_cont(chol, bks = seq(100, 650, 50))"
   ]
  },
  {
   "cell_type": "markdown",
   "metadata": {},
   "source": [
    "::: callout-note\n",
    "We use `seq` to generate a sequence of numbers, the first argument is the starting point, the second argument the ending point and the third argument the size of the step.\n",
    ":::"
   ]
  },
  {
   "cell_type": "markdown",
   "metadata": {},
   "source": [
    "Frequency tables are the basis for constructing histograms and they represent a way to better understand the distribution of continuous variables.\n",
    "\n",
    "## Interpreting statistics\n",
    "\n",
    "Look at the minimum, maximum and the mean value of cholesterol. The mean is clearly closer to the minimum value than to the maximum, i.e., it is not in the centre of the two values. This fact indicates that we have subjects with relatively high values than the rest of the population; it may be just one *outlier*, a couple of *outliers* or that the distribution is clearly skewed to the right (positive).\n",
    "\n",
    "We will always start our analysis with descriptive and graphical analysis, to understand our variables. That does not mean that we are going to report everything: we have to be selective.\n",
    "\n",
    "In other words, for our preliminary analysis, when we are *inspecting* variables, we look at all the statistics and the distribution of continuous variables. For a manuscript, we would report only two statistics:\n",
    "\n",
    "1.  For variables following a normal distribution, we report the mean and the standard deviation. In most cases, these statistics are reported even when the variable is not normally distributed.\n",
    "2.  For variables which are clearly not normally distributed, we could report the median and the interquartile range (IQR).\n",
    "\n",
    "## Stratified Analysis\n",
    "\n",
    "It's common that we want to compare statistics from different groups, in the most typical scenario, the control and the experimental (or cases) group. For this reason, it is helpful to display statistics of continuous variables, stratified by groups of interest."
   ]
  },
  {
   "cell_type": "code",
   "execution_count": 18,
   "metadata": {
    "vscode": {
     "languageId": "r"
    }
   },
   "outputs": [
    {
     "data": {
      "text/html": [
       "<table class=\"dataframe\">\n",
       "<caption>A huxtable: 4 × 9</caption>\n",
       "<thead>\n",
       "\t<tr><th></th><th scope=col></th><th scope=col>Coronary Heart Disease</th><th scope=col>N</th><th scope=col>Min</th><th scope=col>Max</th><th scope=col>Mean</th><th scope=col>Median</th><th scope=col>SD</th><th scope=col>CV</th></tr>\n",
       "\t<tr><th></th><th scope=col>&lt;chr&gt;</th><th scope=col>&lt;chr&gt;</th><th scope=col>&lt;chr&gt;</th><th scope=col>&lt;chr&gt;</th><th scope=col>&lt;chr&gt;</th><th scope=col>&lt;chr&gt;</th><th scope=col>&lt;chr&gt;</th><th scope=col>&lt;chr&gt;</th><th scope=col>&lt;chr&gt;</th></tr>\n",
       "</thead>\n",
       "<tbody>\n",
       "\t<tr><th scope=row>1</th><td>                   </td><td>Coronary Heart Disease</td><td>N                  </td><td>Min                </td><td>Max                </td><td>Mean               </td><td>Median             </td><td>SD                 </td><td>CV                 </td></tr>\n",
       "\t<tr><th scope=row>1.1</th><td>Cholesterol (mg/dl)</td><td>No CHD                </td><td>2885               </td><td>103                </td><td>400                </td><td>224.26             </td><td>221                </td><td>42.22              </td><td>0.19               </td></tr>\n",
       "\t<tr><th scope=row>2</th><td>                   </td><td>CHD                   </td><td>257                </td><td>155                </td><td>645                </td><td>250.07             </td><td>245                </td><td>49.4               </td><td>0.2                </td></tr>\n",
       "\t<tr><th scope=row></th><td>Data from the WCGS.</td><td>Data from the WCGS.   </td><td>Data from the WCGS.</td><td>Data from the WCGS.</td><td>Data from the WCGS.</td><td>Data from the WCGS.</td><td>Data from the WCGS.</td><td>Data from the WCGS.</td><td>Data from the WCGS.</td></tr>\n",
       "</tbody>\n",
       "</table>\n"
      ],
      "text/latex": [
       "A huxtable: 4 × 9\n",
       "\\begin{tabular}{r|lllllllll}\n",
       "  &  & Coronary Heart Disease & N & Min & Max & Mean & Median & SD & CV\\\\\n",
       "  & <chr> & <chr> & <chr> & <chr> & <chr> & <chr> & <chr> & <chr> & <chr>\\\\\n",
       "\\hline\n",
       "\t1 &                     & Coronary Heart Disease & N                   & Min                 & Max                 & Mean                & Median              & SD                  & CV                 \\\\\n",
       "\t1.1 & Cholesterol (mg/dl) & No CHD                 & 2885                & 103                 & 400                 & 224.26              & 221                 & 42.22               & 0.19               \\\\\n",
       "\t2 &                     & CHD                    & 257                 & 155                 & 645                 & 250.07              & 245                 & 49.4                & 0.2                \\\\\n",
       "\t & Data from the WCGS. & Data from the WCGS.    & Data from the WCGS. & Data from the WCGS. & Data from the WCGS. & Data from the WCGS. & Data from the WCGS. & Data from the WCGS. & Data from the WCGS.\\\\\n",
       "\\end{tabular}\n"
      ],
      "text/markdown": [
       "\n",
       "A huxtable: 4 × 9\n",
       "\n",
       "| <!--/--> | <!----> &lt;chr&gt; | Coronary Heart Disease &lt;chr&gt; | N &lt;chr&gt; | Min &lt;chr&gt; | Max &lt;chr&gt; | Mean &lt;chr&gt; | Median &lt;chr&gt; | SD &lt;chr&gt; | CV &lt;chr&gt; |\n",
       "|---|---|---|---|---|---|---|---|---|---|\n",
       "| 1 | <!----> | Coronary Heart Disease | N                   | Min                 | Max                 | Mean                | Median              | SD                  | CV                  |\n",
       "| 1.1 | Cholesterol (mg/dl) | No CHD                 | 2885                | 103                 | 400                 | 224.26              | 221                 | 42.22               | 0.19                |\n",
       "| 2 | <!----> | CHD                    | 257                 | 155                 | 645                 | 250.07              | 245                 | 49.4                | 0.2                 |\n",
       "| <!----> | Data from the WCGS. | Data from the WCGS.    | Data from the WCGS. | Data from the WCGS. | Data from the WCGS. | Data from the WCGS. | Data from the WCGS. | Data from the WCGS. | Data from the WCGS. |\n",
       "\n"
      ],
      "text/plain": [
       "                        Coronary Heart Disease N                  \n",
       "1                       Coronary Heart Disease N                  \n",
       "1.1 Cholesterol (mg/dl) No CHD                 2885               \n",
       "2                       CHD                    257                \n",
       "    Data from the WCGS. Data from the WCGS.    Data from the WCGS.\n",
       "    Min                 Max                 Mean               \n",
       "1   Min                 Max                 Mean               \n",
       "1.1 103                 400                 224.26             \n",
       "2   155                 645                 250.07             \n",
       "    Data from the WCGS. Data from the WCGS. Data from the WCGS.\n",
       "    Median              SD                  CV                 \n",
       "1   Median              SD                  CV                 \n",
       "1.1 221                 42.22               0.19               \n",
       "2   245                 49.4                0.2                \n",
       "    Data from the WCGS. Data from the WCGS. Data from the WCGS."
      ]
     },
     "metadata": {},
     "output_type": "display_data"
    }
   ],
   "source": [
    "#| label: tbl-tab7\n",
    "#| tbl-cap: \"Descriptive statistics of blood cholesterol by coronary heart disease (CHD) event.\"\n",
    "wcgs |>\n",
    "  estat(~ chol|chd) |>\n",
    "  as_hux() |> theme_pubh() |> set_width(0.8) |> \n",
    "  add_footnote(\"Data from the WCGS.\", font_size = 9)"
   ]
  },
  {
   "cell_type": "markdown",
   "metadata": {},
   "source": [
    "::: callout-note\n",
    "It is valid to input the `formula` as either `chol ~ chd` (read as `chol` depends on `chd`) or as `~ chol|chd` (read as `chol` given `chd`).\n",
    ":::"
   ]
  },
  {
   "cell_type": "markdown",
   "metadata": {},
   "source": [
    "Alternatively, we can use `group_by`."
   ]
  },
  {
   "cell_type": "code",
   "execution_count": 19,
   "metadata": {
    "vscode": {
     "languageId": "r"
    }
   },
   "outputs": [
    {
     "name": "stderr",
     "output_type": "stream",
     "text": [
      "\u001b[1m\u001b[22mAdding missing grouping variables: `chd`\n"
     ]
    },
    {
     "data": {
      "text/html": [
       "<table class=\"dataframe\">\n",
       "<caption>A parameters_distribution: 2 × 10</caption>\n",
       "<thead>\n",
       "\t<tr><th scope=col>Variable</th><th scope=col>Mean</th><th scope=col>SD</th><th scope=col>Min</th><th scope=col>Max</th><th scope=col>Skewness</th><th scope=col>Kurtosis</th><th scope=col>n</th><th scope=col>n_Missing</th><th scope=col>.group</th></tr>\n",
       "\t<tr><th scope=col>&lt;chr&gt;</th><th scope=col>&lt;dbl&gt;</th><th scope=col>&lt;dbl&gt;</th><th scope=col>&lt;int&gt;</th><th scope=col>&lt;int&gt;</th><th scope=col>&lt;dbl&gt;</th><th scope=col>&lt;dbl&gt;</th><th scope=col>&lt;int&gt;</th><th scope=col>&lt;int&gt;</th><th scope=col>&lt;chr&gt;</th></tr>\n",
       "</thead>\n",
       "<tbody>\n",
       "\t<tr><td>chol</td><td>224.2614</td><td>42.21679</td><td>103</td><td>400</td><td>0.4133812</td><td> 0.4787509</td><td>2885</td><td>12</td><td>chd=No CHD</td></tr>\n",
       "\t<tr><td>chol</td><td>250.0700</td><td>49.39552</td><td>155</td><td>645</td><td>2.2547935</td><td>15.3592960</td><td> 257</td><td> 0</td><td>chd=CHD   </td></tr>\n",
       "</tbody>\n",
       "</table>\n"
      ],
      "text/latex": [
       "A parameters\\_distribution: 2 × 10\n",
       "\\begin{tabular}{llllllllll}\n",
       " Variable & Mean & SD & Min & Max & Skewness & Kurtosis & n & n\\_Missing & .group\\\\\n",
       " <chr> & <dbl> & <dbl> & <int> & <int> & <dbl> & <dbl> & <int> & <int> & <chr>\\\\\n",
       "\\hline\n",
       "\t chol & 224.2614 & 42.21679 & 103 & 400 & 0.4133812 &  0.4787509 & 2885 & 12 & chd=No CHD\\\\\n",
       "\t chol & 250.0700 & 49.39552 & 155 & 645 & 2.2547935 & 15.3592960 &  257 &  0 & chd=CHD   \\\\\n",
       "\\end{tabular}\n"
      ],
      "text/markdown": [
       "\n",
       "A parameters_distribution: 2 × 10\n",
       "\n",
       "| Variable &lt;chr&gt; | Mean &lt;dbl&gt; | SD &lt;dbl&gt; | Min &lt;int&gt; | Max &lt;int&gt; | Skewness &lt;dbl&gt; | Kurtosis &lt;dbl&gt; | n &lt;int&gt; | n_Missing &lt;int&gt; | .group &lt;chr&gt; |\n",
       "|---|---|---|---|---|---|---|---|---|---|\n",
       "| chol | 224.2614 | 42.21679 | 103 | 400 | 0.4133812 |  0.4787509 | 2885 | 12 | chd=No CHD |\n",
       "| chol | 250.0700 | 49.39552 | 155 | 645 | 2.2547935 | 15.3592960 |  257 |  0 | chd=CHD    |\n",
       "\n"
      ],
      "text/plain": [
       "  Variable Mean     SD       Min Max Skewness  Kurtosis   n    n_Missing\n",
       "1 chol     224.2614 42.21679 103 400 0.4133812  0.4787509 2885 12       \n",
       "2 chol     250.0700 49.39552 155 645 2.2547935 15.3592960  257  0       \n",
       "  .group    \n",
       "1 chd=No CHD\n",
       "2 chd=CHD   "
      ]
     },
     "metadata": {},
     "output_type": "display_data"
    }
   ],
   "source": [
    "wcgs |>\n",
    "  group_by(chd) |>\n",
    "  select(chol) |>\n",
    "  describe_distribution(iqr = FALSE)"
   ]
  },
  {
   "cell_type": "code",
   "execution_count": 20,
   "metadata": {
    "vscode": {
     "languageId": "r"
    }
   },
   "outputs": [
    {
     "data": {
      "text/html": [
       "<table class=\"dataframe\">\n",
       "<caption>A tibble: 2 × 6</caption>\n",
       "<thead>\n",
       "\t<tr><th scope=col>chd</th><th scope=col>N</th><th scope=col>Mean</th><th scope=col>SD</th><th scope=col>Median</th><th scope=col>CV</th></tr>\n",
       "\t<tr><th scope=col>&lt;fct&gt;</th><th scope=col>&lt;int&gt;</th><th scope=col>&lt;dbl&gt;</th><th scope=col>&lt;dbl&gt;</th><th scope=col>&lt;int&gt;</th><th scope=col>&lt;dbl&gt;</th></tr>\n",
       "</thead>\n",
       "<tbody>\n",
       "\t<tr><td>No CHD</td><td>2897</td><td>224.2614</td><td>42.21679</td><td>221</td><td>0.1882482</td></tr>\n",
       "\t<tr><td>CHD   </td><td> 257</td><td>250.0700</td><td>49.39552</td><td>245</td><td>0.1975267</td></tr>\n",
       "</tbody>\n",
       "</table>\n"
      ],
      "text/latex": [
       "A tibble: 2 × 6\n",
       "\\begin{tabular}{llllll}\n",
       " chd & N & Mean & SD & Median & CV\\\\\n",
       " <fct> & <int> & <dbl> & <dbl> & <int> & <dbl>\\\\\n",
       "\\hline\n",
       "\t No CHD & 2897 & 224.2614 & 42.21679 & 221 & 0.1882482\\\\\n",
       "\t CHD    &  257 & 250.0700 & 49.39552 & 245 & 0.1975267\\\\\n",
       "\\end{tabular}\n"
      ],
      "text/markdown": [
       "\n",
       "A tibble: 2 × 6\n",
       "\n",
       "| chd &lt;fct&gt; | N &lt;int&gt; | Mean &lt;dbl&gt; | SD &lt;dbl&gt; | Median &lt;int&gt; | CV &lt;dbl&gt; |\n",
       "|---|---|---|---|---|---|\n",
       "| No CHD | 2897 | 224.2614 | 42.21679 | 221 | 0.1882482 |\n",
       "| CHD    |  257 | 250.0700 | 49.39552 | 245 | 0.1975267 |\n",
       "\n"
      ],
      "text/plain": [
       "  chd    N    Mean     SD       Median CV       \n",
       "1 No CHD 2897 224.2614 42.21679 221    0.1882482\n",
       "2 CHD     257 250.0700 49.39552 245    0.1975267"
      ]
     },
     "metadata": {},
     "output_type": "display_data"
    }
   ],
   "source": [
    "wcgs |>\n",
    "  group_by(chd) |>\n",
    "  summarise(\n",
    "    N = n(),\n",
    "    Mean = mean(chol, na.rm = TRUE),\n",
    "    SD = sd(chol, na.rm = TRUE),\n",
    "    Median = median(chol, na.rm = TRUE),\n",
    "    CV = rel_dis(chol)\n",
    "  ) "
   ]
  },
  {
   "cell_type": "markdown",
   "metadata": {},
   "source": [
    "::: callout-warning\n",
    "## Question\n",
    "\n",
    "What can you conclude from the descriptive statistics of cholesterol by CHD status?\n",
    ":::"
   ]
  },
  {
   "cell_type": "markdown",
   "metadata": {},
   "source": [
    "::: callout-note\n",
    "## Answer\n",
    "\n",
    "Subjects with a CHD event from the WCGS dataset have a mean value of blood cholesterol higher than those without a CHD event. We do not know if that difference is statistically significant or not.\n",
    ":::"
   ]
  },
  {
   "cell_type": "markdown",
   "metadata": {},
   "source": [
    "The advantage of `group_by` is that we can stratify for more than one variable, for example:"
   ]
  },
  {
   "cell_type": "code",
   "execution_count": 21,
   "metadata": {
    "vscode": {
     "languageId": "r"
    }
   },
   "outputs": [
    {
     "name": "stderr",
     "output_type": "stream",
     "text": [
      "Warning message in mean.default(chol, na.rm = TRUE):\n",
      "“argument is not numeric or logical: returning NA”\n",
      "Warning message in mean.default(chol, na.rm = TRUE):\n",
      "“argument is not numeric or logical: returning NA”\n",
      "Warning message in mean.default(chol, na.rm = TRUE):\n",
      "“argument is not numeric or logical: returning NA”\n",
      "Warning message in mean.default(chol, na.rm = TRUE):\n",
      "“argument is not numeric or logical: returning NA”\n"
     ]
    },
    {
     "data": {
      "text/html": [
       "<table class=\"dataframe\">\n",
       "<caption>A dw_data_summary: 4 × 6</caption>\n",
       "<thead>\n",
       "\t<tr><th scope=col>chd</th><th scope=col>smoker</th><th scope=col>n</th><th scope=col>Mean</th><th scope=col>SD</th><th scope=col>CV</th></tr>\n",
       "\t<tr><th scope=col>&lt;fct&gt;</th><th scope=col>&lt;fct&gt;</th><th scope=col>&lt;int&gt;</th><th scope=col>&lt;dbl&gt;</th><th scope=col>&lt;dbl&gt;</th><th scope=col>&lt;dbl&gt;</th></tr>\n",
       "</thead>\n",
       "<tbody>\n",
       "\t<tr><td>No CHD</td><td>Non-Smoker</td><td>1554</td><td>221.0090</td><td>40.72507</td><td>0.1842688</td></tr>\n",
       "\t<tr><td>No CHD</td><td>Smoker    </td><td>1343</td><td>228.0322</td><td>43.59538</td><td>0.1911808</td></tr>\n",
       "\t<tr><td>CHD   </td><td>Non-Smoker</td><td>  98</td><td>243.3776</td><td>56.86274</td><td>0.2336400</td></tr>\n",
       "\t<tr><td>CHD   </td><td>Smoker    </td><td> 159</td><td>254.1950</td><td>43.85585</td><td>0.1725284</td></tr>\n",
       "</tbody>\n",
       "</table>\n"
      ],
      "text/latex": [
       "A dw\\_data\\_summary: 4 × 6\n",
       "\\begin{tabular}{llllll}\n",
       " chd & smoker & n & Mean & SD & CV\\\\\n",
       " <fct> & <fct> & <int> & <dbl> & <dbl> & <dbl>\\\\\n",
       "\\hline\n",
       "\t No CHD & Non-Smoker & 1554 & 221.0090 & 40.72507 & 0.1842688\\\\\n",
       "\t No CHD & Smoker     & 1343 & 228.0322 & 43.59538 & 0.1911808\\\\\n",
       "\t CHD    & Non-Smoker &   98 & 243.3776 & 56.86274 & 0.2336400\\\\\n",
       "\t CHD    & Smoker     &  159 & 254.1950 & 43.85585 & 0.1725284\\\\\n",
       "\\end{tabular}\n"
      ],
      "text/markdown": [
       "\n",
       "A dw_data_summary: 4 × 6\n",
       "\n",
       "| chd &lt;fct&gt; | smoker &lt;fct&gt; | n &lt;int&gt; | Mean &lt;dbl&gt; | SD &lt;dbl&gt; | CV &lt;dbl&gt; |\n",
       "|---|---|---|---|---|---|\n",
       "| No CHD | Non-Smoker | 1554 | 221.0090 | 40.72507 | 0.1842688 |\n",
       "| No CHD | Smoker     | 1343 | 228.0322 | 43.59538 | 0.1911808 |\n",
       "| CHD    | Non-Smoker |   98 | 243.3776 | 56.86274 | 0.2336400 |\n",
       "| CHD    | Smoker     |  159 | 254.1950 | 43.85585 | 0.1725284 |\n",
       "\n"
      ],
      "text/plain": [
       "  chd    smoker     n    Mean     SD       CV       \n",
       "1 No CHD Non-Smoker 1554 221.0090 40.72507 0.1842688\n",
       "2 No CHD Smoker     1343 228.0322 43.59538 0.1911808\n",
       "3 CHD    Non-Smoker   98 243.3776 56.86274 0.2336400\n",
       "4 CHD    Smoker      159 254.1950 43.85585 0.1725284"
      ]
     },
     "metadata": {},
     "output_type": "display_data"
    }
   ],
   "source": [
    "wcgs |>\n",
    "  data_summary( \n",
    "    n = n(),\n",
    "    Mean = mean(chol,  na.rm = TRUE), \n",
    "    SD = sd(chol,  na.rm = TRUE),\n",
    "    CV = rel_dis(chol),\n",
    "    by = c(\"chd\", \"smoker\"),\n",
    "    include_na = FALSE\n",
    "  )"
   ]
  },
  {
   "cell_type": "code",
   "execution_count": 22,
   "metadata": {
    "vscode": {
     "languageId": "r"
    }
   },
   "outputs": [
    {
     "name": "stdout",
     "output_type": "stream",
     "text": [
      "<table class=\"huxtable\" data-quarto-disable-processing=\"true\" style=\"border-collapse: collapse; border: 0px; margin-bottom: 2em; margin-top: 2em; ; margin-left: auto; margin-right: auto;  \">\n",
      "<col><col><col><col><col><tr>\n",
      "<th style=\"vertical-align: top; text-align: center; white-space: normal; border-style: solid solid solid solid; border-width: 0.4pt 0pt 0pt 0pt;    padding: 3pt 6pt 3pt 6pt; font-weight: bold;\"></th><th colspan=\"2\" style=\"vertical-align: top; text-align: center; white-space: normal; border-style: solid solid solid solid; border-width: 0.4pt 0pt 0pt 0pt;    padding: 3pt 6pt 3pt 6pt; font-weight: bold;\"><p><strong>Smoker</strong></p>\n",
      "</th><th colspan=\"2\" style=\"vertical-align: top; text-align: center; white-space: normal; border-style: solid solid solid solid; border-width: 0.4pt 0pt 0pt 0pt;    padding: 3pt 6pt 3pt 6pt; font-weight: bold;\"><p><strong>Non-Smoker</strong></p>\n",
      "</th></tr>\n",
      "<tr>\n",
      "<th style=\"vertical-align: top; text-align: left; white-space: normal; border-style: solid solid solid solid; border-width: 0pt 0pt 0.4pt 0pt;    padding: 3pt 6pt 3pt 6pt; font-weight: bold;\"><p><strong>Variable</strong></p>\n",
      "</th><th style=\"vertical-align: top; text-align: right; white-space: normal; border-style: solid solid solid solid; border-width: 0pt 0pt 0.4pt 0pt;    padding: 3pt 6pt 3pt 6pt; font-weight: bold;\"><p><strong>CHD</strong>, N = 159</p>\n",
      "</th><th style=\"vertical-align: top; text-align: right; white-space: normal; border-style: solid solid solid solid; border-width: 0pt 0pt 0.4pt 0pt;    padding: 3pt 6pt 3pt 6pt; font-weight: bold;\"><p><strong>No CHD</strong>, N = 1,343</p>\n",
      "</th><th style=\"vertical-align: top; text-align: right; white-space: normal; border-style: solid solid solid solid; border-width: 0pt 0pt 0.4pt 0pt;    padding: 3pt 6pt 3pt 6pt; font-weight: bold;\"><p><strong>CHD</strong>, N = 98</p>\n",
      "</th><th style=\"vertical-align: top; text-align: right; white-space: normal; border-style: solid solid solid solid; border-width: 0pt 0pt 0.4pt 0pt;    padding: 3pt 6pt 3pt 6pt; font-weight: bold;\"><p><strong>No CHD</strong>, N = 1,554</p>\n",
      "</th></tr>\n",
      "<tr>\n",
      "<td style=\"vertical-align: top; text-align: left; white-space: normal; border-style: solid solid solid solid; border-width: 0.4pt 0pt 0.8pt 0pt;    padding: 3pt 6pt 3pt 6pt; font-weight: normal;\">Cholesterol (mg/dl)</td><td style=\"vertical-align: top; text-align: right; white-space: normal; border-style: solid solid solid solid; border-width: 0.4pt 0pt 0.8pt 0pt;    padding: 3pt 6pt 3pt 6pt; font-weight: normal;\">252 (225, 278)</td><td style=\"vertical-align: top; text-align: right; white-space: normal; border-style: solid solid solid solid; border-width: 0.4pt 0pt 0.8pt 0pt;    padding: 3pt 6pt 3pt 6pt; font-weight: normal;\">226 (200, 254)</td><td style=\"vertical-align: top; text-align: right; white-space: normal; border-style: solid solid solid solid; border-width: 0.4pt 0pt 0.8pt 0pt;    padding: 3pt 6pt 3pt 6pt; font-weight: normal;\">238 (211, 269)</td><td style=\"vertical-align: top; text-align: right; white-space: normal; border-style: solid solid solid solid; border-width: 0.4pt 0pt 0.8pt 0pt;    padding: 3pt 6pt 3pt 6pt; font-weight: normal;\">218 (193, 248)</td></tr>\n",
      "<tr>\n",
      "<td colspan=\"5\" style=\"vertical-align: top; text-align: left; white-space: normal; border-style: solid solid solid solid; border-width: 0.8pt 0pt 0pt 0pt;    padding: 6pt 6pt 6pt 6pt; font-weight: normal; font-size: 9pt;\">Median (IQR). Data from the WCGS dataset.</td></tr>\n",
      "</table>\n"
     ]
    }
   ],
   "source": [
    "#| label: tbl-tab8\n",
    "#| tbl-cap: \"Descriptive statistics of cholesterol by coronary heart disease (CHD) event and smoking status.\"\n",
    "#| output: asis\n",
    "wcgs |> \n",
    "  select(chol, chd, smoker) |> \n",
    "  mutate(\n",
    "    chd = relevel(chd, ref = \"CHD\"),\n",
    "    smoker = relevel(smoker, ref = \"Smoker\")\n",
    "  ) |>\n",
    "  copy_labels(wcgs) |>\n",
    "  tbl_strata(\n",
    "    strata = smoker,\n",
    "    .tbl_fun = ~ .x |>\n",
    "      tbl_summary(by = chd, missing = \"no\") \n",
    "  ) |> \n",
    "  cosm_sum() |> theme_pubh(2) |> \n",
    "  set_align(1, everywhere, \"center\") |> \n",
    "  add_footnote(\"Median (IQR). Data from the WCGS dataset.\", \n",
    "               font_size = 9) |> print_html()"
   ]
  },
  {
   "cell_type": "markdown",
   "metadata": {},
   "source": [
    "::: callout-caution\n",
    "## Exercise\n",
    "Compare the statistics of breast-milk intake (`dl.milk`) by sex from the `kfm` dataset.\n",
    ":::"
   ]
  },
  {
   "cell_type": "code",
   "execution_count": 23,
   "metadata": {
    "vscode": {
     "languageId": "r"
    }
   },
   "outputs": [
    {
     "data": {
      "text/html": [
       "<table class=\"dataframe\">\n",
       "<caption>A huxtable: 4 × 9</caption>\n",
       "<thead>\n",
       "\t<tr><th></th><th scope=col></th><th scope=col>Sex</th><th scope=col>N</th><th scope=col>Min</th><th scope=col>Max</th><th scope=col>Mean</th><th scope=col>Median</th><th scope=col>SD</th><th scope=col>CV</th></tr>\n",
       "\t<tr><th></th><th scope=col>&lt;chr&gt;</th><th scope=col>&lt;chr&gt;</th><th scope=col>&lt;chr&gt;</th><th scope=col>&lt;chr&gt;</th><th scope=col>&lt;chr&gt;</th><th scope=col>&lt;chr&gt;</th><th scope=col>&lt;chr&gt;</th><th scope=col>&lt;chr&gt;</th><th scope=col>&lt;chr&gt;</th></tr>\n",
       "</thead>\n",
       "<tbody>\n",
       "\t<tr><th scope=row>1</th><td>                           </td><td>Sex                       </td><td>N                         </td><td>Min                       </td><td>Max                       </td><td>Mean                      </td><td>Median                    </td><td>SD                        </td><td>CV                        </td></tr>\n",
       "\t<tr><th scope=row>1.1</th><td>Breast-milk intake (dl/day)</td><td>Boy                       </td><td>25                        </td><td>4.91                      </td><td>10.43                     </td><td>7.95                      </td><td>8.39                      </td><td>1.49                      </td><td>0.19                      </td></tr>\n",
       "\t<tr><th scope=row>2</th><td>                           </td><td>Girl                      </td><td>25                        </td><td>4.44                      </td><td>10.03                     </td><td>7.06                      </td><td>7.22                      </td><td>1.42                      </td><td>0.2                       </td></tr>\n",
       "\t<tr><th scope=row></th><td>Data from the kfm dataset. </td><td>Data from the kfm dataset.</td><td>Data from the kfm dataset.</td><td>Data from the kfm dataset.</td><td>Data from the kfm dataset.</td><td>Data from the kfm dataset.</td><td>Data from the kfm dataset.</td><td>Data from the kfm dataset.</td><td>Data from the kfm dataset.</td></tr>\n",
       "</tbody>\n",
       "</table>\n"
      ],
      "text/latex": [
       "A huxtable: 4 × 9\n",
       "\\begin{tabular}{r|lllllllll}\n",
       "  &  & Sex & N & Min & Max & Mean & Median & SD & CV\\\\\n",
       "  & <chr> & <chr> & <chr> & <chr> & <chr> & <chr> & <chr> & <chr> & <chr>\\\\\n",
       "\\hline\n",
       "\t1 &                             & Sex                        & N                          & Min                        & Max                        & Mean                       & Median                     & SD                         & CV                        \\\\\n",
       "\t1.1 & Breast-milk intake (dl/day) & Boy                        & 25                         & 4.91                       & 10.43                      & 7.95                       & 8.39                       & 1.49                       & 0.19                      \\\\\n",
       "\t2 &                             & Girl                       & 25                         & 4.44                       & 10.03                      & 7.06                       & 7.22                       & 1.42                       & 0.2                       \\\\\n",
       "\t & Data from the kfm dataset.  & Data from the kfm dataset. & Data from the kfm dataset. & Data from the kfm dataset. & Data from the kfm dataset. & Data from the kfm dataset. & Data from the kfm dataset. & Data from the kfm dataset. & Data from the kfm dataset.\\\\\n",
       "\\end{tabular}\n"
      ],
      "text/markdown": [
       "\n",
       "A huxtable: 4 × 9\n",
       "\n",
       "| <!--/--> | <!----> &lt;chr&gt; | Sex &lt;chr&gt; | N &lt;chr&gt; | Min &lt;chr&gt; | Max &lt;chr&gt; | Mean &lt;chr&gt; | Median &lt;chr&gt; | SD &lt;chr&gt; | CV &lt;chr&gt; |\n",
       "|---|---|---|---|---|---|---|---|---|---|\n",
       "| 1 | <!----> | Sex                        | N                          | Min                        | Max                        | Mean                       | Median                     | SD                         | CV                         |\n",
       "| 1.1 | Breast-milk intake (dl/day) | Boy                        | 25                         | 4.91                       | 10.43                      | 7.95                       | 8.39                       | 1.49                       | 0.19                       |\n",
       "| 2 | <!----> | Girl                       | 25                         | 4.44                       | 10.03                      | 7.06                       | 7.22                       | 1.42                       | 0.2                        |\n",
       "| <!----> | Data from the kfm dataset.  | Data from the kfm dataset. | Data from the kfm dataset. | Data from the kfm dataset. | Data from the kfm dataset. | Data from the kfm dataset. | Data from the kfm dataset. | Data from the kfm dataset. | Data from the kfm dataset. |\n",
       "\n"
      ],
      "text/plain": [
       "                                Sex                       \n",
       "1                               Sex                       \n",
       "1.1 Breast-milk intake (dl/day) Boy                       \n",
       "2                               Girl                      \n",
       "    Data from the kfm dataset.  Data from the kfm dataset.\n",
       "    N                          Min                       \n",
       "1   N                          Min                       \n",
       "1.1 25                         4.91                      \n",
       "2   25                         4.44                      \n",
       "    Data from the kfm dataset. Data from the kfm dataset.\n",
       "    Max                        Mean                      \n",
       "1   Max                        Mean                      \n",
       "1.1 10.43                      7.95                      \n",
       "2   10.03                      7.06                      \n",
       "    Data from the kfm dataset. Data from the kfm dataset.\n",
       "    Median                     SD                        \n",
       "1   Median                     SD                        \n",
       "1.1 8.39                       1.49                      \n",
       "2   7.22                       1.42                      \n",
       "    Data from the kfm dataset. Data from the kfm dataset.\n",
       "    CV                        \n",
       "1   CV                        \n",
       "1.1 0.19                      \n",
       "2   0.2                       \n",
       "    Data from the kfm dataset."
      ]
     },
     "metadata": {},
     "output_type": "display_data"
    }
   ],
   "source": [
    "#| code-fold: true\n",
    "#| label: tbl-tab9\n",
    "#| tbl-cap: \"Descriptive statistics of breast-milk intake in babies.\"\n",
    "kfm |>\n",
    "  estat(dl.milk ~ sex) |>\n",
    "  as_hux() |> theme_pubh() |>\n",
    "  add_footnote(\"Data from the kfm dataset.\", font_size = 9)"
   ]
  },
  {
   "cell_type": "markdown",
   "metadata": {},
   "source": [
    "::: callout-warning\n",
    "## Question\n",
    "\n",
    "What are your main observations?\n",
    "::: "
   ]
  },
  {
   "cell_type": "markdown",
   "metadata": {},
   "source": [
    "::: callout-note\n",
    "## Answer\n",
    "\n",
    "Breast-milk intake by boys is almost one more dl/day than girls. We do not know if this difference is significant or not. Variability in breast-milk intake was the same between boys and girls.\n",
    ":::"
   ]
  },
  {
   "cell_type": "markdown",
   "metadata": {},
   "source": [
    "# Creating tables for publication\n",
    "\n",
    "It is very common to report the descriptive statistics from the data in the first table of papers. The strategy is to calculate the descriptive statistics for all our variables and then export it in a way the table could be read by a word processor or spreadsheet application.\n",
    "\n",
    "We can construct a single table of descriptive statistics for all of our variables with a single command. The function `mytable` from the `moonBook` package allows us to do that. For continuous variables, `mytable` displays means and standard deviations by default but that can be changed to display medians and inter quantile ranges instead.\n",
    "\n",
    "We partially remove `id` and `ncigs` it from the dataset using *negative indexing*."
   ]
  },
  {
   "cell_type": "code",
   "execution_count": 24,
   "metadata": {
    "vscode": {
     "languageId": "r"
    }
   },
   "outputs": [
    {
     "name": "stdout",
     "output_type": "stream",
     "text": [
      "<table class=\"huxtable\" data-quarto-disable-processing=\"true\" style=\"border-collapse: collapse; border: 0px; margin-bottom: 2em; margin-top: 2em; ; margin-left: auto; margin-right: auto;  \">\n",
      "<col><col><tr>\n",
      "<th style=\"vertical-align: top; text-align: left; white-space: normal; border-style: solid solid solid solid; border-width: 0pt 0pt 0.4pt 0pt;    padding: 3pt 6pt 3pt 6pt; font-weight: normal;\"><p><strong>Variable</strong></p>\n",
      "</th><th style=\"vertical-align: top; text-align: right; white-space: normal; border-style: solid solid solid solid; border-width: 0pt 0pt 0.4pt 0pt;    padding: 3pt 6pt 3pt 6pt; font-weight: normal;\"><p><strong>N = 3,154</strong></p>\n",
      "</th></tr>\n",
      "<tr>\n",
      "<td style=\"vertical-align: top; text-align: left; white-space: normal; border-style: solid solid solid solid; border-width: 0.4pt 0pt 0pt 0pt;    padding: 3pt 6pt 3pt 6pt; font-weight: bold;\">Age (years)</td><td style=\"vertical-align: top; text-align: right; white-space: normal; border-style: solid solid solid solid; border-width: 0.4pt 0pt 0pt 0pt;    padding: 3pt 6pt 3pt 6pt; font-weight: normal;\">45 (42, 50)</td></tr>\n",
      "<tr>\n",
      "<td style=\"vertical-align: top; text-align: left; white-space: normal; border-style: solid solid solid solid; border-width: 0pt 0pt 0pt 0pt;    padding: 3pt 6pt 3pt 6pt; font-weight: bold;\">Height (cm)</td><td style=\"vertical-align: top; text-align: right; white-space: normal; border-style: solid solid solid solid; border-width: 0pt 0pt 0pt 0pt;    padding: 3pt 6pt 3pt 6pt; font-weight: normal;\">178 (173, 183)</td></tr>\n",
      "<tr>\n",
      "<td style=\"vertical-align: top; text-align: left; white-space: normal; border-style: solid solid solid solid; border-width: 0pt 0pt 0pt 0pt;    padding: 3pt 6pt 3pt 6pt; font-weight: bold;\">Weight (kg)</td><td style=\"vertical-align: top; text-align: right; white-space: normal; border-style: solid solid solid solid; border-width: 0pt 0pt 0pt 0pt;    padding: 3pt 6pt 3pt 6pt; font-weight: normal;\">77 (70, 83)</td></tr>\n",
      "<tr>\n",
      "<td style=\"vertical-align: top; text-align: left; white-space: normal; border-style: solid solid solid solid; border-width: 0pt 0pt 0pt 0pt;    padding: 3pt 6pt 3pt 6pt; font-weight: bold;\">SBP (mm Hg)</td><td style=\"vertical-align: top; text-align: right; white-space: normal; border-style: solid solid solid solid; border-width: 0pt 0pt 0pt 0pt;    padding: 3pt 6pt 3pt 6pt; font-weight: normal;\">126 (120, 136)</td></tr>\n",
      "<tr>\n",
      "<td style=\"vertical-align: top; text-align: left; white-space: normal; border-style: solid solid solid solid; border-width: 0pt 0pt 0pt 0pt;    padding: 3pt 6pt 3pt 6pt; font-weight: bold;\">DBP (mm Hg)</td><td style=\"vertical-align: top; text-align: right; white-space: normal; border-style: solid solid solid solid; border-width: 0pt 0pt 0pt 0pt;    padding: 3pt 6pt 3pt 6pt; font-weight: normal;\">80 (76, 86)</td></tr>\n",
      "<tr>\n",
      "<td style=\"vertical-align: top; text-align: left; white-space: normal; border-style: solid solid solid solid; border-width: 0pt 0pt 0pt 0pt;    padding: 3pt 6pt 3pt 6pt; font-weight: bold;\">Cholesterol (mg/dl)</td><td style=\"vertical-align: top; text-align: right; white-space: normal; border-style: solid solid solid solid; border-width: 0pt 0pt 0pt 0pt;    padding: 3pt 6pt 3pt 6pt; font-weight: normal;\">223 (197, 253)</td></tr>\n",
      "<tr>\n",
      "<td style=\"vertical-align: top; text-align: left; white-space: normal; border-style: solid solid solid solid; border-width: 0pt 0pt 0pt 0pt;    padding: 3pt 6pt 3pt 15pt; font-weight: normal;\">Unknown</td><td style=\"vertical-align: top; text-align: right; white-space: normal; border-style: solid solid solid solid; border-width: 0pt 0pt 0pt 0pt;    padding: 3pt 6pt 3pt 6pt; font-weight: normal;\">12</td></tr>\n",
      "<tr>\n",
      "<td style=\"vertical-align: top; text-align: left; white-space: normal; border-style: solid solid solid solid; border-width: 0pt 0pt 0pt 0pt;    padding: 3pt 6pt 3pt 6pt; font-weight: bold;\">Behaviour pattern</td><td style=\"vertical-align: top; text-align: right; white-space: normal; border-style: solid solid solid solid; border-width: 0pt 0pt 0pt 0pt;    padding: 3pt 6pt 3pt 6pt; font-weight: normal;\"></td></tr>\n",
      "<tr>\n",
      "<td style=\"vertical-align: top; text-align: left; white-space: normal; border-style: solid solid solid solid; border-width: 0pt 0pt 0pt 0pt;    padding: 3pt 6pt 3pt 15pt; font-weight: normal;\">A1</td><td style=\"vertical-align: top; text-align: right; white-space: normal; border-style: solid solid solid solid; border-width: 0pt 0pt 0pt 0pt;    padding: 3pt 6pt 3pt 6pt; font-weight: normal;\">264 (8.4%)</td></tr>\n",
      "<tr>\n",
      "<td style=\"vertical-align: top; text-align: left; white-space: normal; border-style: solid solid solid solid; border-width: 0pt 0pt 0pt 0pt;    padding: 3pt 6pt 3pt 15pt; font-weight: normal;\">A2</td><td style=\"vertical-align: top; text-align: right; white-space: normal; border-style: solid solid solid solid; border-width: 0pt 0pt 0pt 0pt;    padding: 3pt 6pt 3pt 6pt; font-weight: normal;\">1,325 (42%)</td></tr>\n",
      "<tr>\n",
      "<td style=\"vertical-align: top; text-align: left; white-space: normal; border-style: solid solid solid solid; border-width: 0pt 0pt 0pt 0pt;    padding: 3pt 6pt 3pt 15pt; font-weight: normal;\">B3</td><td style=\"vertical-align: top; text-align: right; white-space: normal; border-style: solid solid solid solid; border-width: 0pt 0pt 0pt 0pt;    padding: 3pt 6pt 3pt 6pt; font-weight: normal;\">1,216 (39%)</td></tr>\n",
      "<tr>\n",
      "<td style=\"vertical-align: top; text-align: left; white-space: normal; border-style: solid solid solid solid; border-width: 0pt 0pt 0pt 0pt;    padding: 3pt 6pt 3pt 15pt; font-weight: normal;\">B4</td><td style=\"vertical-align: top; text-align: right; white-space: normal; border-style: solid solid solid solid; border-width: 0pt 0pt 0pt 0pt;    padding: 3pt 6pt 3pt 6pt; font-weight: normal;\">349 (11%)</td></tr>\n",
      "<tr>\n",
      "<td style=\"vertical-align: top; text-align: left; white-space: normal; border-style: solid solid solid solid; border-width: 0pt 0pt 0pt 0pt;    padding: 3pt 6pt 3pt 6pt; font-weight: bold;\">Dichotomous behaviour</td><td style=\"vertical-align: top; text-align: right; white-space: normal; border-style: solid solid solid solid; border-width: 0pt 0pt 0pt 0pt;    padding: 3pt 6pt 3pt 6pt; font-weight: normal;\"></td></tr>\n",
      "<tr>\n",
      "<td style=\"vertical-align: top; text-align: left; white-space: normal; border-style: solid solid solid solid; border-width: 0pt 0pt 0pt 0pt;    padding: 3pt 6pt 3pt 15pt; font-weight: normal;\">A</td><td style=\"vertical-align: top; text-align: right; white-space: normal; border-style: solid solid solid solid; border-width: 0pt 0pt 0pt 0pt;    padding: 3pt 6pt 3pt 6pt; font-weight: normal;\">1,589 (50%)</td></tr>\n",
      "<tr>\n",
      "<td style=\"vertical-align: top; text-align: left; white-space: normal; border-style: solid solid solid solid; border-width: 0pt 0pt 0pt 0pt;    padding: 3pt 6pt 3pt 15pt; font-weight: normal;\">B</td><td style=\"vertical-align: top; text-align: right; white-space: normal; border-style: solid solid solid solid; border-width: 0pt 0pt 0pt 0pt;    padding: 3pt 6pt 3pt 6pt; font-weight: normal;\">1,565 (50%)</td></tr>\n",
      "<tr>\n",
      "<td style=\"vertical-align: top; text-align: left; white-space: normal; border-style: solid solid solid solid; border-width: 0pt 0pt 0pt 0pt;    padding: 3pt 6pt 3pt 6pt; font-weight: bold;\">Coronary Heart Disease</td><td style=\"vertical-align: top; text-align: right; white-space: normal; border-style: solid solid solid solid; border-width: 0pt 0pt 0pt 0pt;    padding: 3pt 6pt 3pt 6pt; font-weight: normal;\"></td></tr>\n",
      "<tr>\n",
      "<td style=\"vertical-align: top; text-align: left; white-space: normal; border-style: solid solid solid solid; border-width: 0pt 0pt 0pt 0pt;    padding: 3pt 6pt 3pt 15pt; font-weight: normal;\">No CHD</td><td style=\"vertical-align: top; text-align: right; white-space: normal; border-style: solid solid solid solid; border-width: 0pt 0pt 0pt 0pt;    padding: 3pt 6pt 3pt 6pt; font-weight: normal;\">2,897 (92%)</td></tr>\n",
      "<tr>\n",
      "<td style=\"vertical-align: top; text-align: left; white-space: normal; border-style: solid solid solid solid; border-width: 0pt 0pt 0pt 0pt;    padding: 3pt 6pt 3pt 15pt; font-weight: normal;\">CHD</td><td style=\"vertical-align: top; text-align: right; white-space: normal; border-style: solid solid solid solid; border-width: 0pt 0pt 0pt 0pt;    padding: 3pt 6pt 3pt 6pt; font-weight: normal;\">257 (8.1%)</td></tr>\n",
      "<tr>\n",
      "<td style=\"vertical-align: top; text-align: left; white-space: normal; border-style: solid solid solid solid; border-width: 0pt 0pt 0pt 0pt;    padding: 3pt 6pt 3pt 6pt; font-weight: bold;\">Type of CHD</td><td style=\"vertical-align: top; text-align: right; white-space: normal; border-style: solid solid solid solid; border-width: 0pt 0pt 0pt 0pt;    padding: 3pt 6pt 3pt 6pt; font-weight: normal;\"></td></tr>\n",
      "<tr>\n",
      "<td style=\"vertical-align: top; text-align: left; white-space: normal; border-style: solid solid solid solid; border-width: 0pt 0pt 0pt 0pt;    padding: 3pt 6pt 3pt 15pt; font-weight: normal;\">No CHD</td><td style=\"vertical-align: top; text-align: right; white-space: normal; border-style: solid solid solid solid; border-width: 0pt 0pt 0pt 0pt;    padding: 3pt 6pt 3pt 6pt; font-weight: normal;\">2,897 (92%)</td></tr>\n",
      "<tr>\n",
      "<td style=\"vertical-align: top; text-align: left; white-space: normal; border-style: solid solid solid solid; border-width: 0pt 0pt 0pt 0pt;    padding: 3pt 6pt 3pt 15pt; font-weight: normal;\">MI or SD</td><td style=\"vertical-align: top; text-align: right; white-space: normal; border-style: solid solid solid solid; border-width: 0pt 0pt 0pt 0pt;    padding: 3pt 6pt 3pt 6pt; font-weight: normal;\">135 (4.3%)</td></tr>\n",
      "<tr>\n",
      "<td style=\"vertical-align: top; text-align: left; white-space: normal; border-style: solid solid solid solid; border-width: 0pt 0pt 0pt 0pt;    padding: 3pt 6pt 3pt 15pt; font-weight: normal;\">Angina</td><td style=\"vertical-align: top; text-align: right; white-space: normal; border-style: solid solid solid solid; border-width: 0pt 0pt 0pt 0pt;    padding: 3pt 6pt 3pt 6pt; font-weight: normal;\">71 (2.3%)</td></tr>\n",
      "<tr>\n",
      "<td style=\"vertical-align: top; text-align: left; white-space: normal; border-style: solid solid solid solid; border-width: 0pt 0pt 0pt 0pt;    padding: 3pt 6pt 3pt 15pt; font-weight: normal;\">Silent MI</td><td style=\"vertical-align: top; text-align: right; white-space: normal; border-style: solid solid solid solid; border-width: 0pt 0pt 0pt 0pt;    padding: 3pt 6pt 3pt 6pt; font-weight: normal;\">51 (1.6%)</td></tr>\n",
      "<tr>\n",
      "<td style=\"vertical-align: top; text-align: left; white-space: normal; border-style: solid solid solid solid; border-width: 0pt 0pt 0pt 0pt;    padding: 3pt 6pt 3pt 6pt; font-weight: bold;\">Follow up time (days)</td><td style=\"vertical-align: top; text-align: right; white-space: normal; border-style: solid solid solid solid; border-width: 0pt 0pt 0pt 0pt;    padding: 3pt 6pt 3pt 6pt; font-weight: normal;\">2,942 (2,842, 3,037)</td></tr>\n",
      "<tr>\n",
      "<td style=\"vertical-align: top; text-align: left; white-space: normal; border-style: solid solid solid solid; border-width: 0pt 0pt 0pt 0pt;    padding: 3pt 6pt 3pt 6pt; font-weight: bold;\">Corneal arcus</td><td style=\"vertical-align: top; text-align: right; white-space: normal; border-style: solid solid solid solid; border-width: 0pt 0pt 0pt 0pt;    padding: 3pt 6pt 3pt 6pt; font-weight: normal;\"></td></tr>\n",
      "<tr>\n",
      "<td style=\"vertical-align: top; text-align: left; white-space: normal; border-style: solid solid solid solid; border-width: 0pt 0pt 0pt 0pt;    padding: 3pt 6pt 3pt 15pt; font-weight: normal;\">Absent</td><td style=\"vertical-align: top; text-align: right; white-space: normal; border-style: solid solid solid solid; border-width: 0pt 0pt 0pt 0pt;    padding: 3pt 6pt 3pt 6pt; font-weight: normal;\">2,211 (70%)</td></tr>\n",
      "<tr>\n",
      "<td style=\"vertical-align: top; text-align: left; white-space: normal; border-style: solid solid solid solid; border-width: 0pt 0pt 0pt 0pt;    padding: 3pt 6pt 3pt 15pt; font-weight: normal;\">Present</td><td style=\"vertical-align: top; text-align: right; white-space: normal; border-style: solid solid solid solid; border-width: 0pt 0pt 0pt 0pt;    padding: 3pt 6pt 3pt 6pt; font-weight: normal;\">941 (30%)</td></tr>\n",
      "<tr>\n",
      "<td style=\"vertical-align: top; text-align: left; white-space: normal; border-style: solid solid solid solid; border-width: 0pt 0pt 0pt 0pt;    padding: 3pt 6pt 3pt 15pt; font-weight: normal;\">Unknown</td><td style=\"vertical-align: top; text-align: right; white-space: normal; border-style: solid solid solid solid; border-width: 0pt 0pt 0pt 0pt;    padding: 3pt 6pt 3pt 6pt; font-weight: normal;\">2</td></tr>\n",
      "<tr>\n",
      "<td style=\"vertical-align: top; text-align: left; white-space: normal; border-style: solid solid solid solid; border-width: 0pt 0pt 0pt 0pt;    padding: 3pt 6pt 3pt 6pt; font-weight: bold;\">Smoking status</td><td style=\"vertical-align: top; text-align: right; white-space: normal; border-style: solid solid solid solid; border-width: 0pt 0pt 0pt 0pt;    padding: 3pt 6pt 3pt 6pt; font-weight: normal;\"></td></tr>\n",
      "<tr>\n",
      "<td style=\"vertical-align: top; text-align: left; white-space: normal; border-style: solid solid solid solid; border-width: 0pt 0pt 0pt 0pt;    padding: 3pt 6pt 3pt 15pt; font-weight: normal;\">Non-Smoker</td><td style=\"vertical-align: top; text-align: right; white-space: normal; border-style: solid solid solid solid; border-width: 0pt 0pt 0pt 0pt;    padding: 3pt 6pt 3pt 6pt; font-weight: normal;\">1,652 (52%)</td></tr>\n",
      "<tr>\n",
      "<td style=\"vertical-align: top; text-align: left; white-space: normal; border-style: solid solid solid solid; border-width: 0pt 0pt 0.8pt 0pt;    padding: 3pt 6pt 3pt 15pt; font-weight: normal;\">Smoker</td><td style=\"vertical-align: top; text-align: right; white-space: normal; border-style: solid solid solid solid; border-width: 0pt 0pt 0.8pt 0pt;    padding: 3pt 6pt 3pt 6pt; font-weight: normal;\">1,502 (48%)</td></tr>\n",
      "<tr>\n",
      "<td colspan=\"2\" style=\"vertical-align: top; text-align: left; white-space: normal; border-style: solid solid solid solid; border-width: 0.8pt 0pt 0pt 0pt;    padding: 6pt 6pt 6pt 6pt; font-weight: normal; font-size: 9pt;\">Median (IQR); n (%)</td></tr>\n",
      "</table>\n"
     ]
    }
   ],
   "source": [
    "#| label: tbl-tab10\n",
    "#| tbl-cap: \"Descriptive statistics of the WCGS dataset.\"\n",
    "#| output: asis\n",
    "wcgs |> \n",
    "  select(- c(id, ncigs)) |> \n",
    "  tbl_summary() |> \n",
    "  cosm_sum(bold = TRUE) |> \n",
    "  add_footnote(\"Median (IQR); n (%)\", font_size = 9) |>\n",
    "  print_html()"
   ]
  },
  {
   "cell_type": "markdown",
   "metadata": {},
   "source": [
    "## Stratified tables\n",
    "\n",
    "We can use `cross_tbl` to report descriptive statistics of relevant variables, by exposure of interest. We will use negative selection, removing some columns."
   ]
  },
  {
   "cell_type": "code",
   "execution_count": 25,
   "metadata": {
    "vscode": {
     "languageId": "r"
    }
   },
   "outputs": [
    {
     "name": "stdout",
     "output_type": "stream",
     "text": [
      "<table class=\"huxtable\" data-quarto-disable-processing=\"true\" style=\"border-collapse: collapse; border: 0px; margin-bottom: 2em; margin-top: 2em; ; margin-left: auto; margin-right: auto;  \">\n",
      "<col><col><col><col><tr>\n",
      "<th style=\"vertical-align: top; text-align: center; white-space: normal; border-style: solid solid solid solid; border-width: 0pt 0pt 0pt 0pt;    padding: 3pt 6pt 3pt 6pt; font-weight: normal;\"></th><th colspan=\"2\" style=\"vertical-align: top; text-align: center; white-space: normal; border-style: solid solid solid solid; border-width: 0pt 0pt 0pt 0pt;    padding: 3pt 6pt 3pt 6pt; font-weight: normal;\"><p><strong>Dichotomous behaviour</strong></p>\n",
      "</th><th style=\"vertical-align: top; text-align: center; white-space: normal; border-style: solid solid solid solid; border-width: 0pt 0pt 0pt 0pt;    padding: 3pt 6pt 3pt 6pt; font-weight: normal;\"></th></tr>\n",
      "<tr>\n",
      "<th style=\"vertical-align: top; text-align: left; white-space: normal; border-style: solid solid solid solid; border-width: 0pt 0pt 0.4pt 0pt;    padding: 3pt 6pt 3pt 6pt; font-weight: normal;\"></th><th style=\"vertical-align: top; text-align: right; white-space: normal; border-style: solid solid solid solid; border-width: 0pt 0pt 0.4pt 0pt;    padding: 3pt 6pt 3pt 6pt; font-weight: normal;\"><p><strong>A</strong>, N = 1,589</p>\n",
      "</th><th style=\"vertical-align: top; text-align: right; white-space: normal; border-style: solid solid solid solid; border-width: 0pt 0pt 0.4pt 0pt;    padding: 3pt 6pt 3pt 6pt; font-weight: normal;\"><p><strong>B</strong>, N = 1,565</p>\n",
      "</th><th style=\"vertical-align: top; text-align: right; white-space: normal; border-style: solid solid solid solid; border-width: 0pt 0pt 0.4pt 0pt;    padding: 3pt 6pt 3pt 6pt; font-weight: normal;\"><p><strong>Overall</strong>, N = 3,154</p>\n",
      "</th></tr>\n",
      "<tr>\n",
      "<td style=\"vertical-align: top; text-align: left; white-space: normal; border-style: solid solid solid solid; border-width: 0.4pt 0pt 0pt 0pt;    padding: 3pt 6pt 3pt 6pt; font-weight: bold;\">Age (years)</td><td style=\"vertical-align: top; text-align: right; white-space: normal; border-style: solid solid solid solid; border-width: 0.4pt 0pt 0pt 0pt;    padding: 3pt 6pt 3pt 6pt; font-weight: normal;\">46 (42, 51)</td><td style=\"vertical-align: top; text-align: right; white-space: normal; border-style: solid solid solid solid; border-width: 0.4pt 0pt 0pt 0pt;    padding: 3pt 6pt 3pt 6pt; font-weight: normal;\">45 (41, 49)</td><td style=\"vertical-align: top; text-align: right; white-space: normal; border-style: solid solid solid solid; border-width: 0.4pt 0pt 0pt 0pt;    padding: 3pt 6pt 3pt 6pt; font-weight: normal;\">45 (42, 50)</td></tr>\n",
      "<tr>\n",
      "<td style=\"vertical-align: top; text-align: left; white-space: normal; border-style: solid solid solid solid; border-width: 0pt 0pt 0pt 0pt;    padding: 3pt 6pt 3pt 6pt; font-weight: bold;\">Height (cm)</td><td style=\"vertical-align: top; text-align: right; white-space: normal; border-style: solid solid solid solid; border-width: 0pt 0pt 0pt 0pt;    padding: 3pt 6pt 3pt 6pt; font-weight: normal;\">178 (173, 183)</td><td style=\"vertical-align: top; text-align: right; white-space: normal; border-style: solid solid solid solid; border-width: 0pt 0pt 0pt 0pt;    padding: 3pt 6pt 3pt 6pt; font-weight: normal;\">178 (173, 180)</td><td style=\"vertical-align: top; text-align: right; white-space: normal; border-style: solid solid solid solid; border-width: 0pt 0pt 0pt 0pt;    padding: 3pt 6pt 3pt 6pt; font-weight: normal;\">178 (173, 183)</td></tr>\n",
      "<tr>\n",
      "<td style=\"vertical-align: top; text-align: left; white-space: normal; border-style: solid solid solid solid; border-width: 0pt 0pt 0pt 0pt;    padding: 3pt 6pt 3pt 6pt; font-weight: bold;\">Weight (kg)</td><td style=\"vertical-align: top; text-align: right; white-space: normal; border-style: solid solid solid solid; border-width: 0pt 0pt 0pt 0pt;    padding: 3pt 6pt 3pt 6pt; font-weight: normal;\">77 (72, 83)</td><td style=\"vertical-align: top; text-align: right; white-space: normal; border-style: solid solid solid solid; border-width: 0pt 0pt 0pt 0pt;    padding: 3pt 6pt 3pt 6pt; font-weight: normal;\">76 (70, 82)</td><td style=\"vertical-align: top; text-align: right; white-space: normal; border-style: solid solid solid solid; border-width: 0pt 0pt 0pt 0pt;    padding: 3pt 6pt 3pt 6pt; font-weight: normal;\">77 (70, 83)</td></tr>\n",
      "<tr>\n",
      "<td style=\"vertical-align: top; text-align: left; white-space: normal; border-style: solid solid solid solid; border-width: 0pt 0pt 0pt 0pt;    padding: 3pt 6pt 3pt 6pt; font-weight: bold;\">SBP (mm Hg)</td><td style=\"vertical-align: top; text-align: right; white-space: normal; border-style: solid solid solid solid; border-width: 0pt 0pt 0pt 0pt;    padding: 3pt 6pt 3pt 6pt; font-weight: normal;\">128 (120, 138)</td><td style=\"vertical-align: top; text-align: right; white-space: normal; border-style: solid solid solid solid; border-width: 0pt 0pt 0pt 0pt;    padding: 3pt 6pt 3pt 6pt; font-weight: normal;\">124 (118, 136)</td><td style=\"vertical-align: top; text-align: right; white-space: normal; border-style: solid solid solid solid; border-width: 0pt 0pt 0pt 0pt;    padding: 3pt 6pt 3pt 6pt; font-weight: normal;\">126 (120, 136)</td></tr>\n",
      "<tr>\n",
      "<td style=\"vertical-align: top; text-align: left; white-space: normal; border-style: solid solid solid solid; border-width: 0pt 0pt 0pt 0pt;    padding: 3pt 6pt 3pt 6pt; font-weight: bold;\">DBP (mm Hg)</td><td style=\"vertical-align: top; text-align: right; white-space: normal; border-style: solid solid solid solid; border-width: 0pt 0pt 0pt 0pt;    padding: 3pt 6pt 3pt 6pt; font-weight: normal;\">80 (76, 88)</td><td style=\"vertical-align: top; text-align: right; white-space: normal; border-style: solid solid solid solid; border-width: 0pt 0pt 0pt 0pt;    padding: 3pt 6pt 3pt 6pt; font-weight: normal;\">80 (76, 86)</td><td style=\"vertical-align: top; text-align: right; white-space: normal; border-style: solid solid solid solid; border-width: 0pt 0pt 0pt 0pt;    padding: 3pt 6pt 3pt 6pt; font-weight: normal;\">80 (76, 86)</td></tr>\n",
      "<tr>\n",
      "<td style=\"vertical-align: top; text-align: left; white-space: normal; border-style: solid solid solid solid; border-width: 0pt 0pt 0pt 0pt;    padding: 3pt 6pt 3pt 6pt; font-weight: bold;\">Cholesterol (mg/dl)</td><td style=\"vertical-align: top; text-align: right; white-space: normal; border-style: solid solid solid solid; border-width: 0pt 0pt 0pt 0pt;    padding: 3pt 6pt 3pt 6pt; font-weight: normal;\">226 (200, 256)</td><td style=\"vertical-align: top; text-align: right; white-space: normal; border-style: solid solid solid solid; border-width: 0pt 0pt 0pt 0pt;    padding: 3pt 6pt 3pt 6pt; font-weight: normal;\">221 (195, 251)</td><td style=\"vertical-align: top; text-align: right; white-space: normal; border-style: solid solid solid solid; border-width: 0pt 0pt 0pt 0pt;    padding: 3pt 6pt 3pt 6pt; font-weight: normal;\">223 (197, 253)</td></tr>\n",
      "<tr>\n",
      "<td style=\"vertical-align: top; text-align: left; white-space: normal; border-style: solid solid solid solid; border-width: 0pt 0pt 0pt 0pt;    padding: 3pt 6pt 3pt 15pt; font-weight: normal;\">Unknown</td><td style=\"vertical-align: top; text-align: right; white-space: normal; border-style: solid solid solid solid; border-width: 0pt 0pt 0pt 0pt;    padding: 3pt 6pt 3pt 6pt; font-weight: normal;\">5</td><td style=\"vertical-align: top; text-align: right; white-space: normal; border-style: solid solid solid solid; border-width: 0pt 0pt 0pt 0pt;    padding: 3pt 6pt 3pt 6pt; font-weight: normal;\">7</td><td style=\"vertical-align: top; text-align: right; white-space: normal; border-style: solid solid solid solid; border-width: 0pt 0pt 0pt 0pt;    padding: 3pt 6pt 3pt 6pt; font-weight: normal;\">12</td></tr>\n",
      "<tr>\n",
      "<td style=\"vertical-align: top; text-align: left; white-space: normal; border-style: solid solid solid solid; border-width: 0pt 0pt 0pt 0pt;    padding: 3pt 6pt 3pt 6pt; font-weight: bold;\">Coronary Heart Disease</td><td style=\"vertical-align: top; text-align: right; white-space: normal; border-style: solid solid solid solid; border-width: 0pt 0pt 0pt 0pt;    padding: 3pt 6pt 3pt 6pt; font-weight: normal;\"></td><td style=\"vertical-align: top; text-align: right; white-space: normal; border-style: solid solid solid solid; border-width: 0pt 0pt 0pt 0pt;    padding: 3pt 6pt 3pt 6pt; font-weight: normal;\"></td><td style=\"vertical-align: top; text-align: right; white-space: normal; border-style: solid solid solid solid; border-width: 0pt 0pt 0pt 0pt;    padding: 3pt 6pt 3pt 6pt; font-weight: normal;\"></td></tr>\n",
      "<tr>\n",
      "<td style=\"vertical-align: top; text-align: left; white-space: normal; border-style: solid solid solid solid; border-width: 0pt 0pt 0pt 0pt;    padding: 3pt 6pt 3pt 15pt; font-weight: normal;\">CHD</td><td style=\"vertical-align: top; text-align: right; white-space: normal; border-style: solid solid solid solid; border-width: 0pt 0pt 0pt 0pt;    padding: 3pt 6pt 3pt 6pt; font-weight: normal;\">178 (11%)</td><td style=\"vertical-align: top; text-align: right; white-space: normal; border-style: solid solid solid solid; border-width: 0pt 0pt 0pt 0pt;    padding: 3pt 6pt 3pt 6pt; font-weight: normal;\">79 (5.0%)</td><td style=\"vertical-align: top; text-align: right; white-space: normal; border-style: solid solid solid solid; border-width: 0pt 0pt 0pt 0pt;    padding: 3pt 6pt 3pt 6pt; font-weight: normal;\">257 (8.1%)</td></tr>\n",
      "<tr>\n",
      "<td style=\"vertical-align: top; text-align: left; white-space: normal; border-style: solid solid solid solid; border-width: 0pt 0pt 0pt 0pt;    padding: 3pt 6pt 3pt 15pt; font-weight: normal;\">No CHD</td><td style=\"vertical-align: top; text-align: right; white-space: normal; border-style: solid solid solid solid; border-width: 0pt 0pt 0pt 0pt;    padding: 3pt 6pt 3pt 6pt; font-weight: normal;\">1,411 (89%)</td><td style=\"vertical-align: top; text-align: right; white-space: normal; border-style: solid solid solid solid; border-width: 0pt 0pt 0pt 0pt;    padding: 3pt 6pt 3pt 6pt; font-weight: normal;\">1,486 (95%)</td><td style=\"vertical-align: top; text-align: right; white-space: normal; border-style: solid solid solid solid; border-width: 0pt 0pt 0pt 0pt;    padding: 3pt 6pt 3pt 6pt; font-weight: normal;\">2,897 (92%)</td></tr>\n",
      "<tr>\n",
      "<td style=\"vertical-align: top; text-align: left; white-space: normal; border-style: solid solid solid solid; border-width: 0pt 0pt 0pt 0pt;    padding: 3pt 6pt 3pt 6pt; font-weight: bold;\">Type of CHD</td><td style=\"vertical-align: top; text-align: right; white-space: normal; border-style: solid solid solid solid; border-width: 0pt 0pt 0pt 0pt;    padding: 3pt 6pt 3pt 6pt; font-weight: normal;\"></td><td style=\"vertical-align: top; text-align: right; white-space: normal; border-style: solid solid solid solid; border-width: 0pt 0pt 0pt 0pt;    padding: 3pt 6pt 3pt 6pt; font-weight: normal;\"></td><td style=\"vertical-align: top; text-align: right; white-space: normal; border-style: solid solid solid solid; border-width: 0pt 0pt 0pt 0pt;    padding: 3pt 6pt 3pt 6pt; font-weight: normal;\"></td></tr>\n",
      "<tr>\n",
      "<td style=\"vertical-align: top; text-align: left; white-space: normal; border-style: solid solid solid solid; border-width: 0pt 0pt 0pt 0pt;    padding: 3pt 6pt 3pt 15pt; font-weight: normal;\">No CHD</td><td style=\"vertical-align: top; text-align: right; white-space: normal; border-style: solid solid solid solid; border-width: 0pt 0pt 0pt 0pt;    padding: 3pt 6pt 3pt 6pt; font-weight: normal;\">1,411 (89%)</td><td style=\"vertical-align: top; text-align: right; white-space: normal; border-style: solid solid solid solid; border-width: 0pt 0pt 0pt 0pt;    padding: 3pt 6pt 3pt 6pt; font-weight: normal;\">1,486 (95%)</td><td style=\"vertical-align: top; text-align: right; white-space: normal; border-style: solid solid solid solid; border-width: 0pt 0pt 0pt 0pt;    padding: 3pt 6pt 3pt 6pt; font-weight: normal;\">2,897 (92%)</td></tr>\n",
      "<tr>\n",
      "<td style=\"vertical-align: top; text-align: left; white-space: normal; border-style: solid solid solid solid; border-width: 0pt 0pt 0pt 0pt;    padding: 3pt 6pt 3pt 15pt; font-weight: normal;\">MI or SD</td><td style=\"vertical-align: top; text-align: right; white-space: normal; border-style: solid solid solid solid; border-width: 0pt 0pt 0pt 0pt;    padding: 3pt 6pt 3pt 6pt; font-weight: normal;\">93 (5.9%)</td><td style=\"vertical-align: top; text-align: right; white-space: normal; border-style: solid solid solid solid; border-width: 0pt 0pt 0pt 0pt;    padding: 3pt 6pt 3pt 6pt; font-weight: normal;\">42 (2.7%)</td><td style=\"vertical-align: top; text-align: right; white-space: normal; border-style: solid solid solid solid; border-width: 0pt 0pt 0pt 0pt;    padding: 3pt 6pt 3pt 6pt; font-weight: normal;\">135 (4.3%)</td></tr>\n",
      "<tr>\n",
      "<td style=\"vertical-align: top; text-align: left; white-space: normal; border-style: solid solid solid solid; border-width: 0pt 0pt 0pt 0pt;    padding: 3pt 6pt 3pt 15pt; font-weight: normal;\">Angina</td><td style=\"vertical-align: top; text-align: right; white-space: normal; border-style: solid solid solid solid; border-width: 0pt 0pt 0pt 0pt;    padding: 3pt 6pt 3pt 6pt; font-weight: normal;\">48 (3.0%)</td><td style=\"vertical-align: top; text-align: right; white-space: normal; border-style: solid solid solid solid; border-width: 0pt 0pt 0pt 0pt;    padding: 3pt 6pt 3pt 6pt; font-weight: normal;\">23 (1.5%)</td><td style=\"vertical-align: top; text-align: right; white-space: normal; border-style: solid solid solid solid; border-width: 0pt 0pt 0pt 0pt;    padding: 3pt 6pt 3pt 6pt; font-weight: normal;\">71 (2.3%)</td></tr>\n",
      "<tr>\n",
      "<td style=\"vertical-align: top; text-align: left; white-space: normal; border-style: solid solid solid solid; border-width: 0pt 0pt 0pt 0pt;    padding: 3pt 6pt 3pt 15pt; font-weight: normal;\">Silent MI</td><td style=\"vertical-align: top; text-align: right; white-space: normal; border-style: solid solid solid solid; border-width: 0pt 0pt 0pt 0pt;    padding: 3pt 6pt 3pt 6pt; font-weight: normal;\">37 (2.3%)</td><td style=\"vertical-align: top; text-align: right; white-space: normal; border-style: solid solid solid solid; border-width: 0pt 0pt 0pt 0pt;    padding: 3pt 6pt 3pt 6pt; font-weight: normal;\">14 (0.9%)</td><td style=\"vertical-align: top; text-align: right; white-space: normal; border-style: solid solid solid solid; border-width: 0pt 0pt 0pt 0pt;    padding: 3pt 6pt 3pt 6pt; font-weight: normal;\">51 (1.6%)</td></tr>\n",
      "<tr>\n",
      "<td style=\"vertical-align: top; text-align: left; white-space: normal; border-style: solid solid solid solid; border-width: 0pt 0pt 0pt 0pt;    padding: 3pt 6pt 3pt 6pt; font-weight: bold;\">Corneal arcus</td><td style=\"vertical-align: top; text-align: right; white-space: normal; border-style: solid solid solid solid; border-width: 0pt 0pt 0pt 0pt;    padding: 3pt 6pt 3pt 6pt; font-weight: normal;\"></td><td style=\"vertical-align: top; text-align: right; white-space: normal; border-style: solid solid solid solid; border-width: 0pt 0pt 0pt 0pt;    padding: 3pt 6pt 3pt 6pt; font-weight: normal;\"></td><td style=\"vertical-align: top; text-align: right; white-space: normal; border-style: solid solid solid solid; border-width: 0pt 0pt 0pt 0pt;    padding: 3pt 6pt 3pt 6pt; font-weight: normal;\"></td></tr>\n",
      "<tr>\n",
      "<td style=\"vertical-align: top; text-align: left; white-space: normal; border-style: solid solid solid solid; border-width: 0pt 0pt 0pt 0pt;    padding: 3pt 6pt 3pt 15pt; font-weight: normal;\">Present</td><td style=\"vertical-align: top; text-align: right; white-space: normal; border-style: solid solid solid solid; border-width: 0pt 0pt 0pt 0pt;    padding: 3pt 6pt 3pt 6pt; font-weight: normal;\">506 (32%)</td><td style=\"vertical-align: top; text-align: right; white-space: normal; border-style: solid solid solid solid; border-width: 0pt 0pt 0pt 0pt;    padding: 3pt 6pt 3pt 6pt; font-weight: normal;\">435 (28%)</td><td style=\"vertical-align: top; text-align: right; white-space: normal; border-style: solid solid solid solid; border-width: 0pt 0pt 0pt 0pt;    padding: 3pt 6pt 3pt 6pt; font-weight: normal;\">941 (30%)</td></tr>\n",
      "<tr>\n",
      "<td style=\"vertical-align: top; text-align: left; white-space: normal; border-style: solid solid solid solid; border-width: 0pt 0pt 0pt 0pt;    padding: 3pt 6pt 3pt 15pt; font-weight: normal;\">Absent</td><td style=\"vertical-align: top; text-align: right; white-space: normal; border-style: solid solid solid solid; border-width: 0pt 0pt 0pt 0pt;    padding: 3pt 6pt 3pt 6pt; font-weight: normal;\">1,082 (68%)</td><td style=\"vertical-align: top; text-align: right; white-space: normal; border-style: solid solid solid solid; border-width: 0pt 0pt 0pt 0pt;    padding: 3pt 6pt 3pt 6pt; font-weight: normal;\">1,129 (72%)</td><td style=\"vertical-align: top; text-align: right; white-space: normal; border-style: solid solid solid solid; border-width: 0pt 0pt 0pt 0pt;    padding: 3pt 6pt 3pt 6pt; font-weight: normal;\">2,211 (70%)</td></tr>\n",
      "<tr>\n",
      "<td style=\"vertical-align: top; text-align: left; white-space: normal; border-style: solid solid solid solid; border-width: 0pt 0pt 0pt 0pt;    padding: 3pt 6pt 3pt 15pt; font-weight: normal;\">Unknown</td><td style=\"vertical-align: top; text-align: right; white-space: normal; border-style: solid solid solid solid; border-width: 0pt 0pt 0pt 0pt;    padding: 3pt 6pt 3pt 6pt; font-weight: normal;\">1</td><td style=\"vertical-align: top; text-align: right; white-space: normal; border-style: solid solid solid solid; border-width: 0pt 0pt 0pt 0pt;    padding: 3pt 6pt 3pt 6pt; font-weight: normal;\">1</td><td style=\"vertical-align: top; text-align: right; white-space: normal; border-style: solid solid solid solid; border-width: 0pt 0pt 0pt 0pt;    padding: 3pt 6pt 3pt 6pt; font-weight: normal;\">2</td></tr>\n",
      "<tr>\n",
      "<td style=\"vertical-align: top; text-align: left; white-space: normal; border-style: solid solid solid solid; border-width: 0pt 0pt 0pt 0pt;    padding: 3pt 6pt 3pt 6pt; font-weight: bold;\">Smoking status</td><td style=\"vertical-align: top; text-align: right; white-space: normal; border-style: solid solid solid solid; border-width: 0pt 0pt 0pt 0pt;    padding: 3pt 6pt 3pt 6pt; font-weight: normal;\"></td><td style=\"vertical-align: top; text-align: right; white-space: normal; border-style: solid solid solid solid; border-width: 0pt 0pt 0pt 0pt;    padding: 3pt 6pt 3pt 6pt; font-weight: normal;\"></td><td style=\"vertical-align: top; text-align: right; white-space: normal; border-style: solid solid solid solid; border-width: 0pt 0pt 0pt 0pt;    padding: 3pt 6pt 3pt 6pt; font-weight: normal;\"></td></tr>\n",
      "<tr>\n",
      "<td style=\"vertical-align: top; text-align: left; white-space: normal; border-style: solid solid solid solid; border-width: 0pt 0pt 0pt 0pt;    padding: 3pt 6pt 3pt 15pt; font-weight: normal;\">Smoker</td><td style=\"vertical-align: top; text-align: right; white-space: normal; border-style: solid solid solid solid; border-width: 0pt 0pt 0pt 0pt;    padding: 3pt 6pt 3pt 6pt; font-weight: normal;\">805 (51%)</td><td style=\"vertical-align: top; text-align: right; white-space: normal; border-style: solid solid solid solid; border-width: 0pt 0pt 0pt 0pt;    padding: 3pt 6pt 3pt 6pt; font-weight: normal;\">697 (45%)</td><td style=\"vertical-align: top; text-align: right; white-space: normal; border-style: solid solid solid solid; border-width: 0pt 0pt 0pt 0pt;    padding: 3pt 6pt 3pt 6pt; font-weight: normal;\">1,502 (48%)</td></tr>\n",
      "<tr>\n",
      "<td style=\"vertical-align: top; text-align: left; white-space: normal; border-style: solid solid solid solid; border-width: 0pt 0pt 0.8pt 0pt;    padding: 3pt 6pt 3pt 15pt; font-weight: normal;\">Non-Smoker</td><td style=\"vertical-align: top; text-align: right; white-space: normal; border-style: solid solid solid solid; border-width: 0pt 0pt 0.8pt 0pt;    padding: 3pt 6pt 3pt 6pt; font-weight: normal;\">784 (49%)</td><td style=\"vertical-align: top; text-align: right; white-space: normal; border-style: solid solid solid solid; border-width: 0pt 0pt 0.8pt 0pt;    padding: 3pt 6pt 3pt 6pt; font-weight: normal;\">868 (55%)</td><td style=\"vertical-align: top; text-align: right; white-space: normal; border-style: solid solid solid solid; border-width: 0pt 0pt 0.8pt 0pt;    padding: 3pt 6pt 3pt 6pt; font-weight: normal;\">1,652 (52%)</td></tr>\n",
      "<tr>\n",
      "<td colspan=\"4\" style=\"vertical-align: top; text-align: left; white-space: normal; border-style: solid solid solid solid; border-width: 0.8pt 0pt 0pt 0pt;    padding: 6pt 6pt 6pt 6pt; font-weight: normal; font-size: 9pt;\">n (%); Median (IQR)</td></tr>\n",
      "</table>\n"
     ]
    }
   ],
   "source": [
    "#| label: tbl-tab11\n",
    "#| tbl-cap: \"Descriptive statistics of the WCGS dataset by behaviour pattern.\"\n",
    "#| output: asis\n",
    "wcgs |>\n",
    "  select(-c(id, beh_pat, ncigs, time)) |>\n",
    "  mutate(\n",
    "    chd = relevel(chd, ref = \"CHD\"),\n",
    "    arcus = relevel(arcus, ref = \"Present\"),\n",
    "    smoker = relevel(smoker, ref = \"Smoker\")\n",
    "  ) |>\n",
    "  copy_labels(wcgs) |>\n",
    "  cross_tbl(by = \"dib_pat\") |> \n",
    "  add_footnote(\"n (%); Median (IQR)\", font_size = 9) |>\n",
    "  print_html()"
   ]
  },
  {
   "cell_type": "markdown",
   "metadata": {},
   "source": [
    "The WCGS was a cohort study, hence, observational. Some people like to display a column with $p$-values comparing the groups; `cross_tab` can display $p$-values for stratified tables. If displayed, those $p$-values come from univariate analysis."
   ]
  },
  {
   "cell_type": "code",
   "execution_count": 26,
   "metadata": {
    "vscode": {
     "languageId": "r"
    }
   },
   "outputs": [
    {
     "name": "stdout",
     "output_type": "stream",
     "text": [
      "<table class=\"huxtable\" data-quarto-disable-processing=\"true\" style=\"border-collapse: collapse; border: 0px; margin-bottom: 2em; margin-top: 2em; ; margin-left: auto; margin-right: auto;  \">\n",
      "<col><col><col><col><col><tr>\n",
      "<th style=\"vertical-align: top; text-align: center; white-space: normal; border-style: solid solid solid solid; border-width: 0pt 0pt 0pt 0pt;    padding: 3pt 6pt 3pt 6pt; font-weight: normal;\"></th><th colspan=\"2\" style=\"vertical-align: top; text-align: center; white-space: normal; border-style: solid solid solid solid; border-width: 0pt 0pt 0pt 0pt;    padding: 3pt 6pt 3pt 6pt; font-weight: normal;\"><p><strong>Dichotomous behaviour</strong></p>\n",
      "</th><th style=\"vertical-align: top; text-align: center; white-space: normal; border-style: solid solid solid solid; border-width: 0pt 0pt 0pt 0pt;    padding: 3pt 6pt 3pt 6pt; font-weight: normal;\"></th><th style=\"vertical-align: top; text-align: center; white-space: normal; border-style: solid solid solid solid; border-width: 0pt 0pt 0pt 0pt;    padding: 3pt 6pt 3pt 6pt; font-weight: normal;\"></th></tr>\n",
      "<tr>\n",
      "<th style=\"vertical-align: top; text-align: left; white-space: normal; border-style: solid solid solid solid; border-width: 0pt 0pt 0.4pt 0pt;    padding: 3pt 6pt 3pt 6pt; font-weight: normal;\"></th><th style=\"vertical-align: top; text-align: right; white-space: normal; border-style: solid solid solid solid; border-width: 0pt 0pt 0.4pt 0pt;    padding: 3pt 6pt 3pt 6pt; font-weight: normal;\"><p><strong>A</strong>, N = 1,589</p>\n",
      "</th><th style=\"vertical-align: top; text-align: right; white-space: normal; border-style: solid solid solid solid; border-width: 0pt 0pt 0.4pt 0pt;    padding: 3pt 6pt 3pt 6pt; font-weight: normal;\"><p><strong>B</strong>, N = 1,565</p>\n",
      "</th><th style=\"vertical-align: top; text-align: right; white-space: normal; border-style: solid solid solid solid; border-width: 0pt 0pt 0.4pt 0pt;    padding: 3pt 6pt 3pt 6pt; font-weight: normal;\"><p><strong>Overall</strong>, N = 3,154</p>\n",
      "</th><th style=\"vertical-align: top; text-align: right; white-space: normal; border-style: solid solid solid solid; border-width: 0pt 0pt 0.4pt 0pt;    padding: 3pt 6pt 3pt 6pt; font-weight: normal;\"><p><strong>p-value</strong></p>\n",
      "</th></tr>\n",
      "<tr>\n",
      "<td style=\"vertical-align: top; text-align: left; white-space: normal; border-style: solid solid solid solid; border-width: 0.4pt 0pt 0pt 0pt;    padding: 3pt 6pt 3pt 6pt; font-weight: bold;\">Age (years)</td><td style=\"vertical-align: top; text-align: right; white-space: normal; border-style: solid solid solid solid; border-width: 0.4pt 0pt 0pt 0pt;    padding: 3pt 6pt 3pt 6pt; font-weight: normal;\">46 (42, 51)</td><td style=\"vertical-align: top; text-align: right; white-space: normal; border-style: solid solid solid solid; border-width: 0.4pt 0pt 0pt 0pt;    padding: 3pt 6pt 3pt 6pt; font-weight: normal;\">45 (41, 49)</td><td style=\"vertical-align: top; text-align: right; white-space: normal; border-style: solid solid solid solid; border-width: 0.4pt 0pt 0pt 0pt;    padding: 3pt 6pt 3pt 6pt; font-weight: normal;\">45 (42, 50)</td><td style=\"vertical-align: top; text-align: right; white-space: normal; border-style: solid solid solid solid; border-width: 0.4pt 0pt 0pt 0pt;    padding: 3pt 6pt 3pt 6pt; font-weight: normal;\">&lt;0.001</td></tr>\n",
      "<tr>\n",
      "<td style=\"vertical-align: top; text-align: left; white-space: normal; border-style: solid solid solid solid; border-width: 0pt 0pt 0pt 0pt;    padding: 3pt 6pt 3pt 6pt; font-weight: bold;\">Height (cm)</td><td style=\"vertical-align: top; text-align: right; white-space: normal; border-style: solid solid solid solid; border-width: 0pt 0pt 0pt 0pt;    padding: 3pt 6pt 3pt 6pt; font-weight: normal;\">178 (173, 183)</td><td style=\"vertical-align: top; text-align: right; white-space: normal; border-style: solid solid solid solid; border-width: 0pt 0pt 0pt 0pt;    padding: 3pt 6pt 3pt 6pt; font-weight: normal;\">178 (173, 180)</td><td style=\"vertical-align: top; text-align: right; white-space: normal; border-style: solid solid solid solid; border-width: 0pt 0pt 0pt 0pt;    padding: 3pt 6pt 3pt 6pt; font-weight: normal;\">178 (173, 183)</td><td style=\"vertical-align: top; text-align: right; white-space: normal; border-style: solid solid solid solid; border-width: 0pt 0pt 0pt 0pt;    padding: 3pt 6pt 3pt 6pt; font-weight: normal;\">0.036</td></tr>\n",
      "<tr>\n",
      "<td style=\"vertical-align: top; text-align: left; white-space: normal; border-style: solid solid solid solid; border-width: 0pt 0pt 0pt 0pt;    padding: 3pt 6pt 3pt 6pt; font-weight: bold;\">Weight (kg)</td><td style=\"vertical-align: top; text-align: right; white-space: normal; border-style: solid solid solid solid; border-width: 0pt 0pt 0pt 0pt;    padding: 3pt 6pt 3pt 6pt; font-weight: normal;\">77 (72, 83)</td><td style=\"vertical-align: top; text-align: right; white-space: normal; border-style: solid solid solid solid; border-width: 0pt 0pt 0pt 0pt;    padding: 3pt 6pt 3pt 6pt; font-weight: normal;\">76 (70, 82)</td><td style=\"vertical-align: top; text-align: right; white-space: normal; border-style: solid solid solid solid; border-width: 0pt 0pt 0pt 0pt;    padding: 3pt 6pt 3pt 6pt; font-weight: normal;\">77 (70, 83)</td><td style=\"vertical-align: top; text-align: right; white-space: normal; border-style: solid solid solid solid; border-width: 0pt 0pt 0pt 0pt;    padding: 3pt 6pt 3pt 6pt; font-weight: normal;\">0.009</td></tr>\n",
      "<tr>\n",
      "<td style=\"vertical-align: top; text-align: left; white-space: normal; border-style: solid solid solid solid; border-width: 0pt 0pt 0pt 0pt;    padding: 3pt 6pt 3pt 6pt; font-weight: bold;\">SBP (mm Hg)</td><td style=\"vertical-align: top; text-align: right; white-space: normal; border-style: solid solid solid solid; border-width: 0pt 0pt 0pt 0pt;    padding: 3pt 6pt 3pt 6pt; font-weight: normal;\">128 (120, 138)</td><td style=\"vertical-align: top; text-align: right; white-space: normal; border-style: solid solid solid solid; border-width: 0pt 0pt 0pt 0pt;    padding: 3pt 6pt 3pt 6pt; font-weight: normal;\">124 (118, 136)</td><td style=\"vertical-align: top; text-align: right; white-space: normal; border-style: solid solid solid solid; border-width: 0pt 0pt 0pt 0pt;    padding: 3pt 6pt 3pt 6pt; font-weight: normal;\">126 (120, 136)</td><td style=\"vertical-align: top; text-align: right; white-space: normal; border-style: solid solid solid solid; border-width: 0pt 0pt 0pt 0pt;    padding: 3pt 6pt 3pt 6pt; font-weight: normal;\">&lt;0.001</td></tr>\n",
      "<tr>\n",
      "<td style=\"vertical-align: top; text-align: left; white-space: normal; border-style: solid solid solid solid; border-width: 0pt 0pt 0pt 0pt;    padding: 3pt 6pt 3pt 6pt; font-weight: bold;\">DBP (mm Hg)</td><td style=\"vertical-align: top; text-align: right; white-space: normal; border-style: solid solid solid solid; border-width: 0pt 0pt 0pt 0pt;    padding: 3pt 6pt 3pt 6pt; font-weight: normal;\">80 (76, 88)</td><td style=\"vertical-align: top; text-align: right; white-space: normal; border-style: solid solid solid solid; border-width: 0pt 0pt 0pt 0pt;    padding: 3pt 6pt 3pt 6pt; font-weight: normal;\">80 (76, 86)</td><td style=\"vertical-align: top; text-align: right; white-space: normal; border-style: solid solid solid solid; border-width: 0pt 0pt 0pt 0pt;    padding: 3pt 6pt 3pt 6pt; font-weight: normal;\">80 (76, 86)</td><td style=\"vertical-align: top; text-align: right; white-space: normal; border-style: solid solid solid solid; border-width: 0pt 0pt 0pt 0pt;    padding: 3pt 6pt 3pt 6pt; font-weight: normal;\">0.002</td></tr>\n",
      "<tr>\n",
      "<td style=\"vertical-align: top; text-align: left; white-space: normal; border-style: solid solid solid solid; border-width: 0pt 0pt 0pt 0pt;    padding: 3pt 6pt 3pt 6pt; font-weight: bold;\">Cholesterol (mg/dl)</td><td style=\"vertical-align: top; text-align: right; white-space: normal; border-style: solid solid solid solid; border-width: 0pt 0pt 0pt 0pt;    padding: 3pt 6pt 3pt 6pt; font-weight: normal;\">226 (200, 256)</td><td style=\"vertical-align: top; text-align: right; white-space: normal; border-style: solid solid solid solid; border-width: 0pt 0pt 0pt 0pt;    padding: 3pt 6pt 3pt 6pt; font-weight: normal;\">221 (195, 251)</td><td style=\"vertical-align: top; text-align: right; white-space: normal; border-style: solid solid solid solid; border-width: 0pt 0pt 0pt 0pt;    padding: 3pt 6pt 3pt 6pt; font-weight: normal;\">223 (197, 253)</td><td style=\"vertical-align: top; text-align: right; white-space: normal; border-style: solid solid solid solid; border-width: 0pt 0pt 0pt 0pt;    padding: 3pt 6pt 3pt 6pt; font-weight: normal;\">0.003</td></tr>\n",
      "<tr>\n",
      "<td style=\"vertical-align: top; text-align: left; white-space: normal; border-style: solid solid solid solid; border-width: 0pt 0pt 0pt 0pt;    padding: 3pt 6pt 3pt 15pt; font-weight: normal;\">Unknown</td><td style=\"vertical-align: top; text-align: right; white-space: normal; border-style: solid solid solid solid; border-width: 0pt 0pt 0pt 0pt;    padding: 3pt 6pt 3pt 6pt; font-weight: normal;\">5</td><td style=\"vertical-align: top; text-align: right; white-space: normal; border-style: solid solid solid solid; border-width: 0pt 0pt 0pt 0pt;    padding: 3pt 6pt 3pt 6pt; font-weight: normal;\">7</td><td style=\"vertical-align: top; text-align: right; white-space: normal; border-style: solid solid solid solid; border-width: 0pt 0pt 0pt 0pt;    padding: 3pt 6pt 3pt 6pt; font-weight: normal;\">12</td><td style=\"vertical-align: top; text-align: right; white-space: normal; border-style: solid solid solid solid; border-width: 0pt 0pt 0pt 0pt;    padding: 3pt 6pt 3pt 6pt; font-weight: normal;\"></td></tr>\n",
      "<tr>\n",
      "<td style=\"vertical-align: top; text-align: left; white-space: normal; border-style: solid solid solid solid; border-width: 0pt 0pt 0pt 0pt;    padding: 3pt 6pt 3pt 6pt; font-weight: bold;\">Coronary Heart Disease</td><td style=\"vertical-align: top; text-align: right; white-space: normal; border-style: solid solid solid solid; border-width: 0pt 0pt 0pt 0pt;    padding: 3pt 6pt 3pt 6pt; font-weight: normal;\"></td><td style=\"vertical-align: top; text-align: right; white-space: normal; border-style: solid solid solid solid; border-width: 0pt 0pt 0pt 0pt;    padding: 3pt 6pt 3pt 6pt; font-weight: normal;\"></td><td style=\"vertical-align: top; text-align: right; white-space: normal; border-style: solid solid solid solid; border-width: 0pt 0pt 0pt 0pt;    padding: 3pt 6pt 3pt 6pt; font-weight: normal;\"></td><td style=\"vertical-align: top; text-align: right; white-space: normal; border-style: solid solid solid solid; border-width: 0pt 0pt 0pt 0pt;    padding: 3pt 6pt 3pt 6pt; font-weight: normal;\">&lt;0.001</td></tr>\n",
      "<tr>\n",
      "<td style=\"vertical-align: top; text-align: left; white-space: normal; border-style: solid solid solid solid; border-width: 0pt 0pt 0pt 0pt;    padding: 3pt 6pt 3pt 15pt; font-weight: normal;\">CHD</td><td style=\"vertical-align: top; text-align: right; white-space: normal; border-style: solid solid solid solid; border-width: 0pt 0pt 0pt 0pt;    padding: 3pt 6pt 3pt 6pt; font-weight: normal;\">178 (11%)</td><td style=\"vertical-align: top; text-align: right; white-space: normal; border-style: solid solid solid solid; border-width: 0pt 0pt 0pt 0pt;    padding: 3pt 6pt 3pt 6pt; font-weight: normal;\">79 (5.0%)</td><td style=\"vertical-align: top; text-align: right; white-space: normal; border-style: solid solid solid solid; border-width: 0pt 0pt 0pt 0pt;    padding: 3pt 6pt 3pt 6pt; font-weight: normal;\">257 (8.1%)</td><td style=\"vertical-align: top; text-align: right; white-space: normal; border-style: solid solid solid solid; border-width: 0pt 0pt 0pt 0pt;    padding: 3pt 6pt 3pt 6pt; font-weight: normal;\"></td></tr>\n",
      "<tr>\n",
      "<td style=\"vertical-align: top; text-align: left; white-space: normal; border-style: solid solid solid solid; border-width: 0pt 0pt 0pt 0pt;    padding: 3pt 6pt 3pt 15pt; font-weight: normal;\">No CHD</td><td style=\"vertical-align: top; text-align: right; white-space: normal; border-style: solid solid solid solid; border-width: 0pt 0pt 0pt 0pt;    padding: 3pt 6pt 3pt 6pt; font-weight: normal;\">1,411 (89%)</td><td style=\"vertical-align: top; text-align: right; white-space: normal; border-style: solid solid solid solid; border-width: 0pt 0pt 0pt 0pt;    padding: 3pt 6pt 3pt 6pt; font-weight: normal;\">1,486 (95%)</td><td style=\"vertical-align: top; text-align: right; white-space: normal; border-style: solid solid solid solid; border-width: 0pt 0pt 0pt 0pt;    padding: 3pt 6pt 3pt 6pt; font-weight: normal;\">2,897 (92%)</td><td style=\"vertical-align: top; text-align: right; white-space: normal; border-style: solid solid solid solid; border-width: 0pt 0pt 0pt 0pt;    padding: 3pt 6pt 3pt 6pt; font-weight: normal;\"></td></tr>\n",
      "<tr>\n",
      "<td style=\"vertical-align: top; text-align: left; white-space: normal; border-style: solid solid solid solid; border-width: 0pt 0pt 0pt 0pt;    padding: 3pt 6pt 3pt 6pt; font-weight: bold;\">Type of CHD</td><td style=\"vertical-align: top; text-align: right; white-space: normal; border-style: solid solid solid solid; border-width: 0pt 0pt 0pt 0pt;    padding: 3pt 6pt 3pt 6pt; font-weight: normal;\"></td><td style=\"vertical-align: top; text-align: right; white-space: normal; border-style: solid solid solid solid; border-width: 0pt 0pt 0pt 0pt;    padding: 3pt 6pt 3pt 6pt; font-weight: normal;\"></td><td style=\"vertical-align: top; text-align: right; white-space: normal; border-style: solid solid solid solid; border-width: 0pt 0pt 0pt 0pt;    padding: 3pt 6pt 3pt 6pt; font-weight: normal;\"></td><td style=\"vertical-align: top; text-align: right; white-space: normal; border-style: solid solid solid solid; border-width: 0pt 0pt 0pt 0pt;    padding: 3pt 6pt 3pt 6pt; font-weight: normal;\">&lt;0.001</td></tr>\n",
      "<tr>\n",
      "<td style=\"vertical-align: top; text-align: left; white-space: normal; border-style: solid solid solid solid; border-width: 0pt 0pt 0pt 0pt;    padding: 3pt 6pt 3pt 15pt; font-weight: normal;\">No CHD</td><td style=\"vertical-align: top; text-align: right; white-space: normal; border-style: solid solid solid solid; border-width: 0pt 0pt 0pt 0pt;    padding: 3pt 6pt 3pt 6pt; font-weight: normal;\">1,411 (89%)</td><td style=\"vertical-align: top; text-align: right; white-space: normal; border-style: solid solid solid solid; border-width: 0pt 0pt 0pt 0pt;    padding: 3pt 6pt 3pt 6pt; font-weight: normal;\">1,486 (95%)</td><td style=\"vertical-align: top; text-align: right; white-space: normal; border-style: solid solid solid solid; border-width: 0pt 0pt 0pt 0pt;    padding: 3pt 6pt 3pt 6pt; font-weight: normal;\">2,897 (92%)</td><td style=\"vertical-align: top; text-align: right; white-space: normal; border-style: solid solid solid solid; border-width: 0pt 0pt 0pt 0pt;    padding: 3pt 6pt 3pt 6pt; font-weight: normal;\"></td></tr>\n",
      "<tr>\n",
      "<td style=\"vertical-align: top; text-align: left; white-space: normal; border-style: solid solid solid solid; border-width: 0pt 0pt 0pt 0pt;    padding: 3pt 6pt 3pt 15pt; font-weight: normal;\">MI or SD</td><td style=\"vertical-align: top; text-align: right; white-space: normal; border-style: solid solid solid solid; border-width: 0pt 0pt 0pt 0pt;    padding: 3pt 6pt 3pt 6pt; font-weight: normal;\">93 (5.9%)</td><td style=\"vertical-align: top; text-align: right; white-space: normal; border-style: solid solid solid solid; border-width: 0pt 0pt 0pt 0pt;    padding: 3pt 6pt 3pt 6pt; font-weight: normal;\">42 (2.7%)</td><td style=\"vertical-align: top; text-align: right; white-space: normal; border-style: solid solid solid solid; border-width: 0pt 0pt 0pt 0pt;    padding: 3pt 6pt 3pt 6pt; font-weight: normal;\">135 (4.3%)</td><td style=\"vertical-align: top; text-align: right; white-space: normal; border-style: solid solid solid solid; border-width: 0pt 0pt 0pt 0pt;    padding: 3pt 6pt 3pt 6pt; font-weight: normal;\"></td></tr>\n",
      "<tr>\n",
      "<td style=\"vertical-align: top; text-align: left; white-space: normal; border-style: solid solid solid solid; border-width: 0pt 0pt 0pt 0pt;    padding: 3pt 6pt 3pt 15pt; font-weight: normal;\">Angina</td><td style=\"vertical-align: top; text-align: right; white-space: normal; border-style: solid solid solid solid; border-width: 0pt 0pt 0pt 0pt;    padding: 3pt 6pt 3pt 6pt; font-weight: normal;\">48 (3.0%)</td><td style=\"vertical-align: top; text-align: right; white-space: normal; border-style: solid solid solid solid; border-width: 0pt 0pt 0pt 0pt;    padding: 3pt 6pt 3pt 6pt; font-weight: normal;\">23 (1.5%)</td><td style=\"vertical-align: top; text-align: right; white-space: normal; border-style: solid solid solid solid; border-width: 0pt 0pt 0pt 0pt;    padding: 3pt 6pt 3pt 6pt; font-weight: normal;\">71 (2.3%)</td><td style=\"vertical-align: top; text-align: right; white-space: normal; border-style: solid solid solid solid; border-width: 0pt 0pt 0pt 0pt;    padding: 3pt 6pt 3pt 6pt; font-weight: normal;\"></td></tr>\n",
      "<tr>\n",
      "<td style=\"vertical-align: top; text-align: left; white-space: normal; border-style: solid solid solid solid; border-width: 0pt 0pt 0pt 0pt;    padding: 3pt 6pt 3pt 15pt; font-weight: normal;\">Silent MI</td><td style=\"vertical-align: top; text-align: right; white-space: normal; border-style: solid solid solid solid; border-width: 0pt 0pt 0pt 0pt;    padding: 3pt 6pt 3pt 6pt; font-weight: normal;\">37 (2.3%)</td><td style=\"vertical-align: top; text-align: right; white-space: normal; border-style: solid solid solid solid; border-width: 0pt 0pt 0pt 0pt;    padding: 3pt 6pt 3pt 6pt; font-weight: normal;\">14 (0.9%)</td><td style=\"vertical-align: top; text-align: right; white-space: normal; border-style: solid solid solid solid; border-width: 0pt 0pt 0pt 0pt;    padding: 3pt 6pt 3pt 6pt; font-weight: normal;\">51 (1.6%)</td><td style=\"vertical-align: top; text-align: right; white-space: normal; border-style: solid solid solid solid; border-width: 0pt 0pt 0pt 0pt;    padding: 3pt 6pt 3pt 6pt; font-weight: normal;\"></td></tr>\n",
      "<tr>\n",
      "<td style=\"vertical-align: top; text-align: left; white-space: normal; border-style: solid solid solid solid; border-width: 0pt 0pt 0pt 0pt;    padding: 3pt 6pt 3pt 6pt; font-weight: bold;\">Corneal arcus</td><td style=\"vertical-align: top; text-align: right; white-space: normal; border-style: solid solid solid solid; border-width: 0pt 0pt 0pt 0pt;    padding: 3pt 6pt 3pt 6pt; font-weight: normal;\"></td><td style=\"vertical-align: top; text-align: right; white-space: normal; border-style: solid solid solid solid; border-width: 0pt 0pt 0pt 0pt;    padding: 3pt 6pt 3pt 6pt; font-weight: normal;\"></td><td style=\"vertical-align: top; text-align: right; white-space: normal; border-style: solid solid solid solid; border-width: 0pt 0pt 0pt 0pt;    padding: 3pt 6pt 3pt 6pt; font-weight: normal;\"></td><td style=\"vertical-align: top; text-align: right; white-space: normal; border-style: solid solid solid solid; border-width: 0pt 0pt 0pt 0pt;    padding: 3pt 6pt 3pt 6pt; font-weight: normal;\">0.013</td></tr>\n",
      "<tr>\n",
      "<td style=\"vertical-align: top; text-align: left; white-space: normal; border-style: solid solid solid solid; border-width: 0pt 0pt 0pt 0pt;    padding: 3pt 6pt 3pt 15pt; font-weight: normal;\">Present</td><td style=\"vertical-align: top; text-align: right; white-space: normal; border-style: solid solid solid solid; border-width: 0pt 0pt 0pt 0pt;    padding: 3pt 6pt 3pt 6pt; font-weight: normal;\">506 (32%)</td><td style=\"vertical-align: top; text-align: right; white-space: normal; border-style: solid solid solid solid; border-width: 0pt 0pt 0pt 0pt;    padding: 3pt 6pt 3pt 6pt; font-weight: normal;\">435 (28%)</td><td style=\"vertical-align: top; text-align: right; white-space: normal; border-style: solid solid solid solid; border-width: 0pt 0pt 0pt 0pt;    padding: 3pt 6pt 3pt 6pt; font-weight: normal;\">941 (30%)</td><td style=\"vertical-align: top; text-align: right; white-space: normal; border-style: solid solid solid solid; border-width: 0pt 0pt 0pt 0pt;    padding: 3pt 6pt 3pt 6pt; font-weight: normal;\"></td></tr>\n",
      "<tr>\n",
      "<td style=\"vertical-align: top; text-align: left; white-space: normal; border-style: solid solid solid solid; border-width: 0pt 0pt 0pt 0pt;    padding: 3pt 6pt 3pt 15pt; font-weight: normal;\">Absent</td><td style=\"vertical-align: top; text-align: right; white-space: normal; border-style: solid solid solid solid; border-width: 0pt 0pt 0pt 0pt;    padding: 3pt 6pt 3pt 6pt; font-weight: normal;\">1,082 (68%)</td><td style=\"vertical-align: top; text-align: right; white-space: normal; border-style: solid solid solid solid; border-width: 0pt 0pt 0pt 0pt;    padding: 3pt 6pt 3pt 6pt; font-weight: normal;\">1,129 (72%)</td><td style=\"vertical-align: top; text-align: right; white-space: normal; border-style: solid solid solid solid; border-width: 0pt 0pt 0pt 0pt;    padding: 3pt 6pt 3pt 6pt; font-weight: normal;\">2,211 (70%)</td><td style=\"vertical-align: top; text-align: right; white-space: normal; border-style: solid solid solid solid; border-width: 0pt 0pt 0pt 0pt;    padding: 3pt 6pt 3pt 6pt; font-weight: normal;\"></td></tr>\n",
      "<tr>\n",
      "<td style=\"vertical-align: top; text-align: left; white-space: normal; border-style: solid solid solid solid; border-width: 0pt 0pt 0pt 0pt;    padding: 3pt 6pt 3pt 15pt; font-weight: normal;\">Unknown</td><td style=\"vertical-align: top; text-align: right; white-space: normal; border-style: solid solid solid solid; border-width: 0pt 0pt 0pt 0pt;    padding: 3pt 6pt 3pt 6pt; font-weight: normal;\">1</td><td style=\"vertical-align: top; text-align: right; white-space: normal; border-style: solid solid solid solid; border-width: 0pt 0pt 0pt 0pt;    padding: 3pt 6pt 3pt 6pt; font-weight: normal;\">1</td><td style=\"vertical-align: top; text-align: right; white-space: normal; border-style: solid solid solid solid; border-width: 0pt 0pt 0pt 0pt;    padding: 3pt 6pt 3pt 6pt; font-weight: normal;\">2</td><td style=\"vertical-align: top; text-align: right; white-space: normal; border-style: solid solid solid solid; border-width: 0pt 0pt 0pt 0pt;    padding: 3pt 6pt 3pt 6pt; font-weight: normal;\"></td></tr>\n",
      "<tr>\n",
      "<td style=\"vertical-align: top; text-align: left; white-space: normal; border-style: solid solid solid solid; border-width: 0pt 0pt 0pt 0pt;    padding: 3pt 6pt 3pt 6pt; font-weight: bold;\">Smoking status</td><td style=\"vertical-align: top; text-align: right; white-space: normal; border-style: solid solid solid solid; border-width: 0pt 0pt 0pt 0pt;    padding: 3pt 6pt 3pt 6pt; font-weight: normal;\"></td><td style=\"vertical-align: top; text-align: right; white-space: normal; border-style: solid solid solid solid; border-width: 0pt 0pt 0pt 0pt;    padding: 3pt 6pt 3pt 6pt; font-weight: normal;\"></td><td style=\"vertical-align: top; text-align: right; white-space: normal; border-style: solid solid solid solid; border-width: 0pt 0pt 0pt 0pt;    padding: 3pt 6pt 3pt 6pt; font-weight: normal;\"></td><td style=\"vertical-align: top; text-align: right; white-space: normal; border-style: solid solid solid solid; border-width: 0pt 0pt 0pt 0pt;    padding: 3pt 6pt 3pt 6pt; font-weight: normal;\">&lt;0.001</td></tr>\n",
      "<tr>\n",
      "<td style=\"vertical-align: top; text-align: left; white-space: normal; border-style: solid solid solid solid; border-width: 0pt 0pt 0pt 0pt;    padding: 3pt 6pt 3pt 15pt; font-weight: normal;\">Smoker</td><td style=\"vertical-align: top; text-align: right; white-space: normal; border-style: solid solid solid solid; border-width: 0pt 0pt 0pt 0pt;    padding: 3pt 6pt 3pt 6pt; font-weight: normal;\">805 (51%)</td><td style=\"vertical-align: top; text-align: right; white-space: normal; border-style: solid solid solid solid; border-width: 0pt 0pt 0pt 0pt;    padding: 3pt 6pt 3pt 6pt; font-weight: normal;\">697 (45%)</td><td style=\"vertical-align: top; text-align: right; white-space: normal; border-style: solid solid solid solid; border-width: 0pt 0pt 0pt 0pt;    padding: 3pt 6pt 3pt 6pt; font-weight: normal;\">1,502 (48%)</td><td style=\"vertical-align: top; text-align: right; white-space: normal; border-style: solid solid solid solid; border-width: 0pt 0pt 0pt 0pt;    padding: 3pt 6pt 3pt 6pt; font-weight: normal;\"></td></tr>\n",
      "<tr>\n",
      "<td style=\"vertical-align: top; text-align: left; white-space: normal; border-style: solid solid solid solid; border-width: 0pt 0pt 0.8pt 0pt;    padding: 3pt 6pt 3pt 15pt; font-weight: normal;\">Non-Smoker</td><td style=\"vertical-align: top; text-align: right; white-space: normal; border-style: solid solid solid solid; border-width: 0pt 0pt 0.8pt 0pt;    padding: 3pt 6pt 3pt 6pt; font-weight: normal;\">784 (49%)</td><td style=\"vertical-align: top; text-align: right; white-space: normal; border-style: solid solid solid solid; border-width: 0pt 0pt 0.8pt 0pt;    padding: 3pt 6pt 3pt 6pt; font-weight: normal;\">868 (55%)</td><td style=\"vertical-align: top; text-align: right; white-space: normal; border-style: solid solid solid solid; border-width: 0pt 0pt 0.8pt 0pt;    padding: 3pt 6pt 3pt 6pt; font-weight: normal;\">1,652 (52%)</td><td style=\"vertical-align: top; text-align: right; white-space: normal; border-style: solid solid solid solid; border-width: 0pt 0pt 0.8pt 0pt;    padding: 3pt 6pt 3pt 6pt; font-weight: normal;\"></td></tr>\n",
      "<tr>\n",
      "<td colspan=\"5\" style=\"vertical-align: top; text-align: left; white-space: normal; border-style: solid solid solid solid; border-width: 0.8pt 0pt 0.8pt 0pt;    padding: 3pt 6pt 3pt 6pt; font-weight: normal;\">Wilcoxon rank sum test; Pearson's Chi-squared test</td></tr>\n",
      "<tr>\n",
      "<td colspan=\"5\" style=\"vertical-align: top; text-align: left; white-space: normal; border-style: solid solid solid solid; border-width: 0.8pt 0pt 0pt 0pt;    padding: 6pt 6pt 6pt 6pt; font-weight: normal; font-size: 9pt;\">n(%); Median (IQR);</td></tr>\n",
      "</table>\n"
     ]
    }
   ],
   "source": [
    "#| label: tbl-tab12\n",
    "#| tbl-cap: \"Descriptive statistics of the WCGS dataset by behaviour pattern.\"\n",
    "#| output: asis\n",
    "wcgs |>\n",
    "  select(-c(id, beh_pat, ncigs, time)) |>\n",
    "  mutate(\n",
    "    chd = relevel(chd, ref = \"CHD\"),\n",
    "    arcus = relevel(arcus, ref = \"Present\"),\n",
    "    smoker = relevel(smoker, ref = \"Smoker\")\n",
    "  ) |>\n",
    "  copy_labels(wcgs) |>\n",
    "  cross_tbl(by = \"dib_pat\", p_val = TRUE) |>  \n",
    "  add_footnote(\"n(%); Median (IQR);\",font_size = 9) |>\n",
    "  print_html()"
   ]
  },
  {
   "cell_type": "markdown",
   "metadata": {},
   "source": [
    "In all tables before, for continues variables, `cross_tbl` reports by default median and IQR. By including the argument `method = 1`, `cross_tbl` would report mean and standard deviations."
   ]
  },
  {
   "cell_type": "code",
   "execution_count": 27,
   "metadata": {
    "scrolled": true,
    "vscode": {
     "languageId": "r"
    }
   },
   "outputs": [
    {
     "name": "stdout",
     "output_type": "stream",
     "text": [
      "<table class=\"huxtable\" data-quarto-disable-processing=\"true\" style=\"border-collapse: collapse; border: 0px; margin-bottom: 2em; margin-top: 2em; width: 90%; margin-left: auto; margin-right: auto;  \">\n",
      "<col><col><col><col><tr>\n",
      "<th style=\"vertical-align: top; text-align: center; white-space: normal; border-style: solid solid solid solid; border-width: 0pt 0pt 0pt 0pt;    padding: 3pt 6pt 3pt 6pt; font-weight: normal;\"></th><th colspan=\"2\" style=\"vertical-align: top; text-align: center; white-space: normal; border-style: solid solid solid solid; border-width: 0pt 0pt 0pt 0pt;    padding: 3pt 6pt 3pt 6pt; font-weight: normal;\"><p><strong>Dichotomous behaviour</strong></p>\n",
      "</th><th style=\"vertical-align: top; text-align: center; white-space: normal; border-style: solid solid solid solid; border-width: 0pt 0pt 0pt 0pt;    padding: 3pt 6pt 3pt 6pt; font-weight: normal;\"></th></tr>\n",
      "<tr>\n",
      "<th style=\"vertical-align: top; text-align: left; white-space: normal; border-style: solid solid solid solid; border-width: 0pt 0pt 0.4pt 0pt;    padding: 3pt 6pt 3pt 6pt; font-weight: normal;\"></th><th style=\"vertical-align: top; text-align: right; white-space: normal; border-style: solid solid solid solid; border-width: 0pt 0pt 0.4pt 0pt;    padding: 3pt 6pt 3pt 6pt; font-weight: normal;\"><p><strong>A</strong>, N = 1,589</p>\n",
      "</th><th style=\"vertical-align: top; text-align: right; white-space: normal; border-style: solid solid solid solid; border-width: 0pt 0pt 0.4pt 0pt;    padding: 3pt 6pt 3pt 6pt; font-weight: normal;\"><p><strong>B</strong>, N = 1,565</p>\n",
      "</th><th style=\"vertical-align: top; text-align: right; white-space: normal; border-style: solid solid solid solid; border-width: 0pt 0pt 0.4pt 0pt;    padding: 3pt 6pt 3pt 6pt; font-weight: normal;\"><p><strong>Overall</strong>, N = 3,154</p>\n",
      "</th></tr>\n",
      "<tr>\n",
      "<td style=\"vertical-align: top; text-align: left; white-space: normal; border-style: solid solid solid solid; border-width: 0.4pt 0pt 0pt 0pt;    padding: 3pt 6pt 3pt 6pt; font-weight: bold;\">Age (years)</td><td style=\"vertical-align: top; text-align: right; white-space: normal; border-style: solid solid solid solid; border-width: 0.4pt 0pt 0pt 0pt;    padding: 3pt 6pt 3pt 6pt; font-weight: normal;\">47 (6)</td><td style=\"vertical-align: top; text-align: right; white-space: normal; border-style: solid solid solid solid; border-width: 0.4pt 0pt 0pt 0pt;    padding: 3pt 6pt 3pt 6pt; font-weight: normal;\">46 (5)</td><td style=\"vertical-align: top; text-align: right; white-space: normal; border-style: solid solid solid solid; border-width: 0.4pt 0pt 0pt 0pt;    padding: 3pt 6pt 3pt 6pt; font-weight: normal;\">46 (6)</td></tr>\n",
      "<tr>\n",
      "<td style=\"vertical-align: top; text-align: left; white-space: normal; border-style: solid solid solid solid; border-width: 0pt 0pt 0pt 0pt;    padding: 3pt 6pt 3pt 6pt; font-weight: bold;\">Height (cm)</td><td style=\"vertical-align: top; text-align: right; white-space: normal; border-style: solid solid solid solid; border-width: 0pt 0pt 0pt 0pt;    padding: 3pt 6pt 3pt 6pt; font-weight: normal;\">177 (7)</td><td style=\"vertical-align: top; text-align: right; white-space: normal; border-style: solid solid solid solid; border-width: 0pt 0pt 0pt 0pt;    padding: 3pt 6pt 3pt 6pt; font-weight: normal;\">177 (6)</td><td style=\"vertical-align: top; text-align: right; white-space: normal; border-style: solid solid solid solid; border-width: 0pt 0pt 0pt 0pt;    padding: 3pt 6pt 3pt 6pt; font-weight: normal;\">177 (6)</td></tr>\n",
      "<tr>\n",
      "<td style=\"vertical-align: top; text-align: left; white-space: normal; border-style: solid solid solid solid; border-width: 0pt 0pt 0pt 0pt;    padding: 3pt 6pt 3pt 6pt; font-weight: bold;\">Weight (kg)</td><td style=\"vertical-align: top; text-align: right; white-space: normal; border-style: solid solid solid solid; border-width: 0pt 0pt 0pt 0pt;    padding: 3pt 6pt 3pt 6pt; font-weight: normal;\">77 (10)</td><td style=\"vertical-align: top; text-align: right; white-space: normal; border-style: solid solid solid solid; border-width: 0pt 0pt 0pt 0pt;    padding: 3pt 6pt 3pt 6pt; font-weight: normal;\">77 (9)</td><td style=\"vertical-align: top; text-align: right; white-space: normal; border-style: solid solid solid solid; border-width: 0pt 0pt 0pt 0pt;    padding: 3pt 6pt 3pt 6pt; font-weight: normal;\">77 (10)</td></tr>\n",
      "<tr>\n",
      "<td style=\"vertical-align: top; text-align: left; white-space: normal; border-style: solid solid solid solid; border-width: 0pt 0pt 0pt 0pt;    padding: 3pt 6pt 3pt 6pt; font-weight: bold;\">SBP (mm Hg)</td><td style=\"vertical-align: top; text-align: right; white-space: normal; border-style: solid solid solid solid; border-width: 0pt 0pt 0pt 0pt;    padding: 3pt 6pt 3pt 6pt; font-weight: normal;\">130 (16)</td><td style=\"vertical-align: top; text-align: right; white-space: normal; border-style: solid solid solid solid; border-width: 0pt 0pt 0pt 0pt;    padding: 3pt 6pt 3pt 6pt; font-weight: normal;\">127 (14)</td><td style=\"vertical-align: top; text-align: right; white-space: normal; border-style: solid solid solid solid; border-width: 0pt 0pt 0pt 0pt;    padding: 3pt 6pt 3pt 6pt; font-weight: normal;\">129 (15)</td></tr>\n",
      "<tr>\n",
      "<td style=\"vertical-align: top; text-align: left; white-space: normal; border-style: solid solid solid solid; border-width: 0pt 0pt 0pt 0pt;    padding: 3pt 6pt 3pt 6pt; font-weight: bold;\">DBP (mm Hg)</td><td style=\"vertical-align: top; text-align: right; white-space: normal; border-style: solid solid solid solid; border-width: 0pt 0pt 0pt 0pt;    padding: 3pt 6pt 3pt 6pt; font-weight: normal;\">83 (10)</td><td style=\"vertical-align: top; text-align: right; white-space: normal; border-style: solid solid solid solid; border-width: 0pt 0pt 0pt 0pt;    padding: 3pt 6pt 3pt 6pt; font-weight: normal;\">81 (9)</td><td style=\"vertical-align: top; text-align: right; white-space: normal; border-style: solid solid solid solid; border-width: 0pt 0pt 0pt 0pt;    padding: 3pt 6pt 3pt 6pt; font-weight: normal;\">82 (10)</td></tr>\n",
      "<tr>\n",
      "<td style=\"vertical-align: top; text-align: left; white-space: normal; border-style: solid solid solid solid; border-width: 0pt 0pt 0pt 0pt;    padding: 3pt 6pt 3pt 6pt; font-weight: bold;\">Cholesterol (mg/dl)</td><td style=\"vertical-align: top; text-align: right; white-space: normal; border-style: solid solid solid solid; border-width: 0pt 0pt 0pt 0pt;    padding: 3pt 6pt 3pt 6pt; font-weight: normal;\">229 (44)</td><td style=\"vertical-align: top; text-align: right; white-space: normal; border-style: solid solid solid solid; border-width: 0pt 0pt 0pt 0pt;    padding: 3pt 6pt 3pt 6pt; font-weight: normal;\">224 (42)</td><td style=\"vertical-align: top; text-align: right; white-space: normal; border-style: solid solid solid solid; border-width: 0pt 0pt 0pt 0pt;    padding: 3pt 6pt 3pt 6pt; font-weight: normal;\">226 (43)</td></tr>\n",
      "<tr>\n",
      "<td style=\"vertical-align: top; text-align: left; white-space: normal; border-style: solid solid solid solid; border-width: 0pt 0pt 0pt 0pt;    padding: 3pt 6pt 3pt 15pt; font-weight: normal;\">Unknown</td><td style=\"vertical-align: top; text-align: right; white-space: normal; border-style: solid solid solid solid; border-width: 0pt 0pt 0pt 0pt;    padding: 3pt 6pt 3pt 6pt; font-weight: normal;\">5</td><td style=\"vertical-align: top; text-align: right; white-space: normal; border-style: solid solid solid solid; border-width: 0pt 0pt 0pt 0pt;    padding: 3pt 6pt 3pt 6pt; font-weight: normal;\">7</td><td style=\"vertical-align: top; text-align: right; white-space: normal; border-style: solid solid solid solid; border-width: 0pt 0pt 0pt 0pt;    padding: 3pt 6pt 3pt 6pt; font-weight: normal;\">12</td></tr>\n",
      "<tr>\n",
      "<td style=\"vertical-align: top; text-align: left; white-space: normal; border-style: solid solid solid solid; border-width: 0pt 0pt 0pt 0pt;    padding: 3pt 6pt 3pt 6pt; font-weight: bold;\">Coronary Heart Disease</td><td style=\"vertical-align: top; text-align: right; white-space: normal; border-style: solid solid solid solid; border-width: 0pt 0pt 0pt 0pt;    padding: 3pt 6pt 3pt 6pt; font-weight: normal;\"></td><td style=\"vertical-align: top; text-align: right; white-space: normal; border-style: solid solid solid solid; border-width: 0pt 0pt 0pt 0pt;    padding: 3pt 6pt 3pt 6pt; font-weight: normal;\"></td><td style=\"vertical-align: top; text-align: right; white-space: normal; border-style: solid solid solid solid; border-width: 0pt 0pt 0pt 0pt;    padding: 3pt 6pt 3pt 6pt; font-weight: normal;\"></td></tr>\n",
      "<tr>\n",
      "<td style=\"vertical-align: top; text-align: left; white-space: normal; border-style: solid solid solid solid; border-width: 0pt 0pt 0pt 0pt;    padding: 3pt 6pt 3pt 15pt; font-weight: normal;\">CHD</td><td style=\"vertical-align: top; text-align: right; white-space: normal; border-style: solid solid solid solid; border-width: 0pt 0pt 0pt 0pt;    padding: 3pt 6pt 3pt 6pt; font-weight: normal;\">178 (11%)</td><td style=\"vertical-align: top; text-align: right; white-space: normal; border-style: solid solid solid solid; border-width: 0pt 0pt 0pt 0pt;    padding: 3pt 6pt 3pt 6pt; font-weight: normal;\">79 (5.0%)</td><td style=\"vertical-align: top; text-align: right; white-space: normal; border-style: solid solid solid solid; border-width: 0pt 0pt 0pt 0pt;    padding: 3pt 6pt 3pt 6pt; font-weight: normal;\">257 (8.1%)</td></tr>\n",
      "<tr>\n",
      "<td style=\"vertical-align: top; text-align: left; white-space: normal; border-style: solid solid solid solid; border-width: 0pt 0pt 0pt 0pt;    padding: 3pt 6pt 3pt 15pt; font-weight: normal;\">No CHD</td><td style=\"vertical-align: top; text-align: right; white-space: normal; border-style: solid solid solid solid; border-width: 0pt 0pt 0pt 0pt;    padding: 3pt 6pt 3pt 6pt; font-weight: normal;\">1,411 (89%)</td><td style=\"vertical-align: top; text-align: right; white-space: normal; border-style: solid solid solid solid; border-width: 0pt 0pt 0pt 0pt;    padding: 3pt 6pt 3pt 6pt; font-weight: normal;\">1,486 (95%)</td><td style=\"vertical-align: top; text-align: right; white-space: normal; border-style: solid solid solid solid; border-width: 0pt 0pt 0pt 0pt;    padding: 3pt 6pt 3pt 6pt; font-weight: normal;\">2,897 (92%)</td></tr>\n",
      "<tr>\n",
      "<td style=\"vertical-align: top; text-align: left; white-space: normal; border-style: solid solid solid solid; border-width: 0pt 0pt 0pt 0pt;    padding: 3pt 6pt 3pt 6pt; font-weight: bold;\">Type of CHD</td><td style=\"vertical-align: top; text-align: right; white-space: normal; border-style: solid solid solid solid; border-width: 0pt 0pt 0pt 0pt;    padding: 3pt 6pt 3pt 6pt; font-weight: normal;\"></td><td style=\"vertical-align: top; text-align: right; white-space: normal; border-style: solid solid solid solid; border-width: 0pt 0pt 0pt 0pt;    padding: 3pt 6pt 3pt 6pt; font-weight: normal;\"></td><td style=\"vertical-align: top; text-align: right; white-space: normal; border-style: solid solid solid solid; border-width: 0pt 0pt 0pt 0pt;    padding: 3pt 6pt 3pt 6pt; font-weight: normal;\"></td></tr>\n",
      "<tr>\n",
      "<td style=\"vertical-align: top; text-align: left; white-space: normal; border-style: solid solid solid solid; border-width: 0pt 0pt 0pt 0pt;    padding: 3pt 6pt 3pt 15pt; font-weight: normal;\">No CHD</td><td style=\"vertical-align: top; text-align: right; white-space: normal; border-style: solid solid solid solid; border-width: 0pt 0pt 0pt 0pt;    padding: 3pt 6pt 3pt 6pt; font-weight: normal;\">1,411 (89%)</td><td style=\"vertical-align: top; text-align: right; white-space: normal; border-style: solid solid solid solid; border-width: 0pt 0pt 0pt 0pt;    padding: 3pt 6pt 3pt 6pt; font-weight: normal;\">1,486 (95%)</td><td style=\"vertical-align: top; text-align: right; white-space: normal; border-style: solid solid solid solid; border-width: 0pt 0pt 0pt 0pt;    padding: 3pt 6pt 3pt 6pt; font-weight: normal;\">2,897 (92%)</td></tr>\n",
      "<tr>\n",
      "<td style=\"vertical-align: top; text-align: left; white-space: normal; border-style: solid solid solid solid; border-width: 0pt 0pt 0pt 0pt;    padding: 3pt 6pt 3pt 15pt; font-weight: normal;\">MI or SD</td><td style=\"vertical-align: top; text-align: right; white-space: normal; border-style: solid solid solid solid; border-width: 0pt 0pt 0pt 0pt;    padding: 3pt 6pt 3pt 6pt; font-weight: normal;\">93 (5.9%)</td><td style=\"vertical-align: top; text-align: right; white-space: normal; border-style: solid solid solid solid; border-width: 0pt 0pt 0pt 0pt;    padding: 3pt 6pt 3pt 6pt; font-weight: normal;\">42 (2.7%)</td><td style=\"vertical-align: top; text-align: right; white-space: normal; border-style: solid solid solid solid; border-width: 0pt 0pt 0pt 0pt;    padding: 3pt 6pt 3pt 6pt; font-weight: normal;\">135 (4.3%)</td></tr>\n",
      "<tr>\n",
      "<td style=\"vertical-align: top; text-align: left; white-space: normal; border-style: solid solid solid solid; border-width: 0pt 0pt 0pt 0pt;    padding: 3pt 6pt 3pt 15pt; font-weight: normal;\">Angina</td><td style=\"vertical-align: top; text-align: right; white-space: normal; border-style: solid solid solid solid; border-width: 0pt 0pt 0pt 0pt;    padding: 3pt 6pt 3pt 6pt; font-weight: normal;\">48 (3.0%)</td><td style=\"vertical-align: top; text-align: right; white-space: normal; border-style: solid solid solid solid; border-width: 0pt 0pt 0pt 0pt;    padding: 3pt 6pt 3pt 6pt; font-weight: normal;\">23 (1.5%)</td><td style=\"vertical-align: top; text-align: right; white-space: normal; border-style: solid solid solid solid; border-width: 0pt 0pt 0pt 0pt;    padding: 3pt 6pt 3pt 6pt; font-weight: normal;\">71 (2.3%)</td></tr>\n",
      "<tr>\n",
      "<td style=\"vertical-align: top; text-align: left; white-space: normal; border-style: solid solid solid solid; border-width: 0pt 0pt 0pt 0pt;    padding: 3pt 6pt 3pt 15pt; font-weight: normal;\">Silent MI</td><td style=\"vertical-align: top; text-align: right; white-space: normal; border-style: solid solid solid solid; border-width: 0pt 0pt 0pt 0pt;    padding: 3pt 6pt 3pt 6pt; font-weight: normal;\">37 (2.3%)</td><td style=\"vertical-align: top; text-align: right; white-space: normal; border-style: solid solid solid solid; border-width: 0pt 0pt 0pt 0pt;    padding: 3pt 6pt 3pt 6pt; font-weight: normal;\">14 (0.9%)</td><td style=\"vertical-align: top; text-align: right; white-space: normal; border-style: solid solid solid solid; border-width: 0pt 0pt 0pt 0pt;    padding: 3pt 6pt 3pt 6pt; font-weight: normal;\">51 (1.6%)</td></tr>\n",
      "<tr>\n",
      "<td style=\"vertical-align: top; text-align: left; white-space: normal; border-style: solid solid solid solid; border-width: 0pt 0pt 0pt 0pt;    padding: 3pt 6pt 3pt 6pt; font-weight: bold;\">Corneal arcus</td><td style=\"vertical-align: top; text-align: right; white-space: normal; border-style: solid solid solid solid; border-width: 0pt 0pt 0pt 0pt;    padding: 3pt 6pt 3pt 6pt; font-weight: normal;\"></td><td style=\"vertical-align: top; text-align: right; white-space: normal; border-style: solid solid solid solid; border-width: 0pt 0pt 0pt 0pt;    padding: 3pt 6pt 3pt 6pt; font-weight: normal;\"></td><td style=\"vertical-align: top; text-align: right; white-space: normal; border-style: solid solid solid solid; border-width: 0pt 0pt 0pt 0pt;    padding: 3pt 6pt 3pt 6pt; font-weight: normal;\"></td></tr>\n",
      "<tr>\n",
      "<td style=\"vertical-align: top; text-align: left; white-space: normal; border-style: solid solid solid solid; border-width: 0pt 0pt 0pt 0pt;    padding: 3pt 6pt 3pt 15pt; font-weight: normal;\">Present</td><td style=\"vertical-align: top; text-align: right; white-space: normal; border-style: solid solid solid solid; border-width: 0pt 0pt 0pt 0pt;    padding: 3pt 6pt 3pt 6pt; font-weight: normal;\">506 (32%)</td><td style=\"vertical-align: top; text-align: right; white-space: normal; border-style: solid solid solid solid; border-width: 0pt 0pt 0pt 0pt;    padding: 3pt 6pt 3pt 6pt; font-weight: normal;\">435 (28%)</td><td style=\"vertical-align: top; text-align: right; white-space: normal; border-style: solid solid solid solid; border-width: 0pt 0pt 0pt 0pt;    padding: 3pt 6pt 3pt 6pt; font-weight: normal;\">941 (30%)</td></tr>\n",
      "<tr>\n",
      "<td style=\"vertical-align: top; text-align: left; white-space: normal; border-style: solid solid solid solid; border-width: 0pt 0pt 0pt 0pt;    padding: 3pt 6pt 3pt 15pt; font-weight: normal;\">Absent</td><td style=\"vertical-align: top; text-align: right; white-space: normal; border-style: solid solid solid solid; border-width: 0pt 0pt 0pt 0pt;    padding: 3pt 6pt 3pt 6pt; font-weight: normal;\">1,082 (68%)</td><td style=\"vertical-align: top; text-align: right; white-space: normal; border-style: solid solid solid solid; border-width: 0pt 0pt 0pt 0pt;    padding: 3pt 6pt 3pt 6pt; font-weight: normal;\">1,129 (72%)</td><td style=\"vertical-align: top; text-align: right; white-space: normal; border-style: solid solid solid solid; border-width: 0pt 0pt 0pt 0pt;    padding: 3pt 6pt 3pt 6pt; font-weight: normal;\">2,211 (70%)</td></tr>\n",
      "<tr>\n",
      "<td style=\"vertical-align: top; text-align: left; white-space: normal; border-style: solid solid solid solid; border-width: 0pt 0pt 0pt 0pt;    padding: 3pt 6pt 3pt 15pt; font-weight: normal;\">Unknown</td><td style=\"vertical-align: top; text-align: right; white-space: normal; border-style: solid solid solid solid; border-width: 0pt 0pt 0pt 0pt;    padding: 3pt 6pt 3pt 6pt; font-weight: normal;\">1</td><td style=\"vertical-align: top; text-align: right; white-space: normal; border-style: solid solid solid solid; border-width: 0pt 0pt 0pt 0pt;    padding: 3pt 6pt 3pt 6pt; font-weight: normal;\">1</td><td style=\"vertical-align: top; text-align: right; white-space: normal; border-style: solid solid solid solid; border-width: 0pt 0pt 0pt 0pt;    padding: 3pt 6pt 3pt 6pt; font-weight: normal;\">2</td></tr>\n",
      "<tr>\n",
      "<td style=\"vertical-align: top; text-align: left; white-space: normal; border-style: solid solid solid solid; border-width: 0pt 0pt 0pt 0pt;    padding: 3pt 6pt 3pt 6pt; font-weight: bold;\">Smoking status</td><td style=\"vertical-align: top; text-align: right; white-space: normal; border-style: solid solid solid solid; border-width: 0pt 0pt 0pt 0pt;    padding: 3pt 6pt 3pt 6pt; font-weight: normal;\"></td><td style=\"vertical-align: top; text-align: right; white-space: normal; border-style: solid solid solid solid; border-width: 0pt 0pt 0pt 0pt;    padding: 3pt 6pt 3pt 6pt; font-weight: normal;\"></td><td style=\"vertical-align: top; text-align: right; white-space: normal; border-style: solid solid solid solid; border-width: 0pt 0pt 0pt 0pt;    padding: 3pt 6pt 3pt 6pt; font-weight: normal;\"></td></tr>\n",
      "<tr>\n",
      "<td style=\"vertical-align: top; text-align: left; white-space: normal; border-style: solid solid solid solid; border-width: 0pt 0pt 0pt 0pt;    padding: 3pt 6pt 3pt 15pt; font-weight: normal;\">Smoker</td><td style=\"vertical-align: top; text-align: right; white-space: normal; border-style: solid solid solid solid; border-width: 0pt 0pt 0pt 0pt;    padding: 3pt 6pt 3pt 6pt; font-weight: normal;\">805 (51%)</td><td style=\"vertical-align: top; text-align: right; white-space: normal; border-style: solid solid solid solid; border-width: 0pt 0pt 0pt 0pt;    padding: 3pt 6pt 3pt 6pt; font-weight: normal;\">697 (45%)</td><td style=\"vertical-align: top; text-align: right; white-space: normal; border-style: solid solid solid solid; border-width: 0pt 0pt 0pt 0pt;    padding: 3pt 6pt 3pt 6pt; font-weight: normal;\">1,502 (48%)</td></tr>\n",
      "<tr>\n",
      "<td style=\"vertical-align: top; text-align: left; white-space: normal; border-style: solid solid solid solid; border-width: 0pt 0pt 0.8pt 0pt;    padding: 3pt 6pt 3pt 15pt; font-weight: normal;\">Non-Smoker</td><td style=\"vertical-align: top; text-align: right; white-space: normal; border-style: solid solid solid solid; border-width: 0pt 0pt 0.8pt 0pt;    padding: 3pt 6pt 3pt 6pt; font-weight: normal;\">784 (49%)</td><td style=\"vertical-align: top; text-align: right; white-space: normal; border-style: solid solid solid solid; border-width: 0pt 0pt 0.8pt 0pt;    padding: 3pt 6pt 3pt 6pt; font-weight: normal;\">868 (55%)</td><td style=\"vertical-align: top; text-align: right; white-space: normal; border-style: solid solid solid solid; border-width: 0pt 0pt 0.8pt 0pt;    padding: 3pt 6pt 3pt 6pt; font-weight: normal;\">1,652 (52%)</td></tr>\n",
      "<tr>\n",
      "<td colspan=\"4\" style=\"vertical-align: top; text-align: left; white-space: normal; border-style: solid solid solid solid; border-width: 0.8pt 0pt 0pt 0pt;    padding: 6pt 6pt 6pt 6pt; font-weight: normal; font-size: 9pt;\">n (%); Mean (SD)</td></tr>\n",
      "</table>\n"
     ]
    }
   ],
   "source": [
    "#| label: tbl-tab13\n",
    "#| tbl-cap: \"Descriptive statistics of the WCGS dataset by behaviour pattern.\"\n",
    "#| output: asis\n",
    "wcgs |>\n",
    "  select(-c(id, beh_pat, ncigs, time)) |>\n",
    "  mutate(\n",
    "    chd = relevel(chd, ref = \"CHD\"),\n",
    "    arcus = relevel(arcus, ref = \"Present\"),\n",
    "    smoker = relevel(smoker, ref = \"Smoker\")\n",
    "  ) |>\n",
    "  copy_labels(wcgs) |>\n",
    "  cross_tbl(by = \"dib_pat\", method = 1) |> \n",
    "  set_width(0.9) |>  \n",
    "  add_footnote(\"n (%); Mean (SD)\", font_size = 9) |>\n",
    "  print_html()"
   ]
  }
 ],
 "metadata": {
  "kernelspec": {
   "display_name": "R",
   "language": "R",
   "name": "ir"
  },
  "language_info": {
   "codemirror_mode": "r",
   "file_extension": ".r",
   "mimetype": "text/x-r-source",
   "name": "R",
   "pygments_lexer": "r",
   "version": "4.4.1"
  }
 },
 "nbformat": 4,
 "nbformat_minor": 4
}
