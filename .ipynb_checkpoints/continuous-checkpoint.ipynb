{
 "cells": [
  {
   "cell_type": "raw",
   "metadata": {},
   "source": [
    "---\n",
    "title: \"Continuous Outcomes\"\n",
    "author: Josie Athens\n",
    "date: today\n",
    "highlight-style: nord\n",
    "format:\n",
    "  html:\n",
    "    code-fold: false\n",
    "    theme: mint\n",
    "    toc: true\n",
    "    number-sections: true\n",
    "    toc-title: Contents\n",
    "    smooth-scroll: true\n",
    "    embed-resources: true\n",
    "execute: \n",
    "  cache: true\n",
    "  warning: false\n",
    "---"
   ]
  },
  {
   "cell_type": "code",
   "execution_count": 1,
   "metadata": {
    "vscode": {
     "languageId": "r"
    }
   },
   "outputs": [
    {
     "name": "stderr",
     "output_type": "stream",
     "text": [
      "── \u001b[1mAttaching core tidyverse packages\u001b[22m ─────────────────────────── tidyverse 2.0.0 ──\n",
      "\u001b[32m✔\u001b[39m \u001b[34mdplyr    \u001b[39m 1.1.4     \u001b[32m✔\u001b[39m \u001b[34mreadr    \u001b[39m 2.1.5\n",
      "\u001b[32m✔\u001b[39m \u001b[34mforcats  \u001b[39m 1.0.0     \u001b[32m✔\u001b[39m \u001b[34mstringr  \u001b[39m 1.5.1\n",
      "\u001b[32m✔\u001b[39m \u001b[34mggplot2  \u001b[39m 3.5.1     \u001b[32m✔\u001b[39m \u001b[34mtibble   \u001b[39m 3.2.1\n",
      "\u001b[32m✔\u001b[39m \u001b[34mlubridate\u001b[39m 1.9.3     \u001b[32m✔\u001b[39m \u001b[34mtidyr    \u001b[39m 1.3.1\n",
      "\u001b[32m✔\u001b[39m \u001b[34mpurrr    \u001b[39m 1.0.2     \n",
      "── \u001b[1mConflicts\u001b[22m ───────────────────────────────────────────── tidyverse_conflicts() ──\n",
      "\u001b[31m✖\u001b[39m \u001b[34mdplyr\u001b[39m::\u001b[32mfilter()\u001b[39m masks \u001b[34mstats\u001b[39m::filter()\n",
      "\u001b[31m✖\u001b[39m \u001b[34mdplyr\u001b[39m::\u001b[32mlag()\u001b[39m    masks \u001b[34mstats\u001b[39m::lag()\n",
      "\u001b[36mℹ\u001b[39m Use the conflicted package (\u001b[3m\u001b[34m<http://conflicted.r-lib.org/>\u001b[39m\u001b[23m) to force all conflicts to become errors\n",
      "\n",
      "Attaching package: ‘rstatix’\n",
      "\n",
      "\n",
      "The following object is masked from ‘package:stats’:\n",
      "\n",
      "    filter\n",
      "\n",
      "\n",
      "\u001b[34m# Attaching packages: easystats 0.7.2\u001b[39m\u001b[34m (\u001b[39m\u001b[31mred\u001b[39m\u001b[34m = needs update)\u001b[39m\n",
      "\u001b[32m✔ \u001b[39m\u001b[37mbayestestR \u001b[39m \u001b[32m0.13.2\u001b[39m   \u001b[32m✔ \u001b[39m\u001b[37mcorrelation\u001b[39m \u001b[32m0.8.5 \u001b[39m\n",
      "\u001b[32m✔ \u001b[39m\u001b[37mdatawizard \u001b[39m \u001b[32m0.11.0\u001b[39m   \u001b[31m✖ \u001b[39m\u001b[37meffectsize \u001b[39m \u001b[31m0.8.8 \u001b[39m\n",
      "\u001b[32m✔ \u001b[39m\u001b[37minsight    \u001b[39m \u001b[32m0.20.1\u001b[39m   \u001b[32m✔ \u001b[39m\u001b[37mmodelbased \u001b[39m \u001b[32m0.8.8 \u001b[39m\n",
      "\u001b[32m✔ \u001b[39m\u001b[37mperformance\u001b[39m \u001b[32m0.12.0\u001b[39m   \u001b[32m✔ \u001b[39m\u001b[37mparameters \u001b[39m \u001b[32m0.22.0\u001b[39m\n",
      "\u001b[32m✔ \u001b[39m\u001b[37mreport     \u001b[39m \u001b[32m0.5.8 \u001b[39m   \u001b[32m✔ \u001b[39m\u001b[37msee        \u001b[39m \u001b[32m0.8.4 \u001b[39m\n",
      "\u001b[33m\n",
      "Restart the R-Session and update packages with `easystats::easystats_update()`.\n",
      "\u001b[39m\n",
      "\n",
      "Loading required package: emmeans\n",
      "\n",
      "Welcome to emmeans.\n",
      "Caution: You lose important information if you filter this package's results.\n",
      "See '? untidy'\n",
      "\n",
      "Loading required package: ggformula\n",
      "\n",
      "Loading required package: scales\n",
      "\n",
      "\n",
      "Attaching package: ‘scales’\n",
      "\n",
      "\n",
      "The following object is masked from ‘package:datawizard’:\n",
      "\n",
      "    rescale\n",
      "\n",
      "\n",
      "The following object is masked from ‘package:purrr’:\n",
      "\n",
      "    discard\n",
      "\n",
      "\n",
      "The following object is masked from ‘package:readr’:\n",
      "\n",
      "    col_factor\n",
      "\n",
      "\n",
      "Loading required package: ggridges\n",
      "\n",
      "\n",
      "New to ggformula?  Try the tutorials: \n",
      "\tlearnr::run_tutorial(\"introduction\", package = \"ggformula\")\n",
      "\tlearnr::run_tutorial(\"refining\", package = \"ggformula\")\n",
      "\n",
      "Loading required package: gtsummary\n",
      "\n",
      "#StandWithUkraine\n",
      "\n",
      "Loading required package: huxtable\n",
      "\n",
      "\n",
      "Attaching package: ‘huxtable’\n",
      "\n",
      "\n",
      "The following object is masked from ‘package:gtsummary’:\n",
      "\n",
      "    as_flextable\n",
      "\n",
      "\n",
      "The following object is masked from ‘package:scales’:\n",
      "\n",
      "    number_format\n",
      "\n",
      "\n",
      "The following objects are masked from ‘package:report’:\n",
      "\n",
      "    print_html, print_md\n",
      "\n",
      "\n",
      "The following objects are masked from ‘package:parameters’:\n",
      "\n",
      "    print_html, print_md\n",
      "\n",
      "\n",
      "The following objects are masked from ‘package:performance’:\n",
      "\n",
      "    print_html, print_md\n",
      "\n",
      "\n",
      "The following object is masked from ‘package:modelbased’:\n",
      "\n",
      "    print_md\n",
      "\n",
      "\n",
      "The following objects are masked from ‘package:insight’:\n",
      "\n",
      "    print_html, print_md\n",
      "\n",
      "\n",
      "The following objects are masked from ‘package:effectsize’:\n",
      "\n",
      "    print_html, print_md\n",
      "\n",
      "\n",
      "The following objects are masked from ‘package:datawizard’:\n",
      "\n",
      "    print_html, print_md\n",
      "\n",
      "\n",
      "The following objects are masked from ‘package:correlation’:\n",
      "\n",
      "    print_html, print_md\n",
      "\n",
      "\n",
      "The following objects are masked from ‘package:bayestestR’:\n",
      "\n",
      "    print_html, print_md\n",
      "\n",
      "\n",
      "The following object is masked from ‘package:dplyr’:\n",
      "\n",
      "    add_rownames\n",
      "\n",
      "\n",
      "The following object is masked from ‘package:ggplot2’:\n",
      "\n",
      "    theme_grey\n",
      "\n",
      "\n",
      "Loading required package: magrittr\n",
      "\n",
      "\n",
      "Attaching package: ‘magrittr’\n",
      "\n",
      "\n",
      "The following object is masked from ‘package:purrr’:\n",
      "\n",
      "    set_names\n",
      "\n",
      "\n",
      "The following object is masked from ‘package:tidyr’:\n",
      "\n",
      "    extract\n",
      "\n",
      "\n",
      "\n",
      "Attaching package: ‘sjlabelled’\n",
      "\n",
      "\n",
      "The following object is masked from ‘package:huxtable’:\n",
      "\n",
      "    set_label\n",
      "\n",
      "\n",
      "The following objects are masked from ‘package:datawizard’:\n",
      "\n",
      "    to_factor, to_numeric\n",
      "\n",
      "\n",
      "The following object is masked from ‘package:forcats’:\n",
      "\n",
      "    as_factor\n",
      "\n",
      "\n",
      "The following object is masked from ‘package:dplyr’:\n",
      "\n",
      "    as_label\n",
      "\n",
      "\n",
      "The following object is masked from ‘package:ggplot2’:\n",
      "\n",
      "    as_label\n",
      "\n",
      "\n"
     ]
    }
   ],
   "source": [
    "#| output: false\n",
    "library(tidyverse)\n",
    "library(rstatix)\n",
    "library(easystats)\n",
    "library(ggfortify)\n",
    "library(pubh)\n",
    "library(sjlabelled)\n",
    "\n",
    "jama = ggsci::scale_color_jama()\n",
    "import::from(latex2exp, TeX)\n",
    "import::from(epiDisplay, ci)\n",
    "theme_set(see::theme_lucid(base_size = 10))\n",
    "options('huxtable.knit_print_df' = FALSE)\n",
    "options('huxtable.autoformat_number_format' = list(numeric = \"%5.2f\"))\n",
    "\n",
    "library(\"repr\")\n",
    "options(repr.plot.width = 6, repr.plot.height = 4)"
   ]
  },
  {
   "cell_type": "markdown",
   "metadata": {},
   "source": [
    "# Overview\n",
    "\n",
    "In this laboratory, we will learn about hypothesis testing, in particular, one-sample $t$-tests, and two-sample $t$-tests for means.\n",
    "\n",
    "Once you have completed this laboratory, you should feel comfortable:\n",
    "\n",
    "-   Generating confidence intervals for means.\n",
    "-   Performing one-sample $t$-tests against a hypothesised mean.\n",
    "-   Performing two-sample $t$-tests, using either paired or independent samples.\n",
    "-   Performing non-parametric tests on continuous outcomes\n",
    "\n",
    "## Summary of New Commands\n",
    "\n",
    "| **Command**      | **Library** | **Function**                                        |\n",
    "|------------------|-------------|-----------------------------------------------------|\n",
    "| **gen_bst_df**   | *pubh*      | Estimates confidence intervals by group             |\n",
    "| **shapiro_test** | *rstatix*   | Performs the Shapiro-Wilk normality test            |\n",
    "| **TeX**          | *latex2exp* | Converts *LaTeX* expressions for use in plot labels |\n",
    "| **var.test**     | *stats*     | Performs variance ratio test                        |\n",
    "| **wilcox_test**  | *rstatix*   | Performs Wilcoxon-Mann-Whitney test                 |\n",
    "\n",
    "# Confidence Intervals around the Mean"
   ]
  },
  {
   "cell_type": "raw",
   "metadata": {},
   "source": [
    "::: callout-tip\n",
    "## Example\n",
    "\n",
    "The data set we will be using for this laboratory is from Bernard, GR, *et al*. (1997) The effects of ibuprofen on the physiology and survival of patients with sepsis, *N Engl J Med* 336(13): 912--918. Here is an abbreviated version of the abstract.\n",
    "\n",
    "> $\\dots$ we conducted a randomized, double-blind, placebo-controlled trial of intravenous ibuprofen$\\dots$ in 455 patients who had sepsis, defined as fever, tachycardia, tachypnea, and acute failure of at least one organ system. In the ibuprofen group, but not the placebo group, there were significant declines in [various measures including] temperature$\\dots$ However, treatment with ibuprofen did not reduce the incidence or duration of shock or the acute respiratory distress syndrome and did not significantly improve the rate of survival at 30 days (mortality, 37 percent with ibuprofen vs. 40 percent with placebo).\n",
    ":::"
   ]
  },
  {
   "cell_type": "markdown",
   "metadata": {},
   "source": [
    "Let's take a look at the head of the data:"
   ]
  },
  {
   "cell_type": "code",
   "execution_count": 2,
   "metadata": {
    "vscode": {
     "languageId": "r"
    }
   },
   "outputs": [
    {
     "data": {
      "text/html": [
       "<table class=\"dataframe\">\n",
       "<caption>A data_codebook: 22 × 9</caption>\n",
       "<thead>\n",
       "\t<tr><th scope=col>ID</th><th scope=col>Name</th><th scope=col>Label</th><th scope=col>Type</th><th scope=col>Missings</th><th scope=col>Values</th><th scope=col>N</th><th scope=col>Prop</th><th scope=col>.row_id</th></tr>\n",
       "\t<tr><th scope=col>&lt;chr&gt;</th><th scope=col>&lt;chr&gt;</th><th scope=col>&lt;chr&gt;</th><th scope=col>&lt;chr&gt;</th><th scope=col>&lt;chr&gt;</th><th scope=col>&lt;chr&gt;</th><th scope=col>&lt;chr&gt;</th><th scope=col>&lt;chr&gt;</th><th scope=col>&lt;int&gt;</th></tr>\n",
       "</thead>\n",
       "<tbody>\n",
       "\t<tr><td>1</td><td>id      </td><td>ID                        </td><td>numeric    </td><td>0 (0.0%)   </td><td>[1, 455]         </td><td>455</td><td>     </td><td>1</td></tr>\n",
       "\t<tr><td> </td><td>        </td><td>                          </td><td>           </td><td>           </td><td>                 </td><td>   </td><td>     </td><td>1</td></tr>\n",
       "\t<tr><td>2</td><td>treat   </td><td>Treatment                 </td><td>categorical</td><td>0 (0.0%)   </td><td>Placebo          </td><td>231</td><td>50.8%</td><td>2</td></tr>\n",
       "\t<tr><td> </td><td>        </td><td>                          </td><td>           </td><td>           </td><td>Ibuprofen        </td><td>224</td><td>49.2%</td><td>2</td></tr>\n",
       "\t<tr><td> </td><td>        </td><td>                          </td><td>           </td><td>           </td><td>                 </td><td>   </td><td>     </td><td>2</td></tr>\n",
       "\t<tr><td>3</td><td>race    </td><td>Ethnicity                 </td><td>categorical</td><td>0 (0.0%)   </td><td>White            </td><td>293</td><td>64.4%</td><td>3</td></tr>\n",
       "\t<tr><td> </td><td>        </td><td>                          </td><td>           </td><td>           </td><td>African American </td><td>130</td><td>28.6%</td><td>3</td></tr>\n",
       "\t<tr><td> </td><td>        </td><td>                          </td><td>           </td><td>           </td><td>Other            </td><td>32 </td><td>7.0% </td><td>3</td></tr>\n",
       "\t<tr><td> </td><td>        </td><td>                          </td><td>           </td><td>           </td><td>                 </td><td>   </td><td>     </td><td>3</td></tr>\n",
       "\t<tr><td>4</td><td>fate    </td><td>Mortality status          </td><td>categorical</td><td>0 (0.0%)   </td><td>Alive            </td><td>279</td><td>61.3%</td><td>4</td></tr>\n",
       "\t<tr><td> </td><td>        </td><td>                          </td><td>           </td><td>           </td><td>Dead             </td><td>176</td><td>38.7%</td><td>4</td></tr>\n",
       "\t<tr><td> </td><td>        </td><td>                          </td><td>           </td><td>           </td><td>                 </td><td>   </td><td>     </td><td>4</td></tr>\n",
       "\t<tr><td>5</td><td>apache  </td><td>APACHE score              </td><td>numeric    </td><td>1 (0.2%)   </td><td>[0, 41]          </td><td>454</td><td>     </td><td>5</td></tr>\n",
       "\t<tr><td> </td><td>        </td><td>                          </td><td>           </td><td>           </td><td>                 </td><td>   </td><td>     </td><td>5</td></tr>\n",
       "\t<tr><td>6</td><td>o2del   </td><td>Oxygen delivery (baseline)</td><td>numeric    </td><td>287 (63.1%)</td><td>[316.88, 2584.34]</td><td>168</td><td>     </td><td>6</td></tr>\n",
       "\t<tr><td> </td><td>        </td><td>                          </td><td>           </td><td>           </td><td>                 </td><td>   </td><td>     </td><td>6</td></tr>\n",
       "\t<tr><td>7</td><td>followup</td><td>Follow-up time (hr)       </td><td>numeric    </td><td>0 (0.0%)   </td><td>[1, 720]         </td><td>455</td><td>     </td><td>7</td></tr>\n",
       "\t<tr><td> </td><td>        </td><td>                          </td><td>           </td><td>           </td><td>                 </td><td>   </td><td>     </td><td>7</td></tr>\n",
       "\t<tr><td>8</td><td>temp0   </td><td>Temperature (baseline)    </td><td>numeric    </td><td>0 (0.0%)   </td><td>[33.1, 41.67]    </td><td>455</td><td>     </td><td>8</td></tr>\n",
       "\t<tr><td> </td><td>        </td><td>                          </td><td>           </td><td>           </td><td>                 </td><td>   </td><td>     </td><td>8</td></tr>\n",
       "\t<tr><td>9</td><td>temp10  </td><td>Temperature (36 hours)    </td><td>numeric    </td><td>56 (12.3%) </td><td>[33.5, 40]       </td><td>399</td><td>     </td><td>9</td></tr>\n",
       "\t<tr><td> </td><td>        </td><td>                          </td><td>           </td><td>           </td><td>                 </td><td>   </td><td>     </td><td>9</td></tr>\n",
       "</tbody>\n",
       "</table>\n"
      ],
      "text/latex": [
       "A data\\_codebook: 22 × 9\n",
       "\\begin{tabular}{lllllllll}\n",
       " ID & Name & Label & Type & Missings & Values & N & Prop & .row\\_id\\\\\n",
       " <chr> & <chr> & <chr> & <chr> & <chr> & <chr> & <chr> & <chr> & <int>\\\\\n",
       "\\hline\n",
       "\t 1 & id       & ID                         & numeric     & 0 (0.0\\%)    & {[}1, 455{]}          & 455 &       & 1\\\\\n",
       "\t   &          &                            &             &             &                   &     &       & 1\\\\\n",
       "\t 2 & treat    & Treatment                  & categorical & 0 (0.0\\%)    & Placebo           & 231 & 50.8\\% & 2\\\\\n",
       "\t   &          &                            &             &             & Ibuprofen         & 224 & 49.2\\% & 2\\\\\n",
       "\t   &          &                            &             &             &                   &     &       & 2\\\\\n",
       "\t 3 & race     & Ethnicity                  & categorical & 0 (0.0\\%)    & White             & 293 & 64.4\\% & 3\\\\\n",
       "\t   &          &                            &             &             & African American  & 130 & 28.6\\% & 3\\\\\n",
       "\t   &          &                            &             &             & Other             & 32  & 7.0\\%  & 3\\\\\n",
       "\t   &          &                            &             &             &                   &     &       & 3\\\\\n",
       "\t 4 & fate     & Mortality status           & categorical & 0 (0.0\\%)    & Alive             & 279 & 61.3\\% & 4\\\\\n",
       "\t   &          &                            &             &             & Dead              & 176 & 38.7\\% & 4\\\\\n",
       "\t   &          &                            &             &             &                   &     &       & 4\\\\\n",
       "\t 5 & apache   & APACHE score               & numeric     & 1 (0.2\\%)    & {[}0, 41{]}           & 454 &       & 5\\\\\n",
       "\t   &          &                            &             &             &                   &     &       & 5\\\\\n",
       "\t 6 & o2del    & Oxygen delivery (baseline) & numeric     & 287 (63.1\\%) & {[}316.88, 2584.34{]} & 168 &       & 6\\\\\n",
       "\t   &          &                            &             &             &                   &     &       & 6\\\\\n",
       "\t 7 & followup & Follow-up time (hr)        & numeric     & 0 (0.0\\%)    & {[}1, 720{]}          & 455 &       & 7\\\\\n",
       "\t   &          &                            &             &             &                   &     &       & 7\\\\\n",
       "\t 8 & temp0    & Temperature (baseline)     & numeric     & 0 (0.0\\%)    & {[}33.1, 41.67{]}     & 455 &       & 8\\\\\n",
       "\t   &          &                            &             &             &                   &     &       & 8\\\\\n",
       "\t 9 & temp10   & Temperature (36 hours)     & numeric     & 56 (12.3\\%)  & {[}33.5, 40{]}        & 399 &       & 9\\\\\n",
       "\t   &          &                            &             &             &                   &     &       & 9\\\\\n",
       "\\end{tabular}\n"
      ],
      "text/markdown": [
       "\n",
       "A data_codebook: 22 × 9\n",
       "\n",
       "| ID &lt;chr&gt; | Name &lt;chr&gt; | Label &lt;chr&gt; | Type &lt;chr&gt; | Missings &lt;chr&gt; | Values &lt;chr&gt; | N &lt;chr&gt; | Prop &lt;chr&gt; | .row_id &lt;int&gt; |\n",
       "|---|---|---|---|---|---|---|---|---|\n",
       "| 1 | id       | ID                         | numeric     | 0 (0.0%)    | [1, 455]          | 455 | <!----> | 1 |\n",
       "| <!----> | <!----> | <!----> | <!----> | <!----> | <!----> | <!----> | <!----> | 1 |\n",
       "| 2 | treat    | Treatment                  | categorical | 0 (0.0%)    | Placebo           | 231 | 50.8% | 2 |\n",
       "| <!----> | <!----> | <!----> | <!----> | <!----> | Ibuprofen         | 224 | 49.2% | 2 |\n",
       "| <!----> | <!----> | <!----> | <!----> | <!----> | <!----> | <!----> | <!----> | 2 |\n",
       "| 3 | race     | Ethnicity                  | categorical | 0 (0.0%)    | White             | 293 | 64.4% | 3 |\n",
       "| <!----> | <!----> | <!----> | <!----> | <!----> | African American  | 130 | 28.6% | 3 |\n",
       "| <!----> | <!----> | <!----> | <!----> | <!----> | Other             | 32  | 7.0%  | 3 |\n",
       "| <!----> | <!----> | <!----> | <!----> | <!----> | <!----> | <!----> | <!----> | 3 |\n",
       "| 4 | fate     | Mortality status           | categorical | 0 (0.0%)    | Alive             | 279 | 61.3% | 4 |\n",
       "| <!----> | <!----> | <!----> | <!----> | <!----> | Dead              | 176 | 38.7% | 4 |\n",
       "| <!----> | <!----> | <!----> | <!----> | <!----> | <!----> | <!----> | <!----> | 4 |\n",
       "| 5 | apache   | APACHE score               | numeric     | 1 (0.2%)    | [0, 41]           | 454 | <!----> | 5 |\n",
       "| <!----> | <!----> | <!----> | <!----> | <!----> | <!----> | <!----> | <!----> | 5 |\n",
       "| 6 | o2del    | Oxygen delivery (baseline) | numeric     | 287 (63.1%) | [316.88, 2584.34] | 168 | <!----> | 6 |\n",
       "| <!----> | <!----> | <!----> | <!----> | <!----> | <!----> | <!----> | <!----> | 6 |\n",
       "| 7 | followup | Follow-up time (hr)        | numeric     | 0 (0.0%)    | [1, 720]          | 455 | <!----> | 7 |\n",
       "| <!----> | <!----> | <!----> | <!----> | <!----> | <!----> | <!----> | <!----> | 7 |\n",
       "| 8 | temp0    | Temperature (baseline)     | numeric     | 0 (0.0%)    | [33.1, 41.67]     | 455 | <!----> | 8 |\n",
       "| <!----> | <!----> | <!----> | <!----> | <!----> | <!----> | <!----> | <!----> | 8 |\n",
       "| 9 | temp10   | Temperature (36 hours)     | numeric     | 56 (12.3%)  | [33.5, 40]        | 399 | <!----> | 9 |\n",
       "| <!----> | <!----> | <!----> | <!----> | <!----> | <!----> | <!----> | <!----> | 9 |\n",
       "\n"
      ],
      "text/plain": [
       "   ID Name     Label                      Type        Missings   \n",
       "1  1  id       ID                         numeric     0 (0.0%)   \n",
       "2                                                                \n",
       "3  2  treat    Treatment                  categorical 0 (0.0%)   \n",
       "4                                                                \n",
       "5                                                                \n",
       "6  3  race     Ethnicity                  categorical 0 (0.0%)   \n",
       "7                                                                \n",
       "8                                                                \n",
       "9                                                                \n",
       "10 4  fate     Mortality status           categorical 0 (0.0%)   \n",
       "11                                                               \n",
       "12                                                               \n",
       "13 5  apache   APACHE score               numeric     1 (0.2%)   \n",
       "14                                                               \n",
       "15 6  o2del    Oxygen delivery (baseline) numeric     287 (63.1%)\n",
       "16                                                               \n",
       "17 7  followup Follow-up time (hr)        numeric     0 (0.0%)   \n",
       "18                                                               \n",
       "19 8  temp0    Temperature (baseline)     numeric     0 (0.0%)   \n",
       "20                                                               \n",
       "21 9  temp10   Temperature (36 hours)     numeric     56 (12.3%) \n",
       "22                                                               \n",
       "   Values            N   Prop  .row_id\n",
       "1  [1, 455]          455       1      \n",
       "2                              1      \n",
       "3  Placebo           231 50.8% 2      \n",
       "4  Ibuprofen         224 49.2% 2      \n",
       "5                              2      \n",
       "6  White             293 64.4% 3      \n",
       "7  African American  130 28.6% 3      \n",
       "8  Other             32  7.0%  3      \n",
       "9                              3      \n",
       "10 Alive             279 61.3% 4      \n",
       "11 Dead              176 38.7% 4      \n",
       "12                             4      \n",
       "13 [0, 41]           454       5      \n",
       "14                             5      \n",
       "15 [316.88, 2584.34] 168       6      \n",
       "16                             6      \n",
       "17 [1, 720]          455       7      \n",
       "18                             7      \n",
       "19 [33.1, 41.67]     455       8      \n",
       "20                             8      \n",
       "21 [33.5, 40]        399       9      \n",
       "22                             9      "
      ]
     },
     "metadata": {},
     "output_type": "display_data"
    }
   ],
   "source": [
    "data(Bernard)\n",
    "Bernard |> data_codebook()"
   ]
  },
  {
   "cell_type": "markdown",
   "metadata": {},
   "source": [
    "We start by saving the label for baseline temperature in a new variable:"
   ]
  },
  {
   "cell_type": "code",
   "execution_count": 3,
   "metadata": {
    "vscode": {
     "languageId": "r"
    }
   },
   "outputs": [],
   "source": [
    "btemp = TeX(\"Baseline Temperature ($^{\\\\degree}$C)\")"
   ]
  },
  {
   "cell_type": "markdown",
   "metadata": {},
   "source": [
    "::: callout-note\n",
    "\n",
    "The function `TeX` allows us to include symbols and mathematical expressions in plots and labels using *LaTeX* syntax. *LaTeX* commands are declared between two dollar signs. Special symbols, like Greek letters, use `\\`. In `Markup` documents, you only use one `\\` (the standard in *LaTeX*), but in `R` functions, you need to use two instead of one, hence `$\\\\degree$` produces $^{\\circ}$. Besides `$\\degree$`, the most common symbols are Greek letters, for example, `$\\\\alpha$` produces $\\alpha$ in `R` functions.\n",
    "\n",
    ":::"
   ]
  },
  {
   "cell_type": "markdown",
   "metadata": {},
   "source": [
    "::: callout-caution\n",
    "## Exercise\n",
    "Construct a histogram of baseline temperatures in $^{\\circ}C$ with a normal curve superimposed.\n",
    "\n",
    ":::"
   ]
  },
  {
   "cell_type": "code",
   "execution_count": 4,
   "metadata": {
    "vscode": {
     "languageId": "r"
    }
   },
   "outputs": [
    {
     "data": {
      "image/png": "[encoded data removed]",
      "text/plain": [
       "plot without title"
      ]
     },
     "metadata": {
      "image/png": {
       "height": 240,
       "width": 360
      }
     },
     "output_type": "display_data"
    }
   ],
   "source": [
    "#| label: fig-fig1\n",
    "#| fig-cap: \"Distribution of baseline temperature from the Bernard data set.\"\n",
    "#| code-fold: true\n",
    "Bernard |>\n",
    "  hist_norm(~ temp0, fill = \"slategray\", bins = 20, xlab = btemp)"
   ]
  },
  {
   "cell_type": "markdown",
   "metadata": {},
   "source": [
    "We will now estimate a 95% confidence interval for mean baseline temperature for all patients."
   ]
  },
  {
   "cell_type": "code",
   "execution_count": 5,
   "metadata": {
    "vscode": {
     "languageId": "r"
    }
   },
   "outputs": [
    {
     "data": {
      "text/html": [
       "<table class=\"dataframe\">\n",
       "<caption>A data.frame: 1 × 6</caption>\n",
       "<thead>\n",
       "\t<tr><th></th><th scope=col>n</th><th scope=col>mean</th><th scope=col>sd</th><th scope=col>se</th><th scope=col>lower95ci</th><th scope=col>upper95ci</th></tr>\n",
       "\t<tr><th></th><th scope=col>&lt;dbl&gt;</th><th scope=col>&lt;dbl&gt;</th><th scope=col>&lt;dbl&gt;</th><th scope=col>&lt;dbl&gt;</th><th scope=col>&lt;dbl&gt;</th><th scope=col>&lt;dbl&gt;</th></tr>\n",
       "</thead>\n",
       "<tbody>\n",
       "\t<tr><th scope=row></th><td>455</td><td>38.01</td><td>1.13</td><td>0.05</td><td>37.91</td><td>38.12</td></tr>\n",
       "</tbody>\n",
       "</table>\n"
      ],
      "text/latex": [
       "A data.frame: 1 × 6\n",
       "\\begin{tabular}{r|llllll}\n",
       "  & n & mean & sd & se & lower95ci & upper95ci\\\\\n",
       "  & <dbl> & <dbl> & <dbl> & <dbl> & <dbl> & <dbl>\\\\\n",
       "\\hline\n",
       "\t & 455 & 38.01 & 1.13 & 0.05 & 37.91 & 38.12\\\\\n",
       "\\end{tabular}\n"
      ],
      "text/markdown": [
       "\n",
       "A data.frame: 1 × 6\n",
       "\n",
       "| <!--/--> | n &lt;dbl&gt; | mean &lt;dbl&gt; | sd &lt;dbl&gt; | se &lt;dbl&gt; | lower95ci &lt;dbl&gt; | upper95ci &lt;dbl&gt; |\n",
       "|---|---|---|---|---|---|---|\n",
       "| <!----> | 455 | 38.01 | 1.13 | 0.05 | 37.91 | 38.12 |\n",
       "\n"
      ],
      "text/plain": [
       " n   mean  sd   se   lower95ci upper95ci\n",
       " 455 38.01 1.13 0.05 37.91     38.12    "
      ]
     },
     "metadata": {},
     "output_type": "display_data"
    }
   ],
   "source": [
    "Bernard %$% ci(temp0) |> round(2)"
   ]
  },
  {
   "cell_type": "markdown",
   "metadata": {},
   "source": [
    "## Bootstrap\n",
    "\n",
    "Recall that the distribution of samples follows a normal distribution. For example, the distribution of means follows a normal distribution. If we obtain, for instance, a thousand samples with replacement and for each one of them we estimate a statistic (e.g., the mean), we will end up with a population of 1,000 statistics. The distribution of the statistics is normal, and it is easy to estimate confidence intervals from them (they correspond to quantiles). This is independent of the original distribution of our original variable of interest. This approach is known as bootstrapping. We usually run the calculation by taking 1,000 or 10,000 samples."
   ]
  },
  {
   "cell_type": "code",
   "execution_count": 6,
   "metadata": {
    "vscode": {
     "languageId": "r"
    }
   },
   "outputs": [
    {
     "data": {
      "text/html": [
       "<table class=\"dataframe\">\n",
       "<caption>A data.frame: 1 × 5</caption>\n",
       "<thead>\n",
       "\t<tr><th></th><th scope=col>stat</th><th scope=col>estimate</th><th scope=col>%CI</th><th scope=col>lower</th><th scope=col>upper</th></tr>\n",
       "\t<tr><th></th><th scope=col>&lt;chr&gt;</th><th scope=col>&lt;dbl&gt;</th><th scope=col>&lt;dbl&gt;</th><th scope=col>&lt;dbl&gt;</th><th scope=col>&lt;dbl&gt;</th></tr>\n",
       "</thead>\n",
       "<tbody>\n",
       "\t<tr><th scope=row></th><td>mean</td><td>38.01</td><td>95</td><td>37.91</td><td>38.12</td></tr>\n",
       "</tbody>\n",
       "</table>\n"
      ],
      "text/latex": [
       "A data.frame: 1 × 5\n",
       "\\begin{tabular}{r|lllll}\n",
       "  & stat & estimate & \\%CI & lower & upper\\\\\n",
       "  & <chr> & <dbl> & <dbl> & <dbl> & <dbl>\\\\\n",
       "\\hline\n",
       "\t & mean & 38.01 & 95 & 37.91 & 38.12\\\\\n",
       "\\end{tabular}\n"
      ],
      "text/markdown": [
       "\n",
       "A data.frame: 1 × 5\n",
       "\n",
       "| <!--/--> | stat &lt;chr&gt; | estimate &lt;dbl&gt; | %CI &lt;dbl&gt; | lower &lt;dbl&gt; | upper &lt;dbl&gt; |\n",
       "|---|---|---|---|---|---|\n",
       "| <!----> | mean | 38.01 | 95 | 37.91 | 38.12 |\n",
       "\n"
      ],
      "text/plain": [
       " stat estimate %CI lower upper\n",
       " mean 38.01    95  37.91 38.12"
      ]
     },
     "metadata": {},
     "output_type": "display_data"
    }
   ],
   "source": [
    "Bernard %$% bst(temp0)"
   ]
  },
  {
   "cell_type": "markdown",
   "metadata": {},
   "source": [
    "::: callout-caution\n",
    "## Exercise\n",
    "\n",
    "Estimate the 95% bootstrap CIs for the temperature after 36 hr of treatment (`temp10`).\n",
    "\n",
    ":::"
   ]
  },
  {
   "cell_type": "code",
   "execution_count": 7,
   "metadata": {
    "vscode": {
     "languageId": "r"
    }
   },
   "outputs": [
    {
     "data": {
      "text/html": [
       "<table class=\"dataframe\">\n",
       "<caption>A data.frame: 1 × 5</caption>\n",
       "<thead>\n",
       "\t<tr><th></th><th scope=col>stat</th><th scope=col>estimate</th><th scope=col>%CI</th><th scope=col>lower</th><th scope=col>upper</th></tr>\n",
       "\t<tr><th></th><th scope=col>&lt;chr&gt;</th><th scope=col>&lt;dbl&gt;</th><th scope=col>&lt;dbl&gt;</th><th scope=col>&lt;dbl&gt;</th><th scope=col>&lt;dbl&gt;</th></tr>\n",
       "</thead>\n",
       "<tbody>\n",
       "\t<tr><th scope=row></th><td>mean</td><td>37.31</td><td>95</td><td>37.22</td><td>37.42</td></tr>\n",
       "</tbody>\n",
       "</table>\n"
      ],
      "text/latex": [
       "A data.frame: 1 × 5\n",
       "\\begin{tabular}{r|lllll}\n",
       "  & stat & estimate & \\%CI & lower & upper\\\\\n",
       "  & <chr> & <dbl> & <dbl> & <dbl> & <dbl>\\\\\n",
       "\\hline\n",
       "\t & mean & 37.31 & 95 & 37.22 & 37.42\\\\\n",
       "\\end{tabular}\n"
      ],
      "text/markdown": [
       "\n",
       "A data.frame: 1 × 5\n",
       "\n",
       "| <!--/--> | stat &lt;chr&gt; | estimate &lt;dbl&gt; | %CI &lt;dbl&gt; | lower &lt;dbl&gt; | upper &lt;dbl&gt; |\n",
       "|---|---|---|---|---|---|\n",
       "| <!----> | mean | 37.31 | 95 | 37.22 | 37.42 |\n",
       "\n"
      ],
      "text/plain": [
       " stat estimate %CI lower upper\n",
       " mean 37.31    95  37.22 37.42"
      ]
     },
     "metadata": {},
     "output_type": "display_data"
    }
   ],
   "source": [
    "#| code-fold: true\n",
    "Bernard %$% bst(temp10)"
   ]
  },
  {
   "cell_type": "markdown",
   "metadata": {},
   "source": [
    "# Tests for Means\n",
    "\n",
    "## One-sample $t$-tests\n",
    "\n",
    "Perform the following two-sided one-sample $t$-test, where the normal core temperature is 37$^{\\circ}C$. Note that because sepsis was diagnosed in this case by a set of symptoms, including fever, you would be very surprised if there were no evidence of a difference between the mean baseline temperature of sepsis patients and the normal body temperature.\n",
    "\n",
    "If we define $\\bar x$ as the mean baseline temperature, our two hypotheses are:\n",
    "\n",
    "-   $H_0: \\bar x = 37^{\\circ}C$\n",
    "-   $H_A: \\bar x \\neq 37^{\\circ}C$\n",
    "\n",
    "Look at the help file for `t.test` to familiarise yourself with its options. The function uses, by default, a two-sided test with a significant $\\alpha=0.05$ (95% CI)."
   ]
  },
  {
   "cell_type": "code",
   "execution_count": 8,
   "metadata": {
    "vscode": {
     "languageId": "r"
    }
   },
   "outputs": [
    {
     "data": {
      "text/html": [
       "<table class=\"dataframe\">\n",
       "<caption>A rstatix_test: 1 × 12</caption>\n",
       "<thead>\n",
       "\t<tr><th></th><th scope=col>estimate</th><th scope=col>.y.</th><th scope=col>group1</th><th scope=col>group2</th><th scope=col>n</th><th scope=col>statistic</th><th scope=col>p</th><th scope=col>df</th><th scope=col>conf.low</th><th scope=col>conf.high</th><th scope=col>method</th><th scope=col>alternative</th></tr>\n",
       "\t<tr><th></th><th scope=col>&lt;dbl&gt;</th><th scope=col>&lt;chr&gt;</th><th scope=col>&lt;chr&gt;</th><th scope=col>&lt;chr&gt;</th><th scope=col>&lt;int&gt;</th><th scope=col>&lt;dbl&gt;</th><th scope=col>&lt;dbl&gt;</th><th scope=col>&lt;dbl&gt;</th><th scope=col>&lt;dbl&gt;</th><th scope=col>&lt;dbl&gt;</th><th scope=col>&lt;chr&gt;</th><th scope=col>&lt;chr&gt;</th></tr>\n",
       "</thead>\n",
       "<tbody>\n",
       "\t<tr><th scope=row>mean of x</th><td>38.01492</td><td>temp0</td><td>1</td><td>null model</td><td>455</td><td>19.23306</td><td>9.84e-61</td><td>454</td><td>37.91122</td><td>38.11862</td><td>T-test</td><td>two.sided</td></tr>\n",
       "</tbody>\n",
       "</table>\n"
      ],
      "text/latex": [
       "A rstatix\\_test: 1 × 12\n",
       "\\begin{tabular}{r|llllllllllll}\n",
       "  & estimate & .y. & group1 & group2 & n & statistic & p & df & conf.low & conf.high & method & alternative\\\\\n",
       "  & <dbl> & <chr> & <chr> & <chr> & <int> & <dbl> & <dbl> & <dbl> & <dbl> & <dbl> & <chr> & <chr>\\\\\n",
       "\\hline\n",
       "\tmean of x & 38.01492 & temp0 & 1 & null model & 455 & 19.23306 & 9.84e-61 & 454 & 37.91122 & 38.11862 & T-test & two.sided\\\\\n",
       "\\end{tabular}\n"
      ],
      "text/markdown": [
       "\n",
       "A rstatix_test: 1 × 12\n",
       "\n",
       "| <!--/--> | estimate &lt;dbl&gt; | .y. &lt;chr&gt; | group1 &lt;chr&gt; | group2 &lt;chr&gt; | n &lt;int&gt; | statistic &lt;dbl&gt; | p &lt;dbl&gt; | df &lt;dbl&gt; | conf.low &lt;dbl&gt; | conf.high &lt;dbl&gt; | method &lt;chr&gt; | alternative &lt;chr&gt; |\n",
       "|---|---|---|---|---|---|---|---|---|---|---|---|---|\n",
       "| mean of x | 38.01492 | temp0 | 1 | null model | 455 | 19.23306 | 9.84e-61 | 454 | 37.91122 | 38.11862 | T-test | two.sided |\n",
       "\n"
      ],
      "text/plain": [
       "          estimate .y.   group1 group2     n   statistic p        df  conf.low\n",
       "mean of x 38.01492 temp0 1      null model 455 19.23306  9.84e-61 454 37.91122\n",
       "          conf.high method alternative\n",
       "mean of x 38.11862  T-test two.sided  "
      ]
     },
     "metadata": {},
     "output_type": "display_data"
    }
   ],
   "source": [
    "Bernard |>\n",
    "  t_test(temp0 ~ 1, mu = 37, detailed = TRUE)"
   ]
  },
  {
   "cell_type": "markdown",
   "metadata": {},
   "source": [
    "::: callout-important\n",
    "## Interpretation\n",
    "\n",
    "We are making a one-sample test, comparing the mean baseline temperature against the mean reference value of $\\mu$ = 37 $^{\\circ}C$. Because the test is two-sided, we reject the null hypothesis if our mean value is significantly greater or less than $\\mu$ = 37 $^{\\circ}C$. The probability of observing a mean baseline temperature of $\\bar x$ = 37 $^{\\circ}C$ in our sample is $p$ \\< 0.001. The mean baseline temperature in our sample was $\\bar x$ = 38.0 $^{\\circ}C$ (95% CI: 37.9 $^{\\circ}C$, 38.1 $^{\\circ}C$).\n",
    "\n",
    ":::"
   ]
  },
  {
   "cell_type": "markdown",
   "metadata": {},
   "source": [
    "One of the one-sample $ t$-test's assumptions is that the variable's distribution is normal. Was that the case?"
   ]
  },
  {
   "cell_type": "code",
   "execution_count": 9,
   "metadata": {
    "vscode": {
     "languageId": "r"
    }
   },
   "outputs": [
    {
     "data": {
      "image/png": "[encoded data removed]",
      "text/plain": [
       "plot without title"
      ]
     },
     "metadata": {
      "image/png": {
       "height": 240,
       "width": 360
      }
     },
     "output_type": "display_data"
    }
   ],
   "source": [
    "#| label: fig-fig2\n",
    "#| fig-cap: \"Distribution of baseline temperatures for the `Bernard` data set. (a) Histogram with a superimposed normal curve. (b) QQ-plot against the standard normal distribution.\"\n",
    "p1 = Bernard |>\n",
    "  hist_norm(~ temp0, bins = 30, fill = \"thistle3\") |>\n",
    "  gf_labs(x = btemp)\n",
    "\n",
    "p2 = Bernard |>\n",
    "  qq_plot(~ temp0) |>\n",
    "  gf_labs(y = btemp)\n",
    "\n",
    "plots(p1, p2, n_columns = 2, tags = \"a\")"
   ]
  },
  {
   "cell_type": "markdown",
   "metadata": {},
   "source": [
    "::: callout-important\n",
    "## Interpretation\n",
    "\n",
    "Baseline temperature deviates from normality. Lower temperatures are particularly unlikely to come from a normal distribution.\n",
    "\n",
    ":::"
   ]
  },
  {
   "cell_type": "markdown",
   "metadata": {},
   "source": [
    "Our sample is large enough not to worry about small deviations from normality. In healthy subjects, the temperature would be expected to be centred and normally distributed. Later in this lab, when we have concerns about the $t$-test, we will look at options."
   ]
  },
  {
   "cell_type": "markdown",
   "metadata": {},
   "source": [
    "## Paired $t$-tests"
   ]
  },
  {
   "cell_type": "markdown",
   "metadata": {
    "vscode": {
     "languageId": "r"
    }
   },
   "source": [
    "::: callout-tip\n",
    "## Example\n",
    "\n",
    "Let's assume we want to know if there was a significant decrease in the mean temperature at 36 hours in the Placebo group. The $t$-test assumes that data is independent. In this example, the same subjects were measured twice: at baseline and 36 hours. This is a classic example of a paired analysis.\n",
    "\n",
    ":::"
   ]
  },
  {
   "cell_type": "markdown",
   "metadata": {},
   "source": [
    "We want to understand what a paired $ t$ test does; therefore, to make things clearer, we will go the long route before performing the test."
   ]
  },
  {
   "cell_type": "markdown",
   "metadata": {},
   "source": [
    "::: callout-caution\n",
    "## Exercise\n",
    "\n",
    "Calculate the change in temperature from baseline (`temp0`) to 36 hours (`temp10`), calling the new variable `temp_change`. Based on the order of subtraction you used, think about whether an increase in temperature from baseline to 36 hours should be represented by a positive or a negative value in `temp_change` (e.g. I always use Final-Baseline and then interpret the sign: a positive sign implies increase, a negative one, decrease).\n",
    "\n",
    ":::"
   ]
  },
  {
   "cell_type": "code",
   "execution_count": 10,
   "metadata": {},
   "outputs": [],
   "source": [
    "#| code-fold: true\n",
    "Bernard = Bernard |>\n",
    "  mutate(\n",
    "    temp_change = temp10 - temp0\n",
    "  ) |>\n",
    "  var_labels(\n",
    "    temp_change = \"Temperature change (final - baseline)\"\n",
    "  )"
   ]
  },
  {
   "cell_type": "markdown",
   "metadata": {},
   "source": [
    "We can estimate the 95% CI of `temp_change`, stratified by treatment group."
   ]
  },
  {
   "cell_type": "code",
   "execution_count": 11,
   "metadata": {},
   "outputs": [
    {
     "data": {
      "text/html": [
       "<table class=\"dataframe\">\n",
       "<caption>A data.frame: 2 × 4</caption>\n",
       "<thead>\n",
       "\t<tr><th scope=col>Temperature change (final - baseline)</th><th scope=col>LowerCI</th><th scope=col>UpperCI</th><th scope=col>Treatment</th></tr>\n",
       "\t<tr><th scope=col>&lt;dbl&gt;</th><th scope=col>&lt;dbl&gt;</th><th scope=col>&lt;dbl&gt;</th><th scope=col>&lt;fct&gt;</th></tr>\n",
       "</thead>\n",
       "<tbody>\n",
       "\t<tr><td>-0.50</td><td>-0.64</td><td>-0.35</td><td>Placebo  </td></tr>\n",
       "\t<tr><td>-1.03</td><td>-1.19</td><td>-0.87</td><td>Ibuprofen</td></tr>\n",
       "</tbody>\n",
       "</table>\n"
      ],
      "text/latex": [
       "A data.frame: 2 × 4\n",
       "\\begin{tabular}{llll}\n",
       " Temperature change (final - baseline) & LowerCI & UpperCI & Treatment\\\\\n",
       " <dbl> & <dbl> & <dbl> & <fct>\\\\\n",
       "\\hline\n",
       "\t -0.50 & -0.64 & -0.35 & Placebo  \\\\\n",
       "\t -1.03 & -1.19 & -0.87 & Ibuprofen\\\\\n",
       "\\end{tabular}\n"
      ],
      "text/markdown": [
       "\n",
       "A data.frame: 2 × 4\n",
       "\n",
       "| Temperature change (final - baseline) &lt;dbl&gt; | LowerCI &lt;dbl&gt; | UpperCI &lt;dbl&gt; | Treatment &lt;fct&gt; |\n",
       "|---|---|---|---|\n",
       "| -0.50 | -0.64 | -0.35 | Placebo   |\n",
       "| -1.03 | -1.19 | -0.87 | Ibuprofen |\n",
       "\n"
      ],
      "text/plain": [
       "  Temperature change (final - baseline) LowerCI UpperCI Treatment\n",
       "1 -0.50                                 -0.64   -0.35   Placebo  \n",
       "2 -1.03                                 -1.19   -0.87   Ibuprofen"
      ]
     },
     "metadata": {},
     "output_type": "display_data"
    }
   ],
   "source": [
    "Bernard |>\n",
    "  gen_bst_df(~ temp_change|treat)"
   ]
  },
  {
   "cell_type": "markdown",
   "metadata": {},
   "source": [
    "::: callout-warning\n",
    "## Question\n",
    "\n",
    "What do you conclude from the 95% CI for the temperature change in the placebo group?\n",
    "\n",
    ":::"
   ]
  },
  {
   "cell_type": "markdown",
   "metadata": {},
   "source": [
    "::: callout-note\n",
    "## Answer\n",
    "\n",
    "The mean decrease in temperature from baseline to 36 hr in the placebo group was 0.50 $^{\\circ}C$ (95% CI: 0.36 $^{\\circ}C$, 0.64 $^{\\circ}C$). There was a significant placebo effect as the 95% CI for the temperature change in the placebo group did not include the null value of zero.\n",
    "\n",
    ":::"
   ]
  },
  {
   "cell_type": "markdown",
   "metadata": {},
   "source": [
    "We will make a two-sided one-sample $t$-test on temperature change for the placebo group. If we define $\\bar x_{cp}$ as the mean temperature change in the placebo group, then our hypotheses are:\n",
    "\n",
    "-   $H_0: \\bar x_{cp}=0$\n",
    "-   $H_A: \\bar x_{cp} \\neq 0$\n"
   ]
  },
  {
   "cell_type": "code",
   "execution_count": 12,
   "metadata": {},
   "outputs": [
    {
     "data": {
      "text/html": [
       "<table class=\"dataframe\">\n",
       "<caption>A rstatix_test: 1 × 12</caption>\n",
       "<thead>\n",
       "\t<tr><th></th><th scope=col>estimate</th><th scope=col>.y.</th><th scope=col>group1</th><th scope=col>group2</th><th scope=col>n</th><th scope=col>statistic</th><th scope=col>p</th><th scope=col>df</th><th scope=col>conf.low</th><th scope=col>conf.high</th><th scope=col>method</th><th scope=col>alternative</th></tr>\n",
       "\t<tr><th></th><th scope=col>&lt;dbl&gt;</th><th scope=col>&lt;chr&gt;</th><th scope=col>&lt;chr&gt;</th><th scope=col>&lt;chr&gt;</th><th scope=col>&lt;int&gt;</th><th scope=col>&lt;dbl&gt;</th><th scope=col>&lt;dbl&gt;</th><th scope=col>&lt;dbl&gt;</th><th scope=col>&lt;dbl&gt;</th><th scope=col>&lt;dbl&gt;</th><th scope=col>&lt;chr&gt;</th><th scope=col>&lt;chr&gt;</th></tr>\n",
       "</thead>\n",
       "<tbody>\n",
       "\t<tr><th scope=row>mean of x</th><td>-0.4985628</td><td>temp_change</td><td>1</td><td>null model</td><td>201</td><td>-6.816055</td><td>1.08e-10</td><td>200</td><td>-0.6427979</td><td>-0.3543277</td><td>T-test</td><td>two.sided</td></tr>\n",
       "</tbody>\n",
       "</table>\n"
      ],
      "text/latex": [
       "A rstatix\\_test: 1 × 12\n",
       "\\begin{tabular}{r|llllllllllll}\n",
       "  & estimate & .y. & group1 & group2 & n & statistic & p & df & conf.low & conf.high & method & alternative\\\\\n",
       "  & <dbl> & <chr> & <chr> & <chr> & <int> & <dbl> & <dbl> & <dbl> & <dbl> & <dbl> & <chr> & <chr>\\\\\n",
       "\\hline\n",
       "\tmean of x & -0.4985628 & temp\\_change & 1 & null model & 201 & -6.816055 & 1.08e-10 & 200 & -0.6427979 & -0.3543277 & T-test & two.sided\\\\\n",
       "\\end{tabular}\n"
      ],
      "text/markdown": [
       "\n",
       "A rstatix_test: 1 × 12\n",
       "\n",
       "| <!--/--> | estimate &lt;dbl&gt; | .y. &lt;chr&gt; | group1 &lt;chr&gt; | group2 &lt;chr&gt; | n &lt;int&gt; | statistic &lt;dbl&gt; | p &lt;dbl&gt; | df &lt;dbl&gt; | conf.low &lt;dbl&gt; | conf.high &lt;dbl&gt; | method &lt;chr&gt; | alternative &lt;chr&gt; |\n",
       "|---|---|---|---|---|---|---|---|---|---|---|---|---|\n",
       "| mean of x | -0.4985628 | temp_change | 1 | null model | 201 | -6.816055 | 1.08e-10 | 200 | -0.6427979 | -0.3543277 | T-test | two.sided |\n",
       "\n"
      ],
      "text/plain": [
       "          estimate   .y.         group1 group2     n   statistic p        df \n",
       "mean of x -0.4985628 temp_change 1      null model 201 -6.816055 1.08e-10 200\n",
       "          conf.low   conf.high  method alternative\n",
       "mean of x -0.6427979 -0.3543277 T-test two.sided  "
      ]
     },
     "metadata": {},
     "output_type": "display_data"
    }
   ],
   "source": [
    "Bernard |>\n",
    "  filter(treat == \"Placebo\") |>\n",
    "  t_test(temp_change ~ 1, detailed = TRUE)"
   ]
  },
  {
   "cell_type": "markdown",
   "metadata": {},
   "source": [
    "For a paired test, we do not need to generate the vector of differences (`temp_change`), we just state that the test is paired. The sign of the result will depend on the order of the variables in the command.\n",
    "\n",
    "If we define $\\bar x_{bp}$ as the mean baseline temperature in the placebo group and $\\bar x_{fp}$ as the final temperature in the placebo group, our hypotheses are:\n",
    "\n",
    "-   $H_0: \\bar x_{fp} - \\bar x_{bp} = 0$\n",
    "-   $H_0: \\bar x_{fp} - \\bar x_{bp} \\neq 0$"
   ]
  },
  {
   "cell_type": "code",
   "execution_count": 14,
   "metadata": {},
   "outputs": [
    {
     "data": {
      "text/html": [
       "<table class=\"dataframe\">\n",
       "<caption>A data.frame: 1 × 13</caption>\n",
       "<thead>\n",
       "\t<tr><th></th><th scope=col>estimate</th><th scope=col>.y.</th><th scope=col>group1</th><th scope=col>group2</th><th scope=col>n1</th><th scope=col>n2</th><th scope=col>statistic</th><th scope=col>p</th><th scope=col>df</th><th scope=col>conf.low</th><th scope=col>conf.high</th><th scope=col>method</th><th scope=col>alternative</th></tr>\n",
       "\t<tr><th></th><th scope=col>&lt;dbl&gt;</th><th scope=col>&lt;chr&gt;</th><th scope=col>&lt;chr&gt;</th><th scope=col>&lt;chr&gt;</th><th scope=col>&lt;dbl&gt;</th><th scope=col>&lt;dbl&gt;</th><th scope=col>&lt;dbl&gt;</th><th scope=col>&lt;dbl&gt;</th><th scope=col>&lt;dbl&gt;</th><th scope=col>&lt;dbl&gt;</th><th scope=col>&lt;dbl&gt;</th><th scope=col>&lt;chr&gt;</th><th scope=col>&lt;chr&gt;</th></tr>\n",
       "</thead>\n",
       "<tbody>\n",
       "\t<tr><th scope=row>1</th><td>0.5</td><td>Temperature</td><td>temp0</td><td>temp10</td><td>231</td><td>201</td><td>6.82</td><td>0</td><td>200</td><td>0.35</td><td>0.64</td><td>T-test</td><td>two.sided</td></tr>\n",
       "</tbody>\n",
       "</table>\n"
      ],
      "text/latex": [
       "A data.frame: 1 × 13\n",
       "\\begin{tabular}{r|lllllllllllll}\n",
       "  & estimate & .y. & group1 & group2 & n1 & n2 & statistic & p & df & conf.low & conf.high & method & alternative\\\\\n",
       "  & <dbl> & <chr> & <chr> & <chr> & <dbl> & <dbl> & <dbl> & <dbl> & <dbl> & <dbl> & <dbl> & <chr> & <chr>\\\\\n",
       "\\hline\n",
       "\t1 & 0.5 & Temperature & temp0 & temp10 & 231 & 201 & 6.82 & 0 & 200 & 0.35 & 0.64 & T-test & two.sided\\\\\n",
       "\\end{tabular}\n"
      ],
      "text/markdown": [
       "\n",
       "A data.frame: 1 × 13\n",
       "\n",
       "| <!--/--> | estimate &lt;dbl&gt; | .y. &lt;chr&gt; | group1 &lt;chr&gt; | group2 &lt;chr&gt; | n1 &lt;dbl&gt; | n2 &lt;dbl&gt; | statistic &lt;dbl&gt; | p &lt;dbl&gt; | df &lt;dbl&gt; | conf.low &lt;dbl&gt; | conf.high &lt;dbl&gt; | method &lt;chr&gt; | alternative &lt;chr&gt; |\n",
       "|---|---|---|---|---|---|---|---|---|---|---|---|---|---|\n",
       "| 1 | 0.5 | Temperature | temp0 | temp10 | 231 | 201 | 6.82 | 0 | 200 | 0.35 | 0.64 | T-test | two.sided |\n",
       "\n"
      ],
      "text/plain": [
       "  estimate .y.         group1 group2 n1  n2  statistic p df  conf.low conf.high\n",
       "1 0.5      Temperature temp0  temp10 231 201 6.82      0 200 0.35     0.64     \n",
       "  method alternative\n",
       "1 T-test two.sided  "
      ]
     },
     "metadata": {},
     "output_type": "display_data"
    }
   ],
   "source": [
    "Bernard |>\n",
    "  filter(treat == \"Placebo\") |>\n",
    "  pivot_longer(\n",
    "    cols = c(temp10, temp0),\n",
    "    names_to = \"Time\",\n",
    "    values_to = \"Temperature\"\n",
    "  ) |>\n",
    "  t_test(Temperature ~ Time, paired = TRUE, detailed = TRUE) |>\n",
    "  as.data.frame() |>\n",
    "  sjmisc::round_num(2)"
   ]
  },
  {
   "cell_type": "markdown",
   "metadata": {},
   "source": [
    "::: callout-tip\n",
    "## Exercise\n",
    "\n",
    "Construct a QQ-plot of `temp_change` from subjects in the placebo group, against the standard normal distribution to check for the normality assumption.\n",
    "\n",
    ":::"
   ]
  },
  {
   "cell_type": "code",
   "execution_count": 15,
   "metadata": {},
   "outputs": [
    {
     "data": {
      "image/png": "[encoded data removed]",
      "text/plain": [
       "plot without title"
      ]
     },
     "metadata": {
      "image/png": {
       "height": 240,
       "width": 360
      }
     },
     "output_type": "display_data"
    }
   ],
   "source": [
    "Bernard |>\n",
    "  select(temp_change) %>% na.omit() |>\n",
    "  qq_plot(~ temp_change)"
   ]
  }
 ],
 "metadata": {
  "kernelspec": {
   "display_name": "R",
   "language": "R",
   "name": "ir"
  },
  "language_info": {
   "codemirror_mode": "r",
   "file_extension": ".r",
   "mimetype": "text/x-r-source",
   "name": "R",
   "pygments_lexer": "r",
   "version": "4.4.1"
  }
 },
 "nbformat": 4,
 "nbformat_minor": 4
}
