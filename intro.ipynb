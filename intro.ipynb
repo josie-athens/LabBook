{
 "cells": [
  {
   "cell_type": "raw",
   "metadata": {},
   "source": [
    "---\n",
    "title: \"Data Frames\"\n",
    "author: Josie Athens\n",
    "date: today\n",
    "highlight-style: ayu\n",
    "format:\n",
    "  html:\n",
    "    code-fold: false\n",
    "    theme: mint\n",
    "    toc: true\n",
    "    number-sections: true\n",
    "    toc-title: Contents\n",
    "    smooth-scroll: true\n",
    "    embed-resources: true\n",
    "execute: \n",
    "  cache: true\n",
    "  warning: false\n",
    "---"
   ]
  },
  {
   "cell_type": "markdown",
   "metadata": {},
   "source": [
    "# [📖 Main Menu](index.html)"
   ]
  },
  {
   "cell_type": "code",
   "execution_count": 1,
   "metadata": {
    "collapsed": true,
    "jupyter": {
     "outputs_hidden": true
    },
    "mesagge": false,
    "results": "hide",
    "vscode": {
     "languageId": "r"
    }
   },
   "outputs": [
    {
     "name": "stderr",
     "output_type": "stream",
     "text": [
      "── \u001b[1mAttaching core tidyverse packages\u001b[22m ─────────────────────────────────── tidyverse 2.0.0 ──\n",
      "\u001b[32m✔\u001b[39m \u001b[34mdplyr    \u001b[39m 1.1.4     \u001b[32m✔\u001b[39m \u001b[34mreadr    \u001b[39m 2.1.5\n",
      "\u001b[32m✔\u001b[39m \u001b[34mforcats  \u001b[39m 1.0.0     \u001b[32m✔\u001b[39m \u001b[34mstringr  \u001b[39m 1.5.1\n",
      "\u001b[32m✔\u001b[39m \u001b[34mggplot2  \u001b[39m 3.5.1     \u001b[32m✔\u001b[39m \u001b[34mtibble   \u001b[39m 3.2.1\n",
      "\u001b[32m✔\u001b[39m \u001b[34mlubridate\u001b[39m 1.9.3     \u001b[32m✔\u001b[39m \u001b[34mtidyr    \u001b[39m 1.3.1\n",
      "\u001b[32m✔\u001b[39m \u001b[34mpurrr    \u001b[39m 1.0.2     \n",
      "── \u001b[1mConflicts\u001b[22m ───────────────────────────────────────────────────── tidyverse_conflicts() ──\n",
      "\u001b[31m✖\u001b[39m \u001b[34mdplyr\u001b[39m::\u001b[32mfilter()\u001b[39m masks \u001b[34mstats\u001b[39m::filter()\n",
      "\u001b[31m✖\u001b[39m \u001b[34mdplyr\u001b[39m::\u001b[32mlag()\u001b[39m    masks \u001b[34mstats\u001b[39m::lag()\n",
      "\u001b[36mℹ\u001b[39m Use the conflicted package (\u001b[3m\u001b[34m<http://conflicted.r-lib.org/>\u001b[39m\u001b[23m) to force all conflicts to become errors\n",
      "\n",
      "Attaching package: ‘rstatix’\n",
      "\n",
      "\n",
      "The following object is masked from ‘package:stats’:\n",
      "\n",
      "    filter\n",
      "\n",
      "\n",
      "\u001b[34m# Attaching packages: easystats 0.7.1\u001b[39m\n",
      "\u001b[32m✔ \u001b[39m\u001b[37mbayestestR \u001b[39m \u001b[32m0.13.2 \u001b[39m   \u001b[32m✔ \u001b[39m\u001b[37mcorrelation\u001b[39m \u001b[32m0.8.4  \u001b[39m\n",
      "\u001b[32m✔ \u001b[39m\u001b[37mdatawizard \u001b[39m \u001b[32m0.10.0 \u001b[39m   \u001b[32m✔ \u001b[39m\u001b[37meffectsize \u001b[39m \u001b[32m0.8.8  \u001b[39m\n",
      "\u001b[32m✔ \u001b[39m\u001b[37minsight    \u001b[39m \u001b[32m0.19.11\u001b[39m   \u001b[32m✔ \u001b[39m\u001b[37mmodelbased \u001b[39m \u001b[32m0.8.7  \u001b[39m\n",
      "\u001b[32m✔ \u001b[39m\u001b[37mperformance\u001b[39m \u001b[32m0.11.0 \u001b[39m   \u001b[32m✔ \u001b[39m\u001b[37mparameters \u001b[39m \u001b[32m0.21.7 \u001b[39m\n",
      "\u001b[32m✔ \u001b[39m\u001b[37mreport     \u001b[39m \u001b[32m0.5.8  \u001b[39m   \u001b[32m✔ \u001b[39m\u001b[37msee        \u001b[39m \u001b[32m0.8.4  \u001b[39m\n",
      "\n",
      "\n",
      "\n",
      "Attaching package: ‘ggpubr’\n",
      "\n",
      "\n",
      "The following objects are masked from ‘package:datawizard’:\n",
      "\n",
      "    mean_sd, median_mad\n",
      "\n",
      "\n",
      "\n",
      "Attaching package: ‘jtools’\n",
      "\n",
      "\n",
      "The following object is masked from ‘package:modelbased’:\n",
      "\n",
      "    standardize\n",
      "\n",
      "\n",
      "The following objects are masked from ‘package:insight’:\n",
      "\n",
      "    get_data, get_weights\n",
      "\n",
      "\n",
      "The following object is masked from ‘package:effectsize’:\n",
      "\n",
      "    standardize\n",
      "\n",
      "\n",
      "The following objects are masked from ‘package:datawizard’:\n",
      "\n",
      "    center, standardize\n",
      "\n",
      "\n",
      "Loading required package: emmeans\n",
      "\n",
      "Warning message:\n",
      "“package ‘emmeans’ was built under R version 4.3.3”\n",
      "Welcome to emmeans.\n",
      "Caution: You lose important information if you filter this package's results.\n",
      "See '? untidy'\n",
      "\n",
      "Loading required package: ggformula\n",
      "\n",
      "Loading required package: scales\n",
      "\n",
      "\n",
      "Attaching package: ‘scales’\n",
      "\n",
      "\n",
      "The following object is masked from ‘package:datawizard’:\n",
      "\n",
      "    rescale\n",
      "\n",
      "\n",
      "The following object is masked from ‘package:purrr’:\n",
      "\n",
      "    discard\n",
      "\n",
      "\n",
      "The following object is masked from ‘package:readr’:\n",
      "\n",
      "    col_factor\n",
      "\n",
      "\n",
      "Loading required package: ggridges\n",
      "\n",
      "\n",
      "New to ggformula?  Try the tutorials: \n",
      "\tlearnr::run_tutorial(\"introduction\", package = \"ggformula\")\n",
      "\tlearnr::run_tutorial(\"refining\", package = \"ggformula\")\n",
      "\n",
      "Loading required package: gtsummary\n",
      "\n",
      "Loading required package: huxtable\n",
      "\n",
      "\n",
      "Attaching package: ‘huxtable’\n",
      "\n",
      "\n",
      "The following object is masked from ‘package:gtsummary’:\n",
      "\n",
      "    as_flextable\n",
      "\n",
      "\n",
      "The following object is masked from ‘package:scales’:\n",
      "\n",
      "    number_format\n",
      "\n",
      "\n",
      "The following object is masked from ‘package:ggpubr’:\n",
      "\n",
      "    font\n",
      "\n",
      "\n",
      "The following objects are masked from ‘package:report’:\n",
      "\n",
      "    print_html, print_md\n",
      "\n",
      "\n",
      "The following objects are masked from ‘package:parameters’:\n",
      "\n",
      "    print_html, print_md\n",
      "\n",
      "\n",
      "The following objects are masked from ‘package:performance’:\n",
      "\n",
      "    print_html, print_md\n",
      "\n",
      "\n",
      "The following object is masked from ‘package:modelbased’:\n",
      "\n",
      "    print_md\n",
      "\n",
      "\n",
      "The following objects are masked from ‘package:insight’:\n",
      "\n",
      "    print_html, print_md\n",
      "\n",
      "\n",
      "The following objects are masked from ‘package:effectsize’:\n",
      "\n",
      "    print_html, print_md\n",
      "\n",
      "\n",
      "The following objects are masked from ‘package:datawizard’:\n",
      "\n",
      "    print_html, print_md\n",
      "\n",
      "\n",
      "The following objects are masked from ‘package:correlation’:\n",
      "\n",
      "    print_html, print_md\n",
      "\n",
      "\n",
      "The following objects are masked from ‘package:bayestestR’:\n",
      "\n",
      "    print_html, print_md\n",
      "\n",
      "\n",
      "The following object is masked from ‘package:dplyr’:\n",
      "\n",
      "    add_rownames\n",
      "\n",
      "\n",
      "The following object is masked from ‘package:ggplot2’:\n",
      "\n",
      "    theme_grey\n",
      "\n",
      "\n",
      "Loading required package: magrittr\n",
      "\n",
      "\n",
      "Attaching package: ‘magrittr’\n",
      "\n",
      "\n",
      "The following object is masked from ‘package:purrr’:\n",
      "\n",
      "    set_names\n",
      "\n",
      "\n",
      "The following object is masked from ‘package:tidyr’:\n",
      "\n",
      "    extract\n",
      "\n",
      "\n",
      "\n",
      "Attaching package: ‘sjlabelled’\n",
      "\n",
      "\n",
      "The following object is masked from ‘package:huxtable’:\n",
      "\n",
      "    set_label\n",
      "\n",
      "\n",
      "The following objects are masked from ‘package:datawizard’:\n",
      "\n",
      "    to_factor, to_numeric\n",
      "\n",
      "\n",
      "The following object is masked from ‘package:forcats’:\n",
      "\n",
      "    as_factor\n",
      "\n",
      "\n",
      "The following object is masked from ‘package:dplyr’:\n",
      "\n",
      "    as_label\n",
      "\n",
      "\n",
      "The following object is masked from ‘package:ggplot2’:\n",
      "\n",
      "    as_label\n",
      "\n",
      "\n"
     ]
    }
   ],
   "source": [
    "#| output: false\n",
    "rm(list = ls())\n",
    "library(tidyverse)\n",
    "library(rstatix)\n",
    "library(easystats)\n",
    "library(ggfortify)\n",
    "library(ggpubr)\n",
    "library(jtools)\n",
    "library(pubh)\n",
    "library(sjlabelled)\n",
    "\n",
    "import::from(latex2exp, TeX)\n",
    "theme_set(see::theme_modern(base_size = 10))\n",
    "options('huxtable.knit_print_df' = FALSE)\n",
    "options('huxtable.autoformat_number_format' = list(numeric = \"%5.2f\"))"
   ]
  },
  {
   "cell_type": "markdown",
   "metadata": {},
   "source": [
    "# Overview\n",
    "\n",
    "The first step in data analysis that involves `R` will be acquiring your data in an appropriate format, either by entering it directly into `R`, importing it from a spreadsheet or other format, or by opening a pre-existing `R` data file.\n",
    "\n",
    "In this laboratory, we will look at performing simple data handling in `R`. The most important part of this lab is to get you familiar with the software.\n",
    "\n",
    "Once you have completed this lab, you should feel comfortable:\n",
    "\n",
    "-   Creating variables in `R`.\n",
    "-   Understanding the difference between continuous variables and categorical ones (factors).\n",
    "-   Transforming data (e.g., converting from pounds to kilograms, calculating BMIs from weights and heights, log transformations, etc.).\n",
    "-   Extracting subsets of your data.\n",
    "-   Assigning labels to variables and categories within variables.\n",
    "-   Saving your data.\n",
    "-   Using `R`'s help system.\n",
    "-   Importing data in `R` from an Excel spreadsheet.\n",
    "-   Creating script files.\n",
    "\n",
    "## Summary of New Commands\n",
    "\n",
    "| **Command**          | **Library**  | **Function**                                               |\n",
    "|----------------------|--------------|------------------------------------------------------------|\n",
    "| **%\\$%**             | *magrittr*   | Exposition pipe operator                                   |\n",
    "| **\\|>**             | *base*   | Forward pipe operator                                      |\n",
    "| **%in%**             | *base*       | Value matching                                             |\n",
    "| **as_tibble**        | *tibble*     | Coerces objects into tibbles                               |\n",
    "| **c**                | *base*       | Concatenates values                                        |\n",
    "| **copy_labels**      | *sjlabelled* | Copies labels from a data frame                            |\n",
    "| **count**            | *dplyr*      | Counts observations by group                               |\n",
    "| **data**             | *base*       | Loads data from `R` packages                               |\n",
    "|**data_codebook** | *datawizard*  | Generates codebooks from data frames\n",
    "| **factor**           | *base*       | Defines *factors*                                          |\n",
    "| **filter**           | *dplyr*      | Filters data frames, given conditions                      |\n",
    "| **freq_table**       | *rstatix*    | Frequency tables for categorical variables                 |\n",
    "| **glimpse**          | *tibble*     | Displays information about a dataset                       |\n",
    "| **head**             | *base*       | First rows of a data frame                                 |\n",
    "| **help (?)**         | *base*       | Help function                                              |\n",
    "| **install.packages** | *utils*      | Installs packages in the system                            |\n",
    "| **is.factor**        | *base*       | Evaluates if a variable is a factor or not                 |\n",
    "| **library**          | *base*       | Loads (attaches) functions from a package                  |\n",
    "| **length**           | *base*       | Number of observations in a variable                       |\n",
    "| **levels**           | *base*       | Levels of categorical variables                            |\n",
    "| **mutate**           | *dplyr*      | Transforms/generates variables                             |\n",
    "| **mean**             | base         | Calculates the arithmetic mean                             |\n",
    "| **max**              | base         | Calculates maximum value                                   |\n",
    "| **names**            | *base*       | Column names of variables in a data frame                  |\n",
    "| **nrow**             | *base*       | Number of rows (observations) in data frames               |\n",
    "| **read_csv**         | *readr*      | Loads files with `csv` format/extension                    |\n",
    "| **read_rds**         | *readr*      | Loads RDS files                                            |\n",
    "| **relevel**          | *base*       | Changes the reference category                             |\n",
    "| **rep**              | *base*       | Replicates numbers or characters                           |\n",
    "| **rm**               | *base*       | Deletes (*removes*) objects from the workspace             |\n",
    "| **round**            | *base*       | Rounds variables                                           |\n",
    "| **RSiteSearch**      | *utils*      | Searches `R` functions in the web                          |\n",
    "| **select**           | *dplyr*      | Selects variables from a data frame or tibble              |\n",
    "| **setwd**            | *base*       | Sets the working directory (path)                          |\n",
    "| **tibble**           | *tibble*     | Constructs *tibbles*                                       |\n",
    "| **var_labels**       | *sjlabelled* | Assigns labels to variables                                |\n",
    "| **View**             | *utils*      | Displays data frames                                       |\n",
    "| **which**            | *base*       | Finds the positions where the stated conditionals are true |\n",
    "| **which.max**        | *base*       | Finds the position of the maximum value                    |\n",
    "| **with**             | *base*       | Evaluates commands in a defined data frame or tibble       |\n",
    "| **write_csv**        | *readr*      | Exports files with `csv` format/extension                  |\n",
    "| **write_rds**        | *readr*      | Writes RDS files                                           |\n",
    "\n",
    "## RStudio\n",
    "\n",
    "A typical session on `RStudio` would look something like:"
   ]
  },
  {
   "cell_type": "markdown",
   "metadata": {},
   "source": [
    "![RStudio displaying a typical .Rmd Markdown script file on the top left corner](figures/RStudio.png)"
   ]
  },
  {
   "cell_type": "markdown",
   "metadata": {},
   "source": [
    "`RStudio` can have up to four panels open (displaying information):\n",
    "\n",
    "1.  **Source** panel (top left). This panel shows the *script* files.\n",
    "2.  **Console** panel (bottom left). This panel is where you interact with the program to perform an analysis. It shows the path of the current working directory at the top.\n",
    "3.  **Workspace** panel (top right). You can select what to show in here. In the current example, it shows information about the workspace, like currently loaded objects (*Environment*) and the *History* of our commands.\n",
    "4.  **Display** panel (bottom right). You can select what to show in here. In the current example, it shows *Files*, the *Help* files, generated *Plots*, *Packages* available on your `R` installation and the *Viewer*.\n",
    "\n",
    "## Scripts\n",
    "\n",
    "Files that document our analysis are known as *scripts*, and they open on the *Source* panel. The standard script file has a `.R` extension and can be opened with any text editor."
   ]
  },
  {
   "cell_type": "markdown",
   "metadata": {},
   "source": [
    "![](figures/Script.png)"
   ]
  },
  {
   "cell_type": "markdown",
   "metadata": {},
   "source": [
    "The previous figure displays an example of a *script* file. These kind of files are intended to be read by `R`, so any text that is not part of a command, has to be *commented*. `R` will interpret anything written after a `#` (on the same line) as a comment.\n",
    "\n",
    "Let's clarify the first set of lines from the script file\n",
    "\n",
    "1.  The first line is a comment and gives the name of the file, so, it is not needed, but it is good to have.\n",
    "2.  The second line is a comment about the content of the script. It can be a short or long description. The important thing to remember is that once that you start a new line, for example for writing a different paragraph, you would need to include the `#` symbol at the beginning of each new line.\n",
    "3.  The third line is a comment about the author.\n",
    "4.  The fourth line is a comment about the date.\n",
    "5.  The sixth line sets the working directory. As explained in the preface, this can be done with the menus and it's not needed when working in `R` projects.\n",
    "6.  Line 7 loads the `pubh` package.\n",
    "7.  Line 9 estimates measures of association of the *exposure* `treat` on the *outcome* `fate` from the `Bernard` data set. \\#\\# Notebooks\n",
    "\n",
    "The disadvantage of `.R` scripts is that you cannot produce a single document with both the analysis and the results of such analysis. Notebooks, permit us to record text, commands and results (including plots). We will be using Notebooks to document our analysis on both *PUBH 725* and *PUBH 726*.\n",
    "\n",
    "We will start by creating a mock notebook, using the template that comes with the `pubh` package [@pubh]. Open `RStudio` and select `File > New File > R Markdown...`."
   ]
  },
  {
   "cell_type": "raw",
   "metadata": {},
   "source": [
    "::: callout-caution\n",
    "For this paper, I will use the term of **Notebooks** for R Markdown (`.Rmd`) documents. Do NOT select `File > New File > R Notebook` to create the Notebook.\n",
    ":::"
   ]
  },
  {
   "cell_type": "markdown",
   "metadata": {},
   "source": [
    "A window will pop-up like the one shown in the following figure, select: `From Template > PUBH Template`."
   ]
  },
  {
   "cell_type": "markdown",
   "metadata": {},
   "source": [
    "![](figures/Notebook1.png)"
   ]
  },
  {
   "cell_type": "markdown",
   "metadata": {},
   "source": [
    "Click `OK` or type the `Return` key. Have a look at the template; we will edit the script later. For the moment, Let's run the template as it is. To execute the Notebook, you only need to click on the `Knit` button which can be found in the *Source* panel. When you click *knit* (see **1** in the next figure) for the first time, it will ask for a name to save your file. Give a name like *Lab1*. The result will appear on the *Display* panel, and two files will be created: *Lab1.Rmd* is the script, and *Lab1.html* is the output that you can open with any web browser."
   ]
  },
  {
   "cell_type": "raw",
   "metadata": {},
   "source": [
    "::: callout-tip\n",
    "Word can also open *html* files.\n",
    ":::"
   ]
  },
  {
   "cell_type": "markdown",
   "metadata": {},
   "source": [
    "![](figures/SourcePanel.png)"
   ]
  },
  {
   "cell_type": "raw",
   "metadata": {},
   "source": [
    "::: callout-note\n",
    "Source panel for a Notebook. The following parts are highlighted: \n",
    "\n",
    "1. The *Knit* button to *compile* the file.\n",
    "2. The *Insert* button to insert `R` code. \n",
    "3. The *Run* button to pass *chunks* to the console. \n",
    "4. The *Outline* and *Markup* buttons. \n",
    "5. The desired output of the document. \n",
    "6. Cog button to access chunk options and buttons for running the *chunk*.\n",
    ":::"
   ]
  },
  {
   "cell_type": "markdown",
   "metadata": {},
   "source": [
    "Let's create the Notebook for the first laboratory. Change the title to *Data management* and edit the author field.\n",
    "\n",
    "Codes are inserted in sections called *chunks* or *blocks*. Go to the end of the script and click on `Insert > R` (see **2** ). Your cursor will be, by default, where you can insert your commands. The easiest thing to do is just to copy from the lab book and paste the code in the chunk.\n",
    "\n",
    "The option `message = FALSE` was added to the first chunk, to hide messages from the output. You can change the options from a chunk by clicking on the *Cog button* (see **6**). Compile the *RMardown* script by clicking on the *Knit* button (see **1**)."
   ]
  },
  {
   "cell_type": "raw",
   "metadata": {},
   "source": [
    "::: callout-tip\n",
    "For a quick reference on Markdown, go to `Help > Markdown Quick Reference`.\n",
    ":::"
   ]
  },
  {
   "cell_type": "markdown",
   "metadata": {},
   "source": [
    "When you *Knit* the document, it compiles the full document and displays the results on the *Display* panel. Sometimes, we want to check a particular command. For doing that, you can *transfer* your command from the *script* file by clicking on the small green arrow at the right of the code (see **3** and **6** ). Depending on your preferences, the results will show on the *Console* panel or directly in your script file."
   ]
  },
  {
   "cell_type": "raw",
   "metadata": {},
   "source": [
    "::: callout-warning\n",
    "The console has no history of what you *knit*, that means that if you are testing a particular code, on a dataset that has not been loaded yet on the *Console* panel, you will have an error message. To keep it safe, if you want to work in an interactive way with the *Console*,  run each *chunk* as you progress and *knit* only when you want to look at the whole document.\n",
    ":::"
   ]
  },
  {
   "cell_type": "markdown",
   "metadata": {},
   "source": [
    "## Accessing help\n",
    "\n",
    "When you do not know about the specific options or syntax of a particular command, you can access the help files. For example, Let's say you want to learn more about the `mean` function. One way is to use the `help` command is:"
   ]
  },
  {
   "cell_type": "code",
   "execution_count": null,
   "metadata": {
    "vscode": {
     "languageId": "r"
    }
   },
   "outputs": [],
   "source": [
    "#| eval: false\n",
    "help(mean)"
   ]
  },
  {
   "cell_type": "raw",
   "metadata": {},
   "source": [
    "::: callout-note\n",
    "The general syntax for a command in `R` is: `command(object, options)`; where `command` is a function available on the current loaded `R` packages or created for the current session.\n",
    ":::"
   ]
  },
  {
   "cell_type": "markdown",
   "metadata": {},
   "source": [
    "As an alternative, we can use the question mark, without any parenthesis as in:"
   ]
  },
  {
   "cell_type": "code",
   "execution_count": null,
   "metadata": {
    "vscode": {
     "languageId": "r"
    }
   },
   "outputs": [],
   "source": [
    "#| eval: false\n",
    "?sd"
   ]
  },
  {
   "cell_type": "markdown",
   "metadata": {},
   "source": [
    "It's important that you get familiar with help files. At the end of each help file, you can see some examples. You can select a particular example and then type Ctrl + Return (Windows) or Command + Return (Macintosh) to transfer the selection to the console."
   ]
  },
  {
   "cell_type": "raw",
   "metadata": {},
   "source": [
    "::: callout-warning\n",
    "1.  The help will only look for documentation on functions that are part of the **attached** packages.\n",
    "2.  Use the `help` command **only** in the Console panel. **DO NOT** include `help` commands as part of your script files.\n",
    ":::"
   ]
  },
  {
   "cell_type": "markdown",
   "metadata": {},
   "source": [
    "When we do not know the name of the function, or it may be part of a package that is installed in the computer, but not loaded yet, you can search by using double question marks. For example, Let's say that you would like to know how to perform diagnostic tests (e.g., sensitivity, specificity, etc.), in that case, you would type (please note the use of quotes):"
   ]
  },
  {
   "cell_type": "code",
   "execution_count": null,
   "metadata": {
    "vscode": {
     "languageId": "r"
    }
   },
   "outputs": [],
   "source": [
    "#| eval: false\n",
    "?? \"diagnostic tests\""
   ]
  },
  {
   "cell_type": "markdown",
   "metadata": {},
   "source": [
    "When we use `??` the system searches for functions associated with current installed packages. When we need to make a further search on the web, we can use `RSiteSearch` in the *Console* panel. For example:"
   ]
  },
  {
   "cell_type": "code",
   "execution_count": null,
   "metadata": {
    "vscode": {
     "languageId": "r"
    }
   },
   "outputs": [],
   "source": [
    "#| eval: false\n",
    "RSiteSearch(\"meta-analysis\")"
   ]
  },
  {
   "cell_type": "raw",
   "metadata": {},
   "source": [
    "::: callout-caution\n",
    "## Exercise\n",
    "\n",
    "Find out what the `names` command does.\n",
    ":::"
   ]
  },
  {
   "cell_type": "raw",
   "metadata": {},
   "source": [
    "#| code-fold: true\n",
    "::: callout-note\n",
    "## Answer\n",
    "\n",
    "Gives the names from an `R` object. We use this to know the variables contained in a given dataset (`data.frame` or `tibble` in `R`).\n",
    ":::"
   ]
  },
  {
   "cell_type": "markdown",
   "metadata": {},
   "source": [
    "## Browsing help\n",
    "\n",
    "Other times, you just want to browse the functions of a particular package of interest, to find new commands. For example, go to the **Display** panel and select the **Packages** tab. Look for the package `pubh` and click on it. A help file will open with the description of all functions and data that are part of that package. You can click on any of the listed functions to gather more information. Some packages have also **Vignettes** which are more helpful as they guide you to the use of the functions contained in the package.\n",
    "\n",
    "In the help file of `pubh` click on `User guides, package vignettes and other documentation`. Next, select the first one: `Introduction to the pubh package`. You do not have to read through that vignette today, but now you know how to access vignettes.\n",
    "\n",
    "## Packages\n",
    "\n",
    "When you open `R`, it loads a standard number of *packages*, each one of them includes a particular set of functions and data. We can extend the number of available functions by loading more packages into the system.\n",
    "\n",
    "When you start with the template provided by the `pubh` package, the first chunk loads recommended packages for *PUBH 725* and *PUBH 726* into the session. When loading a package *required* packages are also automatically attached.\n",
    "\n",
    "In particular, when loading `pubh` the following packages are loaded too:\n",
    "\n",
    "-   `emmeans`\n",
    "-   `ggformula`\n",
    "-   `magrittr`\n",
    "-   `huxtable`\n",
    "-   `gtsummary`\n",
    "\n",
    "The `tidyverse` loads a collection of packages:\n",
    "\n",
    "-   `dplyr`\n",
    "-   `forcats`\n",
    "-   `ggplot2`\n",
    "-   `purrr`\n",
    "-   `readr`\n",
    "-   `stringr`\n",
    "-   `tibble`\n",
    "-   `tidyr`\n",
    "\n",
    "When we load package `easystats` the following packages are loaded:\n",
    "\n",
    "-   `insight`\n",
    "-   `bayestestR`\n",
    "-   `parameters`\n",
    "-   `modelbased`\n",
    "-   `see`\n",
    "-   `datawizard`\n",
    "-   `effectsize`\n",
    "-   `correlation`\n",
    "-   `report`\n",
    "\n",
    "Sometimes, we would like to load more packages either because of a particular function or because we would like to access data from that library. We use the function `library` to load a package; for example, to load the `ISwR` package (ISwR stands for *Introductory Statistics with R*), we type:"
   ]
  },
  {
   "cell_type": "code",
   "execution_count": null,
   "metadata": {
    "vscode": {
     "languageId": "r"
    }
   },
   "outputs": [],
   "source": [
    "#| eval: false\n",
    "library(ISwR)"
   ]
  },
  {
   "cell_type": "markdown",
   "metadata": {},
   "source": [
    "A list of most of the available `R` packages can be found at the [CRAN](https://cran.r-project.org/) web page, under *Packages*. Libraries associated with Bioinformatics can be found at the [Bioconductor](http://www.bioconductor.org/) web page. Finally, packages organised by topic, can be found [here](https://cran.r-project.org/web/views/).\n",
    "\n",
    "To install a new package, you can go to the *Display* panel, and click on *Install* under the *Packages* tab.\n",
    "\n",
    "Another option is to type the command in the *Console* panel. For example, to install the `epibasix` package we type:"
   ]
  },
  {
   "cell_type": "code",
   "execution_count": null,
   "metadata": {
    "vscode": {
     "languageId": "r"
    }
   },
   "outputs": [],
   "source": [
    "#| eval: false\n",
    "install.packages(\"epibasix\")"
   ]
  },
  {
   "cell_type": "markdown",
   "metadata": {},
   "source": [
    "# Objects in `R`\n",
    "\n",
    "## Short-cuts\n",
    "\n",
    "The following are important short-cuts that we can use in `RStudio`:\n",
    "\n",
    "| Function   | Output | MacOS Short-cut   | Windows Short-cut |\n",
    "|------------|--------|-------------------|-------------------|\n",
    "| Assignment | `<-`   | `Option -`        | `Alt -`           |\n",
    "| Pipe       | `%>%`  | `Shift Command M` | `Shift Ctl M`     |\n",
    "\n",
    "| Action                           | MacOS Short-cut    | Windows Short-cut |\n",
    "|----------------------------------|--------------------|-------------------|\n",
    "| Insert Chunk                     | `Option Command I` | `Alt Ctl I`       |\n",
    "| Run line/selection               | `Command Return`   | `Ctl Return`      |\n",
    "| Formats text selection as `code` | `Command D`        | `Ctl D`           |\n",
    "\n",
    "## Assignments\n",
    "\n",
    "An excellent introduction to `R` and its objects, can be found in the first chapter of [@iswr]."
   ]
  },
  {
   "cell_type": "raw",
   "metadata": {},
   "source": [
    "::: callout-note\n",
    "From now on, copy all the `R` commands in your script file (your *RMarkdown* Notebook). Be free to add text to comment or to change options or variables.\n",
    ":::"
   ]
  },
  {
   "cell_type": "markdown",
   "metadata": {},
   "source": [
    "A variable that holds a number or character is known as a *scalar*. Assignments are done with `<-` with no space between the two symbols. Assignments can also be done using the equal `=` symbol. For example:"
   ]
  },
  {
   "cell_type": "code",
   "execution_count": 7,
   "metadata": {
    "vscode": {
     "languageId": "r"
    }
   },
   "outputs": [
    {
     "data": {
      "text/html": [
       "8"
      ],
      "text/latex": [
       "8"
      ],
      "text/markdown": [
       "8"
      ],
      "text/plain": [
       "[1] 8"
      ]
     },
     "metadata": {},
     "output_type": "display_data"
    }
   ],
   "source": [
    "x = 5\n",
    "x + 3"
   ]
  },
  {
   "cell_type": "markdown",
   "metadata": {},
   "source": [
    "When a variable, holds 2 or more numbers or characters, is called a *vector*. For example, a vector of 3 weights (in pounds) is generated using the command `c` (concatenate):"
   ]
  },
  {
   "cell_type": "code",
   "execution_count": 8,
   "metadata": {
    "vscode": {
     "languageId": "r"
    }
   },
   "outputs": [],
   "source": [
    "weight = c(151.45, 194, 121.25)"
   ]
  },
  {
   "cell_type": "markdown",
   "metadata": {},
   "source": [
    "The advantage of vectors is that operations become faster than performing single operations. For example, let's say that we want to convert the weight in pounds to kg, and we do not want to have another variable, so just replace the old one. One kg equals 2.2046 pounds:"
   ]
  },
  {
   "cell_type": "code",
   "execution_count": 9,
   "metadata": {
    "vscode": {
     "languageId": "r"
    }
   },
   "outputs": [
    {
     "data": {
      "text/html": [
       "<style>\n",
       ".list-inline {list-style: none; margin:0; padding: 0}\n",
       ".list-inline>li {display: inline-block}\n",
       ".list-inline>li:not(:last-child)::after {content: \"\\00b7\"; padding: 0 .5ex}\n",
       "</style>\n",
       "<ol class=list-inline><li>68.6972693459131</li><li>87.9978227342829</li><li>54.9986392089268</li></ol>\n"
      ],
      "text/latex": [
       "\\begin{enumerate*}\n",
       "\\item 68.6972693459131\n",
       "\\item 87.9978227342829\n",
       "\\item 54.9986392089268\n",
       "\\end{enumerate*}\n"
      ],
      "text/markdown": [
       "1. 68.6972693459131\n",
       "2. 87.9978227342829\n",
       "3. 54.9986392089268\n",
       "\n",
       "\n"
      ],
      "text/plain": [
       "[1] 68.69727 87.99782 54.99864"
      ]
     },
     "metadata": {},
     "output_type": "display_data"
    }
   ],
   "source": [
    "weight = weight/2.2046\n",
    "weight"
   ]
  },
  {
   "cell_type": "markdown",
   "metadata": {},
   "source": [
    "There is no way we could measure human weight with that accuracy using standard devices, so let's round the values. First, look at the help file of `round`. The default is `digits = 0` (i.e., no decimals). We are going to keep one decimal. As `round` has no other option, we can directly type the value of `x` (our *object*) and the number of digits. In other occasions, for clarity, we will type things like `digits = 1`."
   ]
  },
  {
   "cell_type": "code",
   "execution_count": 10,
   "metadata": {
    "vscode": {
     "languageId": "r"
    }
   },
   "outputs": [
    {
     "data": {
      "text/html": [
       "<style>\n",
       ".list-inline {list-style: none; margin:0; padding: 0}\n",
       ".list-inline>li {display: inline-block}\n",
       ".list-inline>li:not(:last-child)::after {content: \"\\00b7\"; padding: 0 .5ex}\n",
       "</style>\n",
       "<ol class=list-inline><li>68.7</li><li>88</li><li>55</li></ol>\n"
      ],
      "text/latex": [
       "\\begin{enumerate*}\n",
       "\\item 68.7\n",
       "\\item 88\n",
       "\\item 55\n",
       "\\end{enumerate*}\n"
      ],
      "text/markdown": [
       "1. 68.7\n",
       "2. 88\n",
       "3. 55\n",
       "\n",
       "\n"
      ],
      "text/plain": [
       "[1] 68.7 88.0 55.0"
      ]
     },
     "metadata": {},
     "output_type": "display_data"
    }
   ],
   "source": [
    "round(weight, 1)"
   ]
  },
  {
   "cell_type": "markdown",
   "metadata": {},
   "source": [
    "## Pipe-work flow\n",
    "\n",
    "`R` is a computer language, thus, functions are performed from the most nested ones, to the less ones. For example, if we want to estimate the mean value of the vector of weights that we created, and report only one digit, we write:"
   ]
  },
  {
   "cell_type": "code",
   "execution_count": null,
   "metadata": {
    "vscode": {
     "languageId": "r"
    }
   },
   "outputs": [],
   "source": [
    "round(mean(weight, na.rm = TRUE), 1)"
   ]
  },
  {
   "cell_type": "markdown",
   "metadata": {},
   "source": [
    "When we have several parentheses, it's easy to get lost on the code. One option is to use a pipe-work flow. The native pipe command `|>` to passes information in what is known as *pipe-work flow*. In this case, commands are simply read from left to right and top to bottom:"
   ]
  },
  {
   "cell_type": "code",
   "execution_count": 11,
   "metadata": {
    "vscode": {
     "languageId": "r"
    }
   },
   "outputs": [
    {
     "data": {
      "text/html": [
       "70.6"
      ],
      "text/latex": [
       "70.6"
      ],
      "text/markdown": [
       "70.6"
      ],
      "text/plain": [
       "[1] 70.6"
      ]
     },
     "metadata": {},
     "output_type": "display_data"
    }
   ],
   "source": [
    "weight |>\n",
    "  mean(na.rm = TRUE) |>\n",
    "  round(1)"
   ]
  },
  {
   "cell_type": "markdown",
   "metadata": {},
   "source": [
    "To *remove* (clear) objects from the workspace, we use `rm`:"
   ]
  },
  {
   "cell_type": "code",
   "execution_count": 12,
   "metadata": {
    "vscode": {
     "languageId": "r"
    }
   },
   "outputs": [],
   "source": [
    "rm(x, weight)"
   ]
  },
  {
   "cell_type": "markdown",
   "metadata": {},
   "source": [
    "# Generating data\n",
    "\n",
    "For small datasets, the easiest thing to do is to generate the data directly in `R`. We will start by entering some data of our own. This particular dataset describes the levels of uric acid in the bloodstream of twenty subjects aged from 21 to 25. There were five individuals with each combination of Down's syndrome being present/absent and sex being male/female.\n",
    "\n",
    "The variable `uric` contains the values for the uric acid, the variable `downs` contains numerical values for Down's syndrome (0 = \"No\", 1 = \"Yes\") and the variable `sex` contains numerical values representing sex (0 = \"Male\", 1 = \"Female\")."
   ]
  },
  {
   "cell_type": "code",
   "execution_count": 13,
   "metadata": {
    "vscode": {
     "languageId": "r"
    }
   },
   "outputs": [],
   "source": [
    "uric_down = tibble(\n",
    "  uric = c(5.84, 6.3, 6.95, 5.92, 7.94, 5.5, 6.08, 5.12, 7.58, 6.78,\n",
    "           4.9, 6.95, 6.73, 5.32, 4.81, 4.94, 7.2, 5.22, 4.6, 3.88),\n",
    "  downs = c(rep(0, 5), rep(1, 5), rep(0, 5), rep(1, 5)),\n",
    "  sex = c(rep(0, 10), rep(1, 10))\n",
    ")"
   ]
  },
  {
   "cell_type": "markdown",
   "metadata": {},
   "source": [
    "We used the `rep` (replicate) command for both `downs` and `sex`. In the case of `downs`, it alternates 5 zeros (meaning \"No\") and 5 ones (meaning \"Yes\"). For sex, we are entering the males first (10 of them) and the females later (10 of them).\n",
    "\n",
    "The most common way to work with data sets in `R` are `data.frames`. A data frame is a rectangular object in which all components (variables) have the same length. A data frame can have variables of different nature (character, logical, double, etc), but each one of them of a single nature and all of them of the same length. A modern version of data frames are `tibbles`.\n",
    "\n",
    "We can look at all columns but only the first rows of the data:"
   ]
  },
  {
   "cell_type": "code",
   "execution_count": 14,
   "metadata": {
    "vscode": {
     "languageId": "r"
    }
   },
   "outputs": [
    {
     "data": {
      "text/html": [
       "<table class=\"dataframe\">\n",
       "<caption>A tibble: 6 × 3</caption>\n",
       "<thead>\n",
       "\t<tr><th scope=col>uric</th><th scope=col>downs</th><th scope=col>sex</th></tr>\n",
       "\t<tr><th scope=col>&lt;dbl&gt;</th><th scope=col>&lt;dbl&gt;</th><th scope=col>&lt;dbl&gt;</th></tr>\n",
       "</thead>\n",
       "<tbody>\n",
       "\t<tr><td>5.84</td><td>0</td><td>0</td></tr>\n",
       "\t<tr><td>6.30</td><td>0</td><td>0</td></tr>\n",
       "\t<tr><td>6.95</td><td>0</td><td>0</td></tr>\n",
       "\t<tr><td>5.92</td><td>0</td><td>0</td></tr>\n",
       "\t<tr><td>7.94</td><td>0</td><td>0</td></tr>\n",
       "\t<tr><td>5.50</td><td>1</td><td>0</td></tr>\n",
       "</tbody>\n",
       "</table>\n"
      ],
      "text/latex": [
       "A tibble: 6 × 3\n",
       "\\begin{tabular}{lll}\n",
       " uric & downs & sex\\\\\n",
       " <dbl> & <dbl> & <dbl>\\\\\n",
       "\\hline\n",
       "\t 5.84 & 0 & 0\\\\\n",
       "\t 6.30 & 0 & 0\\\\\n",
       "\t 6.95 & 0 & 0\\\\\n",
       "\t 5.92 & 0 & 0\\\\\n",
       "\t 7.94 & 0 & 0\\\\\n",
       "\t 5.50 & 1 & 0\\\\\n",
       "\\end{tabular}\n"
      ],
      "text/markdown": [
       "\n",
       "A tibble: 6 × 3\n",
       "\n",
       "| uric &lt;dbl&gt; | downs &lt;dbl&gt; | sex &lt;dbl&gt; |\n",
       "|---|---|---|\n",
       "| 5.84 | 0 | 0 |\n",
       "| 6.30 | 0 | 0 |\n",
       "| 6.95 | 0 | 0 |\n",
       "| 5.92 | 0 | 0 |\n",
       "| 7.94 | 0 | 0 |\n",
       "| 5.50 | 1 | 0 |\n",
       "\n"
      ],
      "text/plain": [
       "  uric downs sex\n",
       "1 5.84 0     0  \n",
       "2 6.30 0     0  \n",
       "3 6.95 0     0  \n",
       "4 5.92 0     0  \n",
       "5 7.94 0     0  \n",
       "6 5.50 1     0  "
      ]
     },
     "metadata": {},
     "output_type": "display_data"
    }
   ],
   "source": [
    "uric_down |> head()"
   ]
  },
  {
   "cell_type": "markdown",
   "metadata": {},
   "source": [
    "## Categorical variables: Factors\n",
    "\n",
    "When we defined the data set `uric_down`, we used only numbers. Both `downs` and `sex` are categorical variables. A categorical variable in `R` is known as `factor`. Each `factor` contains two or more `levels` or *categories*.\n",
    "\n",
    "To convert the variable `sex` from the data set `uric_down` to a factor we use the command `factor` indicating the names of the `levels` for each category in the same order as the corresponding sequence of numbers.\n",
    "\n",
    "In this kind of operation, we need to give information of the variable, the name of the dataset and the actual function with options. One way to accomplish this, would be (please do **NOT** run):"
   ]
  },
  {
   "cell_type": "code",
   "execution_count": null,
   "metadata": {
    "vscode": {
     "languageId": "r"
    }
   },
   "outputs": [],
   "source": [
    "#| eval: false\n",
    "uric_down$sex = factor(uric_down$sex, labels = c(\"Male\", \"Female\"))"
   ]
  },
  {
   "cell_type": "markdown",
   "metadata": {},
   "source": [
    "If you understood the instructions, you did NOT run the previous code! Alas, we need to explain.\n",
    "\n",
    "The name of the variable is `sex` and the name of the dataset is `uric_down`. We use the `$` symbol to give an address, like saying:\n",
    "\n",
    "> *Variable `sex` lives at `uric_down`.*\n",
    "\n",
    "We would need to do something similar to convert `downs` to a `factor`.\n",
    "\n",
    "We will use a different approach, one more elegant, modern and *posh* (just saying!). We will use a pipe-workflow to transform variables.\n",
    "\n",
    "Package `magrittr` introduced the concept of *pipes* in `R`; it's like passing information between objects and functions. The symbol to *pass* or *pipe* the information in  `magrittr` is  `%>%`, while the native pipe command in `R` is `|>`.\n"
   ]
  },
  {
   "cell_type": "raw",
   "metadata": {},
   "source": [
    "::: callout-caution\n",
    "In some cases, when a function (usually an old function) does not contain `data` as part of its arguments, we use `%$%` instead.\n",
    ":::"
   ]
  },
  {
   "cell_type": "markdown",
   "metadata": {},
   "source": [
    "For the conversion to factors, we use the function `mutate` from the `dplyr` package.\n",
    "\n",
    "Let's transform `downs` and `sex` from numerical (`double`) to categorical (`factor`) variables:"
   ]
  },
  {
   "cell_type": "code",
   "execution_count": 15,
   "metadata": {
    "vscode": {
     "languageId": "r"
    }
   },
   "outputs": [
    {
     "data": {
      "text/html": [
       "<table class=\"dataframe\">\n",
       "<caption>A tibble: 6 × 3</caption>\n",
       "<thead>\n",
       "\t<tr><th scope=col>uric</th><th scope=col>downs</th><th scope=col>sex</th></tr>\n",
       "\t<tr><th scope=col>&lt;dbl&gt;</th><th scope=col>&lt;fct&gt;</th><th scope=col>&lt;fct&gt;</th></tr>\n",
       "</thead>\n",
       "<tbody>\n",
       "\t<tr><td>5.84</td><td>No </td><td>Male</td></tr>\n",
       "\t<tr><td>6.30</td><td>No </td><td>Male</td></tr>\n",
       "\t<tr><td>6.95</td><td>No </td><td>Male</td></tr>\n",
       "\t<tr><td>5.92</td><td>No </td><td>Male</td></tr>\n",
       "\t<tr><td>7.94</td><td>No </td><td>Male</td></tr>\n",
       "\t<tr><td>5.50</td><td>Yes</td><td>Male</td></tr>\n",
       "</tbody>\n",
       "</table>\n"
      ],
      "text/latex": [
       "A tibble: 6 × 3\n",
       "\\begin{tabular}{lll}\n",
       " uric & downs & sex\\\\\n",
       " <dbl> & <fct> & <fct>\\\\\n",
       "\\hline\n",
       "\t 5.84 & No  & Male\\\\\n",
       "\t 6.30 & No  & Male\\\\\n",
       "\t 6.95 & No  & Male\\\\\n",
       "\t 5.92 & No  & Male\\\\\n",
       "\t 7.94 & No  & Male\\\\\n",
       "\t 5.50 & Yes & Male\\\\\n",
       "\\end{tabular}\n"
      ],
      "text/markdown": [
       "\n",
       "A tibble: 6 × 3\n",
       "\n",
       "| uric &lt;dbl&gt; | downs &lt;fct&gt; | sex &lt;fct&gt; |\n",
       "|---|---|---|\n",
       "| 5.84 | No  | Male |\n",
       "| 6.30 | No  | Male |\n",
       "| 6.95 | No  | Male |\n",
       "| 5.92 | No  | Male |\n",
       "| 7.94 | No  | Male |\n",
       "| 5.50 | Yes | Male |\n",
       "\n"
      ],
      "text/plain": [
       "  uric downs sex \n",
       "1 5.84 No    Male\n",
       "2 6.30 No    Male\n",
       "3 6.95 No    Male\n",
       "4 5.92 No    Male\n",
       "5 7.94 No    Male\n",
       "6 5.50 Yes   Male"
      ]
     },
     "metadata": {},
     "output_type": "display_data"
    }
   ],
   "source": [
    "uric_down2 = uric_down |>\n",
    "  mutate(\n",
    "    downs = factor(downs, labels = c(\"No\", \"Yes\")),\n",
    "    sex = factor(sex, labels = c(\"Male\", \"Female\"))\n",
    "  ) \n",
    "\n",
    "uric_down2 |> head()"
   ]
  },
  {
   "cell_type": "markdown",
   "metadata": {},
   "source": [
    "## Labels\n",
    "\n",
    "We would also like to display more information than the current variable name, in tables and figures. To accomplish this, we associate `labels` with variables. We will use `var_labels` from the `sjlabelled` package. Notice, that the way we assign labels is similar to the one we used for transformations:"
   ]
  },
  {
   "cell_type": "code",
   "execution_count": 16,
   "metadata": {
    "vscode": {
     "languageId": "r"
    }
   },
   "outputs": [],
   "source": [
    "uric_down2 = uric_down2 |>\n",
    "  var_labels(\n",
    "    uric = \"Uric acid (mg/dl)\",\n",
    "    downs = \"Down's syndrome\",\n",
    "    sex = \"Sex\"\n",
    "  )"
   ]
  },
  {
   "cell_type": "markdown",
   "metadata": {},
   "source": [
    "For small datasets (like our current one) it is easier to make the transformation and the labelling as part of the same pipe-workflow.\n",
    "\n",
    "We had not modified the original data set `uric_down`, instead, we created a new one `uric_down2`, so we could go one step at a time. You can remove `uric_down2` with:"
   ]
  },
  {
   "cell_type": "code",
   "execution_count": 17,
   "metadata": {
    "vscode": {
     "languageId": "r"
    }
   },
   "outputs": [],
   "source": [
    "rm(uric_down2)"
   ]
  },
  {
   "cell_type": "markdown",
   "metadata": {},
   "source": [
    "To do both, transformation and labelling in the same pipe-workflow, we type:"
   ]
  },
  {
   "cell_type": "code",
   "execution_count": 18,
   "metadata": {
    "vscode": {
     "languageId": "r"
    }
   },
   "outputs": [],
   "source": [
    "uric_down = uric_down |>\n",
    "  mutate(\n",
    "    downs = factor(downs, labels = c(\"No\", \"Yes\")),\n",
    "    sex = factor(sex, labels = c(\"Male\", \"Female\"))\n",
    "  ) |>\n",
    "  var_labels(\n",
    "    uric = \"Uric acid (mg/dl)\",\n",
    "    downs = \"Down's syndrome\",\n",
    "    sex = \"Sex\"\n",
    "  )"
   ]
  },
  {
   "cell_type": "markdown",
   "metadata": {},
   "source": [
    "## Saving `R` data frames\n",
    "\n",
    "The advantage of saving data frames as `R` data (`.rds`) is that `R` will have access to factors, levels and labels. I will save the data on the subdirectory *data*."
   ]
  },
  {
   "cell_type": "code",
   "execution_count": 19,
   "metadata": {
    "vscode": {
     "languageId": "r"
    }
   },
   "outputs": [],
   "source": [
    "write_rds(uric_down, \"data/uric_down.rds\")"
   ]
  },
  {
   "cell_type": "markdown",
   "metadata": {},
   "source": [
    "If you are following instructions, you have everything recorded in your script in case you did something wrong. To show how to import, we will remove all objects associated with the data frame first:"
   ]
  },
  {
   "cell_type": "code",
   "execution_count": 20,
   "metadata": {
    "vscode": {
     "languageId": "r"
    }
   },
   "outputs": [],
   "source": [
    "rm(uric_down)"
   ]
  },
  {
   "cell_type": "markdown",
   "metadata": {},
   "source": [
    "To load the data, we use `read_rds` and assign the file to a new object (in this case, a tibble). For simplicity, I use the same name of the file as the name of the new data frame, but you can change that."
   ]
  },
  {
   "cell_type": "code",
   "execution_count": 21,
   "metadata": {
    "vscode": {
     "languageId": "r"
    }
   },
   "outputs": [
    {
     "data": {
      "text/html": [
       "<table class=\"dataframe\">\n",
       "<caption>A tibble: 6 × 3</caption>\n",
       "<thead>\n",
       "\t<tr><th scope=col>uric</th><th scope=col>downs</th><th scope=col>sex</th></tr>\n",
       "\t<tr><th scope=col>&lt;dbl&gt;</th><th scope=col>&lt;fct&gt;</th><th scope=col>&lt;fct&gt;</th></tr>\n",
       "</thead>\n",
       "<tbody>\n",
       "\t<tr><td>5.84</td><td>No </td><td>Male</td></tr>\n",
       "\t<tr><td>6.30</td><td>No </td><td>Male</td></tr>\n",
       "\t<tr><td>6.95</td><td>No </td><td>Male</td></tr>\n",
       "\t<tr><td>5.92</td><td>No </td><td>Male</td></tr>\n",
       "\t<tr><td>7.94</td><td>No </td><td>Male</td></tr>\n",
       "\t<tr><td>5.50</td><td>Yes</td><td>Male</td></tr>\n",
       "</tbody>\n",
       "</table>\n"
      ],
      "text/latex": [
       "A tibble: 6 × 3\n",
       "\\begin{tabular}{lll}\n",
       " uric & downs & sex\\\\\n",
       " <dbl> & <fct> & <fct>\\\\\n",
       "\\hline\n",
       "\t 5.84 & No  & Male\\\\\n",
       "\t 6.30 & No  & Male\\\\\n",
       "\t 6.95 & No  & Male\\\\\n",
       "\t 5.92 & No  & Male\\\\\n",
       "\t 7.94 & No  & Male\\\\\n",
       "\t 5.50 & Yes & Male\\\\\n",
       "\\end{tabular}\n"
      ],
      "text/markdown": [
       "\n",
       "A tibble: 6 × 3\n",
       "\n",
       "| uric &lt;dbl&gt; | downs &lt;fct&gt; | sex &lt;fct&gt; |\n",
       "|---|---|---|\n",
       "| 5.84 | No  | Male |\n",
       "| 6.30 | No  | Male |\n",
       "| 6.95 | No  | Male |\n",
       "| 5.92 | No  | Male |\n",
       "| 7.94 | No  | Male |\n",
       "| 5.50 | Yes | Male |\n",
       "\n"
      ],
      "text/plain": [
       "  uric downs sex \n",
       "1 5.84 No    Male\n",
       "2 6.30 No    Male\n",
       "3 6.95 No    Male\n",
       "4 5.92 No    Male\n",
       "5 7.94 No    Male\n",
       "6 5.50 Yes   Male"
      ]
     },
     "metadata": {},
     "output_type": "display_data"
    }
   ],
   "source": [
    "uric_down = read_rds(\"data/uric_down.rds\")\n",
    "uric_down |> head()"
   ]
  },
  {
   "cell_type": "markdown",
   "metadata": {},
   "source": [
    "# Variables in data frames\n",
    "\n",
    "The `uric_down` data frame has three variables. `R` can have more than one data frame loaded on the same session, that feature has the disadvantage that we need to tell `R` where to find individual variables.\n",
    "\n",
    "For example, `uric_down` has a vector (variable) named `sex`. We could have another data frame which also has the variable `sex`, how do we know which one we are analysing? We have to give information of both the data frame and the vector. One way is by using the `$` symbol. The syntax is:\n",
    "\n",
    "**data\\$vector**\n",
    "\n",
    "For example:"
   ]
  },
  {
   "cell_type": "code",
   "execution_count": 22,
   "metadata": {
    "vscode": {
     "languageId": "r"
    }
   },
   "outputs": [
    {
     "data": {
      "text/html": [
       "<style>\n",
       ".list-inline {list-style: none; margin:0; padding: 0}\n",
       ".list-inline>li {display: inline-block}\n",
       ".list-inline>li:not(:last-child)::after {content: \"\\00b7\"; padding: 0 .5ex}\n",
       "</style>\n",
       "<ol class=list-inline><li>Male</li><li>Male</li><li>Male</li><li>Male</li><li>Male</li><li>Male</li><li>Male</li><li>Male</li><li>Male</li><li>Male</li><li>Female</li><li>Female</li><li>Female</li><li>Female</li><li>Female</li><li>Female</li><li>Female</li><li>Female</li><li>Female</li><li>Female</li></ol>\n",
       "\n",
       "<details>\n",
       "\t<summary style=display:list-item;cursor:pointer>\n",
       "\t\t<strong>Levels</strong>:\n",
       "\t</summary>\n",
       "\t<style>\n",
       "\t.list-inline {list-style: none; margin:0; padding: 0}\n",
       "\t.list-inline>li {display: inline-block}\n",
       "\t.list-inline>li:not(:last-child)::after {content: \"\\00b7\"; padding: 0 .5ex}\n",
       "\t</style>\n",
       "\t<ol class=list-inline><li>'Male'</li><li>'Female'</li></ol>\n",
       "</details>"
      ],
      "text/latex": [
       "\\begin{enumerate*}\n",
       "\\item Male\n",
       "\\item Male\n",
       "\\item Male\n",
       "\\item Male\n",
       "\\item Male\n",
       "\\item Male\n",
       "\\item Male\n",
       "\\item Male\n",
       "\\item Male\n",
       "\\item Male\n",
       "\\item Female\n",
       "\\item Female\n",
       "\\item Female\n",
       "\\item Female\n",
       "\\item Female\n",
       "\\item Female\n",
       "\\item Female\n",
       "\\item Female\n",
       "\\item Female\n",
       "\\item Female\n",
       "\\end{enumerate*}\n",
       "\n",
       "\\emph{Levels}: \\begin{enumerate*}\n",
       "\\item 'Male'\n",
       "\\item 'Female'\n",
       "\\end{enumerate*}\n"
      ],
      "text/markdown": [
       "1. Male\n",
       "2. Male\n",
       "3. Male\n",
       "4. Male\n",
       "5. Male\n",
       "6. Male\n",
       "7. Male\n",
       "8. Male\n",
       "9. Male\n",
       "10. Male\n",
       "11. Female\n",
       "12. Female\n",
       "13. Female\n",
       "14. Female\n",
       "15. Female\n",
       "16. Female\n",
       "17. Female\n",
       "18. Female\n",
       "19. Female\n",
       "20. Female\n",
       "\n",
       "\n",
       "\n",
       "**Levels**: 1. 'Male'\n",
       "2. 'Female'\n",
       "\n",
       "\n"
      ],
      "text/plain": [
       " [1] Male   Male   Male   Male   Male   Male   Male   Male   Male   Male  \n",
       "[11] Female Female Female Female Female Female Female Female Female Female\n",
       "attr(,\"label\")\n",
       "[1] Sex\n",
       "Levels: Male Female"
      ]
     },
     "metadata": {},
     "output_type": "display_data"
    }
   ],
   "source": [
    "uric_down$sex"
   ]
  },
  {
   "cell_type": "markdown",
   "metadata": {},
   "source": [
    "Another option is to **select** the variables (columns) we are interested in:"
   ]
  },
  {
   "cell_type": "code",
   "execution_count": 23,
   "metadata": {
    "vscode": {
     "languageId": "r"
    }
   },
   "outputs": [
    {
     "data": {
      "text/html": [
       "<table class=\"dataframe\">\n",
       "<caption>A parameters_distribution: 1 × 10</caption>\n",
       "<thead>\n",
       "\t<tr><th scope=col>Variable</th><th scope=col>Mean</th><th scope=col>SD</th><th scope=col>IQR</th><th scope=col>Min</th><th scope=col>Max</th><th scope=col>Skewness</th><th scope=col>Kurtosis</th><th scope=col>n</th><th scope=col>n_Missing</th></tr>\n",
       "\t<tr><th scope=col>&lt;chr&gt;</th><th scope=col>&lt;dbl&gt;</th><th scope=col>&lt;dbl&gt;</th><th scope=col>&lt;dbl&gt;</th><th scope=col>&lt;dbl&gt;</th><th scope=col>&lt;dbl&gt;</th><th scope=col>&lt;dbl&gt;</th><th scope=col>&lt;dbl&gt;</th><th scope=col>&lt;int&gt;</th><th scope=col>&lt;int&gt;</th></tr>\n",
       "</thead>\n",
       "<tbody>\n",
       "\t<tr><td>uric</td><td>5.928</td><td>1.099529</td><td>1.9225</td><td>3.88</td><td>7.94</td><td>0.1086282</td><td>-0.8318228</td><td>20</td><td>0</td></tr>\n",
       "</tbody>\n",
       "</table>\n"
      ],
      "text/latex": [
       "A parameters\\_distribution: 1 × 10\n",
       "\\begin{tabular}{llllllllll}\n",
       " Variable & Mean & SD & IQR & Min & Max & Skewness & Kurtosis & n & n\\_Missing\\\\\n",
       " <chr> & <dbl> & <dbl> & <dbl> & <dbl> & <dbl> & <dbl> & <dbl> & <int> & <int>\\\\\n",
       "\\hline\n",
       "\t uric & 5.928 & 1.099529 & 1.9225 & 3.88 & 7.94 & 0.1086282 & -0.8318228 & 20 & 0\\\\\n",
       "\\end{tabular}\n"
      ],
      "text/markdown": [
       "\n",
       "A parameters_distribution: 1 × 10\n",
       "\n",
       "| Variable &lt;chr&gt; | Mean &lt;dbl&gt; | SD &lt;dbl&gt; | IQR &lt;dbl&gt; | Min &lt;dbl&gt; | Max &lt;dbl&gt; | Skewness &lt;dbl&gt; | Kurtosis &lt;dbl&gt; | n &lt;int&gt; | n_Missing &lt;int&gt; |\n",
       "|---|---|---|---|---|---|---|---|---|---|\n",
       "| uric | 5.928 | 1.099529 | 1.9225 | 3.88 | 7.94 | 0.1086282 | -0.8318228 | 20 | 0 |\n",
       "\n"
      ],
      "text/plain": [
       "  Variable Mean  SD       IQR    Min  Max  Skewness  Kurtosis   n  n_Missing\n",
       "1 uric     5.928 1.099529 1.9225 3.88 7.94 0.1086282 -0.8318228 20 0        "
      ]
     },
     "metadata": {},
     "output_type": "display_data"
    }
   ],
   "source": [
    "uric_down |>\n",
    "  select(uric) |>\n",
    "  describe_distribution()"
   ]
  },
  {
   "cell_type": "code",
   "execution_count": 24,
   "metadata": {
    "vscode": {
     "languageId": "r"
    }
   },
   "outputs": [
    {
     "data": {
      "text/html": [
       "<table class=\"dataframe\">\n",
       "<caption>A tibble: 4 × 4</caption>\n",
       "<thead>\n",
       "\t<tr><th scope=col>sex</th><th scope=col>downs</th><th scope=col>n</th><th scope=col>prop</th></tr>\n",
       "\t<tr><th scope=col>&lt;fct&gt;</th><th scope=col>&lt;fct&gt;</th><th scope=col>&lt;int&gt;</th><th scope=col>&lt;dbl&gt;</th></tr>\n",
       "</thead>\n",
       "<tbody>\n",
       "\t<tr><td>Male  </td><td>No </td><td>5</td><td>50</td></tr>\n",
       "\t<tr><td>Male  </td><td>Yes</td><td>5</td><td>50</td></tr>\n",
       "\t<tr><td>Female</td><td>No </td><td>5</td><td>50</td></tr>\n",
       "\t<tr><td>Female</td><td>Yes</td><td>5</td><td>50</td></tr>\n",
       "</tbody>\n",
       "</table>\n"
      ],
      "text/latex": [
       "A tibble: 4 × 4\n",
       "\\begin{tabular}{llll}\n",
       " sex & downs & n & prop\\\\\n",
       " <fct> & <fct> & <int> & <dbl>\\\\\n",
       "\\hline\n",
       "\t Male   & No  & 5 & 50\\\\\n",
       "\t Male   & Yes & 5 & 50\\\\\n",
       "\t Female & No  & 5 & 50\\\\\n",
       "\t Female & Yes & 5 & 50\\\\\n",
       "\\end{tabular}\n"
      ],
      "text/markdown": [
       "\n",
       "A tibble: 4 × 4\n",
       "\n",
       "| sex &lt;fct&gt; | downs &lt;fct&gt; | n &lt;int&gt; | prop &lt;dbl&gt; |\n",
       "|---|---|---|---|\n",
       "| Male   | No  | 5 | 50 |\n",
       "| Male   | Yes | 5 | 50 |\n",
       "| Female | No  | 5 | 50 |\n",
       "| Female | Yes | 5 | 50 |\n",
       "\n"
      ],
      "text/plain": [
       "  sex    downs n prop\n",
       "1 Male   No    5 50  \n",
       "2 Male   Yes   5 50  \n",
       "3 Female No    5 50  \n",
       "4 Female Yes   5 50  "
      ]
     },
     "metadata": {},
     "output_type": "display_data"
    }
   ],
   "source": [
    "uric_down |>\n",
    "  freq_table(sex, downs)"
   ]
  },
  {
   "cell_type": "markdown",
   "metadata": {},
   "source": [
    "An alternative to `$` is the function `with`. The syntax is: `with(data, function(x))`. For example, if we want to know if `sex` is a factor we can type:"
   ]
  },
  {
   "cell_type": "code",
   "execution_count": 25,
   "metadata": {
    "vscode": {
     "languageId": "r"
    }
   },
   "outputs": [
    {
     "data": {
      "text/html": [
       "TRUE"
      ],
      "text/latex": [
       "TRUE"
      ],
      "text/markdown": [
       "TRUE"
      ],
      "text/plain": [
       "[1] TRUE"
      ]
     },
     "metadata": {},
     "output_type": "display_data"
    }
   ],
   "source": [
    "with(uric_down, is.factor(sex))"
   ]
  },
  {
   "cell_type": "markdown",
   "metadata": {},
   "source": [
    "Or using pipes:"
   ]
  },
  {
   "cell_type": "code",
   "execution_count": 26,
   "metadata": {
    "vscode": {
     "languageId": "r"
    }
   },
   "outputs": [
    {
     "data": {
      "text/html": [
       "TRUE"
      ],
      "text/latex": [
       "TRUE"
      ],
      "text/markdown": [
       "TRUE"
      ],
      "text/plain": [
       "[1] TRUE"
      ]
     },
     "metadata": {},
     "output_type": "display_data"
    }
   ],
   "source": [
    "uric_down %$% is.factor(sex)"
   ]
  },
  {
   "cell_type": "markdown",
   "metadata": {},
   "source": [
    "The same command using the `$` symbol:"
   ]
  },
  {
   "cell_type": "code",
   "execution_count": 27,
   "metadata": {
    "vscode": {
     "languageId": "r"
    }
   },
   "outputs": [
    {
     "data": {
      "text/html": [
       "TRUE"
      ],
      "text/latex": [
       "TRUE"
      ],
      "text/markdown": [
       "TRUE"
      ],
      "text/plain": [
       "[1] TRUE"
      ]
     },
     "metadata": {},
     "output_type": "display_data"
    }
   ],
   "source": [
    "is.factor(uric_down$sex)"
   ]
  },
  {
   "cell_type": "raw",
   "metadata": {},
   "source": [
    "::: callout-important\n",
    "The `attach` command allows to access variables within data frames directly, however, it's not convenient when you work with more than one data set on the same session.\n",
    ":::"
   ]
  },
  {
   "cell_type": "markdown",
   "metadata": {},
   "source": [
    "In the current example, the last command was simpler but in many cases is better to use `%>%`.\n",
    "\n",
    "# Export and import objects\n",
    "\n",
    "To export a data frame (or other objects) to *Excel*, we will write `.csv` files (comma-separated values). In the following code, the file will be saved in the subdirectory `data`:"
   ]
  },
  {
   "cell_type": "code",
   "execution_count": 28,
   "metadata": {
    "vscode": {
     "languageId": "r"
    }
   },
   "outputs": [],
   "source": [
    "write_csv(uric_down, \"data/uric_down.csv\")"
   ]
  },
  {
   "cell_type": "markdown",
   "metadata": {},
   "source": [
    "For importing data from *Excel*, remember to:\n",
    "\n",
    "1.  Don't use complicated names for the variables, in particular:\n",
    "\n",
    "-   Don't start a variable name with a number.\n",
    "-   Don't leave spaces as part of the name, e.g. don't use `blood pressure`. Some alternatives are:\n",
    "    -   `blood_pressure`\n",
    "    -   `bp`\n",
    "    -   `blood.pressure`\n",
    "    -   `BloodPressure`\n",
    "\n",
    "2.  Don't use a long, complicated name for the name of your file; it is better to avoid spaces.\n",
    "3.  Don't leave cells blank (without any information). For missing data, we will type `NA`.\n",
    "4.  It is easier to record only numbers and to add labels on `R` later, to avoid mistakes on the names (it's not the same `female`, `Female`, or `female` with a blank space before the `f`).\n",
    "5.  Export your data as *comma-separated values* (.csv).\n",
    "\n",
    "Let's load our data frame:"
   ]
  },
  {
   "cell_type": "code",
   "execution_count": 29,
   "metadata": {
    "vscode": {
     "languageId": "r"
    }
   },
   "outputs": [
    {
     "data": {
      "text/html": [
       "<table class=\"dataframe\">\n",
       "<caption>A data_codebook: 8 × 8</caption>\n",
       "<thead>\n",
       "\t<tr><th scope=col>ID</th><th scope=col>Name</th><th scope=col>Type</th><th scope=col>Missings</th><th scope=col>Values</th><th scope=col>N</th><th scope=col>Prop</th><th scope=col>.row_id</th></tr>\n",
       "\t<tr><th scope=col>&lt;chr&gt;</th><th scope=col>&lt;chr&gt;</th><th scope=col>&lt;chr&gt;</th><th scope=col>&lt;chr&gt;</th><th scope=col>&lt;chr&gt;</th><th scope=col>&lt;chr&gt;</th><th scope=col>&lt;chr&gt;</th><th scope=col>&lt;int&gt;</th></tr>\n",
       "</thead>\n",
       "<tbody>\n",
       "\t<tr><td>1</td><td>uric </td><td>numeric    </td><td>0 (0.0%)</td><td>[3.88, 7.94]</td><td>20</td><td>     </td><td>1</td></tr>\n",
       "\t<tr><td> </td><td>     </td><td>           </td><td>        </td><td>            </td><td>  </td><td>     </td><td>1</td></tr>\n",
       "\t<tr><td>2</td><td>downs</td><td>categorical</td><td>0 (0.0%)</td><td>No          </td><td>10</td><td>50.0%</td><td>2</td></tr>\n",
       "\t<tr><td> </td><td>     </td><td>           </td><td>        </td><td>Yes         </td><td>10</td><td>50.0%</td><td>2</td></tr>\n",
       "\t<tr><td> </td><td>     </td><td>           </td><td>        </td><td>            </td><td>  </td><td>     </td><td>2</td></tr>\n",
       "\t<tr><td>3</td><td>sex  </td><td>categorical</td><td>0 (0.0%)</td><td>Male        </td><td>10</td><td>50.0%</td><td>3</td></tr>\n",
       "\t<tr><td> </td><td>     </td><td>           </td><td>        </td><td>Female      </td><td>10</td><td>50.0%</td><td>3</td></tr>\n",
       "\t<tr><td> </td><td>     </td><td>           </td><td>        </td><td>            </td><td>  </td><td>     </td><td>3</td></tr>\n",
       "</tbody>\n",
       "</table>\n"
      ],
      "text/latex": [
       "A data\\_codebook: 8 × 8\n",
       "\\begin{tabular}{llllllll}\n",
       " ID & Name & Type & Missings & Values & N & Prop & .row\\_id\\\\\n",
       " <chr> & <chr> & <chr> & <chr> & <chr> & <chr> & <chr> & <int>\\\\\n",
       "\\hline\n",
       "\t 1 & uric  & numeric     & 0 (0.0\\%) & {[}3.88, 7.94{]} & 20 &       & 1\\\\\n",
       "\t   &       &             &          &              &    &       & 1\\\\\n",
       "\t 2 & downs & categorical & 0 (0.0\\%) & No           & 10 & 50.0\\% & 2\\\\\n",
       "\t   &       &             &          & Yes          & 10 & 50.0\\% & 2\\\\\n",
       "\t   &       &             &          &              &    &       & 2\\\\\n",
       "\t 3 & sex   & categorical & 0 (0.0\\%) & Male         & 10 & 50.0\\% & 3\\\\\n",
       "\t   &       &             &          & Female       & 10 & 50.0\\% & 3\\\\\n",
       "\t   &       &             &          &              &    &       & 3\\\\\n",
       "\\end{tabular}\n"
      ],
      "text/markdown": [
       "\n",
       "A data_codebook: 8 × 8\n",
       "\n",
       "| ID &lt;chr&gt; | Name &lt;chr&gt; | Type &lt;chr&gt; | Missings &lt;chr&gt; | Values &lt;chr&gt; | N &lt;chr&gt; | Prop &lt;chr&gt; | .row_id &lt;int&gt; |\n",
       "|---|---|---|---|---|---|---|---|\n",
       "| 1 | uric  | numeric     | 0 (0.0%) | [3.88, 7.94] | 20 | <!----> | 1 |\n",
       "| <!----> | <!----> | <!----> | <!----> | <!----> | <!----> | <!----> | 1 |\n",
       "| 2 | downs | categorical | 0 (0.0%) | No           | 10 | 50.0% | 2 |\n",
       "| <!----> | <!----> | <!----> | <!----> | Yes          | 10 | 50.0% | 2 |\n",
       "| <!----> | <!----> | <!----> | <!----> | <!----> | <!----> | <!----> | 2 |\n",
       "| 3 | sex   | categorical | 0 (0.0%) | Male         | 10 | 50.0% | 3 |\n",
       "| <!----> | <!----> | <!----> | <!----> | Female       | 10 | 50.0% | 3 |\n",
       "| <!----> | <!----> | <!----> | <!----> | <!----> | <!----> | <!----> | 3 |\n",
       "\n"
      ],
      "text/plain": [
       "  ID Name  Type        Missings Values       N  Prop  .row_id\n",
       "1 1  uric  numeric     0 (0.0%) [3.88, 7.94] 20       1      \n",
       "2                                                     1      \n",
       "3 2  downs categorical 0 (0.0%) No           10 50.0% 2      \n",
       "4                               Yes          10 50.0% 2      \n",
       "5                                                     2      \n",
       "6 3  sex   categorical 0 (0.0%) Male         10 50.0% 3      \n",
       "7                               Female       10 50.0% 3      \n",
       "8                                                     3      "
      ]
     },
     "metadata": {},
     "output_type": "display_data"
    }
   ],
   "source": [
    "uric_down = read_csv(\"data/uric_down.csv\",  col_types = \"dff\")\n",
    "uric_down |> data_codebook()"
   ]
  },
  {
   "cell_type": "raw",
   "metadata": {},
   "source": [
    "::: callout-note\n",
    "1.  It's also possible to load *.csv* files using `read.csv`.\n",
    "2.  When we use `read.csv` the data is loaded as a data frame, whereas when we use `read_csv` the data is loaded as a tibble.\n",
    "3.  For data frames (using `read.csv`), variables with characters are transformed directly as factor, hence the command: `uric_down = read.csv(\"data/uric_down.csv\")` would be enough.\n",
    "4.  For tibbles (using `read_csv`), variables with characters remain characters unless we declare them as factor. The argument: `col_types = \"dff\"` indicates that the first variable is a *double* and the next two are *factors*.\n",
    "\n",
    "Another way to import datasets is by going to the **Environment** tab, under the **Workspace** panel. There you can go to `Import Dataset > From CSV...`.\n",
    ":::"
   ]
  },
  {
   "cell_type": "raw",
   "metadata": {},
   "source": [
    "::: callout-tip\n",
    "The following strategy is recommended:\n",
    "\n",
    "1.  Load all your data in an Excel spreadsheet, remembering all points mentioned earlier.\n",
    "2.  Save your data in Excel format and also export it as a `.csv` file.\n",
    "3.  Import your data in `R`.\n",
    "4.  Define factors and labels.\n",
    "5.  Once you are happy with your data, save it as a `.rds` file with `write_rds`.\n",
    "6.  Perform your analysis with your data and document everything on a script file.\n",
    ":::"
   ]
  },
  {
   "cell_type": "markdown",
   "metadata": {},
   "source": [
    "# Data manipulation\n",
    "\n",
    "In most cases you start by inspecting your data, cleaning, defining factors and making transformations. As mentioned in the section before, your data will come from a spreadsheet. In this paper, we will use data contained in `R` *packages* most of the time.\n",
    "\n",
    "First read the help file for the dataset `wcgs` by typing: `?epitools::wcgs` in the **Console** panel.\n",
    "\n",
    "We use the function `data` to load data from `R` *packages*."
   ]
  },
  {
   "cell_type": "code",
   "execution_count": 30,
   "metadata": {
    "vscode": {
     "languageId": "r"
    }
   },
   "outputs": [
    {
     "data": {
      "text/html": [
       "<style>\n",
       ".list-inline {list-style: none; margin:0; padding: 0}\n",
       ".list-inline>li {display: inline-block}\n",
       ".list-inline>li:not(:last-child)::after {content: \"\\00b7\"; padding: 0 .5ex}\n",
       "</style>\n",
       "<ol class=list-inline><li>'id'</li><li>'age0'</li><li>'height0'</li><li>'weight0'</li><li>'sbp0'</li><li>'dbp0'</li><li>'chol0'</li><li>'behpat0'</li><li>'ncigs0'</li><li>'dibpat0'</li><li>'chd69'</li><li>'typechd'</li><li>'time169'</li><li>'arcus0'</li></ol>\n"
      ],
      "text/latex": [
       "\\begin{enumerate*}\n",
       "\\item 'id'\n",
       "\\item 'age0'\n",
       "\\item 'height0'\n",
       "\\item 'weight0'\n",
       "\\item 'sbp0'\n",
       "\\item 'dbp0'\n",
       "\\item 'chol0'\n",
       "\\item 'behpat0'\n",
       "\\item 'ncigs0'\n",
       "\\item 'dibpat0'\n",
       "\\item 'chd69'\n",
       "\\item 'typechd'\n",
       "\\item 'time169'\n",
       "\\item 'arcus0'\n",
       "\\end{enumerate*}\n"
      ],
      "text/markdown": [
       "1. 'id'\n",
       "2. 'age0'\n",
       "3. 'height0'\n",
       "4. 'weight0'\n",
       "5. 'sbp0'\n",
       "6. 'dbp0'\n",
       "7. 'chol0'\n",
       "8. 'behpat0'\n",
       "9. 'ncigs0'\n",
       "10. 'dibpat0'\n",
       "11. 'chd69'\n",
       "12. 'typechd'\n",
       "13. 'time169'\n",
       "14. 'arcus0'\n",
       "\n",
       "\n"
      ],
      "text/plain": [
       " [1] \"id\"      \"age0\"    \"height0\" \"weight0\" \"sbp0\"    \"dbp0\"    \"chol0\"  \n",
       " [8] \"behpat0\" \"ncigs0\"  \"dibpat0\" \"chd69\"   \"typechd\" \"time169\" \"arcus0\" "
      ]
     },
     "metadata": {},
     "output_type": "display_data"
    }
   ],
   "source": [
    "data(wcgs, package = \"epitools\")\n",
    "wcgs |> names()"
   ]
  },
  {
   "cell_type": "markdown",
   "metadata": {},
   "source": [
    "The first thing I would like to do is to change the name of the variables:"
   ]
  },
  {
   "cell_type": "code",
   "execution_count": 31,
   "metadata": {
    "vscode": {
     "languageId": "r"
    }
   },
   "outputs": [
    {
     "data": {
      "text/html": [
       "<style>\n",
       ".list-inline {list-style: none; margin:0; padding: 0}\n",
       ".list-inline>li {display: inline-block}\n",
       ".list-inline>li:not(:last-child)::after {content: \"\\00b7\"; padding: 0 .5ex}\n",
       "</style>\n",
       "<ol class=list-inline><li>'id'</li><li>'age'</li><li>'height'</li><li>'weight'</li><li>'sbp'</li><li>'dbp'</li><li>'chol'</li><li>'beh_pat'</li><li>'ncigs'</li><li>'dib_pat'</li><li>'chd'</li><li>'type_chd'</li><li>'time'</li><li>'arcus'</li></ol>\n"
      ],
      "text/latex": [
       "\\begin{enumerate*}\n",
       "\\item 'id'\n",
       "\\item 'age'\n",
       "\\item 'height'\n",
       "\\item 'weight'\n",
       "\\item 'sbp'\n",
       "\\item 'dbp'\n",
       "\\item 'chol'\n",
       "\\item 'beh\\_pat'\n",
       "\\item 'ncigs'\n",
       "\\item 'dib\\_pat'\n",
       "\\item 'chd'\n",
       "\\item 'type\\_chd'\n",
       "\\item 'time'\n",
       "\\item 'arcus'\n",
       "\\end{enumerate*}\n"
      ],
      "text/markdown": [
       "1. 'id'\n",
       "2. 'age'\n",
       "3. 'height'\n",
       "4. 'weight'\n",
       "5. 'sbp'\n",
       "6. 'dbp'\n",
       "7. 'chol'\n",
       "8. 'beh_pat'\n",
       "9. 'ncigs'\n",
       "10. 'dib_pat'\n",
       "11. 'chd'\n",
       "12. 'type_chd'\n",
       "13. 'time'\n",
       "14. 'arcus'\n",
       "\n",
       "\n"
      ],
      "text/plain": [
       " [1] \"id\"       \"age\"      \"height\"   \"weight\"   \"sbp\"      \"dbp\"     \n",
       " [7] \"chol\"     \"beh_pat\"  \"ncigs\"    \"dib_pat\"  \"chd\"      \"type_chd\"\n",
       "[13] \"time\"     \"arcus\"   "
      ]
     },
     "metadata": {},
     "output_type": "display_data"
    }
   ],
   "source": [
    "wcgs = as_tibble(wcgs)\n",
    "names(wcgs) = c(\n",
    "  \"id\", \"age\", \"height\", \"weight\", \"sbp\", \"dbp\",\n",
    "  \"chol\", \"beh_pat\", \"ncigs\", \"dib_pat\", \"chd\",\n",
    "  \"type_chd\", \"time\", \"arcus\"\n",
    "  )\n",
    "\n",
    "wcgs |> names()"
   ]
  },
  {
   "cell_type": "markdown",
   "metadata": {},
   "source": [
    "## Defining factors\n",
    "\n",
    "Now, we define categorical variables as factors. By default, the value zero is our reference."
   ]
  },
  {
   "cell_type": "code",
   "execution_count": 32,
   "metadata": {
    "vscode": {
     "languageId": "r"
    }
   },
   "outputs": [],
   "source": [
    "wcgs = wcgs |>\n",
    "  mutate(\n",
    "    chd = factor(chd, labels = c(\"No CHD\", \"CHD\")),\n",
    "    arcus = factor(arcus, labels = c(\"Absent\", \"Present\")),\n",
    "    beh_pat = factor(beh_pat, labels = c(\"A1\", \"A2\", \"B3\", \"B4\")),\n",
    "    dib_pat = factor(dib_pat, labels = c(\"B\", \"A\")),\n",
    "    type_chd = factor(\n",
    "      type_chd, labels = c(\"No CHD\", \"MI or SD\", \"Angina\", \"Silent MI\")\n",
    "    )\n",
    "  )"
   ]
  },
  {
   "cell_type": "markdown",
   "metadata": {},
   "source": [
    "## Transforming to a binary variable\n",
    "\n",
    "One of our variables is a count and stores the number of smoked cigarettes/day. We can define a new variable `Smoker` in which, everyone who smokes one or more cigarette/day will be a smoker. One of the easiest ways to create binary variables is to use a *conditional* statement. For example, the result of `wcgs$ncigs > 0` is a vector with `TRUE` and `FALSE` results."
   ]
  },
  {
   "cell_type": "code",
   "execution_count": 33,
   "metadata": {
    "vscode": {
     "languageId": "r"
    }
   },
   "outputs": [],
   "source": [
    "wcgs = wcgs |>\n",
    "  mutate(\n",
    "    smoker = factor(ncigs > 0, labels = c(\"Non-Smoker\", \"Smoker\"))\n",
    "  )"
   ]
  },
  {
   "cell_type": "markdown",
   "metadata": {},
   "source": [
    "## Simple numeric transformations\n",
    "\n",
    "We also, prefer units in the metric system. We will convert from inches to centimetres and from pounds to kg."
   ]
  },
  {
   "cell_type": "code",
   "execution_count": 34,
   "metadata": {
    "vscode": {
     "languageId": "r"
    }
   },
   "outputs": [],
   "source": [
    "wcgs = wcgs |>\n",
    "  mutate(\n",
    "    height = height * 2.54,\n",
    "    weight = weight * 0.4536\n",
    "  )"
   ]
  },
  {
   "cell_type": "markdown",
   "metadata": {},
   "source": [
    "## Changing the reference for factors\n",
    "\n",
    "First, check the reference level for the variable `dib_pat`:"
   ]
  },
  {
   "cell_type": "code",
   "execution_count": 35,
   "metadata": {
    "vscode": {
     "languageId": "r"
    }
   },
   "outputs": [
    {
     "data": {
      "text/html": [
       "<style>\n",
       ".list-inline {list-style: none; margin:0; padding: 0}\n",
       ".list-inline>li {display: inline-block}\n",
       ".list-inline>li:not(:last-child)::after {content: \"\\00b7\"; padding: 0 .5ex}\n",
       "</style>\n",
       "<ol class=list-inline><li>'B'</li><li>'A'</li></ol>\n"
      ],
      "text/latex": [
       "\\begin{enumerate*}\n",
       "\\item 'B'\n",
       "\\item 'A'\n",
       "\\end{enumerate*}\n"
      ],
      "text/markdown": [
       "1. 'B'\n",
       "2. 'A'\n",
       "\n",
       "\n"
      ],
      "text/plain": [
       "[1] \"B\" \"A\""
      ]
     },
     "metadata": {},
     "output_type": "display_data"
    }
   ],
   "source": [
    "levels(wcgs$dib_pat)"
   ]
  },
  {
   "cell_type": "markdown",
   "metadata": {},
   "source": [
    "It would make more sense to have `A` as our reference category."
   ]
  },
  {
   "cell_type": "code",
   "execution_count": 36,
   "metadata": {
    "vscode": {
     "languageId": "r"
    }
   },
   "outputs": [],
   "source": [
    "wcgs = wcgs |>\n",
    "  mutate(dib_pat = relevel(dib_pat, ref = \"A\"))"
   ]
  },
  {
   "cell_type": "markdown",
   "metadata": {},
   "source": [
    "## Labels\n",
    "\n",
    "It is also helpful to add labels to variables."
   ]
  },
  {
   "cell_type": "code",
   "execution_count": 37,
   "metadata": {
    "vscode": {
     "languageId": "r"
    }
   },
   "outputs": [],
   "source": [
    "wcgs = wcgs |>\n",
    "  var_labels(\n",
    "    age =  \"Age (years)\",\n",
    "    height = \"Height (cm)\",\n",
    "    weight = \"Weight (kg)\",\n",
    "    sbp = \"SBP (mm Hg)\",\n",
    "    dbp = \"DBP (mm Hg)\",\n",
    "    chol = \"Cholesterol (mg/dl)\",\n",
    "    beh_pat = \"Behaviour pattern\",\n",
    "    ncigs = \"Cigarettes (n/day)\",\n",
    "    dib_pat = \"Dichotomous behaviour\",\n",
    "    chd = \"Coronary Heart Disease\",\n",
    "    type_chd = \"Type of CHD\",\n",
    "    time = \"Follow up time (days)\",\n",
    "    arcus = \"Corneal arcus\",\n",
    "    smoker = \"Smoking status\"\n",
    "  )"
   ]
  },
  {
   "cell_type": "raw",
   "metadata": {},
   "source": [
    "::: callout-tip\n",
    "## Exercise\n",
    "\n",
    "Take a *glimpse* of your new data frame and save it as `wcgs.rds` file for further use.\n",
    ":::"
   ]
  },
  {
   "cell_type": "code",
   "execution_count": 38,
   "metadata": {
    "vscode": {
     "languageId": "r"
    }
   },
   "outputs": [
    {
     "name": "stdout",
     "output_type": "stream",
     "text": [
      "Rows: 3,154\n",
      "Columns: 15\n",
      "$ id       \u001b[3m\u001b[90m<int>\u001b[39m\u001b[23m 2001, 2002, 2003, 2004, 2005, 2006, 2007, 2008, 2009, 2010, 2…\n",
      "$ age      \u001b[3m\u001b[90m<int>\u001b[39m\u001b[23m 49, 42, 42, 41, 59, 44, 44, 40, 43, 42, 53, 41, 50, 43, 44, 5…\n",
      "$ height   \u001b[3m\u001b[90m<dbl>\u001b[39m\u001b[23m 185.42, 177.80, 175.26, 172.72, 177.80, 182.88, 182.88, 180.3…\n",
      "$ weight   \u001b[3m\u001b[90m<dbl>\u001b[39m\u001b[23m 68.0400, 72.5760, 72.5760, 68.9472, 68.0400, 92.5344, 74.3904…\n",
      "$ sbp      \u001b[3m\u001b[90m<int>\u001b[39m\u001b[23m 110, 154, 110, 124, 144, 150, 130, 138, 146, 132, 146, 138, 1…\n",
      "$ dbp      \u001b[3m\u001b[90m<int>\u001b[39m\u001b[23m 76, 84, 78, 78, 86, 90, 84, 60, 76, 90, 94, 96, 90, 80, 80, 8…\n",
      "$ chol     \u001b[3m\u001b[90m<int>\u001b[39m\u001b[23m 225, 177, 181, 132, 255, 182, 155, 140, 149, 325, 223, 271, 2…\n",
      "$ beh_pat  \u001b[3m\u001b[90m<fct>\u001b[39m\u001b[23m A2, A2, B3, B4, B3, B4, B4, A2, B3, A2, A2, A2, A1, B3, B3, B…\n",
      "$ ncigs    \u001b[3m\u001b[90m<int>\u001b[39m\u001b[23m 25, 20, 0, 20, 20, 0, 0, 0, 25, 0, 25, 20, 50, 30, 0, 3, 9, 0…\n",
      "$ dib_pat  \u001b[3m\u001b[90m<fct>\u001b[39m\u001b[23m A, A, B, B, B, B, B, A, B, A, A, A, A, B, B, B, B, A, B, A, A…\n",
      "$ chd      \u001b[3m\u001b[90m<fct>\u001b[39m\u001b[23m No CHD, No CHD, No CHD, No CHD, CHD, No CHD, No CHD, No CHD, …\n",
      "$ type_chd \u001b[3m\u001b[90m<fct>\u001b[39m\u001b[23m No CHD, No CHD, No CHD, No CHD, MI or SD, No CHD, No CHD, No …\n",
      "$ time     \u001b[3m\u001b[90m<int>\u001b[39m\u001b[23m 1664, 3071, 3071, 3064, 1885, 3102, 3074, 3071, 3064, 1032, 3…\n",
      "$ arcus    \u001b[3m\u001b[90m<fct>\u001b[39m\u001b[23m Absent, Present, Absent, Absent, Present, Absent, Absent, Abs…\n",
      "$ smoker   \u001b[3m\u001b[90m<fct>\u001b[39m\u001b[23m Smoker, Smoker, Non-Smoker, Smoker, Smoker, Non-Smoker, Non-S…\n"
     ]
    }
   ],
   "source": [
    "#| code-fold: true\n",
    "wcgs |> glimpse()"
   ]
  },
  {
   "cell_type": "code",
   "execution_count": 39,
   "metadata": {
    "vscode": {
     "languageId": "r"
    }
   },
   "outputs": [
    {
     "data": {
      "text/html": [
       "<table class=\"dataframe\">\n",
       "<caption>A data_codebook: 40 × 9</caption>\n",
       "<thead>\n",
       "\t<tr><th scope=col>ID</th><th scope=col>Name</th><th scope=col>Label</th><th scope=col>Type</th><th scope=col>Missings</th><th scope=col>Values</th><th scope=col>N</th><th scope=col>Prop</th><th scope=col>.row_id</th></tr>\n",
       "\t<tr><th scope=col>&lt;chr&gt;</th><th scope=col>&lt;chr&gt;</th><th scope=col>&lt;chr&gt;</th><th scope=col>&lt;chr&gt;</th><th scope=col>&lt;chr&gt;</th><th scope=col>&lt;chr&gt;</th><th scope=col>&lt;chr&gt;</th><th scope=col>&lt;chr&gt;</th><th scope=col>&lt;int&gt;</th></tr>\n",
       "</thead>\n",
       "<tbody>\n",
       "\t<tr><td>1 </td><td>id      </td><td>NA                    </td><td>integer    </td><td>0 (0.0%) </td><td>[2001, 22101]  </td><td>3154</td><td>     </td><td> 1</td></tr>\n",
       "\t<tr><td>  </td><td>        </td><td>                      </td><td>           </td><td>         </td><td>               </td><td>    </td><td>     </td><td> 1</td></tr>\n",
       "\t<tr><td>2 </td><td>age     </td><td>Age (years)           </td><td>integer    </td><td>0 (0.0%) </td><td>[39, 59]       </td><td>3154</td><td>     </td><td> 2</td></tr>\n",
       "\t<tr><td>  </td><td>        </td><td>                      </td><td>           </td><td>         </td><td>               </td><td>    </td><td>     </td><td> 2</td></tr>\n",
       "\t<tr><td>3 </td><td>height  </td><td>Height (cm)           </td><td>numeric    </td><td>0 (0.0%) </td><td>[152.4, 198.12]</td><td>3154</td><td>     </td><td> 3</td></tr>\n",
       "\t<tr><td>  </td><td>        </td><td>                      </td><td>           </td><td>         </td><td>               </td><td>    </td><td>     </td><td> 3</td></tr>\n",
       "\t<tr><td>4 </td><td>weight  </td><td>Weight (kg)           </td><td>numeric    </td><td>0 (0.0%) </td><td>[35.38, 145.15]</td><td>3154</td><td>     </td><td> 4</td></tr>\n",
       "\t<tr><td>  </td><td>        </td><td>                      </td><td>           </td><td>         </td><td>               </td><td>    </td><td>     </td><td> 4</td></tr>\n",
       "\t<tr><td>5 </td><td>sbp     </td><td>SBP (mm Hg)           </td><td>integer    </td><td>0 (0.0%) </td><td>[98, 230]      </td><td>3154</td><td>     </td><td> 5</td></tr>\n",
       "\t<tr><td>  </td><td>        </td><td>                      </td><td>           </td><td>         </td><td>               </td><td>    </td><td>     </td><td> 5</td></tr>\n",
       "\t<tr><td>6 </td><td>dbp     </td><td>DBP (mm Hg)           </td><td>integer    </td><td>0 (0.0%) </td><td>[58, 150]      </td><td>3154</td><td>     </td><td> 6</td></tr>\n",
       "\t<tr><td>  </td><td>        </td><td>                      </td><td>           </td><td>         </td><td>               </td><td>    </td><td>     </td><td> 6</td></tr>\n",
       "\t<tr><td>7 </td><td>chol    </td><td>Cholesterol (mg/dl)   </td><td>integer    </td><td>12 (0.4%)</td><td>[103, 645]     </td><td>3142</td><td>     </td><td> 7</td></tr>\n",
       "\t<tr><td>  </td><td>        </td><td>                      </td><td>           </td><td>         </td><td>               </td><td>    </td><td>     </td><td> 7</td></tr>\n",
       "\t<tr><td>8 </td><td>beh_pat </td><td>Behaviour pattern     </td><td>categorical</td><td>0 (0.0%) </td><td>A1             </td><td>264 </td><td>8.4% </td><td> 8</td></tr>\n",
       "\t<tr><td>  </td><td>        </td><td>                      </td><td>           </td><td>         </td><td>A2             </td><td>1325</td><td>42.0%</td><td> 8</td></tr>\n",
       "\t<tr><td>  </td><td>        </td><td>                      </td><td>           </td><td>         </td><td>B3             </td><td>1216</td><td>38.6%</td><td> 8</td></tr>\n",
       "\t<tr><td>  </td><td>        </td><td>                      </td><td>           </td><td>         </td><td>B4             </td><td>349 </td><td>11.1%</td><td> 8</td></tr>\n",
       "\t<tr><td>  </td><td>        </td><td>                      </td><td>           </td><td>         </td><td>               </td><td>    </td><td>     </td><td> 8</td></tr>\n",
       "\t<tr><td>9 </td><td>ncigs   </td><td>Cigarettes (n/day)    </td><td>integer    </td><td>0 (0.0%) </td><td>[0, 99]        </td><td>3154</td><td>     </td><td> 9</td></tr>\n",
       "\t<tr><td>  </td><td>        </td><td>                      </td><td>           </td><td>         </td><td>               </td><td>    </td><td>     </td><td> 9</td></tr>\n",
       "\t<tr><td>10</td><td>dib_pat </td><td>Dichotomous behaviour </td><td>categorical</td><td>0 (0.0%) </td><td>A              </td><td>1589</td><td>50.4%</td><td>10</td></tr>\n",
       "\t<tr><td>  </td><td>        </td><td>                      </td><td>           </td><td>         </td><td>B              </td><td>1565</td><td>49.6%</td><td>10</td></tr>\n",
       "\t<tr><td>  </td><td>        </td><td>                      </td><td>           </td><td>         </td><td>               </td><td>    </td><td>     </td><td>10</td></tr>\n",
       "\t<tr><td>11</td><td>chd     </td><td>Coronary Heart Disease</td><td>categorical</td><td>0 (0.0%) </td><td>No CHD         </td><td>2897</td><td>91.9%</td><td>11</td></tr>\n",
       "\t<tr><td>  </td><td>        </td><td>                      </td><td>           </td><td>         </td><td>CHD            </td><td>257 </td><td>8.1% </td><td>11</td></tr>\n",
       "\t<tr><td>  </td><td>        </td><td>                      </td><td>           </td><td>         </td><td>               </td><td>    </td><td>     </td><td>11</td></tr>\n",
       "\t<tr><td>12</td><td>type_chd</td><td>Type of CHD           </td><td>categorical</td><td>0 (0.0%) </td><td>No CHD         </td><td>2897</td><td>91.9%</td><td>12</td></tr>\n",
       "\t<tr><td>  </td><td>        </td><td>                      </td><td>           </td><td>         </td><td>MI or SD       </td><td>135 </td><td>4.3% </td><td>12</td></tr>\n",
       "\t<tr><td>  </td><td>        </td><td>                      </td><td>           </td><td>         </td><td>Angina         </td><td>71  </td><td>2.3% </td><td>12</td></tr>\n",
       "\t<tr><td>  </td><td>        </td><td>                      </td><td>           </td><td>         </td><td>Silent MI      </td><td>51  </td><td>1.6% </td><td>12</td></tr>\n",
       "\t<tr><td>  </td><td>        </td><td>                      </td><td>           </td><td>         </td><td>               </td><td>    </td><td>     </td><td>12</td></tr>\n",
       "\t<tr><td>13</td><td>time    </td><td>Follow up time (days) </td><td>integer    </td><td>0 (0.0%) </td><td>[18, 3430]     </td><td>3154</td><td>     </td><td>13</td></tr>\n",
       "\t<tr><td>  </td><td>        </td><td>                      </td><td>           </td><td>         </td><td>               </td><td>    </td><td>     </td><td>13</td></tr>\n",
       "\t<tr><td>14</td><td>arcus   </td><td>Corneal arcus         </td><td>categorical</td><td>2 (0.1%) </td><td>Absent         </td><td>2211</td><td>70.1%</td><td>14</td></tr>\n",
       "\t<tr><td>  </td><td>        </td><td>                      </td><td>           </td><td>         </td><td>Present        </td><td>941 </td><td>29.9%</td><td>14</td></tr>\n",
       "\t<tr><td>  </td><td>        </td><td>                      </td><td>           </td><td>         </td><td>               </td><td>    </td><td>     </td><td>14</td></tr>\n",
       "\t<tr><td>15</td><td>smoker  </td><td>Smoking status        </td><td>categorical</td><td>0 (0.0%) </td><td>Non-Smoker     </td><td>1652</td><td>52.4%</td><td>15</td></tr>\n",
       "\t<tr><td>  </td><td>        </td><td>                      </td><td>           </td><td>         </td><td>Smoker         </td><td>1502</td><td>47.6%</td><td>15</td></tr>\n",
       "\t<tr><td>  </td><td>        </td><td>                      </td><td>           </td><td>         </td><td>               </td><td>    </td><td>     </td><td>15</td></tr>\n",
       "</tbody>\n",
       "</table>\n"
      ],
      "text/latex": [
       "A data\\_codebook: 40 × 9\n",
       "\\begin{tabular}{lllllllll}\n",
       " ID & Name & Label & Type & Missings & Values & N & Prop & .row\\_id\\\\\n",
       " <chr> & <chr> & <chr> & <chr> & <chr> & <chr> & <chr> & <chr> & <int>\\\\\n",
       "\\hline\n",
       "\t 1  & id       & NA                     & integer     & 0 (0.0\\%)  & {[}2001, 22101{]}   & 3154 &       &  1\\\\\n",
       "\t    &          &                        &             &           &                 &      &       &  1\\\\\n",
       "\t 2  & age      & Age (years)            & integer     & 0 (0.0\\%)  & {[}39, 59{]}        & 3154 &       &  2\\\\\n",
       "\t    &          &                        &             &           &                 &      &       &  2\\\\\n",
       "\t 3  & height   & Height (cm)            & numeric     & 0 (0.0\\%)  & {[}152.4, 198.12{]} & 3154 &       &  3\\\\\n",
       "\t    &          &                        &             &           &                 &      &       &  3\\\\\n",
       "\t 4  & weight   & Weight (kg)            & numeric     & 0 (0.0\\%)  & {[}35.38, 145.15{]} & 3154 &       &  4\\\\\n",
       "\t    &          &                        &             &           &                 &      &       &  4\\\\\n",
       "\t 5  & sbp      & SBP (mm Hg)            & integer     & 0 (0.0\\%)  & {[}98, 230{]}       & 3154 &       &  5\\\\\n",
       "\t    &          &                        &             &           &                 &      &       &  5\\\\\n",
       "\t 6  & dbp      & DBP (mm Hg)            & integer     & 0 (0.0\\%)  & {[}58, 150{]}       & 3154 &       &  6\\\\\n",
       "\t    &          &                        &             &           &                 &      &       &  6\\\\\n",
       "\t 7  & chol     & Cholesterol (mg/dl)    & integer     & 12 (0.4\\%) & {[}103, 645{]}      & 3142 &       &  7\\\\\n",
       "\t    &          &                        &             &           &                 &      &       &  7\\\\\n",
       "\t 8  & beh\\_pat  & Behaviour pattern      & categorical & 0 (0.0\\%)  & A1              & 264  & 8.4\\%  &  8\\\\\n",
       "\t    &          &                        &             &           & A2              & 1325 & 42.0\\% &  8\\\\\n",
       "\t    &          &                        &             &           & B3              & 1216 & 38.6\\% &  8\\\\\n",
       "\t    &          &                        &             &           & B4              & 349  & 11.1\\% &  8\\\\\n",
       "\t    &          &                        &             &           &                 &      &       &  8\\\\\n",
       "\t 9  & ncigs    & Cigarettes (n/day)     & integer     & 0 (0.0\\%)  & {[}0, 99{]}         & 3154 &       &  9\\\\\n",
       "\t    &          &                        &             &           &                 &      &       &  9\\\\\n",
       "\t 10 & dib\\_pat  & Dichotomous behaviour  & categorical & 0 (0.0\\%)  & A               & 1589 & 50.4\\% & 10\\\\\n",
       "\t    &          &                        &             &           & B               & 1565 & 49.6\\% & 10\\\\\n",
       "\t    &          &                        &             &           &                 &      &       & 10\\\\\n",
       "\t 11 & chd      & Coronary Heart Disease & categorical & 0 (0.0\\%)  & No CHD          & 2897 & 91.9\\% & 11\\\\\n",
       "\t    &          &                        &             &           & CHD             & 257  & 8.1\\%  & 11\\\\\n",
       "\t    &          &                        &             &           &                 &      &       & 11\\\\\n",
       "\t 12 & type\\_chd & Type of CHD            & categorical & 0 (0.0\\%)  & No CHD          & 2897 & 91.9\\% & 12\\\\\n",
       "\t    &          &                        &             &           & MI or SD        & 135  & 4.3\\%  & 12\\\\\n",
       "\t    &          &                        &             &           & Angina          & 71   & 2.3\\%  & 12\\\\\n",
       "\t    &          &                        &             &           & Silent MI       & 51   & 1.6\\%  & 12\\\\\n",
       "\t    &          &                        &             &           &                 &      &       & 12\\\\\n",
       "\t 13 & time     & Follow up time (days)  & integer     & 0 (0.0\\%)  & {[}18, 3430{]}      & 3154 &       & 13\\\\\n",
       "\t    &          &                        &             &           &                 &      &       & 13\\\\\n",
       "\t 14 & arcus    & Corneal arcus          & categorical & 2 (0.1\\%)  & Absent          & 2211 & 70.1\\% & 14\\\\\n",
       "\t    &          &                        &             &           & Present         & 941  & 29.9\\% & 14\\\\\n",
       "\t    &          &                        &             &           &                 &      &       & 14\\\\\n",
       "\t 15 & smoker   & Smoking status         & categorical & 0 (0.0\\%)  & Non-Smoker      & 1652 & 52.4\\% & 15\\\\\n",
       "\t    &          &                        &             &           & Smoker          & 1502 & 47.6\\% & 15\\\\\n",
       "\t    &          &                        &             &           &                 &      &       & 15\\\\\n",
       "\\end{tabular}\n"
      ],
      "text/markdown": [
       "\n",
       "A data_codebook: 40 × 9\n",
       "\n",
       "| ID &lt;chr&gt; | Name &lt;chr&gt; | Label &lt;chr&gt; | Type &lt;chr&gt; | Missings &lt;chr&gt; | Values &lt;chr&gt; | N &lt;chr&gt; | Prop &lt;chr&gt; | .row_id &lt;int&gt; |\n",
       "|---|---|---|---|---|---|---|---|---|\n",
       "| 1  | id       | NA                     | integer     | 0 (0.0%)  | [2001, 22101]   | 3154 | <!----> |  1 |\n",
       "| <!----> | <!----> | <!----> | <!----> | <!----> | <!----> | <!----> | <!----> |  1 |\n",
       "| 2  | age      | Age (years)            | integer     | 0 (0.0%)  | [39, 59]        | 3154 | <!----> |  2 |\n",
       "| <!----> | <!----> | <!----> | <!----> | <!----> | <!----> | <!----> | <!----> |  2 |\n",
       "| 3  | height   | Height (cm)            | numeric     | 0 (0.0%)  | [152.4, 198.12] | 3154 | <!----> |  3 |\n",
       "| <!----> | <!----> | <!----> | <!----> | <!----> | <!----> | <!----> | <!----> |  3 |\n",
       "| 4  | weight   | Weight (kg)            | numeric     | 0 (0.0%)  | [35.38, 145.15] | 3154 | <!----> |  4 |\n",
       "| <!----> | <!----> | <!----> | <!----> | <!----> | <!----> | <!----> | <!----> |  4 |\n",
       "| 5  | sbp      | SBP (mm Hg)            | integer     | 0 (0.0%)  | [98, 230]       | 3154 | <!----> |  5 |\n",
       "| <!----> | <!----> | <!----> | <!----> | <!----> | <!----> | <!----> | <!----> |  5 |\n",
       "| 6  | dbp      | DBP (mm Hg)            | integer     | 0 (0.0%)  | [58, 150]       | 3154 | <!----> |  6 |\n",
       "| <!----> | <!----> | <!----> | <!----> | <!----> | <!----> | <!----> | <!----> |  6 |\n",
       "| 7  | chol     | Cholesterol (mg/dl)    | integer     | 12 (0.4%) | [103, 645]      | 3142 | <!----> |  7 |\n",
       "| <!----> | <!----> | <!----> | <!----> | <!----> | <!----> | <!----> | <!----> |  7 |\n",
       "| 8  | beh_pat  | Behaviour pattern      | categorical | 0 (0.0%)  | A1              | 264  | 8.4%  |  8 |\n",
       "| <!----> | <!----> | <!----> | <!----> | <!----> | A2              | 1325 | 42.0% |  8 |\n",
       "| <!----> | <!----> | <!----> | <!----> | <!----> | B3              | 1216 | 38.6% |  8 |\n",
       "| <!----> | <!----> | <!----> | <!----> | <!----> | B4              | 349  | 11.1% |  8 |\n",
       "| <!----> | <!----> | <!----> | <!----> | <!----> | <!----> | <!----> | <!----> |  8 |\n",
       "| 9  | ncigs    | Cigarettes (n/day)     | integer     | 0 (0.0%)  | [0, 99]         | 3154 | <!----> |  9 |\n",
       "| <!----> | <!----> | <!----> | <!----> | <!----> | <!----> | <!----> | <!----> |  9 |\n",
       "| 10 | dib_pat  | Dichotomous behaviour  | categorical | 0 (0.0%)  | A               | 1589 | 50.4% | 10 |\n",
       "| <!----> | <!----> | <!----> | <!----> | <!----> | B               | 1565 | 49.6% | 10 |\n",
       "| <!----> | <!----> | <!----> | <!----> | <!----> | <!----> | <!----> | <!----> | 10 |\n",
       "| 11 | chd      | Coronary Heart Disease | categorical | 0 (0.0%)  | No CHD          | 2897 | 91.9% | 11 |\n",
       "| <!----> | <!----> | <!----> | <!----> | <!----> | CHD             | 257  | 8.1%  | 11 |\n",
       "| <!----> | <!----> | <!----> | <!----> | <!----> | <!----> | <!----> | <!----> | 11 |\n",
       "| 12 | type_chd | Type of CHD            | categorical | 0 (0.0%)  | No CHD          | 2897 | 91.9% | 12 |\n",
       "| <!----> | <!----> | <!----> | <!----> | <!----> | MI or SD        | 135  | 4.3%  | 12 |\n",
       "| <!----> | <!----> | <!----> | <!----> | <!----> | Angina          | 71   | 2.3%  | 12 |\n",
       "| <!----> | <!----> | <!----> | <!----> | <!----> | Silent MI       | 51   | 1.6%  | 12 |\n",
       "| <!----> | <!----> | <!----> | <!----> | <!----> | <!----> | <!----> | <!----> | 12 |\n",
       "| 13 | time     | Follow up time (days)  | integer     | 0 (0.0%)  | [18, 3430]      | 3154 | <!----> | 13 |\n",
       "| <!----> | <!----> | <!----> | <!----> | <!----> | <!----> | <!----> | <!----> | 13 |\n",
       "| 14 | arcus    | Corneal arcus          | categorical | 2 (0.1%)  | Absent          | 2211 | 70.1% | 14 |\n",
       "| <!----> | <!----> | <!----> | <!----> | <!----> | Present         | 941  | 29.9% | 14 |\n",
       "| <!----> | <!----> | <!----> | <!----> | <!----> | <!----> | <!----> | <!----> | 14 |\n",
       "| 15 | smoker   | Smoking status         | categorical | 0 (0.0%)  | Non-Smoker      | 1652 | 52.4% | 15 |\n",
       "| <!----> | <!----> | <!----> | <!----> | <!----> | Smoker          | 1502 | 47.6% | 15 |\n",
       "| <!----> | <!----> | <!----> | <!----> | <!----> | <!----> | <!----> | <!----> | 15 |\n",
       "\n"
      ],
      "text/plain": [
       "   ID Name     Label                  Type        Missings  Values         \n",
       "1  1  id       NA                     integer     0 (0.0%)  [2001, 22101]  \n",
       "2                                                                          \n",
       "3  2  age      Age (years)            integer     0 (0.0%)  [39, 59]       \n",
       "4                                                                          \n",
       "5  3  height   Height (cm)            numeric     0 (0.0%)  [152.4, 198.12]\n",
       "6                                                                          \n",
       "7  4  weight   Weight (kg)            numeric     0 (0.0%)  [35.38, 145.15]\n",
       "8                                                                          \n",
       "9  5  sbp      SBP (mm Hg)            integer     0 (0.0%)  [98, 230]      \n",
       "10                                                                         \n",
       "11 6  dbp      DBP (mm Hg)            integer     0 (0.0%)  [58, 150]      \n",
       "12                                                                         \n",
       "13 7  chol     Cholesterol (mg/dl)    integer     12 (0.4%) [103, 645]     \n",
       "14                                                                         \n",
       "15 8  beh_pat  Behaviour pattern      categorical 0 (0.0%)  A1             \n",
       "16                                                          A2             \n",
       "17                                                          B3             \n",
       "18                                                          B4             \n",
       "19                                                                         \n",
       "20 9  ncigs    Cigarettes (n/day)     integer     0 (0.0%)  [0, 99]        \n",
       "21                                                                         \n",
       "22 10 dib_pat  Dichotomous behaviour  categorical 0 (0.0%)  A              \n",
       "23                                                          B              \n",
       "24                                                                         \n",
       "25 11 chd      Coronary Heart Disease categorical 0 (0.0%)  No CHD         \n",
       "26                                                          CHD            \n",
       "27                                                                         \n",
       "28 12 type_chd Type of CHD            categorical 0 (0.0%)  No CHD         \n",
       "29                                                          MI or SD       \n",
       "30                                                          Angina         \n",
       "31                                                          Silent MI      \n",
       "32                                                                         \n",
       "33 13 time     Follow up time (days)  integer     0 (0.0%)  [18, 3430]     \n",
       "34                                                                         \n",
       "35 14 arcus    Corneal arcus          categorical 2 (0.1%)  Absent         \n",
       "36                                                          Present        \n",
       "37                                                                         \n",
       "38 15 smoker   Smoking status         categorical 0 (0.0%)  Non-Smoker     \n",
       "39                                                          Smoker         \n",
       "40                                                                         \n",
       "   N    Prop  .row_id\n",
       "1  3154        1     \n",
       "2              1     \n",
       "3  3154        2     \n",
       "4              2     \n",
       "5  3154        3     \n",
       "6              3     \n",
       "7  3154        4     \n",
       "8              4     \n",
       "9  3154        5     \n",
       "10             5     \n",
       "11 3154        6     \n",
       "12             6     \n",
       "13 3142        7     \n",
       "14             7     \n",
       "15 264  8.4%   8     \n",
       "16 1325 42.0%  8     \n",
       "17 1216 38.6%  8     \n",
       "18 349  11.1%  8     \n",
       "19             8     \n",
       "20 3154        9     \n",
       "21             9     \n",
       "22 1589 50.4% 10     \n",
       "23 1565 49.6% 10     \n",
       "24            10     \n",
       "25 2897 91.9% 11     \n",
       "26 257  8.1%  11     \n",
       "27            11     \n",
       "28 2897 91.9% 12     \n",
       "29 135  4.3%  12     \n",
       "30 71   2.3%  12     \n",
       "31 51   1.6%  12     \n",
       "32            12     \n",
       "33 3154       13     \n",
       "34            13     \n",
       "35 2211 70.1% 14     \n",
       "36 941  29.9% 14     \n",
       "37            14     \n",
       "38 1652 52.4% 15     \n",
       "39 1502 47.6% 15     \n",
       "40            15     "
      ]
     },
     "metadata": {},
     "output_type": "display_data"
    }
   ],
   "source": [
    "wcgs |>\n",
    "  data_codebook()"
   ]
  },
  {
   "cell_type": "code",
   "execution_count": 40,
   "metadata": {},
   "outputs": [],
   "source": [
    "write_rds(wcgs, \"data/wcgs.rds\")"
   ]
  },
  {
   "cell_type": "markdown",
   "metadata": {},
   "source": [
    "## Indexing and subsets\n",
    "\n",
    "Let's said that we are only interested in subjects who are smokers. If that is the case, we can create a new data frame:"
   ]
  },
  {
   "cell_type": "code",
   "execution_count": 41,
   "metadata": {
    "vscode": {
     "languageId": "r"
    }
   },
   "outputs": [],
   "source": [
    "smokers = wcgs |>\n",
    "  filter(smoker == \"Smoker\") |>\n",
    "  copy_labels(wcgs)"
   ]
  },
  {
   "cell_type": "raw",
   "metadata": {},
   "source": [
    "::: callout-note\n",
    "When we are making comparisons, we use double equals; single equals in `R` are used for assignments and double ones for comparisons. For comparing against a character, we have to use single or double quotes (as shown in code above); numbers are not quoted.\n",
    ":::"
   ]
  },
  {
   "cell_type": "markdown",
   "metadata": {},
   "source": [
    "One way to check that we did not make a terrible mistake, is to check for the number of observations. The number of observations on a data frame is, most of the time, equal to the number of rows (`nrow`):"
   ]
  },
  {
   "cell_type": "code",
   "execution_count": 42,
   "metadata": {
    "vscode": {
     "languageId": "r"
    }
   },
   "outputs": [
    {
     "data": {
      "text/html": [
       "3154"
      ],
      "text/latex": [
       "3154"
      ],
      "text/markdown": [
       "3154"
      ],
      "text/plain": [
       "[1] 3154"
      ]
     },
     "metadata": {},
     "output_type": "display_data"
    },
    {
     "data": {
      "text/html": [
       "1502"
      ],
      "text/latex": [
       "1502"
      ],
      "text/markdown": [
       "1502"
      ],
      "text/plain": [
       "[1] 1502"
      ]
     },
     "metadata": {},
     "output_type": "display_data"
    }
   ],
   "source": [
    "wcgs |> nrow()\n",
    "smokers |> nrow()"
   ]
  },
  {
   "cell_type": "markdown",
   "metadata": {},
   "source": [
    "The function `nrow` works on *arrays*, i.e., data frames and matrices. For vectors, we use the function `length` instead. For example:"
   ]
  },
  {
   "cell_type": "code",
   "execution_count": 43,
   "metadata": {
    "vscode": {
     "languageId": "r"
    }
   },
   "outputs": [
    {
     "data": {
      "text/html": [
       "3154"
      ],
      "text/latex": [
       "3154"
      ],
      "text/markdown": [
       "3154"
      ],
      "text/plain": [
       "[1] 3154"
      ]
     },
     "metadata": {},
     "output_type": "display_data"
    }
   ],
   "source": [
    "length(wcgs$smoker)"
   ]
  },
  {
   "cell_type": "markdown",
   "metadata": {},
   "source": [
    "Another important concept is that of *indexing*. For indexing, we write the conditional inside square brackets. For example, another way to look at the number of smokers:"
   ]
  },
  {
   "cell_type": "code",
   "execution_count": 44,
   "metadata": {
    "vscode": {
     "languageId": "r"
    }
   },
   "outputs": [
    {
     "data": {
      "text/html": [
       "1502"
      ],
      "text/latex": [
       "1502"
      ],
      "text/markdown": [
       "1502"
      ],
      "text/plain": [
       "[1] 1502"
      ]
     },
     "metadata": {},
     "output_type": "display_data"
    }
   ],
   "source": [
    "length(wcgs$smoker[wcgs$smoker == \"Smoker\"])"
   ]
  },
  {
   "cell_type": "markdown",
   "metadata": {},
   "source": [
    "Using `with`:"
   ]
  },
  {
   "cell_type": "code",
   "execution_count": 45,
   "metadata": {
    "vscode": {
     "languageId": "r"
    }
   },
   "outputs": [
    {
     "data": {
      "text/html": [
       "1502"
      ],
      "text/latex": [
       "1502"
      ],
      "text/markdown": [
       "1502"
      ],
      "text/plain": [
       "[1] 1502"
      ]
     },
     "metadata": {},
     "output_type": "display_data"
    }
   ],
   "source": [
    "with(wcgs, length(smoker[smoker == \"Smoker\"]))"
   ]
  },
  {
   "cell_type": "markdown",
   "metadata": {},
   "source": [
    "Using a pipe-workflow:"
   ]
  },
  {
   "cell_type": "code",
   "execution_count": 46,
   "metadata": {
    "vscode": {
     "languageId": "r"
    }
   },
   "outputs": [
    {
     "data": {
      "text/html": [
       "<table class=\"dataframe\">\n",
       "<caption>A tibble: 2 × 2</caption>\n",
       "<thead>\n",
       "\t<tr><th scope=col>smoker</th><th scope=col>n</th></tr>\n",
       "\t<tr><th scope=col>&lt;fct&gt;</th><th scope=col>&lt;int&gt;</th></tr>\n",
       "</thead>\n",
       "<tbody>\n",
       "\t<tr><td>Non-Smoker</td><td>1652</td></tr>\n",
       "\t<tr><td>Smoker    </td><td>1502</td></tr>\n",
       "</tbody>\n",
       "</table>\n"
      ],
      "text/latex": [
       "A tibble: 2 × 2\n",
       "\\begin{tabular}{ll}\n",
       " smoker & n\\\\\n",
       " <fct> & <int>\\\\\n",
       "\\hline\n",
       "\t Non-Smoker & 1652\\\\\n",
       "\t Smoker     & 1502\\\\\n",
       "\\end{tabular}\n"
      ],
      "text/markdown": [
       "\n",
       "A tibble: 2 × 2\n",
       "\n",
       "| smoker &lt;fct&gt; | n &lt;int&gt; |\n",
       "|---|---|\n",
       "| Non-Smoker | 1652 |\n",
       "| Smoker     | 1502 |\n",
       "\n"
      ],
      "text/plain": [
       "  smoker     n   \n",
       "1 Non-Smoker 1652\n",
       "2 Smoker     1502"
      ]
     },
     "metadata": {},
     "output_type": "display_data"
    }
   ],
   "source": [
    "wcgs |> count(smoker)"
   ]
  },
  {
   "cell_type": "code",
   "execution_count": 47,
   "metadata": {
    "vscode": {
     "languageId": "r"
    }
   },
   "outputs": [
    {
     "data": {
      "text/html": [
       "<table class=\"dataframe\">\n",
       "<caption>A tibble: 2 × 3</caption>\n",
       "<thead>\n",
       "\t<tr><th scope=col>smoker</th><th scope=col>n</th><th scope=col>prop</th></tr>\n",
       "\t<tr><th scope=col>&lt;fct&gt;</th><th scope=col>&lt;int&gt;</th><th scope=col>&lt;dbl&gt;</th></tr>\n",
       "</thead>\n",
       "<tbody>\n",
       "\t<tr><td>Non-Smoker</td><td>1652</td><td>52.4</td></tr>\n",
       "\t<tr><td>Smoker    </td><td>1502</td><td>47.6</td></tr>\n",
       "</tbody>\n",
       "</table>\n"
      ],
      "text/latex": [
       "A tibble: 2 × 3\n",
       "\\begin{tabular}{lll}\n",
       " smoker & n & prop\\\\\n",
       " <fct> & <int> & <dbl>\\\\\n",
       "\\hline\n",
       "\t Non-Smoker & 1652 & 52.4\\\\\n",
       "\t Smoker     & 1502 & 47.6\\\\\n",
       "\\end{tabular}\n"
      ],
      "text/markdown": [
       "\n",
       "A tibble: 2 × 3\n",
       "\n",
       "| smoker &lt;fct&gt; | n &lt;int&gt; | prop &lt;dbl&gt; |\n",
       "|---|---|---|\n",
       "| Non-Smoker | 1652 | 52.4 |\n",
       "| Smoker     | 1502 | 47.6 |\n",
       "\n"
      ],
      "text/plain": [
       "  smoker     n    prop\n",
       "1 Non-Smoker 1652 52.4\n",
       "2 Smoker     1502 47.6"
      ]
     },
     "metadata": {},
     "output_type": "display_data"
    }
   ],
   "source": [
    "wcgs |> freq_table(smoker)"
   ]
  },
  {
   "cell_type": "markdown",
   "metadata": {},
   "source": [
    "Suppose we want to know the number of smokers who weight 100 kg or more:"
   ]
  },
  {
   "cell_type": "code",
   "execution_count": 48,
   "metadata": {
    "vscode": {
     "languageId": "r"
    }
   },
   "outputs": [
    {
     "data": {
      "text/html": [
       "<table class=\"dataframe\">\n",
       "<caption>A tibble: 2 × 2</caption>\n",
       "<thead>\n",
       "\t<tr><th scope=col>smoker</th><th scope=col>n</th></tr>\n",
       "\t<tr><th scope=col>&lt;fct&gt;</th><th scope=col>&lt;int&gt;</th></tr>\n",
       "</thead>\n",
       "<tbody>\n",
       "\t<tr><td>Non-Smoker</td><td>28</td></tr>\n",
       "\t<tr><td>Smoker    </td><td>20</td></tr>\n",
       "</tbody>\n",
       "</table>\n"
      ],
      "text/latex": [
       "A tibble: 2 × 2\n",
       "\\begin{tabular}{ll}\n",
       " smoker & n\\\\\n",
       " <fct> & <int>\\\\\n",
       "\\hline\n",
       "\t Non-Smoker & 28\\\\\n",
       "\t Smoker     & 20\\\\\n",
       "\\end{tabular}\n"
      ],
      "text/markdown": [
       "\n",
       "A tibble: 2 × 2\n",
       "\n",
       "| smoker &lt;fct&gt; | n &lt;int&gt; |\n",
       "|---|---|\n",
       "| Non-Smoker | 28 |\n",
       "| Smoker     | 20 |\n",
       "\n"
      ],
      "text/plain": [
       "  smoker     n \n",
       "1 Non-Smoker 28\n",
       "2 Smoker     20"
      ]
     },
     "metadata": {},
     "output_type": "display_data"
    }
   ],
   "source": [
    "wcgs |>\n",
    "  filter(weight >= 100) |>\n",
    "  count(smoker)"
   ]
  },
  {
   "cell_type": "code",
   "execution_count": 49,
   "metadata": {
    "vscode": {
     "languageId": "r"
    }
   },
   "outputs": [
    {
     "data": {
      "text/html": [
       "<table class=\"dataframe\">\n",
       "<caption>A tibble: 1 × 1</caption>\n",
       "<thead>\n",
       "\t<tr><th scope=col>n</th></tr>\n",
       "\t<tr><th scope=col>&lt;int&gt;</th></tr>\n",
       "</thead>\n",
       "<tbody>\n",
       "\t<tr><td>20</td></tr>\n",
       "</tbody>\n",
       "</table>\n"
      ],
      "text/latex": [
       "A tibble: 1 × 1\n",
       "\\begin{tabular}{l}\n",
       " n\\\\\n",
       " <int>\\\\\n",
       "\\hline\n",
       "\t 20\\\\\n",
       "\\end{tabular}\n"
      ],
      "text/markdown": [
       "\n",
       "A tibble: 1 × 1\n",
       "\n",
       "| n &lt;int&gt; |\n",
       "|---|\n",
       "| 20 |\n",
       "\n"
      ],
      "text/plain": [
       "  n \n",
       "1 20"
      ]
     },
     "metadata": {},
     "output_type": "display_data"
    }
   ],
   "source": [
    "smokers |>\n",
    "  filter(weight >= 100) |>\n",
    "  count()"
   ]
  },
  {
   "cell_type": "markdown",
   "metadata": {},
   "source": [
    "For obtaining the same result, but working on the original dataset, we would need to use two conditionals. We use the symbol `&` for **AND** and the symbol `|` for **OR**."
   ]
  },
  {
   "cell_type": "code",
   "execution_count": 50,
   "metadata": {
    "vscode": {
     "languageId": "r"
    }
   },
   "outputs": [
    {
     "data": {
      "text/html": [
       "<table class=\"dataframe\">\n",
       "<caption>A tibble: 1 × 1</caption>\n",
       "<thead>\n",
       "\t<tr><th scope=col>n</th></tr>\n",
       "\t<tr><th scope=col>&lt;int&gt;</th></tr>\n",
       "</thead>\n",
       "<tbody>\n",
       "\t<tr><td>20</td></tr>\n",
       "</tbody>\n",
       "</table>\n"
      ],
      "text/latex": [
       "A tibble: 1 × 1\n",
       "\\begin{tabular}{l}\n",
       " n\\\\\n",
       " <int>\\\\\n",
       "\\hline\n",
       "\t 20\\\\\n",
       "\\end{tabular}\n"
      ],
      "text/markdown": [
       "\n",
       "A tibble: 1 × 1\n",
       "\n",
       "| n &lt;int&gt; |\n",
       "|---|\n",
       "| 20 |\n",
       "\n"
      ],
      "text/plain": [
       "  n \n",
       "1 20"
      ]
     },
     "metadata": {},
     "output_type": "display_data"
    }
   ],
   "source": [
    "wcgs |>\n",
    "  filter(weight >= 100 & smoker == \"Smoker\") |>\n",
    "  count()"
   ]
  },
  {
   "cell_type": "raw",
   "metadata": {},
   "source": [
    "::: callout-caution\n",
    "\n",
    "## Exercise\n",
    "\n",
    "Determine the number of smokers who have behavioural pattern `A2` and had either angina or silent myocardial infarction. You will need to write the **OR** conditionals between parenthesis.\n",
    ":::"
   ]
  },
  {
   "cell_type": "code",
   "execution_count": 51,
   "metadata": {
    "vscode": {
     "languageId": "r"
    }
   },
   "outputs": [
    {
     "data": {
      "text/html": [
       "<table class=\"dataframe\">\n",
       "<caption>A tibble: 1 × 1</caption>\n",
       "<thead>\n",
       "\t<tr><th scope=col>n</th></tr>\n",
       "\t<tr><th scope=col>&lt;int&gt;</th></tr>\n",
       "</thead>\n",
       "<tbody>\n",
       "\t<tr><td>38</td></tr>\n",
       "</tbody>\n",
       "</table>\n"
      ],
      "text/latex": [
       "A tibble: 1 × 1\n",
       "\\begin{tabular}{l}\n",
       " n\\\\\n",
       " <int>\\\\\n",
       "\\hline\n",
       "\t 38\\\\\n",
       "\\end{tabular}\n"
      ],
      "text/markdown": [
       "\n",
       "A tibble: 1 × 1\n",
       "\n",
       "| n &lt;int&gt; |\n",
       "|---|\n",
       "| 38 |\n",
       "\n"
      ],
      "text/plain": [
       "  n \n",
       "1 38"
      ]
     },
     "metadata": {},
     "output_type": "display_data"
    }
   ],
   "source": [
    "#| code-fold: true\n",
    "smokers |>\n",
    "  filter(beh_pat == \"A2\" & (type_chd == \"Angina\" | type_chd == \"Silent MI\")) |>\n",
    "  count()"
   ]
  },
  {
   "cell_type": "markdown",
   "metadata": {},
   "source": [
    "It's possible to answer the exercise using `%in%` which is a variant of the `match` command:"
   ]
  },
  {
   "cell_type": "code",
   "execution_count": 52,
   "metadata": {
    "vscode": {
     "languageId": "r"
    }
   },
   "outputs": [
    {
     "data": {
      "text/html": [
       "<table class=\"dataframe\">\n",
       "<caption>A tibble: 1 × 1</caption>\n",
       "<thead>\n",
       "\t<tr><th scope=col>n</th></tr>\n",
       "\t<tr><th scope=col>&lt;int&gt;</th></tr>\n",
       "</thead>\n",
       "<tbody>\n",
       "\t<tr><td>38</td></tr>\n",
       "</tbody>\n",
       "</table>\n"
      ],
      "text/latex": [
       "A tibble: 1 × 1\n",
       "\\begin{tabular}{l}\n",
       " n\\\\\n",
       " <int>\\\\\n",
       "\\hline\n",
       "\t 38\\\\\n",
       "\\end{tabular}\n"
      ],
      "text/markdown": [
       "\n",
       "A tibble: 1 × 1\n",
       "\n",
       "| n &lt;int&gt; |\n",
       "|---|\n",
       "| 38 |\n",
       "\n"
      ],
      "text/plain": [
       "  n \n",
       "1 38"
      ]
     },
     "metadata": {},
     "output_type": "display_data"
    }
   ],
   "source": [
    "smokers |>\n",
    "  filter(beh_pat == \"A2\" & type_chd %in% c(\"Angina\", \"Silent MI\")) |>\n",
    "  count()"
   ]
  },
  {
   "cell_type": "markdown",
   "metadata": {},
   "source": [
    "Let's say we want to know all the variable values for the subject who has the maximum weight. The function `which` gives us the position for where the given condition is true. I will assign the result to a variable named `pos`."
   ]
  },
  {
   "cell_type": "code",
   "execution_count": 53,
   "metadata": {
    "vscode": {
     "languageId": "r"
    }
   },
   "outputs": [
    {
     "data": {
      "text/html": [
       "1094"
      ],
      "text/latex": [
       "1094"
      ],
      "text/markdown": [
       "1094"
      ],
      "text/plain": [
       "[1] 1094"
      ]
     },
     "metadata": {},
     "output_type": "display_data"
    }
   ],
   "source": [
    "pos = wcgs %$% which(weight == max(weight))\n",
    "pos"
   ]
  },
  {
   "cell_type": "markdown",
   "metadata": {},
   "source": [
    "Alternatively, we can use `which.max`:"
   ]
  },
  {
   "cell_type": "code",
   "execution_count": 54,
   "metadata": {
    "vscode": {
     "languageId": "r"
    }
   },
   "outputs": [
    {
     "data": {
      "text/html": [
       "1094"
      ],
      "text/latex": [
       "1094"
      ],
      "text/markdown": [
       "1094"
      ],
      "text/plain": [
       "[1] 1094"
      ]
     },
     "metadata": {},
     "output_type": "display_data"
    }
   ],
   "source": [
    "wcgs %$% which.max(weight)"
   ]
  },
  {
   "cell_type": "markdown",
   "metadata": {},
   "source": [
    "For indexing arrays, we use square brackets. The first number refers to the row and the second to the column. If one of them is missing, that means we are asking for all the values."
   ]
  },
  {
   "cell_type": "code",
   "execution_count": 55,
   "metadata": {
    "vscode": {
     "languageId": "r"
    }
   },
   "outputs": [
    {
     "data": {
      "text/html": [
       "<table class=\"dataframe\">\n",
       "<caption>A tibble: 1 × 15</caption>\n",
       "<thead>\n",
       "\t<tr><th scope=col>id</th><th scope=col>age</th><th scope=col>height</th><th scope=col>weight</th><th scope=col>sbp</th><th scope=col>dbp</th><th scope=col>chol</th><th scope=col>beh_pat</th><th scope=col>ncigs</th><th scope=col>dib_pat</th><th scope=col>chd</th><th scope=col>type_chd</th><th scope=col>time</th><th scope=col>arcus</th><th scope=col>smoker</th></tr>\n",
       "\t<tr><th scope=col>&lt;int&gt;</th><th scope=col>&lt;int&gt;</th><th scope=col>&lt;dbl&gt;</th><th scope=col>&lt;dbl&gt;</th><th scope=col>&lt;int&gt;</th><th scope=col>&lt;int&gt;</th><th scope=col>&lt;int&gt;</th><th scope=col>&lt;fct&gt;</th><th scope=col>&lt;int&gt;</th><th scope=col>&lt;fct&gt;</th><th scope=col>&lt;fct&gt;</th><th scope=col>&lt;fct&gt;</th><th scope=col>&lt;int&gt;</th><th scope=col>&lt;fct&gt;</th><th scope=col>&lt;fct&gt;</th></tr>\n",
       "</thead>\n",
       "<tbody>\n",
       "\t<tr><td>10078</td><td>43</td><td>193.04</td><td>145.152</td><td>166</td><td>102</td><td>188</td><td>B3</td><td>0</td><td>B</td><td>CHD</td><td>Angina</td><td>1795</td><td>Absent</td><td>Non-Smoker</td></tr>\n",
       "</tbody>\n",
       "</table>\n"
      ],
      "text/latex": [
       "A tibble: 1 × 15\n",
       "\\begin{tabular}{lllllllllllllll}\n",
       " id & age & height & weight & sbp & dbp & chol & beh\\_pat & ncigs & dib\\_pat & chd & type\\_chd & time & arcus & smoker\\\\\n",
       " <int> & <int> & <dbl> & <dbl> & <int> & <int> & <int> & <fct> & <int> & <fct> & <fct> & <fct> & <int> & <fct> & <fct>\\\\\n",
       "\\hline\n",
       "\t 10078 & 43 & 193.04 & 145.152 & 166 & 102 & 188 & B3 & 0 & B & CHD & Angina & 1795 & Absent & Non-Smoker\\\\\n",
       "\\end{tabular}\n"
      ],
      "text/markdown": [
       "\n",
       "A tibble: 1 × 15\n",
       "\n",
       "| id &lt;int&gt; | age &lt;int&gt; | height &lt;dbl&gt; | weight &lt;dbl&gt; | sbp &lt;int&gt; | dbp &lt;int&gt; | chol &lt;int&gt; | beh_pat &lt;fct&gt; | ncigs &lt;int&gt; | dib_pat &lt;fct&gt; | chd &lt;fct&gt; | type_chd &lt;fct&gt; | time &lt;int&gt; | arcus &lt;fct&gt; | smoker &lt;fct&gt; |\n",
       "|---|---|---|---|---|---|---|---|---|---|---|---|---|---|---|\n",
       "| 10078 | 43 | 193.04 | 145.152 | 166 | 102 | 188 | B3 | 0 | B | CHD | Angina | 1795 | Absent | Non-Smoker |\n",
       "\n"
      ],
      "text/plain": [
       "  id    age height weight  sbp dbp chol beh_pat ncigs dib_pat chd type_chd time\n",
       "1 10078 43  193.04 145.152 166 102 188  B3      0     B       CHD Angina   1795\n",
       "  arcus  smoker    \n",
       "1 Absent Non-Smoker"
      ]
     },
     "metadata": {},
     "output_type": "display_data"
    }
   ],
   "source": [
    "wcgs[pos, ]"
   ]
  },
  {
   "cell_type": "code",
   "execution_count": 57,
   "metadata": {
    "vscode": {
     "languageId": "r"
    }
   },
   "outputs": [
    {
     "data": {
      "text/html": [
       "<table class=\"dataframe\">\n",
       "<caption>A tibble: 1 × 15</caption>\n",
       "<thead>\n",
       "\t<tr><th scope=col>id</th><th scope=col>age</th><th scope=col>height</th><th scope=col>weight</th><th scope=col>sbp</th><th scope=col>dbp</th><th scope=col>chol</th><th scope=col>beh_pat</th><th scope=col>ncigs</th><th scope=col>dib_pat</th><th scope=col>chd</th><th scope=col>type_chd</th><th scope=col>time</th><th scope=col>arcus</th><th scope=col>smoker</th></tr>\n",
       "\t<tr><th scope=col>&lt;int&gt;</th><th scope=col>&lt;int&gt;</th><th scope=col>&lt;dbl&gt;</th><th scope=col>&lt;dbl&gt;</th><th scope=col>&lt;int&gt;</th><th scope=col>&lt;int&gt;</th><th scope=col>&lt;int&gt;</th><th scope=col>&lt;fct&gt;</th><th scope=col>&lt;int&gt;</th><th scope=col>&lt;fct&gt;</th><th scope=col>&lt;fct&gt;</th><th scope=col>&lt;fct&gt;</th><th scope=col>&lt;int&gt;</th><th scope=col>&lt;fct&gt;</th><th scope=col>&lt;fct&gt;</th></tr>\n",
       "</thead>\n",
       "<tbody>\n",
       "\t<tr><td>10078</td><td>43</td><td>193.04</td><td>145.152</td><td>166</td><td>102</td><td>188</td><td>B3</td><td>0</td><td>B</td><td>CHD</td><td>Angina</td><td>1795</td><td>Absent</td><td>Non-Smoker</td></tr>\n",
       "</tbody>\n",
       "</table>\n"
      ],
      "text/latex": [
       "A tibble: 1 × 15\n",
       "\\begin{tabular}{lllllllllllllll}\n",
       " id & age & height & weight & sbp & dbp & chol & beh\\_pat & ncigs & dib\\_pat & chd & type\\_chd & time & arcus & smoker\\\\\n",
       " <int> & <int> & <dbl> & <dbl> & <int> & <int> & <int> & <fct> & <int> & <fct> & <fct> & <fct> & <int> & <fct> & <fct>\\\\\n",
       "\\hline\n",
       "\t 10078 & 43 & 193.04 & 145.152 & 166 & 102 & 188 & B3 & 0 & B & CHD & Angina & 1795 & Absent & Non-Smoker\\\\\n",
       "\\end{tabular}\n"
      ],
      "text/markdown": [
       "\n",
       "A tibble: 1 × 15\n",
       "\n",
       "| id &lt;int&gt; | age &lt;int&gt; | height &lt;dbl&gt; | weight &lt;dbl&gt; | sbp &lt;int&gt; | dbp &lt;int&gt; | chol &lt;int&gt; | beh_pat &lt;fct&gt; | ncigs &lt;int&gt; | dib_pat &lt;fct&gt; | chd &lt;fct&gt; | type_chd &lt;fct&gt; | time &lt;int&gt; | arcus &lt;fct&gt; | smoker &lt;fct&gt; |\n",
       "|---|---|---|---|---|---|---|---|---|---|---|---|---|---|---|\n",
       "| 10078 | 43 | 193.04 | 145.152 | 166 | 102 | 188 | B3 | 0 | B | CHD | Angina | 1795 | Absent | Non-Smoker |\n",
       "\n"
      ],
      "text/plain": [
       "  id    age height weight  sbp dbp chol beh_pat ncigs dib_pat chd type_chd time\n",
       "1 10078 43  193.04 145.152 166 102 188  B3      0     B       CHD Angina   1795\n",
       "  arcus  smoker    \n",
       "1 Absent Non-Smoker"
      ]
     },
     "metadata": {},
     "output_type": "display_data"
    }
   ],
   "source": [
    "wcgs |>\n",
    "  filter(id == id[pos])"
   ]
  }
 ],
 "metadata": {
  "kernelspec": {
   "display_name": "R",
   "language": "R",
   "name": "ir"
  },
  "language_info": {
   "codemirror_mode": "r",
   "file_extension": ".r",
   "mimetype": "text/x-r-source",
   "name": "R",
   "pygments_lexer": "r",
   "version": "4.3.2"
  }
 },
 "nbformat": 4,
 "nbformat_minor": 4
}
