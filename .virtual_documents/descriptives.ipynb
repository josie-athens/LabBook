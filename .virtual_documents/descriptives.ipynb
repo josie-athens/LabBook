





#| output: false
rm(list = ls())
library(tidyverse)
library(rstatix)
library(easystats)
library(ggfortify)
library(ggpubr)
library(jtools)
library(pubh)
library(sjlabelled)

import::from(latex2exp, TeX)
theme_set(see::theme_modern(base_size = 10))
options('huxtable.knit_print_df' = FALSE)
options('huxtable.autoformat_number_format' = list(numeric = "%5.2f"))











#| code-fold: true
wcgs = read_rds('data/wcgs.rds')





data(kfm, package = "ISwR")
kfm = kfm |> as_tibble()

kfm |> head()





kfm %$% levels(sex)





kfm = kfm %>%
  mutate(
    sex = recode_values(sex,  list (Girl = "girl",  Boy = "boy"))
  )

kfm %$% levels(sex)





kfm = kfm |>
  var_labels(
     dl.milk = 'Breast-milk intake (dl/day)',
     sex = 'Sex',
     weight = 'Child weight (kg)',
     ml.suppl = 'Milk substitute (ml/day)',
     mat.weight = 'Maternal weight (kg)',
     mat.height = 'Maternal height (cm)'
     )


write_rds(kfm, "data/kfm.rds")





wcgs |> freq_table(arcus)


wcgs |> freq_table(arcus, na.rm = FALSE)





#| label: tbl-tab1
#| tbl-cap: "Distribution of coronary heart disease events (CHD) by behaviour pattern."
#| output: asis
wcgs |>
  mutate(
    chd = relevel(chd, ref = "CHD"),
  ) |>
  copy_labels(wcgs) |>
  select(dib_pat, chd) |> 
  cross_tbl(by = "dib_pat") |>
  theme_pubh(2) |> 
  add_footnote("Data from the WCGS.", font_size = 9) |>
  print_html()











#| code-fold: true
#| label: tbl-tab2
#| tbl-cap: "Distribution of behavioural pattern by coronary heart disease (CHD) event."
#| output: asis
wcgs |>
  mutate(
    chd = relevel(chd, ref = "CHD")
  ) |>
  copy_labels(wcgs) |>
  select(beh_pat, chd) |> 
  cross_tbl(by = "beh_pat") |>
  theme_pubh(2) |> 
  add_footnote("Data from the WCGS.", font_size = 9) |>
  print_html()











#| label: tbl-tab3
#| tbl-cap: "Distribution of coronary heart disease events (CHD) by behaviour pattern and smoking status."
#| output: asis
wcgs |> 
  select(chd, smoker, dib_pat) |> 
  mutate(
    chd = relevel(chd, ref = "CHD"),
    smoker = relevel(smoker, ref = "Smoker")
  ) |>
  copy_labels(wcgs) |>
  tbl_strata(
    strata = smoker,
    .tbl_fun = ~ .x |>
      tbl_summary(by = dib_pat, missing = "no")
  ) |> 
  cosm_sum() %>% theme_pubh(2) |> 
  set_align(1, everywhere, "center") |> 
  add_footnote("Data from the WCGS.", font_size = 9) |>
  print_html()








#| label: tbl-tab4
#| tbl-cap: "Descriptive statistics of blood cholesterol."
wcgs |>
  select(chol) |>
  describe_distribution()








#| label: tabl-tab5
#| tbl-cap: "Descriptive statistics of continuous variables."
wcgs |>
  select(age, height, weight, sbp, dbp, chol) |>
  describe_distribution(iqr = FALSE)








#| label: tbl-tab6
#| tbl-cap: "Descriptive statistics of blood cholesterol."
wcgs |> 
  estat(~ chol) |>
  as_hux() |> theme_pubh() |> set_width(0.8) |> 
  add_footnote("Data from the WCGS.", font_size = 9)








wcgs |>
  summarise(
    N = n(),
    Mean = mean(chol, na.rm = TRUE),
    SD = sd(chol, na.rm = TRUE),
    Median = median(chol, na.rm = TRUE),
    CV = rel_dis(chol)
  )











wcgs %$%
  freq_cont(chol, bks = seq(100, 650, 50))








#| label: tbl-tab7
#| tbl-cap: "Descriptive statistics of blood cholesterol by coronary heart disease (CHD) event."
wcgs |>
  estat(~ chol|chd) |>
  as_hux() |> theme_pubh() |> set_width(0.8) |> 
  add_footnote("Data from the WCGS.", font_size = 9)








wcgs |>
  group_by(chd) |>
  select(chol) |>
  describe_distribution(iqr = FALSE)


wcgs |>
  group_by(chd) |>
  summarise(
    N = n(),
    Mean = mean(chol, na.rm = TRUE),
    SD = sd(chol, na.rm = TRUE),
    Median = median(chol, na.rm = TRUE),
    CV = rel_dis(chol)
  ) 











wcgs |>
  data_summary( 
    n = n(),
    Mean = mean(chol,  na.rm = TRUE), 
    SD = sd(chol,  na.rm = TRUE),
    CV = rel_dis(chol),
    by = c("chd", "smoker"),
    include_na = FALSE
  )


#| label: tbl-tab8
#| tbl-cap: "Descriptive statistics of cholesterol by coronary heart disease (CHD) event and smoking status."
#| output: asis
wcgs |> 
  select(chol, chd, smoker) |> 
  mutate(
    chd = relevel(chd, ref = "CHD"),
    smoker = relevel(smoker, ref = "Smoker")
  ) |>
  copy_labels(wcgs) |>
  tbl_strata(
    strata = smoker,
    .tbl_fun = ~ .x |>
      tbl_summary(by = chd, missing = "no") 
  ) |> 
  cosm_sum() |> theme_pubh(2) |> 
  set_align(1, everywhere, "center") |> 
  add_footnote("Median (IQR). Data from the WCGS dataset.", 
               font_size = 9) |> print_html()





#| code-fold: true
#| label: tbl-tab9
#| tbl-cap: "Descriptive statistics of breast-milk intake in babies."
kfm |>
  estat(dl.milk ~ sex) |>
  as_hux() |> theme_pubh() |>
  add_footnote("Data from the kfm dataset.", font_size = 9)











#| label: tbl-tab10
#| tbl-cap: "Descriptive statistics of the WCGS dataset."
#| output: asis
wcgs |> 
  select(- c(id, ncigs)) |> 
  tbl_summary() |> 
  cosm_sum(bold = TRUE) |> 
  add_footnote("Median (IQR); n (%)", font_size = 9) |>
  print_html()





#| label: tbl-tab11
#| tbl-cap: "Descriptive statistics of the WCGS dataset by behaviour pattern."
#| output: asis
wcgs |>
  select(-c(id, beh_pat, ncigs, time)) |>
  mutate(
    chd = relevel(chd, ref = "CHD"),
    arcus = relevel(arcus, ref = "Present"),
    smoker = relevel(smoker, ref = "Smoker")
  ) |>
  copy_labels(wcgs) |>
  cross_tbl(by = "dib_pat") |> 
  add_footnote("n (%); Median (IQR)", font_size = 9) |>
  print_html()





#| label: tbl-tab12
#| tbl-cap: "Descriptive statistics of the WCGS dataset by behaviour pattern."
#| output: asis
wcgs |>
  select(-c(id, beh_pat, ncigs, time)) |>
  mutate(
    chd = relevel(chd, ref = "CHD"),
    arcus = relevel(arcus, ref = "Present"),
    smoker = relevel(smoker, ref = "Smoker")
  ) |>
  copy_labels(wcgs) |>
  cross_tbl(by = "dib_pat", p_val = TRUE) |>  
  add_footnote("n(%); Median (IQR);",font_size = 9) |>
  print_html()





#| label: tbl-tab13
#| tbl-cap: "Descriptive statistics of the WCGS dataset by behaviour pattern."
#| output: asis
wcgs |>
  select(-c(id, beh_pat, ncigs, time)) |>
  mutate(
    chd = relevel(chd, ref = "CHD"),
    arcus = relevel(arcus, ref = "Present"),
    smoker = relevel(smoker, ref = "Smoker")
  ) |>
  copy_labels(wcgs) |>
  cross_tbl(by = "dib_pat", method = 1) |> 
  set_width(0.9) |>  
  add_footnote("n (%); Mean (SD)", font_size = 9) |>
  print_html()
