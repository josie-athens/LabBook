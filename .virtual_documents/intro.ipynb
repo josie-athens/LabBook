





#| output: false
rm(list = ls())
library(tidyverse)
library(rstatix)
library(easystats)
library(ggfortify)
library(ggpubr)
library(jtools)
library(pubh)
library(sjlabelled)

import::from(latex2exp, TeX)
theme_set(see::theme_modern(base_size = 10))
options('huxtable.knit_print_df' = FALSE)
options('huxtable.autoformat_number_format' = list(numeric = "%5.2f"))





















































#| eval: false
help(mean)








#| eval: false
?sd











#| eval: false
?? "diagnostic tests"





#| eval: false
RSiteSearch("meta-analysis")











#| eval: false
library(ISwR)





#| eval: false
install.packages("epibasix")











x = 5
x + 3





weight = c(151.45, 194, 121.25)





weight = weight/2.2046
weight





round(weight, 1)





round(mean(weight, na.rm = TRUE), 1)





weight |>
  mean(na.rm = TRUE) |>
  round(1)





rm(x, weight)





uric_down = tibble(
  uric = c(5.84, 6.3, 6.95, 5.92, 7.94, 5.5, 6.08, 5.12, 7.58, 6.78,
           4.9, 6.95, 6.73, 5.32, 4.81, 4.94, 7.2, 5.22, 4.6, 3.88),
  downs = c(rep(0, 5), rep(1, 5), rep(0, 5), rep(1, 5)),
  sex = c(rep(0, 10), rep(1, 10))
)





uric_down |> head()





#| eval: false
uric_down$sex = factor(uric_down$sex, labels = c("Male", "Female"))











uric_down2 = uric_down |>
  mutate(
    downs = factor(downs, labels = c("No", "Yes")),
    sex = factor(sex, labels = c("Male", "Female"))
  ) 

uric_down2 |> head()





uric_down2 = uric_down2 |>
  var_labels(
    uric = "Uric acid (mg/dl)",
    downs = "Down's syndrome",
    sex = "Sex"
  )





rm(uric_down2)





uric_down = uric_down |>
  mutate(
    downs = factor(downs, labels = c("No", "Yes")),
    sex = factor(sex, labels = c("Male", "Female"))
  ) |>
  var_labels(
    uric = "Uric acid (mg/dl)",
    downs = "Down's syndrome",
    sex = "Sex"
  )





write_rds(uric_down, "data/uric_down.rds")





rm(uric_down)





uric_down = read_rds("data/uric_down.rds")
uric_down |> head()





uric_down$sex





uric_down |>
  select(uric) |>
  describe_distribution()


uric_down |>
  freq_table(sex, downs)





with(uric_down, is.factor(sex))





uric_down %$% is.factor(sex)





is.factor(uric_down$sex)








write_csv(uric_down, "data/uric_down.csv")





uric_down = read_csv("data/uric_down.csv",  col_types = "dff")
uric_down |> data_codebook()











data(wcgs, package = "epitools")
wcgs |> names()





wcgs = as_tibble(wcgs)
names(wcgs) = c(
  "id", "age", "height", "weight", "sbp", "dbp",
  "chol", "beh_pat", "ncigs", "dib_pat", "chd",
  "type_chd", "time", "arcus"
  )

wcgs |> names()





wcgs = wcgs |>
  mutate(
    chd = factor(chd, labels = c("No CHD", "CHD")),
    arcus = factor(arcus, labels = c("Absent", "Present")),
    beh_pat = factor(beh_pat, labels = c("A1", "A2", "B3", "B4")),
    dib_pat = factor(dib_pat, labels = c("B", "A")),
    type_chd = factor(
      type_chd, labels = c("No CHD", "MI or SD", "Angina", "Silent MI")
    )
  )





wcgs = wcgs |>
  mutate(
    smoker = factor(ncigs > 0, labels = c("Non-Smoker", "Smoker"))
  )





wcgs = wcgs |>
  mutate(
    height = height * 2.54,
    weight = weight * 0.4536
  )





levels(wcgs$dib_pat)





wcgs = wcgs |>
  mutate(dib_pat = relevel(dib_pat, ref = "A"))





wcgs = wcgs |>
  var_labels(
    age =  "Age (years)",
    height = "Height (cm)",
    weight = "Weight (kg)",
    sbp = "SBP (mm Hg)",
    dbp = "DBP (mm Hg)",
    chol = "Cholesterol (mg/dl)",
    beh_pat = "Behaviour pattern",
    ncigs = "Cigarettes (n/day)",
    dib_pat = "Dichotomous behaviour",
    chd = "Coronary Heart Disease",
    type_chd = "Type of CHD",
    time = "Follow up time (days)",
    arcus = "Corneal arcus",
    smoker = "Smoking status"
  )





#| code-fold: true
wcgs |> glimpse()


wcgs |>
  data_codebook()


write_rds(wcgs, "data/wcgs.rds")





smokers = wcgs |>
  filter(smoker == "Smoker") |>
  copy_labels(wcgs)








wcgs |> nrow()
smokers |> nrow()





length(wcgs$smoker)





length(wcgs$smoker[wcgs$smoker == "Smoker"])





with(wcgs, length(smoker[smoker == "Smoker"]))





wcgs |> count(smoker)


wcgs |> freq_table(smoker)





wcgs |>
  filter(weight >= 100) |>
  count(smoker)


smokers |>
  filter(weight >= 100) |>
  count()





wcgs |>
  filter(weight >= 100 & smoker == "Smoker") |>
  count()





#| code-fold: true
smokers |>
  filter(beh_pat == "A2" & (type_chd == "Angina" | type_chd == "Silent MI")) |>
  count()





smokers |>
  filter(beh_pat == "A2" & type_chd %in% c("Angina", "Silent MI")) |>
  count()





pos = wcgs %$% which(weight == max(weight))
pos





wcgs %$% which.max(weight)





wcgs[pos, ]


wcgs |>
  filter(id == id[pos])
